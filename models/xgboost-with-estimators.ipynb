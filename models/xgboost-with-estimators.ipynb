{
 "cells": [
  {
   "cell_type": "markdown",
   "id": "9c7c8584",
   "metadata": {},
   "source": [
    "## Data loading"
   ]
  },
  {
   "cell_type": "code",
   "execution_count": 1,
   "id": "ac4b7373",
   "metadata": {
    "execution": {
     "iopub.execute_input": "2022-01-06T14:13:36.942595Z",
     "iopub.status.busy": "2022-01-06T14:13:36.940840Z",
     "iopub.status.idle": "2022-01-06T14:13:36.962235Z",
     "shell.execute_reply": "2022-01-06T14:13:36.961665Z",
     "shell.execute_reply.started": "2022-01-06T12:53:20.680410Z"
    },
    "papermill": {
     "duration": 0.037487,
     "end_time": "2022-01-06T14:13:36.962372",
     "exception": false,
     "start_time": "2022-01-06T14:13:36.924885",
     "status": "completed"
    },
    "tags": []
   },
   "outputs": [
    {
     "name": "stdout",
     "output_type": "stream",
     "text": [
      "/kaggle/input/g-research-crypto-forecasting/example_sample_submission.csv\n",
      "/kaggle/input/g-research-crypto-forecasting/asset_details.csv\n",
      "/kaggle/input/g-research-crypto-forecasting/example_test.csv\n",
      "/kaggle/input/g-research-crypto-forecasting/train.csv\n",
      "/kaggle/input/g-research-crypto-forecasting/supplemental_train.csv\n",
      "/kaggle/input/g-research-crypto-forecasting/gresearch_crypto/competition.cpython-37m-x86_64-linux-gnu.so\n",
      "/kaggle/input/g-research-crypto-forecasting/gresearch_crypto/__init__.py\n"
     ]
    }
   ],
   "source": [
    "import numpy as np\n",
    "import pandas as pd\n",
    "\n",
    "import os\n",
    "for dirname, _, filenames in os.walk('/kaggle/input'):\n",
    "    for filename in filenames:\n",
    "        print(os.path.join(dirname, filename))"
   ]
  },
  {
   "cell_type": "code",
   "execution_count": 2,
   "id": "c7677b4e",
   "metadata": {
    "execution": {
     "iopub.execute_input": "2022-01-06T14:13:36.988088Z",
     "iopub.status.busy": "2022-01-06T14:13:36.987484Z",
     "iopub.status.idle": "2022-01-06T14:13:37.954369Z",
     "shell.execute_reply": "2022-01-06T14:13:37.953280Z",
     "shell.execute_reply.started": "2022-01-06T12:53:20.723983Z"
    },
    "papermill": {
     "duration": 0.980975,
     "end_time": "2022-01-06T14:13:37.954507",
     "exception": false,
     "start_time": "2022-01-06T14:13:36.973532",
     "status": "completed"
    },
    "tags": []
   },
   "outputs": [],
   "source": [
    "import gresearch_crypto\n",
    "import warnings\n",
    "import time\n",
    "import traceback\n",
    "import xgboost as xgb\n",
    "warnings.filterwarnings('ignore')"
   ]
  },
  {
   "cell_type": "code",
   "execution_count": 3,
   "id": "dfb2abb8",
   "metadata": {
    "execution": {
     "iopub.execute_input": "2022-01-06T14:13:37.979137Z",
     "iopub.status.busy": "2022-01-06T14:13:37.978414Z",
     "iopub.status.idle": "2022-01-06T14:13:37.981063Z",
     "shell.execute_reply": "2022-01-06T14:13:37.980622Z",
     "shell.execute_reply.started": "2022-01-06T12:53:21.778297Z"
    },
    "papermill": {
     "duration": 0.01627,
     "end_time": "2022-01-06T14:13:37.981174",
     "exception": false,
     "start_time": "2022-01-06T14:13:37.964904",
     "status": "completed"
    },
    "tags": []
   },
   "outputs": [],
   "source": [
    "data_train = '/kaggle/input/g-research-crypto-forecasting/train.csv'\n",
    "data_asset_details = '/kaggle/input/g-research-crypto-forecasting/asset_details.csv'"
   ]
  },
  {
   "cell_type": "code",
   "execution_count": 4,
   "id": "aa2e4955",
   "metadata": {
    "execution": {
     "iopub.execute_input": "2022-01-06T14:13:38.006401Z",
     "iopub.status.busy": "2022-01-06T14:13:38.005854Z",
     "iopub.status.idle": "2022-01-06T14:14:30.518925Z",
     "shell.execute_reply": "2022-01-06T14:14:30.518498Z",
     "shell.execute_reply.started": "2022-01-06T12:53:21.789551Z"
    },
    "papermill": {
     "duration": 52.527861,
     "end_time": "2022-01-06T14:14:30.519067",
     "exception": false,
     "start_time": "2022-01-06T14:13:37.991206",
     "status": "completed"
    },
    "tags": []
   },
   "outputs": [
    {
     "name": "stdout",
     "output_type": "stream",
     "text": [
      "CPU times: user 31.1 s, sys: 2.53 s, total: 33.6 s\n",
      "Wall time: 52.5 s\n"
     ]
    },
    {
     "data": {
      "text/html": [
       "<div>\n",
       "<style scoped>\n",
       "    .dataframe tbody tr th:only-of-type {\n",
       "        vertical-align: middle;\n",
       "    }\n",
       "\n",
       "    .dataframe tbody tr th {\n",
       "        vertical-align: top;\n",
       "    }\n",
       "\n",
       "    .dataframe thead th {\n",
       "        text-align: right;\n",
       "    }\n",
       "</style>\n",
       "<table border=\"1\" class=\"dataframe\">\n",
       "  <thead>\n",
       "    <tr style=\"text-align: right;\">\n",
       "      <th></th>\n",
       "      <th>timestamp</th>\n",
       "      <th>Asset_ID</th>\n",
       "      <th>Count</th>\n",
       "      <th>Open</th>\n",
       "      <th>High</th>\n",
       "      <th>Low</th>\n",
       "      <th>Close</th>\n",
       "      <th>Volume</th>\n",
       "      <th>VWAP</th>\n",
       "      <th>Target</th>\n",
       "    </tr>\n",
       "  </thead>\n",
       "  <tbody>\n",
       "    <tr>\n",
       "      <th>0</th>\n",
       "      <td>1514764860</td>\n",
       "      <td>2</td>\n",
       "      <td>40</td>\n",
       "      <td>2376.5800</td>\n",
       "      <td>2399.5000</td>\n",
       "      <td>2357.1400</td>\n",
       "      <td>2374.5900</td>\n",
       "      <td>19.233005</td>\n",
       "      <td>2373.116392</td>\n",
       "      <td>-0.004218</td>\n",
       "    </tr>\n",
       "    <tr>\n",
       "      <th>1</th>\n",
       "      <td>1514764860</td>\n",
       "      <td>0</td>\n",
       "      <td>5</td>\n",
       "      <td>8.5300</td>\n",
       "      <td>8.5300</td>\n",
       "      <td>8.5300</td>\n",
       "      <td>8.5300</td>\n",
       "      <td>78.380000</td>\n",
       "      <td>8.530000</td>\n",
       "      <td>-0.014399</td>\n",
       "    </tr>\n",
       "    <tr>\n",
       "      <th>2</th>\n",
       "      <td>1514764860</td>\n",
       "      <td>1</td>\n",
       "      <td>229</td>\n",
       "      <td>13835.1940</td>\n",
       "      <td>14013.8000</td>\n",
       "      <td>13666.1100</td>\n",
       "      <td>13850.1760</td>\n",
       "      <td>31.550062</td>\n",
       "      <td>13827.062093</td>\n",
       "      <td>-0.014643</td>\n",
       "    </tr>\n",
       "    <tr>\n",
       "      <th>3</th>\n",
       "      <td>1514764860</td>\n",
       "      <td>5</td>\n",
       "      <td>32</td>\n",
       "      <td>7.6596</td>\n",
       "      <td>7.6596</td>\n",
       "      <td>7.6567</td>\n",
       "      <td>7.6576</td>\n",
       "      <td>6626.713370</td>\n",
       "      <td>7.657713</td>\n",
       "      <td>-0.013922</td>\n",
       "    </tr>\n",
       "    <tr>\n",
       "      <th>4</th>\n",
       "      <td>1514764860</td>\n",
       "      <td>7</td>\n",
       "      <td>5</td>\n",
       "      <td>25.9200</td>\n",
       "      <td>25.9200</td>\n",
       "      <td>25.8740</td>\n",
       "      <td>25.8770</td>\n",
       "      <td>121.087310</td>\n",
       "      <td>25.891363</td>\n",
       "      <td>-0.008264</td>\n",
       "    </tr>\n",
       "  </tbody>\n",
       "</table>\n",
       "</div>"
      ],
      "text/plain": [
       "    timestamp  Asset_ID  Count        Open        High         Low  \\\n",
       "0  1514764860         2     40   2376.5800   2399.5000   2357.1400   \n",
       "1  1514764860         0      5      8.5300      8.5300      8.5300   \n",
       "2  1514764860         1    229  13835.1940  14013.8000  13666.1100   \n",
       "3  1514764860         5     32      7.6596      7.6596      7.6567   \n",
       "4  1514764860         7      5     25.9200     25.9200     25.8740   \n",
       "\n",
       "        Close       Volume          VWAP    Target  \n",
       "0   2374.5900    19.233005   2373.116392 -0.004218  \n",
       "1      8.5300    78.380000      8.530000 -0.014399  \n",
       "2  13850.1760    31.550062  13827.062093 -0.014643  \n",
       "3      7.6576  6626.713370      7.657713 -0.013922  \n",
       "4     25.8770   121.087310     25.891363 -0.008264  "
      ]
     },
     "execution_count": 4,
     "metadata": {},
     "output_type": "execute_result"
    }
   ],
   "source": [
    "%%time\n",
    "df_train = pd.read_csv(data_train, \n",
    "                       dtype={'Asset_ID': 'int8', 'Count': 'int32', 'row_id': 'int32', 'Count': 'int32', \n",
    "                              'Open': 'float64', 'High': 'float64', 'Low': 'float64', 'Close': 'float64', \n",
    "                              'Volume': 'float64', 'VWAP': 'float64'\n",
    "                             }\n",
    "                      )\n",
    "df_train.head()"
   ]
  },
  {
   "cell_type": "code",
   "execution_count": 5,
   "id": "dc97a19b",
   "metadata": {
    "execution": {
     "iopub.execute_input": "2022-01-06T14:14:30.544137Z",
     "iopub.status.busy": "2022-01-06T14:14:30.543575Z",
     "iopub.status.idle": "2022-01-06T14:14:30.562300Z",
     "shell.execute_reply": "2022-01-06T14:14:30.562718Z",
     "shell.execute_reply.started": "2022-01-06T12:54:15.494436Z"
    },
    "papermill": {
     "duration": 0.033256,
     "end_time": "2022-01-06T14:14:30.562860",
     "exception": false,
     "start_time": "2022-01-06T14:14:30.529604",
     "status": "completed"
    },
    "tags": []
   },
   "outputs": [
    {
     "data": {
      "text/html": [
       "<div>\n",
       "<style scoped>\n",
       "    .dataframe tbody tr th:only-of-type {\n",
       "        vertical-align: middle;\n",
       "    }\n",
       "\n",
       "    .dataframe tbody tr th {\n",
       "        vertical-align: top;\n",
       "    }\n",
       "\n",
       "    .dataframe thead th {\n",
       "        text-align: right;\n",
       "    }\n",
       "</style>\n",
       "<table border=\"1\" class=\"dataframe\">\n",
       "  <thead>\n",
       "    <tr style=\"text-align: right;\">\n",
       "      <th></th>\n",
       "      <th>Asset_ID</th>\n",
       "      <th>Weight</th>\n",
       "      <th>Asset_Name</th>\n",
       "    </tr>\n",
       "  </thead>\n",
       "  <tbody>\n",
       "    <tr>\n",
       "      <th>1</th>\n",
       "      <td>0</td>\n",
       "      <td>4.304065</td>\n",
       "      <td>Binance Coin</td>\n",
       "    </tr>\n",
       "    <tr>\n",
       "      <th>2</th>\n",
       "      <td>1</td>\n",
       "      <td>6.779922</td>\n",
       "      <td>Bitcoin</td>\n",
       "    </tr>\n",
       "    <tr>\n",
       "      <th>0</th>\n",
       "      <td>2</td>\n",
       "      <td>2.397895</td>\n",
       "      <td>Bitcoin Cash</td>\n",
       "    </tr>\n",
       "    <tr>\n",
       "      <th>10</th>\n",
       "      <td>3</td>\n",
       "      <td>4.406719</td>\n",
       "      <td>Cardano</td>\n",
       "    </tr>\n",
       "    <tr>\n",
       "      <th>13</th>\n",
       "      <td>4</td>\n",
       "      <td>3.555348</td>\n",
       "      <td>Dogecoin</td>\n",
       "    </tr>\n",
       "  </tbody>\n",
       "</table>\n",
       "</div>"
      ],
      "text/plain": [
       "    Asset_ID    Weight    Asset_Name\n",
       "1          0  4.304065  Binance Coin\n",
       "2          1  6.779922       Bitcoin\n",
       "0          2  2.397895  Bitcoin Cash\n",
       "10         3  4.406719       Cardano\n",
       "13         4  3.555348      Dogecoin"
      ]
     },
     "execution_count": 5,
     "metadata": {},
     "output_type": "execute_result"
    }
   ],
   "source": [
    "df_assets = pd.read_csv(data_asset_details).sort_values(by='Asset_ID')\n",
    "df_assets.head()"
   ]
  },
  {
   "cell_type": "markdown",
   "id": "043a862f",
   "metadata": {},
   "source": [
    "## Data preprocessing"
   ]
  },
  {
   "cell_type": "code",
   "execution_count": 6,
   "id": "9366badb",
   "metadata": {
    "execution": {
     "iopub.execute_input": "2022-01-06T14:14:30.592479Z",
     "iopub.status.busy": "2022-01-06T14:14:30.591926Z",
     "iopub.status.idle": "2022-01-06T14:14:30.595606Z",
     "shell.execute_reply": "2022-01-06T14:14:30.595177Z",
     "shell.execute_reply.started": "2022-01-06T12:54:15.519185Z"
    },
    "papermill": {
     "duration": 0.021146,
     "end_time": "2022-01-06T14:14:30.595710",
     "exception": false,
     "start_time": "2022-01-06T14:14:30.574564",
     "status": "completed"
    },
    "tags": []
   },
   "outputs": [],
   "source": [
    "def upper_shadow(df):\n",
    "    return df['High'] - np.maximum(df['Close'], df['Open'])\n",
    "\n",
    "def lower_shadow(df):\n",
    "    return np.minimum(df['Close'], df['Open']) - df['Low']\n",
    "\n",
    "\n",
    "def get_features(df):\n",
    "    df_feat = df[['Count', 'Open', 'High', 'Low', 'Close', 'Volume', 'VWAP']].copy()\n",
    "    df_feat['Upper_Shadow'] = upper_shadow(df_feat)\n",
    "    df_feat['Lower_Shadow'] = lower_shadow(df_feat)\n",
    "    df_feat['Mean'] = df_feat[['Open', 'High', 'Low', 'Close']].mean(axis=1)\n",
    "    df_feat[\"Median\"] = df_feat[[\"Open\", \"High\", \"Low\", \"Close\"]].median(axis=1)\n",
    "    return df_feat"
   ]
  },
  {
   "cell_type": "code",
   "execution_count": 7,
   "id": "78dc825b",
   "metadata": {
    "execution": {
     "iopub.execute_input": "2022-01-06T14:14:30.622165Z",
     "iopub.status.busy": "2022-01-06T14:14:30.621177Z",
     "iopub.status.idle": "2022-01-06T14:14:34.818309Z",
     "shell.execute_reply": "2022-01-06T14:14:34.819984Z",
     "shell.execute_reply.started": "2022-01-06T12:54:15.530475Z"
    },
    "papermill": {
     "duration": 4.213497,
     "end_time": "2022-01-06T14:14:34.820233",
     "exception": false,
     "start_time": "2022-01-06T14:14:30.606736",
     "status": "completed"
    },
    "tags": []
   },
   "outputs": [],
   "source": [
    "df_train = df_train[~df_train.isin([np.nan, np.inf, -np.inf]).any(1)].reset_index(drop=True)"
   ]
  },
  {
   "cell_type": "code",
   "execution_count": 8,
   "id": "aaba5fe8",
   "metadata": {
    "execution": {
     "iopub.execute_input": "2022-01-06T14:14:34.890963Z",
     "iopub.status.busy": "2022-01-06T14:14:34.890136Z",
     "iopub.status.idle": "2022-01-06T14:14:37.870254Z",
     "shell.execute_reply": "2022-01-06T14:14:37.870672Z",
     "shell.execute_reply.started": "2022-01-06T12:54:20.926650Z"
    },
    "papermill": {
     "duration": 3.031141,
     "end_time": "2022-01-06T14:14:37.870818",
     "exception": false,
     "start_time": "2022-01-06T14:14:34.839677",
     "status": "completed"
    },
    "tags": []
   },
   "outputs": [
    {
     "name": "stdout",
     "output_type": "stream",
     "text": [
      "Memory usage of dataframe is 1545.49 MB\n",
      "Memory usage after optimization is: 515.16 MB\n",
      "Decreased by 66.7%\n"
     ]
    }
   ],
   "source": [
    "def reduce_mem_usage(df):\n",
    "    start_mem = df.memory_usage().sum() / 1024**2\n",
    "    print('Memory usage of dataframe is {:.2f} MB'.format(start_mem))\n",
    "    \n",
    "    for col in df.columns:\n",
    "        col_type = df[col].dtype\n",
    "        \n",
    "        if col_type != object:\n",
    "            c_min = df[col].min()\n",
    "            c_max = df[col].max()\n",
    "            if str(col_type)[:3] == 'int':\n",
    "                if c_min > np.iinfo(np.int8).min and c_max < np.iinfo(np.int8).max:\n",
    "                    df[col] = df[col].astype(np.int8)\n",
    "                elif c_min > np.iinfo(np.int16).min and c_max < np.iinfo(np.int16).max:\n",
    "                    df[col] = df[col].astype(np.int16)\n",
    "                elif c_min > np.iinfo(np.int32).min and c_max < np.iinfo(np.int32).max:\n",
    "                    df[col] = df[col].astype(np.int32)\n",
    "                elif c_min > np.iinfo(np.int64).min and c_max < np.iinfo(np.int64).max:\n",
    "                    df[col] = df[col].astype(np.int64)  \n",
    "            else:\n",
    "                if c_min > np.finfo(np.float16).min and c_max < np.finfo(np.float16).max:\n",
    "                    df[col] = df[col].astype(np.float16)\n",
    "                elif c_min > np.finfo(np.float32).min and c_max < np.finfo(np.float32).max:\n",
    "                    df[col] = df[col].astype(np.float32)\n",
    "                else:\n",
    "                    df[col] = df[col].astype(np.float64)\n",
    "    df[\"Count\"] = df[\"Count\"].astype(np.int16)\n",
    "\n",
    "    end_mem = df.memory_usage().sum() / 1024**2\n",
    "    \n",
    "    print('Memory usage after optimization is: {:.2f} MB'.format(end_mem))\n",
    "    print('Decreased by {:.1f}%'.format(100 * (start_mem - end_mem) / start_mem))\n",
    "     \n",
    "    return df\n",
    "\n",
    "df_train = reduce_mem_usage(df_train)"
   ]
  },
  {
   "cell_type": "code",
   "execution_count": 9,
   "id": "d483c5bc",
   "metadata": {
    "execution": {
     "iopub.execute_input": "2022-01-06T14:14:37.898191Z",
     "iopub.status.busy": "2022-01-06T14:14:37.897504Z",
     "iopub.status.idle": "2022-01-06T14:14:37.899598Z",
     "shell.execute_reply": "2022-01-06T14:14:37.900089Z",
     "shell.execute_reply.started": "2022-01-06T12:55:18.072448Z"
    },
    "papermill": {
     "duration": 0.017849,
     "end_time": "2022-01-06T14:14:37.900218",
     "exception": false,
     "start_time": "2022-01-06T14:14:37.882369",
     "status": "completed"
    },
    "tags": []
   },
   "outputs": [],
   "source": [
    "xgb_params = {\n",
    "    'n_estimators':2000,\n",
    "    'max_depth':11,\n",
    "    'learning_rate':0.05,\n",
    "    'subsample':0.9,\n",
    "    'colsample_bytree':0.7,\n",
    "    'missing':-999,\n",
    "    'random_state':2020,\n",
    "    'tree_method':'gpu_hist'\n",
    "}"
   ]
  },
  {
   "cell_type": "code",
   "execution_count": 10,
   "id": "39e4b499",
   "metadata": {
    "execution": {
     "iopub.execute_input": "2022-01-06T14:14:37.925893Z",
     "iopub.status.busy": "2022-01-06T14:14:37.925155Z",
     "iopub.status.idle": "2022-01-06T14:14:37.929666Z",
     "shell.execute_reply": "2022-01-06T14:14:37.930099Z",
     "shell.execute_reply.started": "2022-01-06T12:55:19.115173Z"
    },
    "papermill": {
     "duration": 0.018681,
     "end_time": "2022-01-06T14:14:37.930223",
     "exception": false,
     "start_time": "2022-01-06T14:14:37.911542",
     "status": "completed"
    },
    "tags": []
   },
   "outputs": [],
   "source": [
    "def get_Xy_and_model_for_asset(df_train, asset_id):\n",
    "    df = df_train[df_train[\"Asset_ID\"] == asset_id]\n",
    "    X = get_features(df)\n",
    "    y = df['Target']\n",
    "    model = xgb.XGBRegressor(**xgb_params)\n",
    "    model.fit(X, y)\n",
    "    return model"
   ]
  },
  {
   "cell_type": "markdown",
   "id": "05ea4ab7",
   "metadata": {},
   "source": [
    "## Training"
   ]
  },
  {
   "cell_type": "code",
   "execution_count": 11,
   "id": "ad10deee",
   "metadata": {
    "execution": {
     "iopub.execute_input": "2022-01-06T14:14:37.958378Z",
     "iopub.status.busy": "2022-01-06T14:14:37.957856Z",
     "iopub.status.idle": "2022-01-06T14:36:03.307041Z",
     "shell.execute_reply": "2022-01-06T14:36:03.307468Z",
     "shell.execute_reply.started": "2022-01-06T12:55:19.732050Z"
    },
    "papermill": {
     "duration": 1285.366043,
     "end_time": "2022-01-06T14:36:03.307636",
     "exception": false,
     "start_time": "2022-01-06T14:14:37.941593",
     "status": "completed"
    },
    "tags": []
   },
   "outputs": [
    {
     "name": "stdout",
     "output_type": "stream",
     "text": [
      "Training model for Binance Coin     (ID=0 )\n",
      "Training model for Bitcoin          (ID=1 )\n",
      "Training model for Bitcoin Cash     (ID=2 )\n",
      "Training model for Cardano          (ID=3 )\n",
      "Training model for Dogecoin         (ID=4 )\n",
      "Training model for EOS.IO           (ID=5 )\n",
      "Training model for Ethereum         (ID=6 )\n",
      "Training model for Ethereum Classic (ID=7 )\n",
      "Training model for IOTA             (ID=8 )\n",
      "Training model for Litecoin         (ID=9 )\n",
      "Training model for Maker            (ID=10)\n",
      "Training model for Monero           (ID=11)\n",
      "Training model for Stellar          (ID=12)\n",
      "Training model for TRON             (ID=13)\n",
      "CPU times: user 21min 15s, sys: 7.94 s, total: 21min 23s\n",
      "Wall time: 21min 25s\n"
     ]
    }
   ],
   "source": [
    "%%time\n",
    "models = {}\n",
    "\n",
    "for asset_id, asset_name in zip(df_assets['Asset_ID'], df_assets['Asset_Name']):\n",
    "    print(f\"Training model for {asset_name:<16} (ID={asset_id:<2})\")\n",
    "    try:\n",
    "        model = get_Xy_and_model_for_asset(df_train, asset_id)\n",
    "        models[asset_id] = model\n",
    "    except:         \n",
    "        models[asset_id] = None"
   ]
  },
  {
   "cell_type": "markdown",
   "id": "d440a3f1",
   "metadata": {},
   "source": [
    "## Kaggle submission"
   ]
  },
  {
   "cell_type": "code",
   "execution_count": 12,
   "id": "d9ed8022",
   "metadata": {
    "execution": {
     "iopub.execute_input": "2022-01-06T14:36:03.345969Z",
     "iopub.status.busy": "2022-01-06T14:36:03.345275Z",
     "iopub.status.idle": "2022-01-06T14:36:03.899185Z",
     "shell.execute_reply": "2022-01-06T14:36:03.899904Z",
     "shell.execute_reply.started": "2022-01-06T13:00:36.954560Z"
    },
    "papermill": {
     "duration": 0.576852,
     "end_time": "2022-01-06T14:36:03.900110",
     "exception": false,
     "start_time": "2022-01-06T14:36:03.323258",
     "status": "completed"
    },
    "tags": []
   },
   "outputs": [
    {
     "name": "stdout",
     "output_type": "stream",
     "text": [
      "This version of the API is not optimized and should not be used to estimate the runtime of your code on the hidden test set.\n",
      "CPU times: user 1.04 s, sys: 3.95 ms, total: 1.04 s\n",
      "Wall time: 550 ms\n"
     ]
    }
   ],
   "source": [
    "%%time\n",
    "env = gresearch_crypto.make_env()\n",
    "iter_test = env.iter_test()\n",
    "\n",
    "\n",
    "for i, (df_test, df_pred) in enumerate(iter_test):\n",
    "    for j , row in df_test.iterrows():\n",
    "        if models[row['Asset_ID']] is not None:\n",
    "            try:\n",
    "                model = models[row['Asset_ID']]\n",
    "                x_test = get_features(pd.DataFrame([row]))\n",
    "                y_pred = model.predict(x_test)[0]\n",
    "                df_pred.loc[df_pred['row_id'] == row['row_id'], 'Target'] = y_pred\n",
    "            except:\n",
    "                df_pred.loc[df_pred['row_id'] == row['row_id'], 'Target'] = 0\n",
    "                traceback.print_exc()\n",
    "        else: \n",
    "            df_pred.loc[df_pred['row_id'] == row['row_id'], 'Target'] = 0\n",
    "    env.predict(df_pred)"
   ]
  },
  {
   "cell_type": "markdown",
   "id": "4c8cf6c5",
   "metadata": {},
   "source": [
    "## Results with different n_estimators"
   ]
  },
  {
   "cell_type": "markdown",
   "id": "f573f59a",
   "metadata": {},
   "source": [
    "* 500 - 0.2126\n",
    "* 1000 - 0.2659\n",
    "* 1500 - 0.3038\n",
    "* 2000 - 0.3362\n",
    "* 3000 - 0.3743\n",
    "* 4000 - 0.4023\n",
    "* 4500 - Ended memory\n",
    "* 5000 - Ended memory"
   ]
  },
  {
   "cell_type": "code",
   "execution_count": 1,
   "id": "e5b4500e",
   "metadata": {},
   "outputs": [],
   "source": [
    "import matplotlib.pyplot as plt\n",
    "x = [500, 1000, 1500, 2000, 3000, 4000]\n",
    "y = [0.2126, 0.2659, 0.3038, 0.3362, 0.3743, 0.4023]"
   ]
  },
  {
   "cell_type": "code",
   "execution_count": 2,
   "id": "f108cf44",
   "metadata": {},
   "outputs": [
    {
     "data": {
      "image/png": "[encoded data removed]",
      "text/plain": [
       "<Figure size 432x288 with 1 Axes>"
      ]
     },
     "metadata": {
      "needs_background": "light"
     },
     "output_type": "display_data"
    }
   ],
   "source": [
    "plt.plot(x,y)\n",
    "plt.show()"
   ]
  }
 ],
 "metadata": {
  "kernelspec": {
   "display_name": "Python 3",
   "language": "python",
   "name": "python3"
  },
  "language_info": {
   "codemirror_mode": {
    "name": "ipython",
    "version": 3
   },
   "file_extension": ".py",
   "mimetype": "text/x-python",
   "name": "python",
   "nbconvert_exporter": "python",
   "pygments_lexer": "ipython3",
   "version": "3.8.8"
  },
  "papermill": {
   "default_parameters": {},
   "duration": 1356.100817,
   "end_time": "2022-01-06T14:36:05.164882",
   "environment_variables": {},
   "exception": null,
   "input_path": "__notebook__.ipynb",
   "output_path": "__notebook__.ipynb",
   "parameters": {},
   "start_time": "2022-01-06T14:13:29.064065",
   "version": "2.3.3"
  }
 },
 "nbformat": 4,
 "nbformat_minor": 5
}
