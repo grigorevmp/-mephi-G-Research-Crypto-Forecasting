{
 "cells": [
  {
   "cell_type": "markdown",
   "id": "7d618555",
   "metadata": {
    "papermill": {
     "duration": 0.018143,
     "end_time": "2022-01-07T08:06:30.410608",
     "exception": false,
     "start_time": "2022-01-07T08:06:30.392465",
     "status": "completed"
    },
    "tags": []
   },
   "source": [
    "# Data loading"
   ]
  },
  {
   "cell_type": "code",
   "execution_count": 1,
   "id": "47356898",
   "metadata": {
    "_cell_guid": "b1076dfc-b9ad-4769-8c92-a6c4dae69d19",
    "_uuid": "8f2839f25d086af736a60e9eeb907d3b93b6e0e5",
    "execution": {
     "iopub.execute_input": "2022-01-07T08:06:30.451639Z",
     "iopub.status.busy": "2022-01-07T08:06:30.449888Z",
     "iopub.status.idle": "2022-01-07T08:06:32.548264Z",
     "shell.execute_reply": "2022-01-07T08:06:32.547443Z",
     "shell.execute_reply.started": "2022-01-06T11:45:53.168936Z"
    },
    "papermill": {
     "duration": 2.120389,
     "end_time": "2022-01-07T08:06:32.548463",
     "exception": false,
     "start_time": "2022-01-07T08:06:30.428074",
     "status": "completed"
    },
    "tags": []
   },
   "outputs": [
    {
     "data": {
      "text/html": [
       "<style type='text/css'>\n",
       ".datatable table.frame { margin-bottom: 0; }\n",
       ".datatable table.frame thead { border-bottom: none; }\n",
       ".datatable table.frame tr.coltypes td {  color: #FFFFFF;  line-height: 6px;  padding: 0 0.5em;}\n",
       ".datatable .bool    { background: #DDDD99; }\n",
       ".datatable .object  { background: #565656; }\n",
       ".datatable .int     { background: #5D9E5D; }\n",
       ".datatable .float   { background: #4040CC; }\n",
       ".datatable .str     { background: #CC4040; }\n",
       ".datatable .time    { background: #40CC40; }\n",
       ".datatable .row_index {  background: var(--jp-border-color3);  border-right: 1px solid var(--jp-border-color0);  color: var(--jp-ui-font-color3);  font-size: 9px;}\n",
       ".datatable .frame tbody td { text-align: left; }\n",
       ".datatable .frame tr.coltypes .row_index {  background: var(--jp-border-color0);}\n",
       ".datatable th:nth-child(2) { padding-left: 12px; }\n",
       ".datatable .hellipsis {  color: var(--jp-cell-editor-border-color);}\n",
       ".datatable .vellipsis {  background: var(--jp-layout-color0);  color: var(--jp-cell-editor-border-color);}\n",
       ".datatable .na {  color: var(--jp-cell-editor-border-color);  font-size: 80%;}\n",
       ".datatable .sp {  opacity: 0.25;}\n",
       ".datatable .footer { font-size: 9px; }\n",
       ".datatable .frame_dimensions {  background: var(--jp-border-color3);  border-top: 1px solid var(--jp-border-color0);  color: var(--jp-ui-font-color3);  display: inline-block;  opacity: 0.6;  padding: 1px 10px 1px 5px;}\n",
       "</style>\n"
      ],
      "text/plain": [
       "<IPython.core.display.HTML object>"
      ]
     },
     "metadata": {},
     "output_type": "display_data"
    }
   ],
   "source": [
    "import gresearch_crypto\n",
    "import pandas as pd\n",
    "import numpy as np\n",
    "import lightgbm as lgb\n",
    "import warnings\n",
    "warnings.filterwarnings('ignore')\n",
    "from sklearn.model_selection import train_test_split"
   ]
  },
  {
   "cell_type": "code",
   "execution_count": 2,
   "id": "1d1e00c6",
   "metadata": {
    "execution": {
     "iopub.execute_input": "2022-01-07T08:06:32.592643Z",
     "iopub.status.busy": "2022-01-07T08:06:32.591959Z",
     "iopub.status.idle": "2022-01-07T08:07:56.727237Z",
     "shell.execute_reply": "2022-01-07T08:07:56.723428Z",
     "shell.execute_reply.started": "2022-01-06T11:45:55.273247Z"
    },
    "papermill": {
     "duration": 84.159001,
     "end_time": "2022-01-07T08:07:56.727901",
     "exception": false,
     "start_time": "2022-01-07T08:06:32.568900",
     "status": "completed"
    },
    "tags": []
   },
   "outputs": [],
   "source": [
    "df_train = pd.read_csv('../input/g-research-crypto-forecasting/train.csv')\n",
    "df_test = pd.read_csv('../input/g-research-crypto-forecasting/example_test.csv')"
   ]
  },
  {
   "cell_type": "code",
   "execution_count": 3,
   "id": "bb63664a",
   "metadata": {
    "execution": {
     "iopub.execute_input": "2022-01-07T08:07:56.784556Z",
     "iopub.status.busy": "2022-01-07T08:07:56.783405Z",
     "iopub.status.idle": "2022-01-07T08:07:56.821806Z",
     "shell.execute_reply": "2022-01-07T08:07:56.822560Z",
     "shell.execute_reply.started": "2022-01-06T11:46:58.624478Z"
    },
    "papermill": {
     "duration": 0.063692,
     "end_time": "2022-01-07T08:07:56.822824",
     "exception": false,
     "start_time": "2022-01-07T08:07:56.759132",
     "status": "completed"
    },
    "tags": []
   },
   "outputs": [
    {
     "data": {
      "text/html": [
       "<div>\n",
       "<style scoped>\n",
       "    .dataframe tbody tr th:only-of-type {\n",
       "        vertical-align: middle;\n",
       "    }\n",
       "\n",
       "    .dataframe tbody tr th {\n",
       "        vertical-align: top;\n",
       "    }\n",
       "\n",
       "    .dataframe thead th {\n",
       "        text-align: right;\n",
       "    }\n",
       "</style>\n",
       "<table border=\"1\" class=\"dataframe\">\n",
       "  <thead>\n",
       "    <tr style=\"text-align: right;\">\n",
       "      <th></th>\n",
       "      <th>Asset_ID</th>\n",
       "      <th>Weight</th>\n",
       "      <th>Asset_Name</th>\n",
       "    </tr>\n",
       "  </thead>\n",
       "  <tbody>\n",
       "    <tr>\n",
       "      <th>0</th>\n",
       "      <td>2</td>\n",
       "      <td>2.397895</td>\n",
       "      <td>Bitcoin Cash</td>\n",
       "    </tr>\n",
       "    <tr>\n",
       "      <th>1</th>\n",
       "      <td>0</td>\n",
       "      <td>4.304065</td>\n",
       "      <td>Binance Coin</td>\n",
       "    </tr>\n",
       "    <tr>\n",
       "      <th>2</th>\n",
       "      <td>1</td>\n",
       "      <td>6.779922</td>\n",
       "      <td>Bitcoin</td>\n",
       "    </tr>\n",
       "    <tr>\n",
       "      <th>3</th>\n",
       "      <td>5</td>\n",
       "      <td>1.386294</td>\n",
       "      <td>EOS.IO</td>\n",
       "    </tr>\n",
       "    <tr>\n",
       "      <th>4</th>\n",
       "      <td>7</td>\n",
       "      <td>2.079442</td>\n",
       "      <td>Ethereum Classic</td>\n",
       "    </tr>\n",
       "    <tr>\n",
       "      <th>5</th>\n",
       "      <td>6</td>\n",
       "      <td>5.894403</td>\n",
       "      <td>Ethereum</td>\n",
       "    </tr>\n",
       "    <tr>\n",
       "      <th>6</th>\n",
       "      <td>9</td>\n",
       "      <td>2.397895</td>\n",
       "      <td>Litecoin</td>\n",
       "    </tr>\n",
       "    <tr>\n",
       "      <th>7</th>\n",
       "      <td>11</td>\n",
       "      <td>1.609438</td>\n",
       "      <td>Monero</td>\n",
       "    </tr>\n",
       "    <tr>\n",
       "      <th>8</th>\n",
       "      <td>13</td>\n",
       "      <td>1.791759</td>\n",
       "      <td>TRON</td>\n",
       "    </tr>\n",
       "    <tr>\n",
       "      <th>9</th>\n",
       "      <td>12</td>\n",
       "      <td>2.079442</td>\n",
       "      <td>Stellar</td>\n",
       "    </tr>\n",
       "    <tr>\n",
       "      <th>10</th>\n",
       "      <td>3</td>\n",
       "      <td>4.406719</td>\n",
       "      <td>Cardano</td>\n",
       "    </tr>\n",
       "    <tr>\n",
       "      <th>11</th>\n",
       "      <td>8</td>\n",
       "      <td>1.098612</td>\n",
       "      <td>IOTA</td>\n",
       "    </tr>\n",
       "    <tr>\n",
       "      <th>12</th>\n",
       "      <td>10</td>\n",
       "      <td>1.098612</td>\n",
       "      <td>Maker</td>\n",
       "    </tr>\n",
       "    <tr>\n",
       "      <th>13</th>\n",
       "      <td>4</td>\n",
       "      <td>3.555348</td>\n",
       "      <td>Dogecoin</td>\n",
       "    </tr>\n",
       "  </tbody>\n",
       "</table>\n",
       "</div>"
      ],
      "text/plain": [
       "    Asset_ID    Weight        Asset_Name\n",
       "0          2  2.397895      Bitcoin Cash\n",
       "1          0  4.304065      Binance Coin\n",
       "2          1  6.779922           Bitcoin\n",
       "3          5  1.386294            EOS.IO\n",
       "4          7  2.079442  Ethereum Classic\n",
       "5          6  5.894403          Ethereum\n",
       "6          9  2.397895          Litecoin\n",
       "7         11  1.609438            Monero\n",
       "8         13  1.791759              TRON\n",
       "9         12  2.079442           Stellar\n",
       "10         3  4.406719           Cardano\n",
       "11         8  1.098612              IOTA\n",
       "12        10  1.098612             Maker\n",
       "13         4  3.555348          Dogecoin"
      ]
     },
     "execution_count": 3,
     "metadata": {},
     "output_type": "execute_result"
    }
   ],
   "source": [
    "df_asset = pd.read_csv('../input/g-research-crypto-forecasting/asset_details.csv')\n",
    "df_asset"
   ]
  },
  {
   "cell_type": "markdown",
   "id": "41f4450b",
   "metadata": {
    "papermill": {
     "duration": 0.0248,
     "end_time": "2022-01-07T08:07:56.877480",
     "exception": false,
     "start_time": "2022-01-07T08:07:56.852680",
     "status": "completed"
    },
    "tags": []
   },
   "source": [
    "# Data preprocessing "
   ]
  },
  {
   "cell_type": "markdown",
   "id": "120f43eb",
   "metadata": {
    "papermill": {
     "duration": 0.01842,
     "end_time": "2022-01-07T08:07:56.915373",
     "exception": false,
     "start_time": "2022-01-07T08:07:56.896953",
     "status": "completed"
    },
    "tags": []
   },
   "source": [
    "### Check for null and inf values"
   ]
  },
  {
   "cell_type": "code",
   "execution_count": 4,
   "id": "bc9c8442",
   "metadata": {
    "execution": {
     "iopub.execute_input": "2022-01-07T08:07:56.955926Z",
     "iopub.status.busy": "2022-01-07T08:07:56.955211Z",
     "iopub.status.idle": "2022-01-07T08:07:57.230228Z",
     "shell.execute_reply": "2022-01-07T08:07:57.229388Z",
     "shell.execute_reply.started": "2022-01-06T11:46:58.134613Z"
    },
    "papermill": {
     "duration": 0.296533,
     "end_time": "2022-01-07T08:07:57.230417",
     "exception": false,
     "start_time": "2022-01-07T08:07:56.933884",
     "status": "completed"
    },
    "tags": []
   },
   "outputs": [
    {
     "name": "stdout",
     "output_type": "stream",
     "text": [
      "inf: 6   -inf: 1   nan: 9\n"
     ]
    }
   ],
   "source": [
    "a1 = df_train[\"VWAP\"].isin([np.inf])\n",
    "a2 = df_train[\"VWAP\"].isin([-np.inf])\n",
    "a3 = df_train[\"VWAP\"].isin([np.nan])\n",
    "print (\"inf:\", a1.sum(), \"  -inf:\", a2.sum(), \"  nan:\", a3.sum())"
   ]
  },
  {
   "cell_type": "code",
   "execution_count": 5,
   "id": "12acd600",
   "metadata": {
    "execution": {
     "iopub.execute_input": "2022-01-07T08:07:57.280160Z",
     "iopub.status.busy": "2022-01-07T08:07:57.279252Z",
     "iopub.status.idle": "2022-01-07T08:07:57.512257Z",
     "shell.execute_reply": "2022-01-07T08:07:57.511578Z",
     "shell.execute_reply.started": "2022-01-06T11:46:58.41338Z"
    },
    "papermill": {
     "duration": 0.259342,
     "end_time": "2022-01-07T08:07:57.512404",
     "exception": false,
     "start_time": "2022-01-07T08:07:57.253062",
     "status": "completed"
    },
    "tags": []
   },
   "outputs": [
    {
     "data": {
      "text/html": [
       "<div>\n",
       "<style scoped>\n",
       "    .dataframe tbody tr th:only-of-type {\n",
       "        vertical-align: middle;\n",
       "    }\n",
       "\n",
       "    .dataframe tbody tr th {\n",
       "        vertical-align: top;\n",
       "    }\n",
       "\n",
       "    .dataframe thead th {\n",
       "        text-align: right;\n",
       "    }\n",
       "</style>\n",
       "<table border=\"1\" class=\"dataframe\">\n",
       "  <thead>\n",
       "    <tr style=\"text-align: right;\">\n",
       "      <th></th>\n",
       "      <th>timestamp</th>\n",
       "      <th>Asset_ID</th>\n",
       "      <th>Count</th>\n",
       "      <th>Open</th>\n",
       "      <th>High</th>\n",
       "      <th>Low</th>\n",
       "      <th>Close</th>\n",
       "      <th>Volume</th>\n",
       "      <th>VWAP</th>\n",
       "      <th>Target</th>\n",
       "    </tr>\n",
       "  </thead>\n",
       "  <tbody>\n",
       "    <tr>\n",
       "      <th>7</th>\n",
       "      <td>1514764860</td>\n",
       "      <td>11</td>\n",
       "      <td>7.0</td>\n",
       "      <td>329.0900</td>\n",
       "      <td>329.880</td>\n",
       "      <td>329.090</td>\n",
       "      <td>329.460</td>\n",
       "      <td>6.635710</td>\n",
       "      <td>329.454118</td>\n",
       "      <td>NaN</td>\n",
       "    </tr>\n",
       "    <tr>\n",
       "      <th>44</th>\n",
       "      <td>1514765160</td>\n",
       "      <td>7</td>\n",
       "      <td>76.0</td>\n",
       "      <td>26.4255</td>\n",
       "      <td>27.073</td>\n",
       "      <td>25.550</td>\n",
       "      <td>26.400</td>\n",
       "      <td>1857.936529</td>\n",
       "      <td>26.352542</td>\n",
       "      <td>NaN</td>\n",
       "    </tr>\n",
       "    <tr>\n",
       "      <th>95</th>\n",
       "      <td>1514765520</td>\n",
       "      <td>11</td>\n",
       "      <td>8.0</td>\n",
       "      <td>327.6700</td>\n",
       "      <td>327.680</td>\n",
       "      <td>326.770</td>\n",
       "      <td>326.770</td>\n",
       "      <td>17.901633</td>\n",
       "      <td>326.990493</td>\n",
       "      <td>NaN</td>\n",
       "    </tr>\n",
       "    <tr>\n",
       "      <th>111</th>\n",
       "      <td>1514765640</td>\n",
       "      <td>11</td>\n",
       "      <td>8.0</td>\n",
       "      <td>326.9300</td>\n",
       "      <td>327.960</td>\n",
       "      <td>326.220</td>\n",
       "      <td>327.910</td>\n",
       "      <td>26.840300</td>\n",
       "      <td>326.476237</td>\n",
       "      <td>NaN</td>\n",
       "    </tr>\n",
       "    <tr>\n",
       "      <th>116</th>\n",
       "      <td>1514765700</td>\n",
       "      <td>7</td>\n",
       "      <td>12.0</td>\n",
       "      <td>26.4410</td>\n",
       "      <td>27.070</td>\n",
       "      <td>25.812</td>\n",
       "      <td>26.399</td>\n",
       "      <td>163.830076</td>\n",
       "      <td>26.449597</td>\n",
       "      <td>NaN</td>\n",
       "    </tr>\n",
       "  </tbody>\n",
       "</table>\n",
       "</div>"
      ],
      "text/plain": [
       "      timestamp  Asset_ID  Count      Open     High      Low    Close  \\\n",
       "7    1514764860        11    7.0  329.0900  329.880  329.090  329.460   \n",
       "44   1514765160         7   76.0   26.4255   27.073   25.550   26.400   \n",
       "95   1514765520        11    8.0  327.6700  327.680  326.770  326.770   \n",
       "111  1514765640        11    8.0  326.9300  327.960  326.220  327.910   \n",
       "116  1514765700         7   12.0   26.4410   27.070   25.812   26.399   \n",
       "\n",
       "          Volume        VWAP  Target  \n",
       "7       6.635710  329.454118     NaN  \n",
       "44   1857.936529   26.352542     NaN  \n",
       "95     17.901633  326.990493     NaN  \n",
       "111    26.840300  326.476237     NaN  \n",
       "116   163.830076   26.449597     NaN  "
      ]
     },
     "execution_count": 5,
     "metadata": {},
     "output_type": "execute_result"
    }
   ],
   "source": [
    "df_train[df_train[\"Target\"].isna()].head()"
   ]
  },
  {
   "cell_type": "code",
   "execution_count": 6,
   "id": "d0c44d4e",
   "metadata": {
    "execution": {
     "iopub.execute_input": "2022-01-07T08:07:57.559796Z",
     "iopub.status.busy": "2022-01-07T08:07:57.559045Z",
     "iopub.status.idle": "2022-01-07T08:08:03.738596Z",
     "shell.execute_reply": "2022-01-07T08:08:03.737930Z",
     "shell.execute_reply.started": "2022-01-06T11:46:58.649608Z"
    },
    "papermill": {
     "duration": 6.205855,
     "end_time": "2022-01-07T08:08:03.738760",
     "exception": false,
     "start_time": "2022-01-07T08:07:57.532905",
     "status": "completed"
    },
    "tags": []
   },
   "outputs": [],
   "source": [
    "df_train = df_train[~df_train.isin([np.nan, np.inf, -np.inf]).any(1)].reset_index(drop=True)"
   ]
  },
  {
   "cell_type": "markdown",
   "id": "c7d030f9",
   "metadata": {
    "papermill": {
     "duration": 0.021308,
     "end_time": "2022-01-07T08:08:03.779803",
     "exception": false,
     "start_time": "2022-01-07T08:08:03.758495",
     "status": "completed"
    },
    "tags": []
   },
   "source": [
    "### Additional features adding"
   ]
  },
  {
   "cell_type": "code",
   "execution_count": 7,
   "id": "cc2d50be",
   "metadata": {
    "execution": {
     "iopub.execute_input": "2022-01-07T08:08:03.824496Z",
     "iopub.status.busy": "2022-01-07T08:08:03.823711Z",
     "iopub.status.idle": "2022-01-07T08:08:03.828808Z",
     "shell.execute_reply": "2022-01-07T08:08:03.829395Z",
     "shell.execute_reply.started": "2022-01-06T11:46:58.643658Z"
    },
    "papermill": {
     "duration": 0.029398,
     "end_time": "2022-01-07T08:08:03.829594",
     "exception": false,
     "start_time": "2022-01-07T08:08:03.800196",
     "status": "completed"
    },
    "tags": []
   },
   "outputs": [],
   "source": [
    "def feature_adjust(df) :\n",
    "    feature_cols = ['Close', 'Count', 'High', 'Low', 'Open', 'VWAP','Volume'] \n",
    "    categories = [\"Asset_ID\", \"timestamp\"] \n",
    "    \n",
    "    x = df[feature_cols].copy()\n",
    "    \n",
    "    return x"
   ]
  },
  {
   "cell_type": "markdown",
   "id": "d8ca92e4",
   "metadata": {
    "papermill": {
     "duration": 0.019117,
     "end_time": "2022-01-07T08:08:03.872685",
     "exception": false,
     "start_time": "2022-01-07T08:08:03.853568",
     "status": "completed"
    },
    "tags": []
   },
   "source": [
    "### Reduce memory usage"
   ]
  },
  {
   "cell_type": "code",
   "execution_count": 8,
   "id": "d5a8951c",
   "metadata": {
    "execution": {
     "iopub.execute_input": "2022-01-07T08:08:03.916147Z",
     "iopub.status.busy": "2022-01-07T08:08:03.915385Z",
     "iopub.status.idle": "2022-01-07T08:08:08.108680Z",
     "shell.execute_reply": "2022-01-07T08:08:08.107709Z",
     "shell.execute_reply.started": "2022-01-06T11:47:04.00693Z"
    },
    "papermill": {
     "duration": 4.216037,
     "end_time": "2022-01-07T08:08:08.108913",
     "exception": false,
     "start_time": "2022-01-07T08:08:03.892876",
     "status": "completed"
    },
    "tags": []
   },
   "outputs": [
    {
     "name": "stdout",
     "output_type": "stream",
     "text": [
      "Memory usage of dataframe is 1791.87 MB\n",
      "Memory usage after optimization is: 515.16 MB\n",
      "Decreased by 71.2%\n"
     ]
    }
   ],
   "source": [
    "def reduce_mem_usage(df):\n",
    "  \n",
    "    start_mem = df.memory_usage().sum() / 1024**2\n",
    "    print('Memory usage of dataframe is {:.2f} MB'.format(start_mem))\n",
    "    \n",
    "    for col in df.columns:\n",
    "        col_type = df[col].dtype\n",
    "        \n",
    "        if col_type != object:\n",
    "            c_min = df[col].min()\n",
    "            c_max = df[col].max()\n",
    "            if str(col_type)[:3] == 'int':\n",
    "                if c_min > np.iinfo(np.int8).min and c_max < np.iinfo(np.int8).max:\n",
    "                    df[col] = df[col].astype(np.int8)\n",
    "                elif c_min > np.iinfo(np.int16).min and c_max < np.iinfo(np.int16).max:\n",
    "                    df[col] = df[col].astype(np.int16)\n",
    "                elif c_min > np.iinfo(np.int32).min and c_max < np.iinfo(np.int32).max:\n",
    "                    df[col] = df[col].astype(np.int32)\n",
    "                elif c_min > np.iinfo(np.int64).min and c_max < np.iinfo(np.int64).max:\n",
    "                    df[col] = df[col].astype(np.int64)  \n",
    "            else:\n",
    "                if c_min > np.finfo(np.float16).min and c_max < np.finfo(np.float16).max:\n",
    "                    df[col] = df[col].astype(np.float16)\n",
    "                elif c_min > np.finfo(np.float32).min and c_max < np.finfo(np.float32).max:\n",
    "                    df[col] = df[col].astype(np.float32)\n",
    "                else:\n",
    "                    df[col] = df[col].astype(np.float64)\n",
    "\n",
    "    df[\"Count\"] = df[\"Count\"].astype(np.int16)\n",
    "\n",
    "    end_mem = df.memory_usage().sum() / 1024**2\n",
    "    \n",
    "    print('Memory usage after optimization is: {:.2f} MB'.format(end_mem))\n",
    "    print('Decreased by {:.1f}%'.format(100 * (start_mem - end_mem) / start_mem))\n",
    "     \n",
    "    return df\n",
    "\n",
    "df_train = reduce_mem_usage(df_train)"
   ]
  },
  {
   "cell_type": "code",
   "execution_count": 9,
   "id": "b7387d35",
   "metadata": {
    "execution": {
     "iopub.execute_input": "2022-01-07T08:08:08.152482Z",
     "iopub.status.busy": "2022-01-07T08:08:08.151830Z",
     "iopub.status.idle": "2022-01-07T08:08:08.169234Z",
     "shell.execute_reply": "2022-01-07T08:08:08.168613Z",
     "shell.execute_reply.started": "2022-01-06T11:47:08.003999Z"
    },
    "papermill": {
     "duration": 0.040023,
     "end_time": "2022-01-07T08:08:08.169405",
     "exception": false,
     "start_time": "2022-01-07T08:08:08.129382",
     "status": "completed"
    },
    "tags": []
   },
   "outputs": [
    {
     "name": "stdout",
     "output_type": "stream",
     "text": [
      "Memory usage of dataframe is 0.00 MB\n",
      "Memory usage after optimization is: 0.00 MB\n",
      "Decreased by 72.0%\n"
     ]
    }
   ],
   "source": [
    "df_test = reduce_mem_usage(df_test)"
   ]
  },
  {
   "cell_type": "markdown",
   "id": "74f0eb03",
   "metadata": {
    "papermill": {
     "duration": 0.021185,
     "end_time": "2022-01-07T08:08:08.210729",
     "exception": false,
     "start_time": "2022-01-07T08:08:08.189544",
     "status": "completed"
    },
    "tags": []
   },
   "source": [
    "### LGBM MODEL PARAMETERS"
   ]
  },
  {
   "cell_type": "markdown",
   "id": "1ddac87e",
   "metadata": {
    "papermill": {
     "duration": 0.019854,
     "end_time": "2022-01-07T08:08:08.251082",
     "exception": false,
     "start_time": "2022-01-07T08:08:08.231228",
     "status": "completed"
    },
    "tags": []
   },
   "source": [
    "Test from 500 up to 20000"
   ]
  },
  {
   "cell_type": "code",
   "execution_count": 10,
   "id": "8657c19c",
   "metadata": {
    "execution": {
     "iopub.execute_input": "2022-01-07T08:08:08.297730Z",
     "iopub.status.busy": "2022-01-07T08:08:08.296651Z",
     "iopub.status.idle": "2022-01-07T08:08:08.301629Z",
     "shell.execute_reply": "2022-01-07T08:08:08.302213Z",
     "shell.execute_reply.started": "2022-01-06T11:47:08.020188Z"
    },
    "papermill": {
     "duration": 0.031273,
     "end_time": "2022-01-07T08:08:08.302428",
     "exception": false,
     "start_time": "2022-01-07T08:08:08.271155",
     "status": "completed"
    },
    "tags": []
   },
   "outputs": [],
   "source": [
    "lgb_params = {\n",
    "    \"objective\": \"regression\",\n",
    "    \"n_estimators\" : 500, \n",
    "    \"num_leaves\" : 300,\n",
    "    \"learning_rate\" : 0.09, \n",
    "    \"random_seed\" : 2022}\n"
   ]
  },
  {
   "cell_type": "markdown",
   "id": "750381f3",
   "metadata": {
    "papermill": {
     "duration": 0.020683,
     "end_time": "2022-01-07T08:08:08.344247",
     "exception": false,
     "start_time": "2022-01-07T08:08:08.323564",
     "status": "completed"
    },
    "tags": []
   },
   "source": [
    "### Model getting"
   ]
  },
  {
   "cell_type": "code",
   "execution_count": 11,
   "id": "2a0f43db",
   "metadata": {
    "execution": {
     "iopub.execute_input": "2022-01-07T08:08:08.389509Z",
     "iopub.status.busy": "2022-01-07T08:08:08.388792Z",
     "iopub.status.idle": "2022-01-07T08:08:08.393690Z",
     "shell.execute_reply": "2022-01-07T08:08:08.394294Z",
     "shell.execute_reply.started": "2022-01-06T11:47:08.031128Z"
    },
    "papermill": {
     "duration": 0.029598,
     "end_time": "2022-01-07T08:08:08.394465",
     "exception": false,
     "start_time": "2022-01-07T08:08:08.364867",
     "status": "completed"
    },
    "tags": []
   },
   "outputs": [],
   "source": [
    "def get_model (asset_id) :\n",
    "    \n",
    "    df = df_train[df_train[\"Asset_ID\"] == asset_id]\n",
    "    x = feature_adjust(df)\n",
    "    y = df['Target'].copy()\n",
    "        \n",
    "    model = lgb.LGBMRegressor(**lgb_params)\n",
    "    model.fit(x, y)\n",
    "    \n",
    "    return model"
   ]
  },
  {
   "cell_type": "markdown",
   "id": "c2a43649",
   "metadata": {
    "papermill": {
     "duration": 0.019527,
     "end_time": "2022-01-07T08:08:08.433899",
     "exception": false,
     "start_time": "2022-01-07T08:08:08.414372",
     "status": "completed"
    },
    "tags": []
   },
   "source": [
    "### Training"
   ]
  },
  {
   "cell_type": "code",
   "execution_count": 12,
   "id": "21707d83",
   "metadata": {
    "execution": {
     "iopub.execute_input": "2022-01-07T08:08:08.483438Z",
     "iopub.status.busy": "2022-01-07T08:08:08.482734Z",
     "iopub.status.idle": "2022-01-07T08:13:49.817030Z",
     "shell.execute_reply": "2022-01-07T08:13:49.818074Z",
     "shell.execute_reply.started": "2022-01-06T11:47:08.045001Z"
    },
    "papermill": {
     "duration": 341.364612,
     "end_time": "2022-01-07T08:13:49.818430",
     "exception": false,
     "start_time": "2022-01-07T08:08:08.453818",
     "status": "completed"
    },
    "tags": []
   },
   "outputs": [
    {
     "name": "stdout",
     "output_type": "stream",
     "text": [
      "Training model for  ID=0\n",
      "Training model for  ID=1\n",
      "Training model for  ID=2\n",
      "Training model for  ID=3\n",
      "Training model for  ID=4\n",
      "Training model for  ID=5\n",
      "Training model for  ID=6\n",
      "Training model for  ID=7\n",
      "Training model for  ID=8\n",
      "Training model for  ID=9\n",
      "Training model for  ID=10\n",
      "Training model for  ID=11\n",
      "Training model for  ID=12\n",
      "Training model for  ID=13\n"
     ]
    }
   ],
   "source": [
    "asset_ids = list(df_asset[\"Asset_ID\"].unique())\n",
    "asset_ids.sort()\n",
    "models = {}\n",
    "\n",
    "for asset_id in asset_ids :\n",
    "        \n",
    "    print(f\"Training model for  ID={asset_id}\")\n",
    "    \n",
    "    model = get_model(asset_id)\n",
    "    models[asset_id] = model"
   ]
  },
  {
   "cell_type": "markdown",
   "id": "d3fbb3a4",
   "metadata": {
    "papermill": {
     "duration": 0.02481,
     "end_time": "2022-01-07T08:13:49.867784",
     "exception": false,
     "start_time": "2022-01-07T08:13:49.842974",
     "status": "completed"
    },
    "tags": []
   },
   "source": [
    "### Kaggle submit"
   ]
  },
  {
   "cell_type": "code",
   "execution_count": 13,
   "id": "53df3abb",
   "metadata": {
    "execution": {
     "iopub.execute_input": "2022-01-07T08:13:49.930428Z",
     "iopub.status.busy": "2022-01-07T08:13:49.920190Z",
     "iopub.status.idle": "2022-01-07T08:13:49.935266Z",
     "shell.execute_reply": "2022-01-07T08:13:49.934621Z",
     "shell.execute_reply.started": "2022-01-06T12:30:15.480226Z"
    },
    "papermill": {
     "duration": 0.042685,
     "end_time": "2022-01-07T08:13:49.935425",
     "exception": false,
     "start_time": "2022-01-07T08:13:49.892740",
     "status": "completed"
    },
    "tags": []
   },
   "outputs": [],
   "source": [
    "env = gresearch_crypto.make_env()\n",
    "iter_test = env.iter_test()"
   ]
  },
  {
   "cell_type": "code",
   "execution_count": 14,
   "id": "45ddaae4",
   "metadata": {
    "execution": {
     "iopub.execute_input": "2022-01-07T08:13:49.993039Z",
     "iopub.status.busy": "2022-01-07T08:13:49.992319Z",
     "iopub.status.idle": "2022-01-07T08:13:50.325454Z",
     "shell.execute_reply": "2022-01-07T08:13:50.326191Z",
     "shell.execute_reply.started": "2022-01-06T12:30:15.488383Z"
    },
    "papermill": {
     "duration": 0.366461,
     "end_time": "2022-01-07T08:13:50.326395",
     "exception": false,
     "start_time": "2022-01-07T08:13:49.959934",
     "status": "completed"
    },
    "scrolled": true,
    "tags": []
   },
   "outputs": [
    {
     "name": "stdout",
     "output_type": "stream",
     "text": [
      "This version of the API is not optimized and should not be used to estimate the runtime of your code on the hidden test set.\n",
      "Memory usage of dataframe is 0.00 MB\n",
      "Memory usage after optimization is: 0.00 MB\n",
      "Decreased by 58.0%\n",
      "Memory usage of dataframe is 0.00 MB\n",
      "Memory usage after optimization is: 0.00 MB\n",
      "Decreased by 58.0%\n",
      "Memory usage of dataframe is 0.00 MB\n",
      "Memory usage after optimization is: 0.00 MB\n",
      "Decreased by 58.0%\n",
      "Memory usage of dataframe is 0.00 MB\n",
      "Memory usage after optimization is: 0.00 MB\n",
      "Decreased by 58.0%\n"
     ]
    }
   ],
   "source": [
    "for i, (df_test, df_pred) in enumerate(iter_test) :\n",
    "    df_test = reduce_mem_usage(df_test)\n",
    "    \n",
    "    for j , row in df_test.iterrows():        \n",
    "        \n",
    "        model = models[row['Asset_ID']]\n",
    "        x_test = feature_adjust(row)\n",
    "        #x_test = x_test.drop([\"row_id\"])\n",
    "        y_pred = model.predict(pd.DataFrame([x_test]))[0]\n",
    "        df_pred.loc[df_pred['row_id'] == row['row_id'], 'Target'] = y_pred\n",
    "    \n",
    "    env.predict(df_pred)"
   ]
  },
  {
   "cell_type": "markdown",
   "id": "9e099c0b",
   "metadata": {},
   "source": [
    "<br>"
   ]
  },
  {
   "cell_type": "markdown",
   "id": "4c8cf6c5",
   "metadata": {},
   "source": [
    "## Results with different n_estimators"
   ]
  },
  {
   "cell_type": "markdown",
   "id": "f573f59a",
   "metadata": {},
   "source": [
    "* 500 - 0.4255\n",
    "* 1000 - 0.5026\n",
    "* 1500 - 0.5474\n",
    "* 2000 - 0.5827\n",
    "* 3000 - 0.6358\n",
    "* 4000 - 0.6732\n",
    "* 5000 - 0.6981\n",
    "* 6000 - 0.7200\n",
    "* 7000 - 0.7416\n",
    "* 7500 - 0.7494\n",
    "* 8000 - 0.7564\n",
    "* 10000 - 0.7840\n",
    "* 12000 - 0.8052\n",
    "* 13000 - 0.8143\n",
    "* 15000 - Timeout\n",
    "* 20000 - Timeout"
   ]
  },
  {
   "cell_type": "code",
   "execution_count": 1,
   "id": "5ad89eb1",
   "metadata": {},
   "outputs": [],
   "source": [
    "import matplotlib.pyplot as plt\n",
    "x = [500, 1000, 1500, 2000, 3000,  4000, 5000, 6000, 7000, 7500, 8000, 10000, 12000, 13000]\n",
    "y = [0.4255, 0.5026, 0.5474, 0.5827, 0.6358, 0.6732, 0.6981, 0.7200, 0.7416, 0.7494, 0.7564, 0.7840, 0.8052, 0.8143]"
   ]
  },
  {
   "cell_type": "code",
   "execution_count": 2,
   "id": "6654e60b",
   "metadata": {},
   "outputs": [
    {
     "data": {
      "image/png": "[encoded data removed]",
      "text/plain": [
       "<Figure size 432x288 with 1 Axes>"
      ]
     },
     "metadata": {
      "needs_background": "light"
     },
     "output_type": "display_data"
    }
   ],
   "source": [
    "plt.plot(x,y)\n",
    "plt.show()"
   ]
  }
 ],
 "metadata": {
  "kernelspec": {
   "display_name": "Python 3",
   "language": "python",
   "name": "python3"
  },
  "language_info": {
   "codemirror_mode": {
    "name": "ipython",
    "version": 3
   },
   "file_extension": ".py",
   "mimetype": "text/x-python",
   "name": "python",
   "nbconvert_exporter": "python",
   "pygments_lexer": "ipython3",
   "version": "3.8.8"
  },
  "papermill": {
   "default_parameters": {},
   "duration": 451.625644,
   "end_time": "2022-01-07T08:13:51.570950",
   "environment_variables": {},
   "exception": null,
   "input_path": "__notebook__.ipynb",
   "output_path": "__notebook__.ipynb",
   "parameters": {},
   "start_time": "2022-01-07T08:06:19.945306",
   "version": "2.3.3"
  }
 },
 "nbformat": 4,
 "nbformat_minor": 5
}
