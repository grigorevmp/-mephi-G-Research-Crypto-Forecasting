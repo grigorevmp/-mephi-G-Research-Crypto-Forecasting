{
 "cells": [
  {
   "cell_type": "markdown",
   "id": "9c7c8584",
   "metadata": {},
   "source": [
    "## Data loading"
   ]
  },
  {
   "cell_type": "code",
   "execution_count": 1,
   "id": "a379cdff",
   "metadata": {
    "execution": {
     "iopub.execute_input": "2022-01-05T13:03:11.937759Z",
     "iopub.status.busy": "2022-01-05T13:03:11.936536Z",
     "iopub.status.idle": "2022-01-05T13:03:11.949039Z",
     "shell.execute_reply": "2022-01-05T13:03:11.949597Z",
     "shell.execute_reply.started": "2022-01-05T12:55:56.796346Z"
    },
    "papermill": {
     "duration": 0.033261,
     "end_time": "2022-01-05T13:03:11.949934",
     "exception": false,
     "start_time": "2022-01-05T13:03:11.916673",
     "status": "completed"
    },
    "tags": []
   },
   "outputs": [],
   "source": [
    "data_train = '/kaggle/input/g-research-crypto-forecasting/train.csv'\n",
    "data_asset_details = '/kaggle/input/g-research-crypto-forecasting/asset_details.csv'\n",
    "data_supplemental_train = '/kaggle/input/g-research-crypto-forecasting/supplemental_train.csv'"
   ]
  },
  {
   "cell_type": "code",
   "execution_count": 2,
   "id": "177e8f5a",
   "metadata": {
    "execution": {
     "iopub.execute_input": "2022-01-05T13:03:11.986186Z",
     "iopub.status.busy": "2022-01-05T13:03:11.985219Z",
     "iopub.status.idle": "2022-01-05T13:03:14.064542Z",
     "shell.execute_reply": "2022-01-05T13:03:14.063896Z",
     "shell.execute_reply.started": "2022-01-05T12:55:57.973513Z"
    },
    "papermill": {
     "duration": 2.101627,
     "end_time": "2022-01-05T13:03:14.064706",
     "exception": false,
     "start_time": "2022-01-05T13:03:11.963079",
     "status": "completed"
    },
    "tags": []
   },
   "outputs": [
    {
     "data": {
      "text/html": [
       "<style type='text/css'>\n",
       ".datatable table.frame { margin-bottom: 0; }\n",
       ".datatable table.frame thead { border-bottom: none; }\n",
       ".datatable table.frame tr.coltypes td {  color: #FFFFFF;  line-height: 6px;  padding: 0 0.5em;}\n",
       ".datatable .bool    { background: #DDDD99; }\n",
       ".datatable .object  { background: #565656; }\n",
       ".datatable .int     { background: #5D9E5D; }\n",
       ".datatable .float   { background: #4040CC; }\n",
       ".datatable .str     { background: #CC4040; }\n",
       ".datatable .time    { background: #40CC40; }\n",
       ".datatable .row_index {  background: var(--jp-border-color3);  border-right: 1px solid var(--jp-border-color0);  color: var(--jp-ui-font-color3);  font-size: 9px;}\n",
       ".datatable .frame tbody td { text-align: left; }\n",
       ".datatable .frame tr.coltypes .row_index {  background: var(--jp-border-color0);}\n",
       ".datatable th:nth-child(2) { padding-left: 12px; }\n",
       ".datatable .hellipsis {  color: var(--jp-cell-editor-border-color);}\n",
       ".datatable .vellipsis {  background: var(--jp-layout-color0);  color: var(--jp-cell-editor-border-color);}\n",
       ".datatable .na {  color: var(--jp-cell-editor-border-color);  font-size: 80%;}\n",
       ".datatable .sp {  opacity: 0.25;}\n",
       ".datatable .footer { font-size: 9px; }\n",
       ".datatable .frame_dimensions {  background: var(--jp-border-color3);  border-top: 1px solid var(--jp-border-color0);  color: var(--jp-ui-font-color3);  display: inline-block;  opacity: 0.6;  padding: 1px 10px 1px 5px;}\n",
       "</style>\n"
      ],
      "text/plain": [
       "<IPython.core.display.HTML object>"
      ]
     },
     "metadata": {},
     "output_type": "display_data"
    }
   ],
   "source": [
    "import pandas as pd\n",
    "import numpy as np\n",
    "import time"
   ]
  },
  {
   "cell_type": "code",
   "execution_count": 3,
   "id": "c87a9883",
   "metadata": {
    "execution": {
     "iopub.execute_input": "2022-01-05T13:03:14.100837Z",
     "iopub.status.busy": "2022-01-05T13:03:14.099977Z",
     "iopub.status.idle": "2022-01-05T13:04:14.453646Z",
     "shell.execute_reply": "2022-01-05T13:04:14.454209Z",
     "shell.execute_reply.started": "2022-01-05T12:56:01.753463Z"
    },
    "papermill": {
     "duration": 60.37409,
     "end_time": "2022-01-05T13:04:14.454414",
     "exception": false,
     "start_time": "2022-01-05T13:03:14.080324",
     "status": "completed"
    },
    "tags": []
   },
   "outputs": [
    {
     "data": {
      "text/html": [
       "<div>\n",
       "<style scoped>\n",
       "    .dataframe tbody tr th:only-of-type {\n",
       "        vertical-align: middle;\n",
       "    }\n",
       "\n",
       "    .dataframe tbody tr th {\n",
       "        vertical-align: top;\n",
       "    }\n",
       "\n",
       "    .dataframe thead th {\n",
       "        text-align: right;\n",
       "    }\n",
       "</style>\n",
       "<table border=\"1\" class=\"dataframe\">\n",
       "  <thead>\n",
       "    <tr style=\"text-align: right;\">\n",
       "      <th></th>\n",
       "      <th>timestamp</th>\n",
       "      <th>Asset_ID</th>\n",
       "      <th>Count</th>\n",
       "      <th>Open</th>\n",
       "      <th>High</th>\n",
       "      <th>Low</th>\n",
       "      <th>Close</th>\n",
       "      <th>Volume</th>\n",
       "      <th>VWAP</th>\n",
       "      <th>Target</th>\n",
       "    </tr>\n",
       "  </thead>\n",
       "  <tbody>\n",
       "    <tr>\n",
       "      <th>0</th>\n",
       "      <td>1514764860</td>\n",
       "      <td>2</td>\n",
       "      <td>40</td>\n",
       "      <td>2376.5800</td>\n",
       "      <td>2399.5000</td>\n",
       "      <td>2357.1400</td>\n",
       "      <td>2374.5900</td>\n",
       "      <td>19.233005</td>\n",
       "      <td>2373.116392</td>\n",
       "      <td>-0.004218</td>\n",
       "    </tr>\n",
       "    <tr>\n",
       "      <th>1</th>\n",
       "      <td>1514764860</td>\n",
       "      <td>0</td>\n",
       "      <td>5</td>\n",
       "      <td>8.5300</td>\n",
       "      <td>8.5300</td>\n",
       "      <td>8.5300</td>\n",
       "      <td>8.5300</td>\n",
       "      <td>78.380000</td>\n",
       "      <td>8.530000</td>\n",
       "      <td>-0.014399</td>\n",
       "    </tr>\n",
       "    <tr>\n",
       "      <th>2</th>\n",
       "      <td>1514764860</td>\n",
       "      <td>1</td>\n",
       "      <td>229</td>\n",
       "      <td>13835.1940</td>\n",
       "      <td>14013.8000</td>\n",
       "      <td>13666.1100</td>\n",
       "      <td>13850.1760</td>\n",
       "      <td>31.550062</td>\n",
       "      <td>13827.062093</td>\n",
       "      <td>-0.014643</td>\n",
       "    </tr>\n",
       "    <tr>\n",
       "      <th>3</th>\n",
       "      <td>1514764860</td>\n",
       "      <td>5</td>\n",
       "      <td>32</td>\n",
       "      <td>7.6596</td>\n",
       "      <td>7.6596</td>\n",
       "      <td>7.6567</td>\n",
       "      <td>7.6576</td>\n",
       "      <td>6626.713370</td>\n",
       "      <td>7.657713</td>\n",
       "      <td>-0.013922</td>\n",
       "    </tr>\n",
       "    <tr>\n",
       "      <th>4</th>\n",
       "      <td>1514764860</td>\n",
       "      <td>7</td>\n",
       "      <td>5</td>\n",
       "      <td>25.9200</td>\n",
       "      <td>25.9200</td>\n",
       "      <td>25.8740</td>\n",
       "      <td>25.8770</td>\n",
       "      <td>121.087310</td>\n",
       "      <td>25.891363</td>\n",
       "      <td>-0.008264</td>\n",
       "    </tr>\n",
       "  </tbody>\n",
       "</table>\n",
       "</div>"
      ],
      "text/plain": [
       "    timestamp  Asset_ID  Count        Open        High         Low  \\\n",
       "0  1514764860         2     40   2376.5800   2399.5000   2357.1400   \n",
       "1  1514764860         0      5      8.5300      8.5300      8.5300   \n",
       "2  1514764860         1    229  13835.1940  14013.8000  13666.1100   \n",
       "3  1514764860         5     32      7.6596      7.6596      7.6567   \n",
       "4  1514764860         7      5     25.9200     25.9200     25.8740   \n",
       "\n",
       "        Close       Volume          VWAP    Target  \n",
       "0   2374.5900    19.233005   2373.116392 -0.004218  \n",
       "1      8.5300    78.380000      8.530000 -0.014399  \n",
       "2  13850.1760    31.550062  13827.062093 -0.014643  \n",
       "3      7.6576  6626.713370      7.657713 -0.013922  \n",
       "4     25.8770   121.087310     25.891363 -0.008264  "
      ]
     },
     "execution_count": 3,
     "metadata": {},
     "output_type": "execute_result"
    }
   ],
   "source": [
    "df_train = pd.read_csv(data_train, \n",
    "                       dtype={'Asset_ID': 'int8', 'Count': 'int32', 'row_id': 'int32', 'Count': 'int32', \n",
    "                              'Open': 'float64', 'High': 'float64', 'Low': 'float64', 'Close': 'float64', \n",
    "                              'Volume': 'float64', 'VWAP': 'float64'\n",
    "                             }\n",
    "                      )\n",
    "df_train.head()"
   ]
  },
  {
   "cell_type": "code",
   "execution_count": 4,
   "id": "e7073755",
   "metadata": {
    "execution": {
     "iopub.execute_input": "2022-01-05T13:04:14.487198Z",
     "iopub.status.busy": "2022-01-05T13:04:14.486399Z",
     "iopub.status.idle": "2022-01-05T13:04:14.512875Z",
     "shell.execute_reply": "2022-01-05T13:04:14.512216Z",
     "shell.execute_reply.started": "2022-01-05T12:57:14.346476Z"
    },
    "papermill": {
     "duration": 0.044996,
     "end_time": "2022-01-05T13:04:14.513048",
     "exception": false,
     "start_time": "2022-01-05T13:04:14.468052",
     "status": "completed"
    },
    "tags": []
   },
   "outputs": [],
   "source": [
    "import gresearch_crypto"
   ]
  },
  {
   "cell_type": "code",
   "execution_count": 5,
   "id": "32d8dc71",
   "metadata": {
    "execution": {
     "iopub.execute_input": "2022-01-05T13:04:14.547027Z",
     "iopub.status.busy": "2022-01-05T13:04:14.546228Z",
     "iopub.status.idle": "2022-01-05T13:04:14.570645Z",
     "shell.execute_reply": "2022-01-05T13:04:14.570106Z",
     "shell.execute_reply.started": "2022-01-05T12:57:20.414171Z"
    },
    "papermill": {
     "duration": 0.043366,
     "end_time": "2022-01-05T13:04:14.570821",
     "exception": false,
     "start_time": "2022-01-05T13:04:14.527455",
     "status": "completed"
    },
    "tags": []
   },
   "outputs": [
    {
     "data": {
      "text/html": [
       "<div>\n",
       "<style scoped>\n",
       "    .dataframe tbody tr th:only-of-type {\n",
       "        vertical-align: middle;\n",
       "    }\n",
       "\n",
       "    .dataframe tbody tr th {\n",
       "        vertical-align: top;\n",
       "    }\n",
       "\n",
       "    .dataframe thead th {\n",
       "        text-align: right;\n",
       "    }\n",
       "</style>\n",
       "<table border=\"1\" class=\"dataframe\">\n",
       "  <thead>\n",
       "    <tr style=\"text-align: right;\">\n",
       "      <th></th>\n",
       "      <th>Asset_ID</th>\n",
       "      <th>Weight</th>\n",
       "      <th>Asset_Name</th>\n",
       "    </tr>\n",
       "  </thead>\n",
       "  <tbody>\n",
       "    <tr>\n",
       "      <th>1</th>\n",
       "      <td>0</td>\n",
       "      <td>4.304065</td>\n",
       "      <td>Binance Coin</td>\n",
       "    </tr>\n",
       "    <tr>\n",
       "      <th>2</th>\n",
       "      <td>1</td>\n",
       "      <td>6.779922</td>\n",
       "      <td>Bitcoin</td>\n",
       "    </tr>\n",
       "    <tr>\n",
       "      <th>0</th>\n",
       "      <td>2</td>\n",
       "      <td>2.397895</td>\n",
       "      <td>Bitcoin Cash</td>\n",
       "    </tr>\n",
       "    <tr>\n",
       "      <th>10</th>\n",
       "      <td>3</td>\n",
       "      <td>4.406719</td>\n",
       "      <td>Cardano</td>\n",
       "    </tr>\n",
       "    <tr>\n",
       "      <th>13</th>\n",
       "      <td>4</td>\n",
       "      <td>3.555348</td>\n",
       "      <td>Dogecoin</td>\n",
       "    </tr>\n",
       "  </tbody>\n",
       "</table>\n",
       "</div>"
      ],
      "text/plain": [
       "    Asset_ID    Weight    Asset_Name\n",
       "1          0  4.304065  Binance Coin\n",
       "2          1  6.779922       Bitcoin\n",
       "0          2  2.397895  Bitcoin Cash\n",
       "10         3  4.406719       Cardano\n",
       "13         4  3.555348      Dogecoin"
      ]
     },
     "execution_count": 5,
     "metadata": {},
     "output_type": "execute_result"
    }
   ],
   "source": [
    "df_assets = pd.read_csv(data_asset_details).sort_values(by='Asset_ID')\n",
    "df_assets.head()"
   ]
  },
  {
   "cell_type": "markdown",
   "id": "043a862f",
   "metadata": {},
   "source": [
    "## Data preprocessing"
   ]
  },
  {
   "cell_type": "code",
   "execution_count": 6,
   "id": "274c29b7",
   "metadata": {
    "execution": {
     "iopub.execute_input": "2022-01-05T13:04:14.606124Z",
     "iopub.status.busy": "2022-01-05T13:04:14.605393Z",
     "iopub.status.idle": "2022-01-05T13:04:17.499119Z",
     "shell.execute_reply": "2022-01-05T13:04:17.498277Z",
     "shell.execute_reply.started": "2022-01-05T12:57:21.815419Z"
    },
    "papermill": {
     "duration": 2.914414,
     "end_time": "2022-01-05T13:04:17.499367",
     "exception": false,
     "start_time": "2022-01-05T13:04:14.584953",
     "status": "completed"
    },
    "tags": []
   },
   "outputs": [
    {
     "name": "stdout",
     "output_type": "stream",
     "text": [
      "Percentage of values not nan 99.3094374141301\n",
      "Percentage of values not nan 99.9844603180932\n",
      "Percentage of values not nan 99.75116928934543\n",
      "Percentage of values not nan 98.95466572016784\n",
      "Percentage of values not nan 87.46838441098623\n",
      "Percentage of values not nan 99.88225907096167\n",
      "Percentage of values not nan 99.9826193640732\n",
      "Percentage of values not nan 99.52201983776557\n",
      "Percentage of values not nan 87.87076707006158\n",
      "Percentage of values not nan 99.97336441670117\n",
      "Percentage of values not nan 94.03054748939965\n",
      "Percentage of values not nan 85.91615278314144\n",
      "Percentage of values not nan 96.52474857329506\n",
      "Percentage of values not nan 98.87899026971662\n"
     ]
    }
   ],
   "source": [
    "for i in range(14):\n",
    " \n",
    "    dfcrop=df_train[df_train['Asset_ID']==i]\n",
    "    print('Percentage of values not nan',(1-(np.sum((dfcrop['Target'].isnull()).astype(int))/dfcrop.shape[0]))*100)\n",
    "  "
   ]
  },
  {
   "cell_type": "code",
   "execution_count": 7,
   "id": "feb4b7ef",
   "metadata": {
    "execution": {
     "iopub.execute_input": "2022-01-05T13:04:17.545007Z",
     "iopub.status.busy": "2022-01-05T13:04:17.543391Z",
     "iopub.status.idle": "2022-01-05T13:04:17.547993Z",
     "shell.execute_reply": "2022-01-05T13:04:17.547395Z",
     "shell.execute_reply.started": "2022-01-05T12:57:28.555299Z"
    },
    "papermill": {
     "duration": 0.030541,
     "end_time": "2022-01-05T13:04:17.548150",
     "exception": false,
     "start_time": "2022-01-05T13:04:17.517609",
     "status": "completed"
    },
    "tags": []
   },
   "outputs": [],
   "source": [
    "def upper_shadow(df):\n",
    "    return df['High'] - np.maximum(df['Close'], df['Open'])\n",
    "\n",
    "def lower_shadow(df):\n",
    "    return np.minimum(df['Close'], df['Open']) - df['Low']\n",
    "\n",
    "def get_features(df):\n",
    "    df_feat = df[['Count', 'Open', 'High', 'Low', 'Close', 'Volume', 'VWAP']].copy()\n",
    "    df_feat['Upper_Shadow'] = upper_shadow(df_feat)\n",
    "    df_feat['Lower_Shadow'] = lower_shadow(df_feat)\n",
    "    \n",
    "    df_feat[\"Close/Open\"] = df_feat[\"Close\"] / df_feat[\"Open\"] \n",
    "    df_feat[\"Close-Open\"] = df_feat[\"Close\"] - df_feat[\"Open\"] \n",
    "    df_feat[\"High-Low\"] = df_feat[\"High\"] - df_feat[\"Low\"] \n",
    "    df_feat[\"High/Low\"] = df_feat[\"High\"] / df_feat[\"Low\"]\n",
    "    \n",
    "    df_feat['Mean'] = df_feat[['Open', 'High', 'Low', 'Close']].mean(axis=1)\n",
    "\n",
    "    df_feat[\"Median\"] = df_feat[[\"Open\", \"High\", \"Low\", \"Close\"]].median(axis=1)\n",
    "   \n",
    "\n",
    "    return df_feat"
   ]
  },
  {
   "cell_type": "code",
   "execution_count": 8,
   "id": "d3c69b17",
   "metadata": {
    "execution": {
     "iopub.execute_input": "2022-01-05T13:04:17.588708Z",
     "iopub.status.busy": "2022-01-05T13:04:17.587921Z",
     "iopub.status.idle": "2022-01-05T13:04:17.671520Z",
     "shell.execute_reply": "2022-01-05T13:04:17.670895Z",
     "shell.execute_reply.started": "2022-01-05T12:57:35.332299Z"
    },
    "papermill": {
     "duration": 0.105393,
     "end_time": "2022-01-05T13:04:17.671729",
     "exception": false,
     "start_time": "2022-01-05T13:04:17.566336",
     "status": "completed"
    },
    "tags": []
   },
   "outputs": [],
   "source": [
    "from sklearn.preprocessing import StandardScaler\n",
    "from sklearn.linear_model import Lasso"
   ]
  },
  {
   "cell_type": "code",
   "execution_count": 9,
   "id": "64cc1242",
   "metadata": {
    "execution": {
     "iopub.execute_input": "2022-01-05T13:04:17.717889Z",
     "iopub.status.busy": "2022-01-05T13:04:17.717152Z",
     "iopub.status.idle": "2022-01-05T13:04:17.719029Z",
     "shell.execute_reply": "2022-01-05T13:04:17.719517Z",
     "shell.execute_reply.started": "2022-01-05T12:57:36.395672Z"
    },
    "papermill": {
     "duration": 0.029808,
     "end_time": "2022-01-05T13:04:17.719705",
     "exception": false,
     "start_time": "2022-01-05T13:04:17.689897",
     "status": "completed"
    },
    "tags": []
   },
   "outputs": [],
   "source": [
    "def get_Xy_and_model_for_asset(df_train, asset_id):\n",
    "    df = df_train[df_train[\"Asset_ID\"] == asset_id]\n",
    "    \n",
    "    df_proc = get_features(df)\n",
    "    df_proc['y'] = df['Target']\n",
    "    df_proc = df_proc.reset_index(drop=True)\n",
    "    df_proc = df_proc.drop(labels=np.where(np.isinf(df_proc))[0], axis=0)\n",
    "    df_proc = df_proc.dropna(how=\"any\")\n",
    "    df_proc = df_proc.reset_index(drop=True)\n",
    "    \n",
    "    \n",
    "    X = df_proc.drop(\"y\", axis=1)\n",
    "    y = df_proc[\"y\"]\n",
    "    \n",
    "    scaler = StandardScaler()\n",
    "    X = scaler.fit_transform(X)\n",
    "    \n",
    "    model = Lasso(\n",
    "        alpha=0.2,\n",
    "        selection='cyclic'\n",
    "    )\n",
    "    model.fit(X, y)\n",
    "\n",
    "    del X\n",
    "    del y\n",
    "    #return X, y, model\n",
    "    return model"
   ]
  },
  {
   "cell_type": "markdown",
   "id": "05ea4ab7",
   "metadata": {},
   "source": [
    "## Training"
   ]
  },
  {
   "cell_type": "code",
   "execution_count": 10,
   "id": "c03debe2",
   "metadata": {
    "execution": {
     "iopub.execute_input": "2022-01-05T13:04:17.762157Z",
     "iopub.status.busy": "2022-01-05T13:04:17.761387Z",
     "iopub.status.idle": "2022-01-05T13:04:47.753611Z",
     "shell.execute_reply": "2022-01-05T13:04:47.755097Z"
    },
    "papermill": {
     "duration": 30.018332,
     "end_time": "2022-01-05T13:04:47.755426",
     "exception": false,
     "start_time": "2022-01-05T13:04:17.737094",
     "status": "completed"
    },
    "tags": []
   },
   "outputs": [
    {
     "name": "stdout",
     "output_type": "stream",
     "text": [
      "Training model for Binance Coin     (ID=0 )\n",
      "Training model for Bitcoin          (ID=1 )\n",
      "Training model for Bitcoin Cash     (ID=2 )\n",
      "Training model for Cardano          (ID=3 )\n",
      "Training model for Dogecoin         (ID=4 )\n",
      "Training model for EOS.IO           (ID=5 )\n",
      "Training model for Ethereum         (ID=6 )\n",
      "Training model for Ethereum Classic (ID=7 )\n",
      "Training model for IOTA             (ID=8 )\n",
      "Training model for Litecoin         (ID=9 )\n",
      "Training model for Maker            (ID=10)\n",
      "Training model for Monero           (ID=11)\n",
      "Training model for Stellar          (ID=12)\n",
      "Training model for TRON             (ID=13)\n",
      "CPU times: user 29.4 s, sys: 6.76 s, total: 36.2 s\n",
      "Wall time: 30 s\n"
     ]
    }
   ],
   "source": [
    "%%time\n",
    "Xs = {}\n",
    "ys = {}\n",
    "models = {}\n",
    "\n",
    "for asset_id, asset_name in zip(df_assets['Asset_ID'], df_assets['Asset_Name']):\n",
    "    print(f\"Training model for {asset_name:<16} (ID={asset_id:<2})\")\n",
    "    try:\n",
    "        model = get_Xy_and_model_for_asset(df_train, asset_id)\n",
    "        models[asset_id] = model\n",
    "    except:         \n",
    "        models[asset_id] = None"
   ]
  },
  {
   "cell_type": "code",
   "execution_count": 11,
   "id": "df7b6bf3",
   "metadata": {
    "execution": {
     "iopub.execute_input": "2022-01-05T13:04:47.848688Z",
     "iopub.status.busy": "2022-01-05T13:04:47.846807Z",
     "iopub.status.idle": "2022-01-05T13:04:47.849655Z",
     "shell.execute_reply": "2022-01-05T13:04:47.847734Z",
     "shell.execute_reply.started": "2022-01-04T07:39:53.407201Z"
    },
    "papermill": {
     "duration": 0.053139,
     "end_time": "2022-01-05T13:04:47.849900",
     "exception": false,
     "start_time": "2022-01-05T13:04:47.796761",
     "status": "completed"
    },
    "tags": []
   },
   "outputs": [],
   "source": [
    "import traceback"
   ]
  },
  {
   "cell_type": "code",
   "execution_count": 12,
   "id": "0699d4c3",
   "metadata": {
    "execution": {
     "iopub.execute_input": "2022-01-05T13:04:47.907244Z",
     "iopub.status.busy": "2022-01-05T13:04:47.906207Z",
     "iopub.status.idle": "2022-01-05T13:04:47.916186Z",
     "shell.execute_reply": "2022-01-05T13:04:47.915557Z",
     "shell.execute_reply.started": "2022-01-04T07:39:53.416493Z"
    },
    "papermill": {
     "duration": 0.03801,
     "end_time": "2022-01-05T13:04:47.916347",
     "exception": false,
     "start_time": "2022-01-05T13:04:47.878337",
     "status": "completed"
    },
    "scrolled": true,
    "tags": []
   },
   "outputs": [
    {
     "data": {
      "text/plain": [
       "{0: Lasso(alpha=0.2),\n",
       " 1: Lasso(alpha=0.2),\n",
       " 2: Lasso(alpha=0.2),\n",
       " 3: Lasso(alpha=0.2),\n",
       " 4: Lasso(alpha=0.2),\n",
       " 5: Lasso(alpha=0.2),\n",
       " 6: Lasso(alpha=0.2),\n",
       " 7: Lasso(alpha=0.2),\n",
       " 8: Lasso(alpha=0.2),\n",
       " 9: Lasso(alpha=0.2),\n",
       " 10: Lasso(alpha=0.2),\n",
       " 11: Lasso(alpha=0.2),\n",
       " 12: Lasso(alpha=0.2),\n",
       " 13: Lasso(alpha=0.2)}"
      ]
     },
     "execution_count": 12,
     "metadata": {},
     "output_type": "execute_result"
    }
   ],
   "source": [
    "models"
   ]
  },
  {
   "cell_type": "markdown",
   "id": "d440a3f1",
   "metadata": {},
   "source": [
    "## Kaggle submission"
   ]
  },
  {
   "cell_type": "code",
   "execution_count": 13,
   "id": "da233775",
   "metadata": {
    "execution": {
     "iopub.execute_input": "2022-01-05T13:04:47.965743Z",
     "iopub.status.busy": "2022-01-05T13:04:47.965054Z",
     "iopub.status.idle": "2022-01-05T13:04:48.581557Z",
     "shell.execute_reply": "2022-01-05T13:04:48.582191Z",
     "shell.execute_reply.started": "2022-01-04T07:39:53.4318Z"
    },
    "papermill": {
     "duration": 0.64317,
     "end_time": "2022-01-05T13:04:48.582396",
     "exception": false,
     "start_time": "2022-01-05T13:04:47.939226",
     "status": "completed"
    },
    "tags": []
   },
   "outputs": [
    {
     "name": "stdout",
     "output_type": "stream",
     "text": [
      "This version of the API is not optimized and should not be used to estimate the runtime of your code on the hidden test set.\n",
      "CPU times: user 593 ms, sys: 3.74 ms, total: 597 ms\n",
      "Wall time: 608 ms\n"
     ]
    }
   ],
   "source": [
    "%%time\n",
    "env = gresearch_crypto.make_env()\n",
    "iter_test = env.iter_test()\n",
    "scaler = StandardScaler()\n",
    "for i, (df_test, df_pred) in enumerate(iter_test):\n",
    "    for j , row in df_test.iterrows():\n",
    "        if models[row['Asset_ID']] is not None:\n",
    "            try:\n",
    "                model = models[row['Asset_ID']]\n",
    "                x_test = get_features(pd.DataFrame([row]))\n",
    "                x_test = scaler.fit_transform(x_test)\n",
    "                y_pred = model.predict(x_test)[0]\n",
    "                df_pred.loc[df_pred['row_id'] == row['row_id'], 'Target'] = y_pred\n",
    "            except:\n",
    "                df_pred.loc[df_pred['row_id'] == row['row_id'], 'Target'] = 0\n",
    "                traceback.print_exc()\n",
    "        else: \n",
    "            df_pred.loc[df_pred['row_id'] == row['row_id'], 'Target'] = 0\n",
    "    env.predict(df_pred)"
   ]
  },
  {
   "cell_type": "markdown",
   "id": "34a9088c",
   "metadata": {},
   "source": [
    "<br>"
   ]
  },
  {
   "cell_type": "markdown",
   "id": "1249873f",
   "metadata": {
    "papermill": {
     "duration": 0.02336,
     "end_time": "2022-01-05T13:04:48.629931",
     "exception": false,
     "start_time": "2022-01-05T13:04:48.606571",
     "status": "completed"
    },
    "tags": []
   },
   "source": [
    "## Public score"
   ]
  },
  {
   "cell_type": "markdown",
   "id": "f389039b",
   "metadata": {},
   "source": [
    "-0.0020"
   ]
  }
 ],
 "metadata": {
  "kernelspec": {
   "display_name": "Python 3",
   "language": "python",
   "name": "python3"
  },
  "language_info": {
   "codemirror_mode": {
    "name": "ipython",
    "version": 3
   },
   "file_extension": ".py",
   "mimetype": "text/x-python",
   "name": "python",
   "nbconvert_exporter": "python",
   "pygments_lexer": "ipython3",
   "version": "3.8.8"
  },
  "papermill": {
   "default_parameters": {},
   "duration": 108.146933,
   "end_time": "2022-01-05T13:04:49.769534",
   "environment_variables": {},
   "exception": null,
   "input_path": "__notebook__.ipynb",
   "output_path": "__notebook__.ipynb",
   "parameters": {},
   "start_time": "2022-01-05T13:03:01.622601",
   "version": "2.3.3"
  }
 },
 "nbformat": 4,
 "nbformat_minor": 5
}
