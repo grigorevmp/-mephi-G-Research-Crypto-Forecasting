{
 "cells": [
  {
   "cell_type": "markdown",
   "id": "24372a94",
   "metadata": {
    "papermill": {
     "duration": 0.012271,
     "end_time": "2022-01-07T08:09:57.411131",
     "exception": false,
     "start_time": "2022-01-07T08:09:57.398860",
     "status": "completed"
    },
    "tags": []
   },
   "source": [
    "## Data loading"
   ]
  },
  {
   "cell_type": "code",
   "execution_count": 1,
   "id": "4d8cadd8",
   "metadata": {
    "_cell_guid": "b1076dfc-b9ad-4769-8c92-a6c4dae69d19",
    "_uuid": "8f2839f25d086af736a60e9eeb907d3b93b6e0e5",
    "execution": {
     "iopub.execute_input": "2022-01-07T08:09:57.448759Z",
     "iopub.status.busy": "2022-01-07T08:09:57.448045Z",
     "iopub.status.idle": "2022-01-07T08:09:57.451326Z",
     "shell.execute_reply": "2022-01-07T08:09:57.450825Z",
     "shell.execute_reply.started": "2022-01-05T10:22:04.310759Z"
    },
    "papermill": {
     "duration": 0.027058,
     "end_time": "2022-01-07T08:09:57.451464",
     "exception": false,
     "start_time": "2022-01-07T08:09:57.424406",
     "status": "completed"
    },
    "tags": []
   },
   "outputs": [],
   "source": [
    "data_train = '/kaggle/input/g-research-crypto-forecasting/train.csv'\n",
    "data_asset_details = '/kaggle/input/g-research-crypto-forecasting/asset_details.csv'\n",
    "data_supplemental_train = '/kaggle/input/g-research-crypto-forecasting/supplemental_train.csv'"
   ]
  },
  {
   "cell_type": "code",
   "execution_count": 2,
   "id": "00285592",
   "metadata": {
    "execution": {
     "iopub.execute_input": "2022-01-07T08:09:57.477621Z",
     "iopub.status.busy": "2022-01-07T08:09:57.476978Z",
     "iopub.status.idle": "2022-01-07T08:09:57.761706Z",
     "shell.execute_reply": "2022-01-07T08:09:57.761202Z",
     "shell.execute_reply.started": "2022-01-05T10:22:04.33737Z"
    },
    "papermill": {
     "duration": 0.299087,
     "end_time": "2022-01-07T08:09:57.761845",
     "exception": false,
     "start_time": "2022-01-07T08:09:57.462758",
     "status": "completed"
    },
    "tags": []
   },
   "outputs": [],
   "source": [
    "from catboost import Pool, cv, CatBoostRegressor"
   ]
  },
  {
   "cell_type": "code",
   "execution_count": 3,
   "id": "55d15e79",
   "metadata": {
    "execution": {
     "iopub.execute_input": "2022-01-07T08:09:57.789660Z",
     "iopub.status.busy": "2022-01-07T08:09:57.789026Z",
     "iopub.status.idle": "2022-01-07T08:10:00.695569Z",
     "shell.execute_reply": "2022-01-07T08:10:00.694955Z",
     "shell.execute_reply.started": "2022-01-05T10:22:04.61378Z"
    },
    "papermill": {
     "duration": 2.922432,
     "end_time": "2022-01-07T08:10:00.695723",
     "exception": false,
     "start_time": "2022-01-07T08:09:57.773291",
     "status": "completed"
    },
    "tags": []
   },
   "outputs": [
    {
     "data": {
      "text/html": [
       "<style type='text/css'>\n",
       ".datatable table.frame { margin-bottom: 0; }\n",
       ".datatable table.frame thead { border-bottom: none; }\n",
       ".datatable table.frame tr.coltypes td {  color: #FFFFFF;  line-height: 6px;  padding: 0 0.5em;}\n",
       ".datatable .bool    { background: #DDDD99; }\n",
       ".datatable .object  { background: #565656; }\n",
       ".datatable .int     { background: #5D9E5D; }\n",
       ".datatable .float   { background: #4040CC; }\n",
       ".datatable .str     { background: #CC4040; }\n",
       ".datatable .time    { background: #40CC40; }\n",
       ".datatable .row_index {  background: var(--jp-border-color3);  border-right: 1px solid var(--jp-border-color0);  color: var(--jp-ui-font-color3);  font-size: 9px;}\n",
       ".datatable .frame tbody td { text-align: left; }\n",
       ".datatable .frame tr.coltypes .row_index {  background: var(--jp-border-color0);}\n",
       ".datatable th:nth-child(2) { padding-left: 12px; }\n",
       ".datatable .hellipsis {  color: var(--jp-cell-editor-border-color);}\n",
       ".datatable .vellipsis {  background: var(--jp-layout-color0);  color: var(--jp-cell-editor-border-color);}\n",
       ".datatable .na {  color: var(--jp-cell-editor-border-color);  font-size: 80%;}\n",
       ".datatable .sp {  opacity: 0.25;}\n",
       ".datatable .footer { font-size: 9px; }\n",
       ".datatable .frame_dimensions {  background: var(--jp-border-color3);  border-top: 1px solid var(--jp-border-color0);  color: var(--jp-ui-font-color3);  display: inline-block;  opacity: 0.6;  padding: 1px 10px 1px 5px;}\n",
       "</style>\n"
      ],
      "text/plain": [
       "<IPython.core.display.HTML object>"
      ]
     },
     "metadata": {},
     "output_type": "display_data"
    }
   ],
   "source": [
    "import random\n",
    "import pandas as pd\n",
    "import numpy as np\n",
    "import lightgbm as lgb\n",
    "import time\n",
    "import datetime\n",
    "import plotly.graph_objects as go"
   ]
  },
  {
   "cell_type": "code",
   "execution_count": 4,
   "id": "4933d554",
   "metadata": {
    "execution": {
     "iopub.execute_input": "2022-01-07T08:10:00.724933Z",
     "iopub.status.busy": "2022-01-07T08:10:00.724440Z",
     "iopub.status.idle": "2022-01-07T08:10:49.029882Z",
     "shell.execute_reply": "2022-01-07T08:10:49.030303Z",
     "shell.execute_reply.started": "2022-01-05T10:22:07.422092Z"
    },
    "papermill": {
     "duration": 48.32211,
     "end_time": "2022-01-07T08:10:49.030453",
     "exception": false,
     "start_time": "2022-01-07T08:10:00.708343",
     "status": "completed"
    },
    "tags": []
   },
   "outputs": [
    {
     "data": {
      "text/html": [
       "<div>\n",
       "<style scoped>\n",
       "    .dataframe tbody tr th:only-of-type {\n",
       "        vertical-align: middle;\n",
       "    }\n",
       "\n",
       "    .dataframe tbody tr th {\n",
       "        vertical-align: top;\n",
       "    }\n",
       "\n",
       "    .dataframe thead th {\n",
       "        text-align: right;\n",
       "    }\n",
       "</style>\n",
       "<table border=\"1\" class=\"dataframe\">\n",
       "  <thead>\n",
       "    <tr style=\"text-align: right;\">\n",
       "      <th></th>\n",
       "      <th>timestamp</th>\n",
       "      <th>Asset_ID</th>\n",
       "      <th>Count</th>\n",
       "      <th>Open</th>\n",
       "      <th>High</th>\n",
       "      <th>Low</th>\n",
       "      <th>Close</th>\n",
       "      <th>Volume</th>\n",
       "      <th>VWAP</th>\n",
       "      <th>Target</th>\n",
       "    </tr>\n",
       "  </thead>\n",
       "  <tbody>\n",
       "    <tr>\n",
       "      <th>0</th>\n",
       "      <td>1514764860</td>\n",
       "      <td>2</td>\n",
       "      <td>40</td>\n",
       "      <td>2376.5800</td>\n",
       "      <td>2399.5000</td>\n",
       "      <td>2357.1400</td>\n",
       "      <td>2374.5900</td>\n",
       "      <td>19.233005</td>\n",
       "      <td>2373.116392</td>\n",
       "      <td>-0.004218</td>\n",
       "    </tr>\n",
       "    <tr>\n",
       "      <th>1</th>\n",
       "      <td>1514764860</td>\n",
       "      <td>0</td>\n",
       "      <td>5</td>\n",
       "      <td>8.5300</td>\n",
       "      <td>8.5300</td>\n",
       "      <td>8.5300</td>\n",
       "      <td>8.5300</td>\n",
       "      <td>78.380000</td>\n",
       "      <td>8.530000</td>\n",
       "      <td>-0.014399</td>\n",
       "    </tr>\n",
       "    <tr>\n",
       "      <th>2</th>\n",
       "      <td>1514764860</td>\n",
       "      <td>1</td>\n",
       "      <td>229</td>\n",
       "      <td>13835.1940</td>\n",
       "      <td>14013.8000</td>\n",
       "      <td>13666.1100</td>\n",
       "      <td>13850.1760</td>\n",
       "      <td>31.550062</td>\n",
       "      <td>13827.062093</td>\n",
       "      <td>-0.014643</td>\n",
       "    </tr>\n",
       "    <tr>\n",
       "      <th>3</th>\n",
       "      <td>1514764860</td>\n",
       "      <td>5</td>\n",
       "      <td>32</td>\n",
       "      <td>7.6596</td>\n",
       "      <td>7.6596</td>\n",
       "      <td>7.6567</td>\n",
       "      <td>7.6576</td>\n",
       "      <td>6626.713370</td>\n",
       "      <td>7.657713</td>\n",
       "      <td>-0.013922</td>\n",
       "    </tr>\n",
       "    <tr>\n",
       "      <th>4</th>\n",
       "      <td>1514764860</td>\n",
       "      <td>7</td>\n",
       "      <td>5</td>\n",
       "      <td>25.9200</td>\n",
       "      <td>25.9200</td>\n",
       "      <td>25.8740</td>\n",
       "      <td>25.8770</td>\n",
       "      <td>121.087310</td>\n",
       "      <td>25.891363</td>\n",
       "      <td>-0.008264</td>\n",
       "    </tr>\n",
       "  </tbody>\n",
       "</table>\n",
       "</div>"
      ],
      "text/plain": [
       "    timestamp  Asset_ID  Count        Open        High         Low  \\\n",
       "0  1514764860         2     40   2376.5800   2399.5000   2357.1400   \n",
       "1  1514764860         0      5      8.5300      8.5300      8.5300   \n",
       "2  1514764860         1    229  13835.1940  14013.8000  13666.1100   \n",
       "3  1514764860         5     32      7.6596      7.6596      7.6567   \n",
       "4  1514764860         7      5     25.9200     25.9200     25.8740   \n",
       "\n",
       "        Close       Volume          VWAP    Target  \n",
       "0   2374.5900    19.233005   2373.116392 -0.004218  \n",
       "1      8.5300    78.380000      8.530000 -0.014399  \n",
       "2  13850.1760    31.550062  13827.062093 -0.014643  \n",
       "3      7.6576  6626.713370      7.657713 -0.013922  \n",
       "4     25.8770   121.087310     25.891363 -0.008264  "
      ]
     },
     "execution_count": 4,
     "metadata": {},
     "output_type": "execute_result"
    }
   ],
   "source": [
    "df_train = pd.read_csv(data_train, \n",
    "                       dtype={'Asset_ID': 'int8', 'Count': 'int32', 'row_id': 'int32', 'Count': 'int32', \n",
    "                              'Open': 'float64', 'High': 'float64', 'Low': 'float64', 'Close': 'float64', \n",
    "                              'Volume': 'float64', 'VWAP': 'float64'\n",
    "                             }\n",
    "                      )\n",
    "df_train.head()"
   ]
  },
  {
   "cell_type": "code",
   "execution_count": 5,
   "id": "be9a30b3",
   "metadata": {
    "execution": {
     "iopub.execute_input": "2022-01-07T08:10:49.058124Z",
     "iopub.status.busy": "2022-01-07T08:10:49.057572Z",
     "iopub.status.idle": "2022-01-07T08:10:49.092958Z",
     "shell.execute_reply": "2022-01-07T08:10:49.093480Z",
     "shell.execute_reply.started": "2022-01-05T10:22:57.984988Z"
    },
    "papermill": {
     "duration": 0.051102,
     "end_time": "2022-01-07T08:10:49.093627",
     "exception": false,
     "start_time": "2022-01-07T08:10:49.042525",
     "status": "completed"
    },
    "tags": []
   },
   "outputs": [],
   "source": [
    "import gresearch_crypto"
   ]
  },
  {
   "cell_type": "code",
   "execution_count": 6,
   "id": "0759f487",
   "metadata": {
    "execution": {
     "iopub.execute_input": "2022-01-07T08:10:49.122701Z",
     "iopub.status.busy": "2022-01-07T08:10:49.122122Z",
     "iopub.status.idle": "2022-01-07T08:10:49.140479Z",
     "shell.execute_reply": "2022-01-07T08:10:49.139736Z",
     "shell.execute_reply.started": "2022-01-05T10:22:58.008961Z"
    },
    "papermill": {
     "duration": 0.03372,
     "end_time": "2022-01-07T08:10:49.140584",
     "exception": false,
     "start_time": "2022-01-07T08:10:49.106864",
     "status": "completed"
    },
    "tags": []
   },
   "outputs": [
    {
     "data": {
      "text/html": [
       "<div>\n",
       "<style scoped>\n",
       "    .dataframe tbody tr th:only-of-type {\n",
       "        vertical-align: middle;\n",
       "    }\n",
       "\n",
       "    .dataframe tbody tr th {\n",
       "        vertical-align: top;\n",
       "    }\n",
       "\n",
       "    .dataframe thead th {\n",
       "        text-align: right;\n",
       "    }\n",
       "</style>\n",
       "<table border=\"1\" class=\"dataframe\">\n",
       "  <thead>\n",
       "    <tr style=\"text-align: right;\">\n",
       "      <th></th>\n",
       "      <th>Asset_ID</th>\n",
       "      <th>Weight</th>\n",
       "      <th>Asset_Name</th>\n",
       "    </tr>\n",
       "  </thead>\n",
       "  <tbody>\n",
       "    <tr>\n",
       "      <th>1</th>\n",
       "      <td>0</td>\n",
       "      <td>4.304065</td>\n",
       "      <td>Binance Coin</td>\n",
       "    </tr>\n",
       "    <tr>\n",
       "      <th>2</th>\n",
       "      <td>1</td>\n",
       "      <td>6.779922</td>\n",
       "      <td>Bitcoin</td>\n",
       "    </tr>\n",
       "    <tr>\n",
       "      <th>0</th>\n",
       "      <td>2</td>\n",
       "      <td>2.397895</td>\n",
       "      <td>Bitcoin Cash</td>\n",
       "    </tr>\n",
       "    <tr>\n",
       "      <th>10</th>\n",
       "      <td>3</td>\n",
       "      <td>4.406719</td>\n",
       "      <td>Cardano</td>\n",
       "    </tr>\n",
       "    <tr>\n",
       "      <th>13</th>\n",
       "      <td>4</td>\n",
       "      <td>3.555348</td>\n",
       "      <td>Dogecoin</td>\n",
       "    </tr>\n",
       "  </tbody>\n",
       "</table>\n",
       "</div>"
      ],
      "text/plain": [
       "    Asset_ID    Weight    Asset_Name\n",
       "1          0  4.304065  Binance Coin\n",
       "2          1  6.779922       Bitcoin\n",
       "0          2  2.397895  Bitcoin Cash\n",
       "10         3  4.406719       Cardano\n",
       "13         4  3.555348      Dogecoin"
      ]
     },
     "execution_count": 6,
     "metadata": {},
     "output_type": "execute_result"
    }
   ],
   "source": [
    "df_assets = pd.read_csv(data_asset_details).sort_values(by='Asset_ID')\n",
    "df_assets.head()"
   ]
  },
  {
   "cell_type": "markdown",
   "id": "a0ff8e93",
   "metadata": {
    "papermill": {
     "duration": 0.012188,
     "end_time": "2022-01-07T08:10:49.165369",
     "exception": false,
     "start_time": "2022-01-07T08:10:49.153181",
     "status": "completed"
    },
    "tags": []
   },
   "source": [
    "## Data preprocessing"
   ]
  },
  {
   "cell_type": "code",
   "execution_count": 7,
   "id": "fe251464",
   "metadata": {
    "execution": {
     "iopub.execute_input": "2022-01-07T08:10:49.198933Z",
     "iopub.status.busy": "2022-01-07T08:10:49.197412Z",
     "iopub.status.idle": "2022-01-07T08:10:49.199834Z",
     "shell.execute_reply": "2022-01-07T08:10:49.200385Z",
     "shell.execute_reply.started": "2022-01-05T10:22:58.028946Z"
    },
    "papermill": {
     "duration": 0.022804,
     "end_time": "2022-01-07T08:10:49.200507",
     "exception": false,
     "start_time": "2022-01-07T08:10:49.177703",
     "status": "completed"
    },
    "tags": []
   },
   "outputs": [],
   "source": [
    "def upper_shadow(df):\n",
    "    return df['High'] - np.maximum(df['Close'], df['Open'])\n",
    "\n",
    "def lower_shadow(df):\n",
    "    return np.minimum(df['Close'], df['Open']) - df['Low']\n",
    "\n",
    "def get_features(df):\n",
    "    df_feat = df[['Count', 'Open', 'High', 'Low', 'Close', 'Volume', 'VWAP']].copy()\n",
    "    df_feat['Upper_Shadow'] = upper_shadow(df_feat)\n",
    "    df_feat['Lower_Shadow'] = lower_shadow(df_feat)\n",
    "    \n",
    "    df_feat[\"Close/Open\"] = df_feat[\"Close\"] / df_feat[\"Open\"] \n",
    "    df_feat[\"Close-Open\"] = df_feat[\"Close\"] - df_feat[\"Open\"] \n",
    "    df_feat[\"High-Low\"] = df_feat[\"High\"] - df_feat[\"Low\"] \n",
    "    df_feat[\"High/Low\"] = df_feat[\"High\"] / df_feat[\"Low\"]\n",
    "    \n",
    "    df_feat['Mean'] = df_feat[['Open', 'High', 'Low', 'Close']].mean(axis=1)\n",
    "    df_feat[\"Median\"] = df_feat[[\"Open\", \"High\", \"Low\", \"Close\"]].median(axis=1)\n",
    "\n",
    "    return df_feat"
   ]
  },
  {
   "cell_type": "code",
   "execution_count": 8,
   "id": "f1607102",
   "metadata": {
    "execution": {
     "iopub.execute_input": "2022-01-07T08:10:49.229711Z",
     "iopub.status.busy": "2022-01-07T08:10:49.228196Z",
     "iopub.status.idle": "2022-01-07T08:10:49.230337Z",
     "shell.execute_reply": "2022-01-07T08:10:49.230742Z",
     "shell.execute_reply.started": "2022-01-05T10:22:58.039033Z"
    },
    "papermill": {
     "duration": 0.017981,
     "end_time": "2022-01-07T08:10:49.230853",
     "exception": false,
     "start_time": "2022-01-07T08:10:49.212872",
     "status": "completed"
    },
    "tags": []
   },
   "outputs": [],
   "source": [
    "from sklearn.preprocessing import StandardScaler"
   ]
  },
  {
   "cell_type": "markdown",
   "id": "cfeeb10a",
   "metadata": {
    "papermill": {
     "duration": 0.012162,
     "end_time": "2022-01-07T08:10:49.256105",
     "exception": false,
     "start_time": "2022-01-07T08:10:49.243943",
     "status": "completed"
    },
    "tags": []
   },
   "source": [
    "## Getting model"
   ]
  },
  {
   "cell_type": "code",
   "execution_count": 9,
   "id": "87b03ab6",
   "metadata": {
    "execution": {
     "iopub.execute_input": "2022-01-07T08:10:49.288323Z",
     "iopub.status.busy": "2022-01-07T08:10:49.287601Z",
     "iopub.status.idle": "2022-01-07T08:10:49.289624Z",
     "shell.execute_reply": "2022-01-07T08:10:49.289990Z",
     "shell.execute_reply.started": "2022-01-05T10:22:58.049775Z"
    },
    "papermill": {
     "duration": 0.021627,
     "end_time": "2022-01-07T08:10:49.290105",
     "exception": false,
     "start_time": "2022-01-07T08:10:49.268478",
     "status": "completed"
    },
    "tags": []
   },
   "outputs": [],
   "source": [
    "def get_Xy_and_model_for_asset(df_train, asset_id):\n",
    "    df = df_train[df_train[\"Asset_ID\"] == asset_id]\n",
    "    \n",
    "    df_proc = get_features(df)\n",
    "    df_proc['y'] = df['Target']\n",
    "    df_proc = df_proc.dropna(how=\"any\")\n",
    "    \n",
    "    df_proc = df_proc.reset_index(drop=True)\n",
    "    df_proc = df_proc.drop(labels=np.where(np.isinf(df_proc))[0], axis=0)\n",
    "    df_proc = df_proc.reset_index(drop=True)\n",
    "     \n",
    "    X = df_proc.drop(\"y\", axis=1)\n",
    "    y = df_proc[\"y\"]\n",
    "    \n",
    "    scaler = StandardScaler()\n",
    "    X = scaler.fit_transform(X)\n",
    "    \n",
    "    model = CatBoostRegressor(iterations=500, \n",
    "                              learning_rate=0.05, \n",
    "                              depth=12, \n",
    "                              n_estimators = 5000, \n",
    "                              random_seed=2022, \n",
    "                              verbose = 0, \n",
    "                              task_type=\"GPU\")\n",
    "    model.fit(X, y)\n",
    "\n",
    "    return X, y, model"
   ]
  },
  {
   "cell_type": "markdown",
   "id": "9068cd5c",
   "metadata": {
    "papermill": {
     "duration": 0.012155,
     "end_time": "2022-01-07T08:10:49.314967",
     "exception": false,
     "start_time": "2022-01-07T08:10:49.302812",
     "status": "completed"
    },
    "tags": []
   },
   "source": [
    "## Training"
   ]
  },
  {
   "cell_type": "code",
   "execution_count": 10,
   "id": "241657a6",
   "metadata": {
    "execution": {
     "iopub.execute_input": "2022-01-07T08:10:49.346447Z",
     "iopub.status.busy": "2022-01-07T08:10:49.345361Z",
     "iopub.status.idle": "2022-01-07T08:11:12.205148Z",
     "shell.execute_reply": "2022-01-07T08:11:12.204655Z",
     "shell.execute_reply.started": "2022-01-05T10:22:58.063635Z"
    },
    "papermill": {
     "duration": 22.877917,
     "end_time": "2022-01-07T08:11:12.205425",
     "exception": false,
     "start_time": "2022-01-07T08:10:49.327508",
     "status": "completed"
    },
    "tags": []
   },
   "outputs": [
    {
     "name": "stdout",
     "output_type": "stream",
     "text": [
      "Training model for Binance Coin     (ID=0 )\n",
      "Training model for Bitcoin          (ID=1 )\n",
      "Training model for Bitcoin Cash     (ID=2 )\n",
      "Training model for Cardano          (ID=3 )\n",
      "Training model for Dogecoin         (ID=4 )\n",
      "Training model for EOS.IO           (ID=5 )\n",
      "Training model for Ethereum         (ID=6 )\n",
      "Training model for Ethereum Classic (ID=7 )\n",
      "Training model for IOTA             (ID=8 )\n",
      "Training model for Litecoin         (ID=9 )\n",
      "Training model for Maker            (ID=10)\n",
      "Training model for Monero           (ID=11)\n",
      "Training model for Stellar          (ID=12)\n",
      "Training model for TRON             (ID=13)\n"
     ]
    }
   ],
   "source": [
    "Xs = {}\n",
    "ys = {}\n",
    "models = {}\n",
    "\n",
    "for asset_id, asset_name in zip(df_assets['Asset_ID'], df_assets['Asset_Name']):\n",
    "    print(f\"Training model for {asset_name:<16} (ID={asset_id:<2})\")\n",
    "    try:\n",
    "        X, y, model = get_Xy_and_model_for_asset(df_train, asset_id)    \n",
    "        Xs[asset_id], ys[asset_id], models[asset_id] = X, y, model\n",
    "    except:         \n",
    "        Xs[asset_id], ys[asset_id], models[asset_id] = None, None, None   "
   ]
  },
  {
   "cell_type": "markdown",
   "id": "f23d1134",
   "metadata": {
    "papermill": {
     "duration": 0.015837,
     "end_time": "2022-01-07T08:11:12.239804",
     "exception": false,
     "start_time": "2022-01-07T08:11:12.223967",
     "status": "completed"
    },
    "tags": []
   },
   "source": [
    "## Kaggle submission"
   ]
  },
  {
   "cell_type": "code",
   "execution_count": 11,
   "id": "35da71b3",
   "metadata": {
    "execution": {
     "iopub.execute_input": "2022-01-07T08:11:12.275860Z",
     "iopub.status.busy": "2022-01-07T08:11:12.275077Z",
     "iopub.status.idle": "2022-01-07T08:11:12.277038Z",
     "shell.execute_reply": "2022-01-07T08:11:12.277548Z",
     "shell.execute_reply.started": "2022-01-05T10:27:00.622477Z"
    },
    "papermill": {
     "duration": 0.021906,
     "end_time": "2022-01-07T08:11:12.277667",
     "exception": false,
     "start_time": "2022-01-07T08:11:12.255761",
     "status": "completed"
    },
    "tags": []
   },
   "outputs": [],
   "source": [
    "import traceback"
   ]
  },
  {
   "cell_type": "code",
   "execution_count": 12,
   "id": "180a2c5b",
   "metadata": {
    "execution": {
     "iopub.execute_input": "2022-01-07T08:11:12.314451Z",
     "iopub.status.busy": "2022-01-07T08:11:12.313735Z",
     "iopub.status.idle": "2022-01-07T08:11:12.316055Z",
     "shell.execute_reply": "2022-01-07T08:11:12.315557Z",
     "shell.execute_reply.started": "2022-01-05T10:27:00.634121Z"
    },
    "papermill": {
     "duration": 0.021682,
     "end_time": "2022-01-07T08:11:12.316153",
     "exception": false,
     "start_time": "2022-01-07T08:11:12.294471",
     "status": "completed"
    },
    "tags": []
   },
   "outputs": [],
   "source": [
    "env = gresearch_crypto.make_env()\n",
    "iter_test = env.iter_test()"
   ]
  },
  {
   "cell_type": "code",
   "execution_count": 13,
   "id": "bf1c8855",
   "metadata": {
    "execution": {
     "iopub.execute_input": "2022-01-07T08:11:12.355426Z",
     "iopub.status.busy": "2022-01-07T08:11:12.354786Z",
     "iopub.status.idle": "2022-01-07T08:11:12.405489Z",
     "shell.execute_reply": "2022-01-07T08:11:12.405005Z",
     "shell.execute_reply.started": "2022-01-05T10:27:00.643866Z"
    },
    "papermill": {
     "duration": 0.073467,
     "end_time": "2022-01-07T08:11:12.405594",
     "exception": false,
     "start_time": "2022-01-07T08:11:12.332127",
     "status": "completed"
    },
    "scrolled": true,
    "tags": []
   },
   "outputs": [
    {
     "name": "stdout",
     "output_type": "stream",
     "text": [
      "This version of the API is not optimized and should not be used to estimate the runtime of your code on the hidden test set.\n"
     ]
    }
   ],
   "source": [
    "for i, (df_test, df_pred) in enumerate(iter_test):\n",
    "    for j , row in df_test.iterrows():\n",
    "        if models[row['Asset_ID']] is not None:\n",
    "            try:\n",
    "                model = models[row['Asset_ID']]\n",
    "                x_test = get_features(pd.DataFrame([row]))\n",
    "                scaler = StandardScaler()\n",
    "                x_test = scaler.fit_transform(x_test)\n",
    "                y_pred = model.predict(x_test)[0]\n",
    "                df_pred.loc[df_pred['row_id'] == row['row_id'], 'Target'] = y_pred\n",
    "            except:\n",
    "                df_pred.loc[df_pred['row_id'] == row['row_id'], 'Target'] = 0\n",
    "                traceback.print_exc()\n",
    "        else: \n",
    "            df_pred.loc[df_pred['row_id'] == row['row_id'], 'Target'] = 0\n",
    "    env.predict(df_pred)"
   ]
  },
  {
   "cell_type": "markdown",
   "id": "9e87440c",
   "metadata": {},
   "source": [
    "<br>"
   ]
  },
  {
   "cell_type": "markdown",
   "id": "afe706b9",
   "metadata": {},
   "source": [
    "## Results with different n_estimators"
   ]
  },
  {
   "cell_type": "markdown",
   "id": "f52fe548",
   "metadata": {},
   "source": [
    "* 500 - 0.0034\n",
    "* 1000 - -1\n",
    "* 2000 - -1\n",
    "* 5000 - -1\n",
    "* 5000 (withoit mem usage reduce) - -1"
   ]
  }
 ],
 "metadata": {
  "kernelspec": {
   "display_name": "Python 3",
   "language": "python",
   "name": "python3"
  },
  "language_info": {
   "codemirror_mode": {
    "name": "ipython",
    "version": 3
   },
   "file_extension": ".py",
   "mimetype": "text/x-python",
   "name": "python",
   "nbconvert_exporter": "python",
   "pygments_lexer": "ipython3",
   "version": "3.8.8"
  },
  "papermill": {
   "default_parameters": {},
   "duration": 84.548836,
   "end_time": "2022-01-07T08:11:13.431852",
   "environment_variables": {},
   "exception": null,
   "input_path": "__notebook__.ipynb",
   "output_path": "__notebook__.ipynb",
   "parameters": {},
   "start_time": "2022-01-07T08:09:48.883016",
   "version": "2.3.3"
  }
 },
 "nbformat": 4,
 "nbformat_minor": 5
}
