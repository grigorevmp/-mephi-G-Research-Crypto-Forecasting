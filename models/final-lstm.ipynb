{
 "cells": [
  {
   "cell_type": "markdown",
   "id": "67af2976",
   "metadata": {
    "papermill": {
     "duration": 0.02126,
     "end_time": "2022-01-07T08:22:49.089024",
     "exception": false,
     "start_time": "2022-01-07T08:22:49.067764",
     "status": "completed"
    },
    "tags": []
   },
   "source": [
    "## Data loading and parameters init"
   ]
  },
  {
   "cell_type": "code",
   "execution_count": 1,
   "id": "8e405f60",
   "metadata": {
    "execution": {
     "iopub.execute_input": "2022-01-07T08:22:49.130714Z",
     "iopub.status.busy": "2022-01-07T08:22:49.129166Z",
     "iopub.status.idle": "2022-01-07T08:22:56.189197Z",
     "shell.execute_reply": "2022-01-07T08:22:56.188346Z",
     "shell.execute_reply.started": "2022-01-05T11:19:53.903118Z"
    },
    "papermill": {
     "duration": 7.081899,
     "end_time": "2022-01-07T08:22:56.189424",
     "exception": false,
     "start_time": "2022-01-07T08:22:49.107525",
     "status": "completed"
    },
    "tags": []
   },
   "outputs": [],
   "source": [
    "import os\n",
    "import gc\n",
    "import traceback\n",
    "import numpy as np\n",
    "import pandas as pd\n",
    "import seaborn as sns\n",
    "import gresearch_crypto\n",
    "import tensorflow as tf\n",
    "from tensorflow import keras\n",
    "import matplotlib.pyplot as plt\n",
    "import pandas as pd, numpy as np\n",
    "from tensorflow.keras import layers\n",
    "import tensorflow_probability as tfp\n",
    "import tensorflow.keras.backend as K\n",
    "from sklearn.model_selection import KFold\n",
    "from sklearn.metrics import mean_squared_error\n",
    "from sklearn.preprocessing import RobustScaler\n",
    "from tensorflow.keras.preprocessing.sequence import TimeseriesGenerator\n",
    "pd.set_option('display.max_columns', None)"
   ]
  },
  {
   "cell_type": "code",
   "execution_count": 2,
   "id": "e792c4a1",
   "metadata": {
    "execution": {
     "iopub.execute_input": "2022-01-07T08:22:56.261716Z",
     "iopub.status.busy": "2022-01-07T08:22:56.260257Z",
     "iopub.status.idle": "2022-01-07T08:22:56.262459Z",
     "shell.execute_reply": "2022-01-07T08:22:56.260975Z",
     "shell.execute_reply.started": "2022-01-05T11:20:00.789475Z"
    },
    "papermill": {
     "duration": 0.043705,
     "end_time": "2022-01-07T08:22:56.262627",
     "exception": false,
     "start_time": "2022-01-07T08:22:56.218922",
     "status": "completed"
    },
    "tags": []
   },
   "outputs": [],
   "source": [
    "DEVICE = \"GPU\" \n",
    "# DEVICE = \"TPU\" \n",
    "\n",
    "SEED = 42\n",
    "\n",
    "EPOCHS = 10\n",
    "DEBUG = True\n",
    "N_ASSETS = 14\n",
    "WINDOW_SIZE = 15\n",
    "BATCH_SIZE = 1024\n",
    "PCT_VALIDATION = 10 "
   ]
  },
  {
   "cell_type": "code",
   "execution_count": 3,
   "id": "31e3d34a",
   "metadata": {
    "_kg_hide-input": true,
    "execution": {
     "iopub.execute_input": "2022-01-07T08:22:56.329922Z",
     "iopub.status.busy": "2022-01-07T08:22:56.329137Z",
     "iopub.status.idle": "2022-01-07T08:22:56.507363Z",
     "shell.execute_reply": "2022-01-07T08:22:56.507984Z",
     "shell.execute_reply.started": "2022-01-05T11:20:00.800769Z"
    },
    "papermill": {
     "duration": 0.216829,
     "end_time": "2022-01-07T08:22:56.508191",
     "exception": false,
     "start_time": "2022-01-07T08:22:56.291362",
     "status": "completed"
    },
    "tags": []
   },
   "outputs": [
    {
     "name": "stdout",
     "output_type": "stream",
     "text": [
      "Num GPUs Available:  1\n"
     ]
    },
    {
     "name": "stderr",
     "output_type": "stream",
     "text": [
      "2022-01-07 08:22:56.387003: I tensorflow/stream_executor/cuda/cuda_gpu_executor.cc:937] successful NUMA node read from SysFS had negative value (-1), but there must be at least one NUMA node, so returning NUMA node zero\n",
      "2022-01-07 08:22:56.493520: I tensorflow/stream_executor/cuda/cuda_gpu_executor.cc:937] successful NUMA node read from SysFS had negative value (-1), but there must be at least one NUMA node, so returning NUMA node zero\n",
      "2022-01-07 08:22:56.494617: I tensorflow/stream_executor/cuda/cuda_gpu_executor.cc:937] successful NUMA node read from SysFS had negative value (-1), but there must be at least one NUMA node, so returning NUMA node zero\n"
     ]
    }
   ],
   "source": [
    "if DEVICE == \"TPU\":\n",
    "    print(\"Connecting to TPU...\")\n",
    "    try:\n",
    "        tpu = tf.distribute.cluster_resolver.TPUClusterResolver()\n",
    "        print('Running on TPU ', tpu.master())\n",
    "    except ValueError:\n",
    "        tpu = None\n",
    "    if tpu:\n",
    "        try:\n",
    "            print(\"Initializing  TPU ...\")\n",
    "            tf.config.experimental_connect_to_cluster(tpu)\n",
    "            tf.tpu.experimental.initialize_tpu_system(tpu)\n",
    "            strategy = tf.distribute.experimental.TPUStrategy(tpu)\n",
    "            print(\"TPU initialized\")\n",
    "        except: print(\"Failed to initialize TPU\")\n",
    "    else: DEVICE = \"GPU\"\n",
    "\n",
    "if DEVICE != \"TPU\": strategy = tf.distribute.get_strategy()\n",
    "if DEVICE == \"GPU\": print(\"Num GPUs Available: \", len(tf.config.experimental.list_physical_devices('GPU')))\n",
    "AUTO     = tf.data.experimental.AUTOTUNE\n",
    "REPLICAS = strategy.num_replicas_in_sync"
   ]
  },
  {
   "cell_type": "markdown",
   "id": "b7dcb2de",
   "metadata": {
    "papermill": {
     "duration": 0.02892,
     "end_time": "2022-01-07T08:22:56.567417",
     "exception": false,
     "start_time": "2022-01-07T08:22:56.538497",
     "status": "completed"
    },
    "tags": []
   },
   "source": [
    "### Load additional data (Special version)"
   ]
  },
  {
   "cell_type": "code",
   "execution_count": 4,
   "id": "2e8afd3d",
   "metadata": {
    "_kg_hide-input": true,
    "execution": {
     "iopub.execute_input": "2022-01-07T08:22:56.632347Z",
     "iopub.status.busy": "2022-01-07T08:22:56.631614Z",
     "iopub.status.idle": "2022-01-07T08:23:18.261752Z",
     "shell.execute_reply": "2022-01-07T08:23:18.261215Z",
     "shell.execute_reply.started": "2022-01-05T11:20:01.014513Z"
    },
    "papermill": {
     "duration": 21.674875,
     "end_time": "2022-01-07T08:23:18.261890",
     "exception": false,
     "start_time": "2022-01-07T08:22:56.587015",
     "status": "completed"
    },
    "tags": []
   },
   "outputs": [
    {
     "data": {
      "text/html": [
       "<style type='text/css'>\n",
       ".datatable table.frame { margin-bottom: 0; }\n",
       ".datatable table.frame thead { border-bottom: none; }\n",
       ".datatable table.frame tr.coltypes td {  color: #FFFFFF;  line-height: 6px;  padding: 0 0.5em;}\n",
       ".datatable .bool    { background: #DDDD99; }\n",
       ".datatable .object  { background: #565656; }\n",
       ".datatable .int     { background: #5D9E5D; }\n",
       ".datatable .float   { background: #4040CC; }\n",
       ".datatable .str     { background: #CC4040; }\n",
       ".datatable .time    { background: #40CC40; }\n",
       ".datatable .row_index {  background: var(--jp-border-color3);  border-right: 1px solid var(--jp-border-color0);  color: var(--jp-ui-font-color3);  font-size: 9px;}\n",
       ".datatable .frame tbody td { text-align: left; }\n",
       ".datatable .frame tr.coltypes .row_index {  background: var(--jp-border-color0);}\n",
       ".datatable th:nth-child(2) { padding-left: 12px; }\n",
       ".datatable .hellipsis {  color: var(--jp-cell-editor-border-color);}\n",
       ".datatable .vellipsis {  background: var(--jp-layout-color0);  color: var(--jp-cell-editor-border-color);}\n",
       ".datatable .na {  color: var(--jp-cell-editor-border-color);  font-size: 80%;}\n",
       ".datatable .sp {  opacity: 0.25;}\n",
       ".datatable .footer { font-size: 9px; }\n",
       ".datatable .frame_dimensions {  background: var(--jp-border-color3);  border-top: 1px solid var(--jp-border-color0);  color: var(--jp-ui-font-color3);  display: inline-block;  opacity: 0.6;  padding: 1px 10px 1px 5px;}\n",
       "</style>\n"
      ],
      "text/plain": [
       "<IPython.core.display.HTML object>"
      ]
     },
     "metadata": {},
     "output_type": "display_data"
    }
   ],
   "source": [
    "import datatable as dt\n",
    "extra_data_files = {0: '../input/cryptocurrency-extra-data-binance-coin', 2: '../input/cryptocurrency-extra-data-bitcoin-cash', 1: '../input/cryptocurrency-extra-data-bitcoin', 3: '../input/cryptocurrency-extra-data-cardano', 4: '../input/cryptocurrency-extra-data-dogecoin', 5: '../input/cryptocurrency-extra-data-eos-io', 6: '../input/cryptocurrency-extra-data-ethereum', 7: '../input/cryptocurrency-extra-data-ethereum-classic', 8: '../input/cryptocurrency-extra-data-iota', 9: '../input/cryptocurrency-extra-data-litecoin', 11: '../input/cryptocurrency-extra-data-monero', 10: '../input/cryptocurrency-extra-data-maker', 12: '../input/cryptocurrency-extra-data-stellar', 13: '../input/cryptocurrency-extra-data-tron'}\n",
    "\n",
    "orig_df_train = dt.fread('../input/cryptocurrency-extra-data-binance-coin/orig_train.jay').to_pandas()\n",
    "df_asset_details = dt.fread('../input/cryptocurrency-extra-data-binance-coin/orig_asset_details.jay').to_pandas()\n",
    "supp_df_train = dt.fread('../input/cryptocurrency-extra-data-binance-coin/orig_supplemental_train.jay').to_pandas()\n",
    "assets_details = dt.fread('../input/cryptocurrency-extra-data-binance-coin/orig_asset_details.jay').to_pandas()\n",
    "asset_weight_dict = {assets_details['Asset_ID'].tolist()[idx]: assets_details['Weight'].tolist()[idx] for idx in range(len(assets_details))}\n",
    "asset_name_dict = {assets_details['Asset_ID'].tolist()[idx]: assets_details['Asset_Name'].tolist()[idx] for idx in range(len(assets_details))}\n",
    "\n",
    "def load_training_data_for_asset(asset_id, load_jay = True):\n",
    "    dfs = []\n",
    "    if INCCOMP: dfs.append(orig_df_train[orig_df_train[\"Asset_ID\"] == asset_id].copy())\n",
    "    if INCSUPP: dfs.append(supp_df_train[supp_df_train[\"Asset_ID\"] == asset_id].copy())\n",
    "    \n",
    "    if load_jay:\n",
    "        if INC2017 and os.path.exists(extra_data_files[asset_id] + '/full_data__' + str(asset_id) + '__' + str(2017) + '.csv'): dfs.append(dt.fread(extra_data_files[asset_id] + '/full_data__' + str(asset_id) + '__' + str(2017) + '.jay').to_pandas())\n",
    "        if INC2018 and os.path.exists(extra_data_files[asset_id] + '/full_data__' + str(asset_id) + '__' + str(2018) + '.csv'): dfs.append(dt.fread(extra_data_files[asset_id] + '/full_data__' + str(asset_id) + '__' + str(2018) + '.jay').to_pandas())\n",
    "        if INC2019 and os.path.exists(extra_data_files[asset_id] + '/full_data__' + str(asset_id) + '__' + str(2019) + '.csv'): dfs.append(dt.fread(extra_data_files[asset_id] + '/full_data__' + str(asset_id) + '__' + str(2019) + '.jay').to_pandas())\n",
    "        if INC2020 and os.path.exists(extra_data_files[asset_id] + '/full_data__' + str(asset_id) + '__' + str(2020) + '.csv'): dfs.append(dt.fread(extra_data_files[asset_id] + '/full_data__' + str(asset_id) + '__' + str(2020) + '.jay').to_pandas())\n",
    "        if INC2021 and os.path.exists(extra_data_files[asset_id] + '/full_data__' + str(asset_id) + '__' + str(2021) + '.csv'): dfs.append(dt.fread(extra_data_files[asset_id] + '/full_data__' + str(asset_id) + '__' + str(2021) + '.jay').to_pandas())\n",
    "    else: \n",
    "        if INC2017 and os.path.exists(extra_data_files[asset_id] + '/full_data__' + str(asset_id) + '__' + str(2017) + '.csv'): dfs.append(pd.read_csv(extra_data_files[asset_id] + '/full_data__' + str(asset_id) + '__' + str(2017) + '.csv'))\n",
    "        if INC2018 and os.path.exists(extra_data_files[asset_id] + '/full_data__' + str(asset_id) + '__' + str(2018) + '.csv'): dfs.append(pd.read_csv(extra_data_files[asset_id] + '/full_data__' + str(asset_id) + '__' + str(2018) + '.csv'))\n",
    "        if INC2019 and os.path.exists(extra_data_files[asset_id] + '/full_data__' + str(asset_id) + '__' + str(2019) + '.csv'): dfs.append(pd.read_csv(extra_data_files[asset_id] + '/full_data__' + str(asset_id) + '__' + str(2019) + '.csv'))\n",
    "        if INC2020 and os.path.exists(extra_data_files[asset_id] + '/full_data__' + str(asset_id) + '__' + str(2020) + '.csv'): dfs.append(pd.read_csv(extra_data_files[asset_id] + '/full_data__' + str(asset_id) + '__' + str(2020) + '.csv'))\n",
    "        if INC2021 and os.path.exists(extra_data_files[asset_id] + '/full_data__' + str(asset_id) + '__' + str(2021) + '.csv'): dfs.append(pd.read_csv(extra_data_files[asset_id] + '/full_data__' + str(asset_id) + '__' + str(2021) + '.csv'))\n",
    "    df = pd.concat(dfs, axis = 0) if len(dfs) > 1 else dfs[0]\n",
    "    df['date'] = pd.to_datetime(df['timestamp'], unit = 's')\n",
    "    if LOAD_STRICT: df = df.loc[df['date'] < \"2021-06-13 00:00:00\"]    \n",
    "    df = df.sort_values('date')\n",
    "    return df\n",
    "\n",
    "def load_data_for_all_assets():\n",
    "    dfs = []\n",
    "    for asset_id in list(extra_data_files.keys()): dfs.append(load_training_data_for_asset(asset_id))\n",
    "    return pd.concat(dfs)"
   ]
  },
  {
   "cell_type": "code",
   "execution_count": 5,
   "id": "6d10c9df",
   "metadata": {
    "execution": {
     "iopub.execute_input": "2022-01-07T08:23:18.316649Z",
     "iopub.status.busy": "2022-01-07T08:23:18.315731Z",
     "iopub.status.idle": "2022-01-07T08:23:28.962139Z",
     "shell.execute_reply": "2022-01-07T08:23:28.962700Z",
     "shell.execute_reply.started": "2022-01-05T11:20:21.237072Z"
    },
    "papermill": {
     "duration": 10.681575,
     "end_time": "2022-01-07T08:23:28.962854",
     "exception": false,
     "start_time": "2022-01-07T08:23:18.281279",
     "status": "completed"
    },
    "tags": []
   },
   "outputs": [
    {
     "name": "stdout",
     "output_type": "stream",
     "text": [
      "Loaded all data!\n"
     ]
    }
   ],
   "source": [
    "LOAD_STRICT = True\n",
    "\n",
    "INC2021 = 0\n",
    "INC2020 = 0\n",
    "INC2019 = 0\n",
    "INC2018 = 0\n",
    "INC2017 = 0\n",
    "INCCOMP = 1\n",
    "INCSUPP = 0\n",
    "\n",
    "train = load_data_for_all_assets().sort_values('timestamp').set_index(\"timestamp\")\n",
    "if DEBUG: train = train[10000000:]\n",
    "\n",
    "test = dt.fread('../input/cryptocurrency-extra-data-binance-coin/orig_example_test.jay').to_pandas()\n",
    "sample_prediction_df = dt.fread('../input/cryptocurrency-extra-data-binance-coin/orig_example_sample_submission.jay').to_pandas()\n",
    "assets = dt.fread('../input/cryptocurrency-extra-data-binance-coin/orig_asset_details.jay').to_pandas()\n",
    "assets_order = dt.fread('../input/cryptocurrency-extra-data-binance-coin/orig_supplemental_train.jay').to_pandas().Asset_ID[:N_ASSETS]\n",
    "assets_order = dict((t,i) for i,t in enumerate(assets_order))\n",
    "print(\"Loaded all data!\")"
   ]
  },
  {
   "cell_type": "markdown",
   "id": "f310c956",
   "metadata": {
    "papermill": {
     "duration": 0.018992,
     "end_time": "2022-01-07T08:23:29.001103",
     "exception": false,
     "start_time": "2022-01-07T08:23:28.982111",
     "status": "completed"
    },
    "tags": []
   },
   "source": [
    "### Reduce memory usage"
   ]
  },
  {
   "cell_type": "code",
   "execution_count": 6,
   "id": "4f0b2f56",
   "metadata": {
    "_kg_hide-input": true,
    "_kg_hide-output": true,
    "execution": {
     "iopub.execute_input": "2022-01-07T08:23:29.052600Z",
     "iopub.status.busy": "2022-01-07T08:23:29.046399Z",
     "iopub.status.idle": "2022-01-07T08:23:29.054895Z",
     "shell.execute_reply": "2022-01-07T08:23:29.054465Z",
     "shell.execute_reply.started": "2022-01-05T11:20:31.704016Z"
    },
    "papermill": {
     "duration": 0.035005,
     "end_time": "2022-01-07T08:23:29.055010",
     "exception": false,
     "start_time": "2022-01-07T08:23:29.020005",
     "status": "completed"
    },
    "tags": []
   },
   "outputs": [],
   "source": [
    "def reduce_mem_usage(df):\n",
    "    \"\"\" iterate through all the columns of a dataframe and modify the data type\n",
    "        to reduce memory usage.\n",
    "    \"\"\"\n",
    "    start_mem = df.memory_usage().sum() / 1024**2\n",
    "    print('Memory usage of dataframe is {:.2f} MB'.format(start_mem))\n",
    "\n",
    "    for col in df.columns:\n",
    "        col_type = df[col].dtype.name\n",
    "        \n",
    "        if col_type not in ['object', 'category', 'datetime64[ns, UTC]', 'datetime64[ns]']:\n",
    "            c_min = df[col].min()\n",
    "            c_max = df[col].max()\n",
    "            if str(col_type)[:3] == 'int':\n",
    "                if c_min > np.iinfo(np.int8).min and c_max < np.iinfo(np.int8).max:\n",
    "                    df[col] = df[col].astype(np.int16)\n",
    "                elif c_min > np.iinfo(np.int16).min and c_max < np.iinfo(np.int16).max:\n",
    "                    df[col] = df[col].astype(np.int16)\n",
    "                elif c_min > np.iinfo(np.int32).min and c_max < np.iinfo(np.int32).max:\n",
    "                    df[col] = df[col].astype(np.int32)\n",
    "                elif c_min > np.iinfo(np.int64).min and c_max < np.iinfo(np.int64).max:\n",
    "                    df[col] = df[col].astype(np.int64)  \n",
    "            else:\n",
    "                if c_min > np.finfo(np.float16).min and c_max < np.finfo(np.float16).max:\n",
    "                    df[col] = df[col].astype(np.float16)\n",
    "                elif c_min > np.finfo(np.float32).min and c_max < np.finfo(np.float32).max:\n",
    "                    df[col] = df[col].astype(np.float32)\n",
    "                else:\n",
    "                    df[col] = df[col].astype(np.float64)\n",
    "\n",
    "    end_mem = df.memory_usage().sum() / 1024**2\n",
    "    print('Memory usage after optimization is: {:.2f} MB'.format(end_mem))\n",
    "    print('Decreased by {:.1f}%'.format(100 * (start_mem - end_mem) / start_mem))\n",
    "\n",
    "    return df\n"
   ]
  },
  {
   "cell_type": "markdown",
   "id": "1c68cbf9",
   "metadata": {
    "papermill": {
     "duration": 0.019168,
     "end_time": "2022-01-07T08:23:29.093174",
     "exception": false,
     "start_time": "2022-01-07T08:23:29.074006",
     "status": "completed"
    },
    "tags": []
   },
   "source": [
    "## Additional features"
   ]
  },
  {
   "cell_type": "markdown",
   "id": "cca9df41",
   "metadata": {
    "papermill": {
     "duration": 0.018743,
     "end_time": "2022-01-07T08:23:29.131103",
     "exception": false,
     "start_time": "2022-01-07T08:23:29.112360",
     "status": "completed"
    },
    "tags": []
   },
   "source": [
    "MAX COMBO VERSION (no enough memory :))"
   ]
  },
  {
   "cell_type": "code",
   "execution_count": 7,
   "id": "ad074126",
   "metadata": {
    "execution": {
     "iopub.execute_input": "2022-01-07T08:23:29.434685Z",
     "iopub.status.busy": "2022-01-07T08:23:29.433192Z",
     "iopub.status.idle": "2022-01-07T08:24:11.160460Z",
     "shell.execute_reply": "2022-01-07T08:24:11.159508Z"
    },
    "papermill": {
     "duration": 42.010484,
     "end_time": "2022-01-07T08:24:11.160613",
     "exception": false,
     "start_time": "2022-01-07T08:23:29.150129",
     "status": "completed"
    },
    "tags": []
   },
   "outputs": [
    {
     "name": "stdout",
     "output_type": "stream",
     "text": [
      "(12221694, 10)\n"
     ]
    }
   ],
   "source": [
    "def upper_shadow(df): return df['High'] - np.maximum(df['Close'], df['Open'])\n",
    "def lower_shadow(df): return np.minimum(df['Close'], df['Open']) - df['Low']\n",
    "\n",
    "def get_features(df, row = False):\n",
    "    df_feat = df\n",
    "    df_feat['spread'] = df_feat['High'] - df_feat['Low']\n",
    "    df_feat['mean_trade'] = df_feat['Volume']/df_feat['Count']\n",
    "    df_feat['log_price_change'] = np.log(df_feat['Close']/df_feat['Open'])\n",
    "    df_feat['upper_Shadow'] = upper_shadow(df_feat)\n",
    "    # df_feat['lower_Shadow'] = lower_shadow(df_feat)\n",
    "    df_feat[\"high_div_low\"] = df_feat[\"High\"] / df_feat[\"Low\"]\n",
    "    df_feat['trade'] = df_feat['Close'] - df_feat['Open']\n",
    "    #df_feat['gtrade'] = df_feat['trade'] / df_feat['Count']\n",
    "    df_feat['shadow1'] = df_feat['trade'] / df_feat['Volume']\n",
    "    # df_feat['shadow3'] = df_feat['upper_Shadow'] / df_feat['Volume']\n",
    "    #df_feat['shadow5'] = df_feat['lower_Shadow'] / df_feat['Volume']\n",
    "    df_feat['diff1'] = df_feat['Volume'] - df_feat['Count']\n",
    "    # df_feat['mean1'] = (df_feat['shadow5'] + df_feat['shadow3']) / 2\n",
    "    df_feat['mean2'] = (df_feat['shadow1'] + df_feat['Volume']) / 2\n",
    "    #df_feat['mean3'] = (df_feat['trade'] + df_feat['gtrade']) / 2\n",
    "    #df_feat['mean4'] = (df_feat['diff1'] + df_feat['upper_Shadow']) / 2\n",
    "    # df_feat['mean5'] = (df_feat['diff1'] + df_feat['lower_Shadow']) / 2\n",
    "    df_feat['UPS'] = (df_feat['High'] - np.maximum(df_feat['Close'], df_feat['Open']))\n",
    "    #df_feat['UPS'] = df_feat['UPS']\n",
    "    df_feat['LOS'] = (np.minimum(df_feat['Close'], df_feat['Open']) - df_feat['Low'])\n",
    "    # df_feat['LOS'] = df_feat['LOS']\n",
    "    df_feat['RNG'] = ((df_feat['High'] - df_feat['Low']) / df_feat['VWAP'])\n",
    "    #df_feat['RNG'] = df_feat['RNG']\n",
    "    # df_feat['MOV'] = ((df_feat['Close'] - df_feat['Open']) / df_feat['VWAP'])\n",
    "    # df_feat['MOV'] = df_feat['MOV']\n",
    "    df_feat['CLS'] = ((df_feat['Close'] - df_feat['VWAP']) / df_feat['VWAP'])\n",
    "    #df_feat['CLS'] = df_feat['CLS']\n",
    "    df_feat['LOGVOL'] = np.log(1. + df_feat['Volume'])\n",
    "    #df_feat['LOGVOL'] = df_feat['LOGVOL']\n",
    "    df_feat['LOGCNT'] = np.log(1. + df_feat['Count'])\n",
    "    df_feat['LOGCNT'] = df_feat['LOGCNT']\n",
    "    df_feat[\"Close/Open\"] = df_feat[\"Close\"] / df_feat[\"Open\"]\n",
    "    df_feat[\"Close-Open\"] = df_feat[\"Close\"] - df_feat[\"Open\"]\n",
    "    df_feat[\"High-Low\"] = df_feat[\"High\"] - df_feat[\"Low\"]\n",
    "    df_feat[\"High/Low\"] = df_feat[\"High\"] / df_feat[\"Low\"]\n",
    "    if row: df_feat['Mean'] = df_feat[['Open', 'High', 'Low', 'Close']].mean()\n",
    "    else: df_feat['Mean'] = df_feat[['Open', 'High', 'Low', 'Close']].mean(axis = 1)\n",
    "    #df_feat[\"High/Mean\"] = df_feat[\"High\"] / df_feat[\"Mean\"]\n",
    "    df_feat[\"Low/Mean\"] = df_feat[\"Low\"] / df_feat[\"Mean\"]\n",
    "    df_feat[\"Volume/Count\"] = df_feat[\"Volume\"] / (df_feat[\"Count\"] + 1)\n",
    "    mean_price = df_feat[['Open', 'High', 'Low', 'Close']].mean(axis=1)\n",
    "    median_price = df_feat[['Open', 'High', 'Low', 'Close']].median(axis=1)\n",
    "    #df_feat['high2mean'] = df_feat['High'] / mean_price\n",
    "    df_feat['low2mean'] = df_feat['Low'] / mean_price\n",
    "    df_feat['high2median'] = df_feat['High'] / median_price\n",
    "    #df_feat['low2median'] = df_feat['Low'] / median_price\n",
    "    # df_feat['volume2count'] = df_feat['Volume'] / (df_feat['Count'] + 1)\n",
    "    return df_feat\n",
    "\n",
    "train[['Count', 'Open', 'High', 'Low', 'Close', 'Volume', 'VWAP', 'Target']] = train[['Count', 'Open', 'High', 'Low', 'Close', 'Volume', 'VWAP', 'Target']].astype(np.float32)\n",
    "print(train.shape)\n",
    "train['Target'] = train['Target'].fillna(0)\n",
    "VWAP_max = np.max(train[np.isfinite(train.VWAP)].VWAP)\n",
    "VWAP_min = np.min(train[np.isfinite(train.VWAP)].VWAP)\n",
    "train['VWAP'] = np.nan_to_num(train.VWAP, posinf=VWAP_max, neginf=VWAP_min)\n",
    "df = train[['Asset_ID', 'Target']].copy()\n",
    "times = dict((t,i) for i,t in enumerate(df.index.unique()))\n",
    "df['id'] = df.index.map(times)\n",
    "df['id'] = df['id'].astype(str) + '_' + df['Asset_ID'].astype(str)\n",
    "ids = df.id.copy()\n",
    "del df\n",
    "train = get_features(train)\n",
    "train_features = [i for i in train.columns if i not in ['Target', 'date', 'timestamp', 'Asset_ID', 'groups']]"
   ]
  },
  {
   "cell_type": "code",
   "execution_count": 8,
   "id": "9887ef56",
   "metadata": {
    "execution": {
     "iopub.execute_input": "2022-01-07T08:24:11.208751Z",
     "iopub.status.busy": "2022-01-07T08:24:11.207893Z",
     "iopub.status.idle": "2022-01-07T08:24:29.773002Z",
     "shell.execute_reply": "2022-01-07T08:24:29.773469Z",
     "shell.execute_reply.started": "2022-01-05T11:21:14.308584Z"
    },
    "papermill": {
     "duration": 18.593032,
     "end_time": "2022-01-07T08:24:29.773657",
     "exception": false,
     "start_time": "2022-01-07T08:24:11.180625",
     "status": "completed"
    },
    "tags": []
   },
   "outputs": [
    {
     "data": {
      "text/plain": [
       "(12962516, 34)"
      ]
     },
     "execution_count": 8,
     "metadata": {},
     "output_type": "execute_result"
    }
   ],
   "source": [
    "train = train.sort_index()\n",
    "ind = train.index.unique()\n",
    "def reindex(df):\n",
    "    df = df.reindex(range(ind[0],ind[-1]+60,60),method='nearest')\n",
    "    df = df.fillna(method=\"ffill\").fillna(method=\"bfill\")\n",
    "    return df\n",
    "train = train.groupby('Asset_ID').apply(reindex).reset_index(0, drop=True).sort_index()\n",
    "gc.collect()\n",
    "train.shape"
   ]
  },
  {
   "cell_type": "code",
   "execution_count": 9,
   "id": "45417986",
   "metadata": {
    "execution": {
     "iopub.execute_input": "2022-01-07T08:24:29.890809Z",
     "iopub.status.busy": "2022-01-07T08:24:29.889820Z",
     "iopub.status.idle": "2022-01-07T08:25:17.982454Z",
     "shell.execute_reply": "2022-01-07T08:25:17.981556Z",
     "shell.execute_reply.started": "2022-01-05T11:21:32.939253Z"
    },
    "papermill": {
     "duration": 48.189093,
     "end_time": "2022-01-07T08:25:17.982623",
     "exception": false,
     "start_time": "2022-01-07T08:24:29.793530",
     "status": "completed"
    },
    "tags": []
   },
   "outputs": [],
   "source": [
    "train['group_num'] = train.index.map(times)\n",
    "train = train.dropna(subset=['group_num'])\n",
    "train['group_num'] = train['group_num'].astype('int')\n",
    "train['id'] = train['group_num'].astype(str) + '_' + train['Asset_ID'].astype(str)\n",
    "train['is_real'] = train.id.isin(ids) * 1\n",
    "train = train.drop('id', axis=1)"
   ]
  },
  {
   "cell_type": "code",
   "execution_count": 10,
   "id": "069cf11a",
   "metadata": {
    "execution": {
     "iopub.execute_input": "2022-01-07T08:25:18.037296Z",
     "iopub.status.busy": "2022-01-07T08:25:18.036389Z",
     "iopub.status.idle": "2022-01-07T08:26:24.953891Z",
     "shell.execute_reply": "2022-01-07T08:26:24.954400Z",
     "shell.execute_reply.started": "2022-01-05T11:22:20.782297Z"
    },
    "papermill": {
     "duration": 66.951137,
     "end_time": "2022-01-07T08:26:24.954593",
     "exception": false,
     "start_time": "2022-01-07T08:25:18.003456",
     "status": "completed"
    },
    "tags": []
   },
   "outputs": [],
   "source": [
    "features = train.columns.drop(['Asset_ID','group_num','is_real'])\n",
    "train.loc[train.is_real == 0, features] = 0."
   ]
  },
  {
   "cell_type": "code",
   "execution_count": 11,
   "id": "fa67cf0a",
   "metadata": {
    "execution": {
     "iopub.execute_input": "2022-01-07T08:26:25.002814Z",
     "iopub.status.busy": "2022-01-07T08:26:25.001950Z",
     "iopub.status.idle": "2022-01-07T08:26:44.967370Z",
     "shell.execute_reply": "2022-01-07T08:26:44.966735Z",
     "shell.execute_reply.started": "2022-01-05T11:23:27.237072Z"
    },
    "papermill": {
     "duration": 19.991218,
     "end_time": "2022-01-07T08:26:44.967527",
     "exception": false,
     "start_time": "2022-01-07T08:26:24.976309",
     "status": "completed"
    },
    "tags": []
   },
   "outputs": [
    {
     "name": "stdout",
     "output_type": "stream",
     "text": [
      "Memory usage of dataframe is 2274.23 MB\n",
      "Memory usage after optimization is: 1409.03 MB\n",
      "Decreased by 38.0%\n"
     ]
    },
    {
     "data": {
      "text/plain": [
       "0"
      ]
     },
     "execution_count": 11,
     "metadata": {},
     "output_type": "execute_result"
    }
   ],
   "source": [
    "train['asset_order'] = train.Asset_ID.map(assets_order)\n",
    "train = train.sort_values(by=['group_num', 'asset_order'])\n",
    "train = reduce_mem_usage(train)\n",
    "train.head(20)\n",
    "gc.collect()"
   ]
  },
  {
   "cell_type": "markdown",
   "id": "d2d71e27",
   "metadata": {
    "papermill": {
     "duration": 0.020797,
     "end_time": "2022-01-07T08:26:45.009722",
     "exception": false,
     "start_time": "2022-01-07T08:26:44.988925",
     "status": "completed"
    },
    "tags": []
   },
   "source": [
    "## Data split"
   ]
  },
  {
   "cell_type": "code",
   "execution_count": 12,
   "id": "982bb29d",
   "metadata": {
    "execution": {
     "iopub.execute_input": "2022-01-07T08:26:45.058477Z",
     "iopub.status.busy": "2022-01-07T08:26:45.057165Z",
     "iopub.status.idle": "2022-01-07T08:26:49.958880Z",
     "shell.execute_reply": "2022-01-07T08:26:49.958374Z",
     "shell.execute_reply.started": "2022-01-05T11:23:46.978244Z"
    },
    "papermill": {
     "duration": 4.92871,
     "end_time": "2022-01-07T08:26:49.959013",
     "exception": false,
     "start_time": "2022-01-07T08:26:45.030303",
     "status": "completed"
    },
    "tags": []
   },
   "outputs": [],
   "source": [
    "targets = train['Target'].to_numpy().reshape(-1, N_ASSETS)\n",
    "features = train.columns.drop(['Asset_ID', 'Target', 'group_num', 'is_real', 'date'])\n",
    "train = train[features]\n",
    "train = train.values\n",
    "train = train.reshape(-1, N_ASSETS, train.shape[-1])"
   ]
  },
  {
   "cell_type": "code",
   "execution_count": 13,
   "id": "9b80560e",
   "metadata": {
    "execution": {
     "iopub.execute_input": "2022-01-07T08:26:50.012483Z",
     "iopub.status.busy": "2022-01-07T08:26:50.010804Z",
     "iopub.status.idle": "2022-01-07T08:26:50.013087Z",
     "shell.execute_reply": "2022-01-07T08:26:50.013526Z",
     "shell.execute_reply.started": "2022-01-05T11:23:52.064793Z"
    },
    "papermill": {
     "duration": 0.033866,
     "end_time": "2022-01-07T08:26:50.013658",
     "exception": false,
     "start_time": "2022-01-07T08:26:49.979792",
     "status": "completed"
    },
    "tags": []
   },
   "outputs": [],
   "source": [
    "class sample_generator(keras.utils.Sequence):\n",
    "    def __init__(self, x_set, y_set, batch_size, length):\n",
    "        self.x, self.y = x_set, y_set\n",
    "        self.batch_size = batch_size\n",
    "        self.length = length\n",
    "        self.size = len(x_set)\n",
    "    def __len__(self): return int(np.ceil(len(self.x) / float(self.batch_size)))\n",
    "    def __getitem__(self, idx):\n",
    "        batch_x=[]\n",
    "        batch_y=[]\n",
    "        for i in range(self.batch_size):\n",
    "            start_ind = self.batch_size*idx + i\n",
    "            end_ind = start_ind + self.length \n",
    "            if end_ind <= self.size:\n",
    "                batch_x.append(self.x[start_ind : end_ind])\n",
    "                batch_y.append(self.y[end_ind -1])\n",
    "        return np.array(batch_x), np.array(batch_y)"
   ]
  },
  {
   "cell_type": "code",
   "execution_count": 14,
   "id": "bcb6eb73",
   "metadata": {
    "execution": {
     "iopub.execute_input": "2022-01-07T08:26:50.061802Z",
     "iopub.status.busy": "2022-01-07T08:26:50.060152Z",
     "iopub.status.idle": "2022-01-07T08:26:50.062520Z",
     "shell.execute_reply": "2022-01-07T08:26:50.062949Z",
     "shell.execute_reply.started": "2022-01-05T11:23:52.075009Z"
    },
    "papermill": {
     "duration": 0.029049,
     "end_time": "2022-01-07T08:26:50.063083",
     "exception": false,
     "start_time": "2022-01-07T08:26:50.034034",
     "status": "completed"
    },
    "tags": []
   },
   "outputs": [],
   "source": [
    "X_train, X_test = train[:-len(train)//PCT_VALIDATION], train[-len(train)//PCT_VALIDATION:]\n",
    "y_train, y_test = targets[:-len(train)//PCT_VALIDATION], targets[-len(train)//PCT_VALIDATION:]"
   ]
  },
  {
   "cell_type": "code",
   "execution_count": 15,
   "id": "a2bae3e8",
   "metadata": {
    "execution": {
     "iopub.execute_input": "2022-01-07T08:26:50.112838Z",
     "iopub.status.busy": "2022-01-07T08:26:50.111244Z",
     "iopub.status.idle": "2022-01-07T08:26:50.113543Z",
     "shell.execute_reply": "2022-01-07T08:26:50.114002Z",
     "shell.execute_reply.started": "2022-01-05T11:23:52.088912Z"
    },
    "papermill": {
     "duration": 0.029016,
     "end_time": "2022-01-07T08:26:50.114142",
     "exception": false,
     "start_time": "2022-01-07T08:26:50.085126",
     "status": "completed"
    },
    "tags": []
   },
   "outputs": [],
   "source": [
    "train_generator = sample_generator(X_train, y_train, length = WINDOW_SIZE, batch_size = BATCH_SIZE)\n",
    "val_generator = sample_generator(X_test, y_test, length = WINDOW_SIZE, batch_size = BATCH_SIZE)"
   ]
  },
  {
   "cell_type": "markdown",
   "id": "dcd8894d",
   "metadata": {
    "papermill": {
     "duration": 0.020919,
     "end_time": "2022-01-07T08:26:50.157168",
     "exception": false,
     "start_time": "2022-01-07T08:26:50.136249",
     "status": "completed"
    },
    "tags": []
   },
   "source": [
    "## Getting model"
   ]
  },
  {
   "cell_type": "code",
   "execution_count": 16,
   "id": "b007c2f6",
   "metadata": {
    "execution": {
     "iopub.execute_input": "2022-01-07T08:26:50.216889Z",
     "iopub.status.busy": "2022-01-07T08:26:50.215974Z",
     "iopub.status.idle": "2022-01-07T08:27:03.012021Z",
     "shell.execute_reply": "2022-01-07T08:27:03.012679Z",
     "shell.execute_reply.started": "2022-01-05T11:23:52.123725Z"
    },
    "papermill": {
     "duration": 12.834885,
     "end_time": "2022-01-07T08:27:03.012907",
     "exception": false,
     "start_time": "2022-01-07T08:26:50.178022",
     "status": "completed"
    },
    "tags": []
   },
   "outputs": [
    {
     "name": "stderr",
     "output_type": "stream",
     "text": [
      "2022-01-07 08:26:50.289608: I tensorflow/core/platform/cpu_feature_guard.cc:142] This TensorFlow binary is optimized with oneAPI Deep Neural Network Library (oneDNN) to use the following CPU instructions in performance-critical operations:  AVX2 AVX512F FMA\n",
      "To enable them in other operations, rebuild TensorFlow with the appropriate compiler flags.\n",
      "2022-01-07 08:26:50.292534: I tensorflow/stream_executor/cuda/cuda_gpu_executor.cc:937] successful NUMA node read from SysFS had negative value (-1), but there must be at least one NUMA node, so returning NUMA node zero\n",
      "2022-01-07 08:26:50.293387: I tensorflow/stream_executor/cuda/cuda_gpu_executor.cc:937] successful NUMA node read from SysFS had negative value (-1), but there must be at least one NUMA node, so returning NUMA node zero\n",
      "2022-01-07 08:26:50.294085: I tensorflow/stream_executor/cuda/cuda_gpu_executor.cc:937] successful NUMA node read from SysFS had negative value (-1), but there must be at least one NUMA node, so returning NUMA node zero\n",
      "2022-01-07 08:26:51.997220: I tensorflow/stream_executor/cuda/cuda_gpu_executor.cc:937] successful NUMA node read from SysFS had negative value (-1), but there must be at least one NUMA node, so returning NUMA node zero\n",
      "2022-01-07 08:26:51.998038: I tensorflow/stream_executor/cuda/cuda_gpu_executor.cc:937] successful NUMA node read from SysFS had negative value (-1), but there must be at least one NUMA node, so returning NUMA node zero\n",
      "2022-01-07 08:26:51.998703: I tensorflow/stream_executor/cuda/cuda_gpu_executor.cc:937] successful NUMA node read from SysFS had negative value (-1), but there must be at least one NUMA node, so returning NUMA node zero\n",
      "2022-01-07 08:26:51.999344: I tensorflow/core/common_runtime/gpu/gpu_device.cc:1510] Created device /job:localhost/replica:0/task:0/device:GPU:0 with 15403 MB memory:  -> device: 0, name: Tesla P100-PCIE-16GB, pci bus id: 0000:00:04.0, compute capability: 6.0\n"
     ]
    },
    {
     "name": "stdout",
     "output_type": "stream",
     "text": [
      "Model: \"model\"\n",
      "__________________________________________________________________________________________________\n",
      "Layer (type)                    Output Shape         Param #     Connected to                     \n",
      "==================================================================================================\n",
      "input_1 (InputLayer)            [(None, 15, 14, 32)] 0                                            \n",
      "__________________________________________________________________________________________________\n",
      "lambda (Lambda)                 (None, 15, 32)       0           input_1[0][0]                    \n",
      "__________________________________________________________________________________________________\n",
      "lambda_1 (Lambda)               (None, 15, 32)       0           input_1[0][0]                    \n",
      "__________________________________________________________________________________________________\n",
      "lambda_2 (Lambda)               (None, 15, 32)       0           input_1[0][0]                    \n",
      "__________________________________________________________________________________________________\n",
      "lambda_3 (Lambda)               (None, 15, 32)       0           input_1[0][0]                    \n",
      "__________________________________________________________________________________________________\n",
      "lambda_4 (Lambda)               (None, 15, 32)       0           input_1[0][0]                    \n",
      "__________________________________________________________________________________________________\n",
      "lambda_5 (Lambda)               (None, 15, 32)       0           input_1[0][0]                    \n",
      "__________________________________________________________________________________________________\n",
      "lambda_6 (Lambda)               (None, 15, 32)       0           input_1[0][0]                    \n",
      "__________________________________________________________________________________________________\n",
      "lambda_7 (Lambda)               (None, 15, 32)       0           input_1[0][0]                    \n",
      "__________________________________________________________________________________________________\n",
      "lambda_8 (Lambda)               (None, 15, 32)       0           input_1[0][0]                    \n",
      "__________________________________________________________________________________________________\n",
      "lambda_9 (Lambda)               (None, 15, 32)       0           input_1[0][0]                    \n",
      "__________________________________________________________________________________________________\n",
      "lambda_10 (Lambda)              (None, 15, 32)       0           input_1[0][0]                    \n",
      "__________________________________________________________________________________________________\n",
      "lambda_11 (Lambda)              (None, 15, 32)       0           input_1[0][0]                    \n",
      "__________________________________________________________________________________________________\n",
      "lambda_12 (Lambda)              (None, 15, 32)       0           input_1[0][0]                    \n",
      "__________________________________________________________________________________________________\n",
      "lambda_13 (Lambda)              (None, 15, 32)       0           input_1[0][0]                    \n",
      "__________________________________________________________________________________________________\n",
      "masking (Masking)               (None, 15, 32)       0           lambda[0][0]                     \n",
      "__________________________________________________________________________________________________\n",
      "masking_1 (Masking)             (None, 15, 32)       0           lambda_1[0][0]                   \n",
      "__________________________________________________________________________________________________\n",
      "masking_2 (Masking)             (None, 15, 32)       0           lambda_2[0][0]                   \n",
      "__________________________________________________________________________________________________\n",
      "masking_3 (Masking)             (None, 15, 32)       0           lambda_3[0][0]                   \n",
      "__________________________________________________________________________________________________\n",
      "masking_4 (Masking)             (None, 15, 32)       0           lambda_4[0][0]                   \n",
      "__________________________________________________________________________________________________\n",
      "masking_5 (Masking)             (None, 15, 32)       0           lambda_5[0][0]                   \n",
      "__________________________________________________________________________________________________\n",
      "masking_6 (Masking)             (None, 15, 32)       0           lambda_6[0][0]                   \n",
      "__________________________________________________________________________________________________\n",
      "masking_7 (Masking)             (None, 15, 32)       0           lambda_7[0][0]                   \n",
      "__________________________________________________________________________________________________\n",
      "masking_8 (Masking)             (None, 15, 32)       0           lambda_8[0][0]                   \n",
      "__________________________________________________________________________________________________\n",
      "masking_9 (Masking)             (None, 15, 32)       0           lambda_9[0][0]                   \n",
      "__________________________________________________________________________________________________\n",
      "masking_10 (Masking)            (None, 15, 32)       0           lambda_10[0][0]                  \n",
      "__________________________________________________________________________________________________\n",
      "masking_11 (Masking)            (None, 15, 32)       0           lambda_11[0][0]                  \n",
      "__________________________________________________________________________________________________\n",
      "masking_12 (Masking)            (None, 15, 32)       0           lambda_12[0][0]                  \n",
      "__________________________________________________________________________________________________\n",
      "masking_13 (Masking)            (None, 15, 32)       0           lambda_13[0][0]                  \n",
      "__________________________________________________________________________________________________\n",
      "lstm (LSTM)                     (None, 15, 32)       8320        masking[0][0]                    \n",
      "__________________________________________________________________________________________________\n",
      "lstm_1 (LSTM)                   (None, 15, 32)       8320        masking_1[0][0]                  \n",
      "__________________________________________________________________________________________________\n",
      "lstm_2 (LSTM)                   (None, 15, 32)       8320        masking_2[0][0]                  \n",
      "__________________________________________________________________________________________________\n",
      "lstm_3 (LSTM)                   (None, 15, 32)       8320        masking_3[0][0]                  \n",
      "__________________________________________________________________________________________________\n",
      "lstm_4 (LSTM)                   (None, 15, 32)       8320        masking_4[0][0]                  \n",
      "__________________________________________________________________________________________________\n",
      "lstm_5 (LSTM)                   (None, 15, 32)       8320        masking_5[0][0]                  \n",
      "__________________________________________________________________________________________________\n",
      "lstm_6 (LSTM)                   (None, 15, 32)       8320        masking_6[0][0]                  \n",
      "__________________________________________________________________________________________________\n",
      "lstm_7 (LSTM)                   (None, 15, 32)       8320        masking_7[0][0]                  \n",
      "__________________________________________________________________________________________________\n",
      "lstm_8 (LSTM)                   (None, 15, 32)       8320        masking_8[0][0]                  \n",
      "__________________________________________________________________________________________________\n",
      "lstm_9 (LSTM)                   (None, 15, 32)       8320        masking_9[0][0]                  \n",
      "__________________________________________________________________________________________________\n",
      "lstm_10 (LSTM)                  (None, 15, 32)       8320        masking_10[0][0]                 \n",
      "__________________________________________________________________________________________________\n",
      "lstm_11 (LSTM)                  (None, 15, 32)       8320        masking_11[0][0]                 \n",
      "__________________________________________________________________________________________________\n",
      "lstm_12 (LSTM)                  (None, 15, 32)       8320        masking_12[0][0]                 \n",
      "__________________________________________________________________________________________________\n",
      "lstm_13 (LSTM)                  (None, 15, 32)       8320        masking_13[0][0]                 \n",
      "__________________________________________________________________________________________________\n",
      "global_average_pooling1d (Globa (None, 32)           0           lstm[0][0]                       \n",
      "__________________________________________________________________________________________________\n",
      "global_average_pooling1d_1 (Glo (None, 32)           0           lstm_1[0][0]                     \n",
      "__________________________________________________________________________________________________\n",
      "global_average_pooling1d_2 (Glo (None, 32)           0           lstm_2[0][0]                     \n",
      "__________________________________________________________________________________________________\n",
      "global_average_pooling1d_3 (Glo (None, 32)           0           lstm_3[0][0]                     \n",
      "__________________________________________________________________________________________________\n",
      "global_average_pooling1d_4 (Glo (None, 32)           0           lstm_4[0][0]                     \n",
      "__________________________________________________________________________________________________\n",
      "global_average_pooling1d_5 (Glo (None, 32)           0           lstm_5[0][0]                     \n",
      "__________________________________________________________________________________________________\n",
      "global_average_pooling1d_6 (Glo (None, 32)           0           lstm_6[0][0]                     \n",
      "__________________________________________________________________________________________________\n",
      "global_average_pooling1d_7 (Glo (None, 32)           0           lstm_7[0][0]                     \n",
      "__________________________________________________________________________________________________\n",
      "global_average_pooling1d_8 (Glo (None, 32)           0           lstm_8[0][0]                     \n",
      "__________________________________________________________________________________________________\n",
      "global_average_pooling1d_9 (Glo (None, 32)           0           lstm_9[0][0]                     \n",
      "__________________________________________________________________________________________________\n",
      "global_average_pooling1d_10 (Gl (None, 32)           0           lstm_10[0][0]                    \n",
      "__________________________________________________________________________________________________\n",
      "global_average_pooling1d_11 (Gl (None, 32)           0           lstm_11[0][0]                    \n",
      "__________________________________________________________________________________________________\n",
      "global_average_pooling1d_12 (Gl (None, 32)           0           lstm_12[0][0]                    \n",
      "__________________________________________________________________________________________________\n",
      "global_average_pooling1d_13 (Gl (None, 32)           0           lstm_13[0][0]                    \n",
      "__________________________________________________________________________________________________\n",
      "concatenate (Concatenate)       (None, 448)          0           global_average_pooling1d[0][0]   \n",
      "                                                                 global_average_pooling1d_1[0][0] \n",
      "                                                                 global_average_pooling1d_2[0][0] \n",
      "                                                                 global_average_pooling1d_3[0][0] \n",
      "                                                                 global_average_pooling1d_4[0][0] \n",
      "                                                                 global_average_pooling1d_5[0][0] \n",
      "                                                                 global_average_pooling1d_6[0][0] \n",
      "                                                                 global_average_pooling1d_7[0][0] \n",
      "                                                                 global_average_pooling1d_8[0][0] \n",
      "                                                                 global_average_pooling1d_9[0][0] \n",
      "                                                                 global_average_pooling1d_10[0][0]\n",
      "                                                                 global_average_pooling1d_11[0][0]\n",
      "                                                                 global_average_pooling1d_12[0][0]\n",
      "                                                                 global_average_pooling1d_13[0][0]\n",
      "__________________________________________________________________________________________________\n",
      "dense (Dense)                   (None, 128)          57472       concatenate[0][0]                \n",
      "__________________________________________________________________________________________________\n",
      "dense_1 (Dense)                 (None, 14)           1806        dense[0][0]                      \n",
      "==================================================================================================\n",
      "Total params: 175,758\n",
      "Trainable params: 175,758\n",
      "Non-trainable params: 0\n",
      "__________________________________________________________________________________________________\n"
     ]
    }
   ],
   "source": [
    "def MaxCorrelation(y_true,y_pred): return -tf.math.abs(tfp.stats.correlation(y_pred,y_true, sample_axis=None, event_axis=None))\n",
    "def Correlation(y_true,y_pred): return tf.math.abs(tfp.stats.correlation(y_pred,y_true, sample_axis=None, event_axis=None))\n",
    "\n",
    "def masked_mse(y_true, y_pred):\n",
    "    mask = tf.math.not_equal(y_true, 0.)\n",
    "    y_true_masked = tf.boolean_mask(y_true, mask)\n",
    "    y_pred_masked = tf.boolean_mask(y_pred, mask)\n",
    "    return tf.keras.losses.mean_squared_error(y_true = y_true_masked, y_pred = y_pred_masked)\n",
    "\n",
    "def masked_mae(y_true, y_pred):\n",
    "    mask = tf.math.not_equal(y_true, 0.)\n",
    "    y_true_masked = tf.boolean_mask(y_true, mask)\n",
    "    y_pred_masked = tf.boolean_mask(y_pred, mask)\n",
    "    return tf.keras.losses.mean_absolute_error(y_true = y_true_masked, y_pred = y_pred_masked)\n",
    "\n",
    "def masked_cosine(y_true, y_pred):\n",
    "    mask = tf.math.not_equal(y_true, 0.)\n",
    "    y_true_masked = tf.boolean_mask(y_true, mask)\n",
    "    y_pred_masked = tf.boolean_mask(y_pred, mask)\n",
    "    return tf.keras.losses.cosine_similarity(y_true_masked, y_pred_masked)\n",
    "\n",
    "def get_squence_model(x):\n",
    "    x = layers.LSTM(units=32, return_sequences=True)(x)\n",
    "    return x\n",
    "\n",
    "def get_model(n_assets = 14):\n",
    "    x_input = keras.Input(shape=(train_generator[0][0].shape[1], n_assets, train_generator[0][0].shape[-1]))\n",
    "    branch_outputs = []\n",
    "    for i in range(n_assets):\n",
    "        a = layers.Lambda(lambda x: x[:,:, i])(x_input) # Slicing the ith asset:\n",
    "        a = layers.Masking(mask_value = 0., )(a)\n",
    "        a = get_squence_model(a)\n",
    "        a = layers.GlobalAvgPool1D()(a)\n",
    "        branch_outputs.append(a)\n",
    "    x = layers.Concatenate()(branch_outputs)\n",
    "    x = layers.Dense(units = 128)(x)\n",
    "    out = layers.Dense(units = n_assets)(x)\n",
    "    model = keras.Model(inputs=x_input, outputs=out)\n",
    "    model.compile(optimizer = tf.keras.optimizers.Adam(learning_rate=1e-3), loss = masked_cosine, metrics=[Correlation])\n",
    "    return model\n",
    "    \n",
    "model = get_model()\n",
    "model.summary()"
   ]
  },
  {
   "cell_type": "code",
   "execution_count": 17,
   "id": "62c0b8ad",
   "metadata": {
    "execution": {
     "iopub.execute_input": "2022-01-07T08:27:03.073100Z",
     "iopub.status.busy": "2022-01-07T08:27:03.072220Z",
     "iopub.status.idle": "2022-01-07T08:44:36.960344Z",
     "shell.execute_reply": "2022-01-07T08:44:36.959665Z",
     "shell.execute_reply.started": "2022-01-05T11:24:07.543059Z"
    },
    "papermill": {
     "duration": 1053.924635,
     "end_time": "2022-01-07T08:44:36.960509",
     "exception": false,
     "start_time": "2022-01-07T08:27:03.035874",
     "status": "completed"
    },
    "tags": []
   },
   "outputs": [
    {
     "name": "stderr",
     "output_type": "stream",
     "text": [
      "2022-01-07 08:27:03.177118: I tensorflow/compiler/mlir/mlir_graph_optimization_pass.cc:185] None of the MLIR Optimization Passes are enabled (registered 2)\n"
     ]
    },
    {
     "name": "stdout",
     "output_type": "stream",
     "text": [
      "Epoch 1/10\n",
      "\n",
      "Epoch 00001: LearningRateScheduler setting learning rate to tf.Tensor(0.001, shape=(), dtype=float32).\n"
     ]
    },
    {
     "name": "stderr",
     "output_type": "stream",
     "text": [
      "2022-01-07 08:27:41.424069: I tensorflow/stream_executor/cuda/cuda_dnn.cc:369] Loaded cuDNN version 8005\n"
     ]
    },
    {
     "name": "stdout",
     "output_type": "stream",
     "text": [
      "814/814 [==============================] - 146s 124ms/step - loss: -0.0033 - Correlation: 0.0214 - val_loss: 0.0015 - val_Correlation: 0.0225\n",
      "Epoch 2/10\n",
      "\n",
      "Epoch 00002: LearningRateScheduler setting learning rate to tf.Tensor(0.0009831635, shape=(), dtype=float32).\n",
      "814/814 [==============================] - 88s 108ms/step - loss: -0.0063 - Correlation: 0.0226 - val_loss: -0.0028 - val_Correlation: 0.0230\n",
      "Epoch 3/10\n",
      "\n",
      "Epoch 00003: LearningRateScheduler setting learning rate to tf.Tensor(0.00096661027, shape=(), dtype=float32).\n",
      "814/814 [==============================] - 85s 105ms/step - loss: -0.0078 - Correlation: 0.0250 - val_loss: -0.0038 - val_Correlation: 0.0284\n",
      "Epoch 4/10\n",
      "\n",
      "Epoch 00004: LearningRateScheduler setting learning rate to tf.Tensor(0.00095033593, shape=(), dtype=float32).\n",
      "814/814 [==============================] - 90s 111ms/step - loss: -0.0082 - Correlation: 0.0246 - val_loss: -0.0028 - val_Correlation: 0.0247\n",
      "Epoch 5/10\n",
      "\n",
      "Epoch 00005: LearningRateScheduler setting learning rate to tf.Tensor(0.0009343355, shape=(), dtype=float32).\n",
      "814/814 [==============================] - 91s 112ms/step - loss: -0.0087 - Correlation: 0.0255 - val_loss: -0.0018 - val_Correlation: 0.0242\n",
      "Epoch 6/10\n",
      "\n",
      "Epoch 00006: LearningRateScheduler setting learning rate to tf.Tensor(0.00091860455, shape=(), dtype=float32).\n",
      "814/814 [==============================] - 87s 106ms/step - loss: -0.0090 - Correlation: 0.0248 - val_loss: -9.3497e-04 - val_Correlation: 0.0254\n",
      "Epoch 7/10\n",
      "\n",
      "Epoch 00007: LearningRateScheduler setting learning rate to tf.Tensor(0.0009031383, shape=(), dtype=float32).\n",
      "814/814 [==============================] - 89s 109ms/step - loss: -0.0094 - Correlation: 0.0255 - val_loss: -0.0030 - val_Correlation: 0.0266\n",
      "Epoch 8/10\n",
      "\n",
      "Epoch 00008: LearningRateScheduler setting learning rate to tf.Tensor(0.00088793255, shape=(), dtype=float32).\n",
      "814/814 [==============================] - 90s 111ms/step - loss: -0.0100 - Correlation: 0.0248 - val_loss: -0.0020 - val_Correlation: 0.0269\n",
      "Epoch 9/10\n",
      "\n",
      "Epoch 00009: LearningRateScheduler setting learning rate to tf.Tensor(0.00087298284, shape=(), dtype=float32).\n",
      "814/814 [==============================] - 93s 114ms/step - loss: -0.0097 - Correlation: 0.0243 - val_loss: -7.1626e-04 - val_Correlation: 0.0259\n",
      "Epoch 10/10\n",
      "\n",
      "Epoch 00010: LearningRateScheduler setting learning rate to tf.Tensor(0.00085828477, shape=(), dtype=float32).\n",
      "814/814 [==============================] - 89s 109ms/step - loss: -0.0098 - Correlation: 0.0255 - val_loss: -0.0015 - val_Correlation: 0.0265\n",
      "Asset:    Corr. coef.\n",
      "---------------------\n",
      "Cardano: 0.0276\n",
      "Bitcoin Cash: -0.0068\n",
      "Binance Coin: 0.0090\n",
      "Bitcoin: 0.0312\n",
      "Dogecoin: 0.0036\n",
      "EOS.IO: 0.0132\n",
      "Ethereum Classic: 0.0071\n",
      "Ethereum: -0.0122\n",
      "IOTA: -0.0086\n",
      "Litecoin: -0.0161\n",
      "Maker: 0.0116\n",
      "TRON: -0.0357\n",
      "Stellar: -0.0040\n",
      "Monero: -0.0100\n"
     ]
    },
    {
     "data": {
      "image/png": "[encoded data removed]",
      "text/plain": [
       "<Figure size 1152x576 with 2 Axes>"
      ]
     },
     "metadata": {
      "needs_background": "light"
     },
     "output_type": "display_data"
    }
   ],
   "source": [
    "tf.random.set_seed(0)\n",
    "estop = keras.callbacks.EarlyStopping(monitor = 'val_loss', patience = 7, verbose = 0, mode = 'min',restore_best_weights = True)\n",
    "scheduler = keras.optimizers.schedules.ExponentialDecay(1e-3, (0.5 * len(X_train) / BATCH_SIZE), 1e-3)\n",
    "lr = keras.callbacks.LearningRateScheduler(scheduler, verbose = 1)\n",
    "history = model.fit(train_generator, validation_data = (val_generator), epochs = EPOCHS, callbacks = [lr, estop])\n",
    "\n",
    "fig, ax = plt.subplots(1, 2, figsize=(16, 8))\n",
    "histories = pd.DataFrame(history.history)\n",
    "epochs = list(range(1,len(histories)+1))\n",
    "loss = histories['loss']\n",
    "val_loss = histories['val_loss']\n",
    "Correlation = histories['Correlation']\n",
    "val_Correlation = histories['val_Correlation']\n",
    "ax[0].plot(epochs, loss, label = 'Train Loss')\n",
    "ax[0].plot(epochs, val_loss, label = 'Val Loss')\n",
    "ax[0].set_title('Losses')\n",
    "ax[0].set_xlabel('Epoch')\n",
    "ax[0].legend(loc='upper right')\n",
    "ax[1].plot(epochs, Correlation, label = 'Train Correlation')\n",
    "ax[1].plot(epochs, val_Correlation, label = 'Val Correlation')\n",
    "ax[1].set_title('Correlations')\n",
    "ax[1].set_xlabel('Epoch')\n",
    "ax[1].legend(loc='upper right')\n",
    "fig.show()\n",
    "gc.collect()\n",
    "\n",
    "# The correlation coefficients by asset for the validation data\n",
    "predictions = model.predict(val_generator)\n",
    "\n",
    "print('Asset:    Corr. coef.')\n",
    "print('---------------------')\n",
    "for i in range(N_ASSETS):\n",
    "    # drop first 14 values in the y_test, since they are absent in val_generator labels\n",
    "    y_true = np.squeeze(y_test[WINDOW_SIZE - 1:, i])\n",
    "    y_pred = np.squeeze(predictions[:, i])\n",
    "    real_target_ind = np.argwhere(y_true!=0)\n",
    "    asset_id = list(assets_order.keys())[i]\n",
    "    asset_name = assets[assets.Asset_ID == asset_id]['Asset_Name'].item()\n",
    "    print(f\"{asset_name}: {np.corrcoef(y_pred[real_target_ind].flatten(), y_true[real_target_ind].flatten())[0,1]:.4f}\")"
   ]
  },
  {
   "cell_type": "code",
   "execution_count": 18,
   "id": "a8724ab9",
   "metadata": {
    "execution": {
     "iopub.execute_input": "2022-01-07T08:44:41.648991Z",
     "iopub.status.busy": "2022-01-07T08:44:41.648336Z",
     "iopub.status.idle": "2022-01-07T08:44:41.995962Z",
     "shell.execute_reply": "2022-01-07T08:44:41.994946Z",
     "shell.execute_reply.started": "2022-01-05T11:36:47.539345Z"
    },
    "jupyter": {
     "outputs_hidden": false
    },
    "papermill": {
     "duration": 2.811591,
     "end_time": "2022-01-07T08:44:41.996123",
     "exception": false,
     "start_time": "2022-01-07T08:44:39.184532",
     "status": "completed"
    },
    "pycharm": {
     "name": "#%%\n"
    },
    "tags": []
   },
   "outputs": [],
   "source": [
    "sup = dt.fread('../input/cryptocurrency-extra-data-binance-coin/orig_supplemental_train.jay').to_pandas()[:WINDOW_SIZE * (N_ASSETS)]\n",
    "placeholder = get_features(sup)\n",
    "placeholder['asset_order'] = placeholder.Asset_ID.map(assets_order)\n",
    "test_sample = np.array(placeholder[features])\n",
    "test_sample = test_sample.reshape(-1, (N_ASSETS), test_sample.shape[-1])\n",
    "test_sample = np.expand_dims(test_sample, axis=0)"
   ]
  },
  {
   "cell_type": "code",
   "execution_count": 19,
   "id": "0ac3ebe3",
   "metadata": {
    "execution": {
     "iopub.execute_input": "2022-01-07T08:44:46.316303Z",
     "iopub.status.busy": "2022-01-07T08:44:46.315505Z",
     "iopub.status.idle": "2022-01-07T08:44:46.326551Z",
     "shell.execute_reply": "2022-01-07T08:44:46.328878Z",
     "shell.execute_reply.started": "2022-01-05T11:36:47.67978Z"
    },
    "papermill": {
     "duration": 2.177714,
     "end_time": "2022-01-07T08:44:46.329076",
     "exception": false,
     "start_time": "2022-01-07T08:44:44.151362",
     "status": "completed"
    },
    "tags": []
   },
   "outputs": [],
   "source": [
    "example = dt.fread('../input/cryptocurrency-extra-data-binance-coin/orig_example_test.jay').to_pandas()[:WINDOW_SIZE - 1]\n",
    "example['asset_order'] = example.Asset_ID.map(assets_order) \n",
    "example = example[['Asset_ID','asset_order']]"
   ]
  },
  {
   "cell_type": "markdown",
   "id": "3b72dd69",
   "metadata": {
    "papermill": {
     "duration": 2.151605,
     "end_time": "2022-01-07T08:44:50.690357",
     "exception": false,
     "start_time": "2022-01-07T08:44:48.538752",
     "status": "completed"
    },
    "tags": []
   },
   "source": [
    "## Kaggle submit"
   ]
  },
  {
   "cell_type": "code",
   "execution_count": 20,
   "id": "19c75647",
   "metadata": {
    "execution": {
     "iopub.execute_input": "2022-01-07T08:44:55.550218Z",
     "iopub.status.busy": "2022-01-07T08:44:55.549556Z",
     "iopub.status.idle": "2022-01-07T08:45:10.896385Z",
     "shell.execute_reply": "2022-01-07T08:45:10.895446Z",
     "shell.execute_reply.started": "2022-01-05T11:36:47.694559Z"
    },
    "papermill": {
     "duration": 17.661858,
     "end_time": "2022-01-07T08:45:10.896535",
     "exception": false,
     "start_time": "2022-01-07T08:44:53.234677",
     "status": "completed"
    },
    "scrolled": true,
    "tags": []
   },
   "outputs": [
    {
     "name": "stdout",
     "output_type": "stream",
     "text": [
      "This version of the API is not optimized and should not be used to estimate the runtime of your code on the hidden test set.\n"
     ]
    }
   ],
   "source": [
    "env = gresearch_crypto.make_env()\n",
    "iter_test = env.iter_test()\n",
    "\n",
    "for (test_df, sample_prediction_df) in iter_test:\n",
    "    test_df = get_features(test_df)\n",
    "    test_data = test_df.merge(example, how='outer', on='Asset_ID').sort_values('asset_order')\n",
    "    test = np.array(test_data[features].fillna(0))\n",
    "    test = test.reshape(-1, 1, N_ASSETS, test.shape[-1])\n",
    "    test_sample = np.hstack([test_sample, test])[:,-1 * WINDOW_SIZE:]\n",
    "    y_pred = model.predict(test_sample).squeeze().reshape(-1, 1).squeeze()\n",
    "    test_data['Target'] = y_pred\n",
    "    for _, row in test_df.iterrows():\n",
    "        try: sample_prediction_df.loc[sample_prediction_df['row_id'] == row['row_id'], 'Target'] = test_data.loc[test_data['row_id'] == row['row_id'], 'Target'].item()\n",
    "        except: sample_prediction_df.loc[sample_prediction_df['row_id'] == row['row_id'], 'Target'] = 0\n",
    "    env.predict(sample_prediction_df)"
   ]
  },
  {
   "cell_type": "markdown",
   "id": "f530486c",
   "metadata": {},
   "source": [
    "<br>"
   ]
  },
  {
   "cell_type": "markdown",
   "id": "cef27bea",
   "metadata": {},
   "source": [
    "## Public score"
   ]
  },
  {
   "cell_type": "markdown",
   "id": "b689e445",
   "metadata": {},
   "source": [
    "0.0037"
   ]
  }
 ],
 "metadata": {
  "kernelspec": {
   "display_name": "Python 3",
   "language": "python",
   "name": "python3"
  },
  "language_info": {
   "codemirror_mode": {
    "name": "ipython",
    "version": 3
   },
   "file_extension": ".py",
   "mimetype": "text/x-python",
   "name": "python",
   "nbconvert_exporter": "python",
   "pygments_lexer": "ipython3",
   "version": "3.8.8"
  },
  "papermill": {
   "default_parameters": {},
   "duration": 1354.35211,
   "end_time": "2022-01-07T08:45:15.930775",
   "environment_variables": {},
   "exception": null,
   "input_path": "__notebook__.ipynb",
   "output_path": "__notebook__.ipynb",
   "parameters": {},
   "start_time": "2022-01-07T08:22:41.578665",
   "version": "2.3.3"
  }
 },
 "nbformat": 4,
 "nbformat_minor": 5
}
