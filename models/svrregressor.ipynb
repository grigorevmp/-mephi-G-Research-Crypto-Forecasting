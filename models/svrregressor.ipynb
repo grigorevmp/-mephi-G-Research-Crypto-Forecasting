{
 "cells": [
  {
   "cell_type": "markdown",
   "id": "9c7c8584",
   "metadata": {},
   "source": [
    "## Data loading"
   ]
  },
  {
   "cell_type": "code",
   "execution_count": 1,
   "id": "e6ced7e8",
   "metadata": {
    "execution": {
     "iopub.execute_input": "2022-01-05T15:58:33.256119Z",
     "iopub.status.busy": "2022-01-05T15:58:33.254851Z",
     "iopub.status.idle": "2022-01-05T15:58:33.260285Z",
     "shell.execute_reply": "2022-01-05T15:58:33.259553Z",
     "shell.execute_reply.started": "2022-01-05T12:55:56.796346Z"
    },
    "papermill": {
     "duration": 0.025175,
     "end_time": "2022-01-05T15:58:33.260479",
     "exception": false,
     "start_time": "2022-01-05T15:58:33.235304",
     "status": "completed"
    },
    "tags": []
   },
   "outputs": [],
   "source": [
    "data_train = '/kaggle/input/g-research-crypto-forecasting/train.csv'\n",
    "data_asset_details = '/kaggle/input/g-research-crypto-forecasting/asset_details.csv'\n",
    "data_supplemental_train = '/kaggle/input/g-research-crypto-forecasting/supplemental_train.csv'"
   ]
  },
  {
   "cell_type": "code",
   "execution_count": 2,
   "id": "4cc86514",
   "metadata": {
    "execution": {
     "iopub.execute_input": "2022-01-05T15:58:33.288637Z",
     "iopub.status.busy": "2022-01-05T15:58:33.287851Z",
     "iopub.status.idle": "2022-01-05T15:58:35.532430Z",
     "shell.execute_reply": "2022-01-05T15:58:35.531599Z",
     "shell.execute_reply.started": "2022-01-05T12:55:57.973513Z"
    },
    "papermill": {
     "duration": 2.260711,
     "end_time": "2022-01-05T15:58:35.532621",
     "exception": false,
     "start_time": "2022-01-05T15:58:33.271910",
     "status": "completed"
    },
    "tags": []
   },
   "outputs": [
    {
     "data": {
      "text/html": [
       "<style type='text/css'>\n",
       ".datatable table.frame { margin-bottom: 0; }\n",
       ".datatable table.frame thead { border-bottom: none; }\n",
       ".datatable table.frame tr.coltypes td {  color: #FFFFFF;  line-height: 6px;  padding: 0 0.5em;}\n",
       ".datatable .bool    { background: #DDDD99; }\n",
       ".datatable .object  { background: #565656; }\n",
       ".datatable .int     { background: #5D9E5D; }\n",
       ".datatable .float   { background: #4040CC; }\n",
       ".datatable .str     { background: #CC4040; }\n",
       ".datatable .time    { background: #40CC40; }\n",
       ".datatable .row_index {  background: var(--jp-border-color3);  border-right: 1px solid var(--jp-border-color0);  color: var(--jp-ui-font-color3);  font-size: 9px;}\n",
       ".datatable .frame tbody td { text-align: left; }\n",
       ".datatable .frame tr.coltypes .row_index {  background: var(--jp-border-color0);}\n",
       ".datatable th:nth-child(2) { padding-left: 12px; }\n",
       ".datatable .hellipsis {  color: var(--jp-cell-editor-border-color);}\n",
       ".datatable .vellipsis {  background: var(--jp-layout-color0);  color: var(--jp-cell-editor-border-color);}\n",
       ".datatable .na {  color: var(--jp-cell-editor-border-color);  font-size: 80%;}\n",
       ".datatable .sp {  opacity: 0.25;}\n",
       ".datatable .footer { font-size: 9px; }\n",
       ".datatable .frame_dimensions {  background: var(--jp-border-color3);  border-top: 1px solid var(--jp-border-color0);  color: var(--jp-ui-font-color3);  display: inline-block;  opacity: 0.6;  padding: 1px 10px 1px 5px;}\n",
       "</style>\n"
      ],
      "text/plain": [
       "<IPython.core.display.HTML object>"
      ]
     },
     "metadata": {},
     "output_type": "display_data"
    }
   ],
   "source": [
    "import pandas as pd\n",
    "import numpy as np\n",
    "import time"
   ]
  },
  {
   "cell_type": "code",
   "execution_count": 3,
   "id": "710c0ce4",
   "metadata": {
    "execution": {
     "iopub.execute_input": "2022-01-05T15:58:35.563868Z",
     "iopub.status.busy": "2022-01-05T15:58:35.563012Z",
     "iopub.status.idle": "2022-01-05T15:59:41.617951Z",
     "shell.execute_reply": "2022-01-05T15:59:41.618502Z",
     "shell.execute_reply.started": "2022-01-05T12:56:01.753463Z"
    },
    "papermill": {
     "duration": 66.073498,
     "end_time": "2022-01-05T15:59:41.618695",
     "exception": false,
     "start_time": "2022-01-05T15:58:35.545197",
     "status": "completed"
    },
    "tags": []
   },
   "outputs": [
    {
     "data": {
      "text/html": [
       "<div>\n",
       "<style scoped>\n",
       "    .dataframe tbody tr th:only-of-type {\n",
       "        vertical-align: middle;\n",
       "    }\n",
       "\n",
       "    .dataframe tbody tr th {\n",
       "        vertical-align: top;\n",
       "    }\n",
       "\n",
       "    .dataframe thead th {\n",
       "        text-align: right;\n",
       "    }\n",
       "</style>\n",
       "<table border=\"1\" class=\"dataframe\">\n",
       "  <thead>\n",
       "    <tr style=\"text-align: right;\">\n",
       "      <th></th>\n",
       "      <th>timestamp</th>\n",
       "      <th>Asset_ID</th>\n",
       "      <th>Count</th>\n",
       "      <th>Open</th>\n",
       "      <th>High</th>\n",
       "      <th>Low</th>\n",
       "      <th>Close</th>\n",
       "      <th>Volume</th>\n",
       "      <th>VWAP</th>\n",
       "      <th>Target</th>\n",
       "    </tr>\n",
       "  </thead>\n",
       "  <tbody>\n",
       "    <tr>\n",
       "      <th>0</th>\n",
       "      <td>1514764860</td>\n",
       "      <td>2</td>\n",
       "      <td>40</td>\n",
       "      <td>2376.5800</td>\n",
       "      <td>2399.5000</td>\n",
       "      <td>2357.1400</td>\n",
       "      <td>2374.5900</td>\n",
       "      <td>19.233005</td>\n",
       "      <td>2373.116392</td>\n",
       "      <td>-0.004218</td>\n",
       "    </tr>\n",
       "    <tr>\n",
       "      <th>1</th>\n",
       "      <td>1514764860</td>\n",
       "      <td>0</td>\n",
       "      <td>5</td>\n",
       "      <td>8.5300</td>\n",
       "      <td>8.5300</td>\n",
       "      <td>8.5300</td>\n",
       "      <td>8.5300</td>\n",
       "      <td>78.380000</td>\n",
       "      <td>8.530000</td>\n",
       "      <td>-0.014399</td>\n",
       "    </tr>\n",
       "    <tr>\n",
       "      <th>2</th>\n",
       "      <td>1514764860</td>\n",
       "      <td>1</td>\n",
       "      <td>229</td>\n",
       "      <td>13835.1940</td>\n",
       "      <td>14013.8000</td>\n",
       "      <td>13666.1100</td>\n",
       "      <td>13850.1760</td>\n",
       "      <td>31.550062</td>\n",
       "      <td>13827.062093</td>\n",
       "      <td>-0.014643</td>\n",
       "    </tr>\n",
       "    <tr>\n",
       "      <th>3</th>\n",
       "      <td>1514764860</td>\n",
       "      <td>5</td>\n",
       "      <td>32</td>\n",
       "      <td>7.6596</td>\n",
       "      <td>7.6596</td>\n",
       "      <td>7.6567</td>\n",
       "      <td>7.6576</td>\n",
       "      <td>6626.713370</td>\n",
       "      <td>7.657713</td>\n",
       "      <td>-0.013922</td>\n",
       "    </tr>\n",
       "    <tr>\n",
       "      <th>4</th>\n",
       "      <td>1514764860</td>\n",
       "      <td>7</td>\n",
       "      <td>5</td>\n",
       "      <td>25.9200</td>\n",
       "      <td>25.9200</td>\n",
       "      <td>25.8740</td>\n",
       "      <td>25.8770</td>\n",
       "      <td>121.087310</td>\n",
       "      <td>25.891363</td>\n",
       "      <td>-0.008264</td>\n",
       "    </tr>\n",
       "  </tbody>\n",
       "</table>\n",
       "</div>"
      ],
      "text/plain": [
       "    timestamp  Asset_ID  Count        Open        High         Low  \\\n",
       "0  1514764860         2     40   2376.5800   2399.5000   2357.1400   \n",
       "1  1514764860         0      5      8.5300      8.5300      8.5300   \n",
       "2  1514764860         1    229  13835.1940  14013.8000  13666.1100   \n",
       "3  1514764860         5     32      7.6596      7.6596      7.6567   \n",
       "4  1514764860         7      5     25.9200     25.9200     25.8740   \n",
       "\n",
       "        Close       Volume          VWAP    Target  \n",
       "0   2374.5900    19.233005   2373.116392 -0.004218  \n",
       "1      8.5300    78.380000      8.530000 -0.014399  \n",
       "2  13850.1760    31.550062  13827.062093 -0.014643  \n",
       "3      7.6576  6626.713370      7.657713 -0.013922  \n",
       "4     25.8770   121.087310     25.891363 -0.008264  "
      ]
     },
     "execution_count": 3,
     "metadata": {},
     "output_type": "execute_result"
    }
   ],
   "source": [
    "df_train = pd.read_csv(data_train, \n",
    "                       dtype={'Asset_ID': 'int8', 'Count': 'int32', 'row_id': 'int32', 'Count': 'int32', \n",
    "                              'Open': 'float64', 'High': 'float64', 'Low': 'float64', 'Close': 'float64', \n",
    "                              'Volume': 'float64', 'VWAP': 'float64'\n",
    "                             }\n",
    "                      )\n",
    "df_train.head()"
   ]
  },
  {
   "cell_type": "code",
   "execution_count": 4,
   "id": "5118c8d1",
   "metadata": {
    "execution": {
     "iopub.execute_input": "2022-01-05T15:59:41.725623Z",
     "iopub.status.busy": "2022-01-05T15:59:41.720658Z",
     "iopub.status.idle": "2022-01-05T15:59:41.782525Z",
     "shell.execute_reply": "2022-01-05T15:59:41.779783Z",
     "shell.execute_reply.started": "2022-01-05T12:57:14.346476Z"
    },
    "papermill": {
     "duration": 0.121213,
     "end_time": "2022-01-05T15:59:41.782989",
     "exception": false,
     "start_time": "2022-01-05T15:59:41.661776",
     "status": "completed"
    },
    "tags": []
   },
   "outputs": [],
   "source": [
    "import gresearch_crypto"
   ]
  },
  {
   "cell_type": "code",
   "execution_count": 5,
   "id": "87976844",
   "metadata": {
    "execution": {
     "iopub.execute_input": "2022-01-05T15:59:41.896520Z",
     "iopub.status.busy": "2022-01-05T15:59:41.892848Z",
     "iopub.status.idle": "2022-01-05T15:59:41.972374Z",
     "shell.execute_reply": "2022-01-05T15:59:41.969466Z",
     "shell.execute_reply.started": "2022-01-05T12:57:20.414171Z"
    },
    "papermill": {
     "duration": 0.142044,
     "end_time": "2022-01-05T15:59:41.973219",
     "exception": false,
     "start_time": "2022-01-05T15:59:41.831175",
     "status": "completed"
    },
    "tags": []
   },
   "outputs": [
    {
     "data": {
      "text/html": [
       "<div>\n",
       "<style scoped>\n",
       "    .dataframe tbody tr th:only-of-type {\n",
       "        vertical-align: middle;\n",
       "    }\n",
       "\n",
       "    .dataframe tbody tr th {\n",
       "        vertical-align: top;\n",
       "    }\n",
       "\n",
       "    .dataframe thead th {\n",
       "        text-align: right;\n",
       "    }\n",
       "</style>\n",
       "<table border=\"1\" class=\"dataframe\">\n",
       "  <thead>\n",
       "    <tr style=\"text-align: right;\">\n",
       "      <th></th>\n",
       "      <th>Asset_ID</th>\n",
       "      <th>Weight</th>\n",
       "      <th>Asset_Name</th>\n",
       "    </tr>\n",
       "  </thead>\n",
       "  <tbody>\n",
       "    <tr>\n",
       "      <th>1</th>\n",
       "      <td>0</td>\n",
       "      <td>4.304065</td>\n",
       "      <td>Binance Coin</td>\n",
       "    </tr>\n",
       "    <tr>\n",
       "      <th>2</th>\n",
       "      <td>1</td>\n",
       "      <td>6.779922</td>\n",
       "      <td>Bitcoin</td>\n",
       "    </tr>\n",
       "    <tr>\n",
       "      <th>0</th>\n",
       "      <td>2</td>\n",
       "      <td>2.397895</td>\n",
       "      <td>Bitcoin Cash</td>\n",
       "    </tr>\n",
       "    <tr>\n",
       "      <th>10</th>\n",
       "      <td>3</td>\n",
       "      <td>4.406719</td>\n",
       "      <td>Cardano</td>\n",
       "    </tr>\n",
       "    <tr>\n",
       "      <th>13</th>\n",
       "      <td>4</td>\n",
       "      <td>3.555348</td>\n",
       "      <td>Dogecoin</td>\n",
       "    </tr>\n",
       "  </tbody>\n",
       "</table>\n",
       "</div>"
      ],
      "text/plain": [
       "    Asset_ID    Weight    Asset_Name\n",
       "1          0  4.304065  Binance Coin\n",
       "2          1  6.779922       Bitcoin\n",
       "0          2  2.397895  Bitcoin Cash\n",
       "10         3  4.406719       Cardano\n",
       "13         4  3.555348      Dogecoin"
      ]
     },
     "execution_count": 5,
     "metadata": {},
     "output_type": "execute_result"
    }
   ],
   "source": [
    "df_assets = pd.read_csv(data_asset_details).sort_values(by='Asset_ID')\n",
    "df_assets.head()"
   ]
  },
  {
   "cell_type": "markdown",
   "id": "043a862f",
   "metadata": {},
   "source": [
    "## Data preprocessing"
   ]
  },
  {
   "cell_type": "code",
   "execution_count": 6,
   "id": "6d233f2e",
   "metadata": {
    "execution": {
     "iopub.execute_input": "2022-01-05T15:59:42.117683Z",
     "iopub.status.busy": "2022-01-05T15:59:42.110498Z",
     "iopub.status.idle": "2022-01-05T15:59:48.741074Z",
     "shell.execute_reply": "2022-01-05T15:59:48.743575Z",
     "shell.execute_reply.started": "2022-01-05T12:57:21.815419Z"
    },
    "papermill": {
     "duration": 6.711503,
     "end_time": "2022-01-05T15:59:48.744214",
     "exception": false,
     "start_time": "2022-01-05T15:59:42.032711",
     "status": "completed"
    },
    "tags": []
   },
   "outputs": [
    {
     "name": "stdout",
     "output_type": "stream",
     "text": [
      "Percentage of values not nan 99.3094374141301\n",
      "Percentage of values not nan 99.9844603180932\n",
      "Percentage of values not nan 99.75116928934543\n",
      "Percentage of values not nan 98.95466572016784\n",
      "Percentage of values not nan 87.46838441098623\n",
      "Percentage of values not nan 99.88225907096167\n",
      "Percentage of values not nan 99.9826193640732\n",
      "Percentage of values not nan 99.52201983776557\n",
      "Percentage of values not nan 87.87076707006158\n",
      "Percentage of values not nan 99.97336441670117\n",
      "Percentage of values not nan 94.03054748939965\n",
      "Percentage of values not nan 85.91615278314144\n",
      "Percentage of values not nan 96.52474857329506\n",
      "Percentage of values not nan 98.87899026971662\n"
     ]
    }
   ],
   "source": [
    "for i in range(14):\n",
    " \n",
    "    dfcrop=df_train[df_train['Asset_ID']==i]\n",
    "    print('Percentage of values not nan',(1-(np.sum((dfcrop['Target'].isnull()).astype(int))/dfcrop.shape[0]))*100)\n",
    "  "
   ]
  },
  {
   "cell_type": "code",
   "execution_count": 7,
   "id": "69e71cda",
   "metadata": {
    "execution": {
     "iopub.execute_input": "2022-01-05T15:59:48.853675Z",
     "iopub.status.busy": "2022-01-05T15:59:48.852491Z",
     "iopub.status.idle": "2022-01-05T15:59:48.871661Z",
     "shell.execute_reply": "2022-01-05T15:59:48.873424Z",
     "shell.execute_reply.started": "2022-01-05T12:57:28.555299Z"
    },
    "papermill": {
     "duration": 0.078799,
     "end_time": "2022-01-05T15:59:48.874256",
     "exception": false,
     "start_time": "2022-01-05T15:59:48.795457",
     "status": "completed"
    },
    "tags": []
   },
   "outputs": [],
   "source": [
    "def upper_shadow(df):\n",
    "    return df['High'] - np.maximum(df['Close'], df['Open'])\n",
    "\n",
    "def lower_shadow(df):\n",
    "    return np.minimum(df['Close'], df['Open']) - df['Low']\n",
    "\n",
    "def get_features(df):\n",
    "    df_feat = df[['Count', 'Open', 'High', 'Low', 'Close', 'Volume', 'VWAP']].copy()\n",
    "    df_feat['Upper_Shadow'] = upper_shadow(df_feat)\n",
    "    df_feat['Lower_Shadow'] = lower_shadow(df_feat)\n",
    "    \n",
    "    df_feat[\"Close/Open\"] = df_feat[\"Close\"] / df_feat[\"Open\"] \n",
    "    df_feat[\"Close-Open\"] = df_feat[\"Close\"] - df_feat[\"Open\"] \n",
    "    df_feat[\"High-Low\"] = df_feat[\"High\"] - df_feat[\"Low\"] \n",
    "    df_feat[\"High/Low\"] = df_feat[\"High\"] / df_feat[\"Low\"]\n",
    "    \n",
    "    df_feat['Mean'] = df_feat[['Open', 'High', 'Low', 'Close']].mean(axis=1)\n",
    "\n",
    "    df_feat[\"Median\"] = df_feat[[\"Open\", \"High\", \"Low\", \"Close\"]].median(axis=1)\n",
    "   \n",
    "\n",
    "    return df_feat"
   ]
  },
  {
   "cell_type": "code",
   "execution_count": 8,
   "id": "48b9fd95",
   "metadata": {
    "execution": {
     "iopub.execute_input": "2022-01-05T15:59:48.975426Z",
     "iopub.status.busy": "2022-01-05T15:59:48.971823Z",
     "iopub.status.idle": "2022-01-05T15:59:49.168840Z",
     "shell.execute_reply": "2022-01-05T15:59:49.167541Z",
     "shell.execute_reply.started": "2022-01-05T12:57:35.332299Z"
    },
    "papermill": {
     "duration": 0.251759,
     "end_time": "2022-01-05T15:59:49.169612",
     "exception": false,
     "start_time": "2022-01-05T15:59:48.917853",
     "status": "completed"
    },
    "tags": []
   },
   "outputs": [],
   "source": [
    "from sklearn.preprocessing import StandardScaler\n",
    "from sklearn.svm import SVR"
   ]
  },
  {
   "cell_type": "code",
   "execution_count": 9,
   "id": "169b5754",
   "metadata": {
    "execution": {
     "iopub.execute_input": "2022-01-05T15:59:49.282089Z",
     "iopub.status.busy": "2022-01-05T15:59:49.279936Z",
     "iopub.status.idle": "2022-01-05T15:59:49.308754Z",
     "shell.execute_reply": "2022-01-05T15:59:49.309907Z",
     "shell.execute_reply.started": "2022-01-05T12:57:36.395672Z"
    },
    "papermill": {
     "duration": 0.092732,
     "end_time": "2022-01-05T15:59:49.310121",
     "exception": false,
     "start_time": "2022-01-05T15:59:49.217389",
     "status": "completed"
    },
    "tags": []
   },
   "outputs": [],
   "source": [
    "def get_Xy_and_model_for_asset(df_train, asset_id):\n",
    "    df = df_train[df_train[\"Asset_ID\"] == asset_id]\n",
    "    \n",
    "    df_proc = get_features(df)\n",
    "    df_proc['y'] = df['Target']\n",
    "    df_proc = df_proc.reset_index(drop=True)\n",
    "    df_proc = df_proc.drop(labels=np.where(np.isinf(df_proc))[0], axis=0)\n",
    "    df_proc = df_proc.dropna(how=\"any\")\n",
    "    df_proc = df_proc.reset_index(drop=True)\n",
    "    \n",
    "    \n",
    "    X = df_proc.drop(\"y\", axis=1)\n",
    "    y = df_proc[\"y\"]\n",
    "    \n",
    "    scaler = StandardScaler()\n",
    "    X = scaler.fit_transform(X)\n",
    "    \n",
    "    model = SVR(\n",
    "        kernel='poly',\n",
    "        degree=4,\n",
    "        C=0.01,\n",
    "        epsilon=1.0\n",
    "    )\n",
    "    model.fit(X, y)\n",
    "\n",
    "    del X\n",
    "    del y\n",
    "    #return X, y, model\n",
    "    return model"
   ]
  },
  {
   "cell_type": "markdown",
   "id": "05ea4ab7",
   "metadata": {},
   "source": [
    "## Training"
   ]
  },
  {
   "cell_type": "code",
   "execution_count": 10,
   "id": "0d01d8ed",
   "metadata": {
    "execution": {
     "iopub.execute_input": "2022-01-05T15:59:49.408780Z",
     "iopub.status.busy": "2022-01-05T15:59:49.403494Z",
     "iopub.status.idle": "2022-01-05T16:00:30.825334Z",
     "shell.execute_reply": "2022-01-05T16:00:30.825862Z"
    },
    "papermill": {
     "duration": 41.473932,
     "end_time": "2022-01-05T16:00:30.826115",
     "exception": false,
     "start_time": "2022-01-05T15:59:49.352183",
     "status": "completed"
    },
    "tags": []
   },
   "outputs": [
    {
     "name": "stdout",
     "output_type": "stream",
     "text": [
      "Training model for Binance Coin     (ID=0 )\n",
      "Training model for Bitcoin          (ID=1 )\n",
      "Training model for Bitcoin Cash     (ID=2 )\n",
      "Training model for Cardano          (ID=3 )\n",
      "Training model for Dogecoin         (ID=4 )\n",
      "Training model for EOS.IO           (ID=5 )\n",
      "Training model for Ethereum         (ID=6 )\n",
      "Training model for Ethereum Classic (ID=7 )\n",
      "Training model for IOTA             (ID=8 )\n",
      "Training model for Litecoin         (ID=9 )\n",
      "Training model for Maker            (ID=10)\n",
      "Training model for Monero           (ID=11)\n",
      "Training model for Stellar          (ID=12)\n",
      "Training model for TRON             (ID=13)\n",
      "CPU times: user 34.2 s, sys: 7.13 s, total: 41.3 s\n",
      "Wall time: 41.4 s\n"
     ]
    }
   ],
   "source": [
    "%%time\n",
    "Xs = {}\n",
    "ys = {}\n",
    "models = {}\n",
    "\n",
    "for asset_id, asset_name in zip(df_assets['Asset_ID'], df_assets['Asset_Name']):\n",
    "    print(f\"Training model for {asset_name:<16} (ID={asset_id:<2})\")\n",
    "    try:\n",
    "        model = get_Xy_and_model_for_asset(df_train, asset_id)\n",
    "        models[asset_id] = model\n",
    "    except:         \n",
    "        models[asset_id] = None"
   ]
  },
  {
   "cell_type": "code",
   "execution_count": 11,
   "id": "b49de447",
   "metadata": {
    "execution": {
     "iopub.execute_input": "2022-01-05T16:00:30.873155Z",
     "iopub.status.busy": "2022-01-05T16:00:30.871430Z",
     "iopub.status.idle": "2022-01-05T16:00:30.876807Z",
     "shell.execute_reply": "2022-01-05T16:00:30.877429Z",
     "shell.execute_reply.started": "2022-01-04T07:39:53.407201Z"
    },
    "papermill": {
     "duration": 0.029799,
     "end_time": "2022-01-05T16:00:30.877651",
     "exception": false,
     "start_time": "2022-01-05T16:00:30.847852",
     "status": "completed"
    },
    "tags": []
   },
   "outputs": [],
   "source": [
    "import traceback"
   ]
  },
  {
   "cell_type": "code",
   "execution_count": 12,
   "id": "4a30db16",
   "metadata": {
    "execution": {
     "iopub.execute_input": "2022-01-05T16:00:30.926698Z",
     "iopub.status.busy": "2022-01-05T16:00:30.925381Z",
     "iopub.status.idle": "2022-01-05T16:00:30.937370Z",
     "shell.execute_reply": "2022-01-05T16:00:30.937948Z",
     "shell.execute_reply.started": "2022-01-04T07:39:53.416493Z"
    },
    "papermill": {
     "duration": 0.03858,
     "end_time": "2022-01-05T16:00:30.938204",
     "exception": false,
     "start_time": "2022-01-05T16:00:30.899624",
     "status": "completed"
    },
    "tags": []
   },
   "outputs": [
    {
     "data": {
      "text/plain": [
       "{0: SVR(C=0.01, degree=4, epsilon=1.0, kernel='poly'),\n",
       " 1: SVR(C=0.01, degree=4, epsilon=1.0, kernel='poly'),\n",
       " 2: SVR(C=0.01, degree=4, epsilon=1.0, kernel='poly'),\n",
       " 3: SVR(C=0.01, degree=4, epsilon=1.0, kernel='poly'),\n",
       " 4: SVR(C=0.01, degree=4, epsilon=1.0, kernel='poly'),\n",
       " 5: SVR(C=0.01, degree=4, epsilon=1.0, kernel='poly'),\n",
       " 6: SVR(C=0.01, degree=4, epsilon=1.0, kernel='poly'),\n",
       " 7: SVR(C=0.01, degree=4, epsilon=1.0, kernel='poly'),\n",
       " 8: SVR(C=0.01, degree=4, epsilon=1.0, kernel='poly'),\n",
       " 9: SVR(C=0.01, degree=4, epsilon=1.0, kernel='poly'),\n",
       " 10: SVR(C=0.01, degree=4, epsilon=1.0, kernel='poly'),\n",
       " 11: SVR(C=0.01, degree=4, epsilon=1.0, kernel='poly'),\n",
       " 12: SVR(C=0.01, degree=4, epsilon=1.0, kernel='poly'),\n",
       " 13: SVR(C=0.01, degree=4, epsilon=1.0, kernel='poly')}"
      ]
     },
     "execution_count": 12,
     "metadata": {},
     "output_type": "execute_result"
    }
   ],
   "source": [
    "models"
   ]
  },
  {
   "cell_type": "markdown",
   "id": "d440a3f1",
   "metadata": {},
   "source": [
    "## Kaggle submission"
   ]
  },
  {
   "cell_type": "code",
   "execution_count": 13,
   "id": "2479badb",
   "metadata": {
    "execution": {
     "iopub.execute_input": "2022-01-05T16:00:30.989825Z",
     "iopub.status.busy": "2022-01-05T16:00:30.988928Z",
     "iopub.status.idle": "2022-01-05T16:00:31.806634Z",
     "shell.execute_reply": "2022-01-05T16:00:31.805976Z",
     "shell.execute_reply.started": "2022-01-04T07:39:53.4318Z"
    },
    "papermill": {
     "duration": 0.846732,
     "end_time": "2022-01-05T16:00:31.806801",
     "exception": false,
     "start_time": "2022-01-05T16:00:30.960069",
     "status": "completed"
    },
    "tags": []
   },
   "outputs": [
    {
     "name": "stdout",
     "output_type": "stream",
     "text": [
      "This version of the API is not optimized and should not be used to estimate the runtime of your code on the hidden test set.\n",
      "CPU times: user 792 ms, sys: 2.96 ms, total: 795 ms\n",
      "Wall time: 813 ms\n"
     ]
    }
   ],
   "source": [
    "%%time\n",
    "env = gresearch_crypto.make_env()\n",
    "iter_test = env.iter_test()\n",
    "scaler = StandardScaler()\n",
    "for i, (df_test, df_pred) in enumerate(iter_test):\n",
    "    for j , row in df_test.iterrows():\n",
    "        if models[row['Asset_ID']] is not None:\n",
    "            try:\n",
    "                model = models[row['Asset_ID']]\n",
    "                x_test = get_features(pd.DataFrame([row]))\n",
    "                x_test = scaler.fit_transform(x_test)\n",
    "                y_pred = model.predict(x_test)[0]\n",
    "                df_pred.loc[df_pred['row_id'] == row['row_id'], 'Target'] = y_pred\n",
    "            except:\n",
    "                df_pred.loc[df_pred['row_id'] == row['row_id'], 'Target'] = 0\n",
    "                traceback.print_exc()\n",
    "        else: \n",
    "            df_pred.loc[df_pred['row_id'] == row['row_id'], 'Target'] = 0\n",
    "    env.predict(df_pred)"
   ]
  },
  {
   "cell_type": "markdown",
   "id": "34a9088c",
   "metadata": {},
   "source": [
    "<br>"
   ]
  },
  {
   "cell_type": "markdown",
   "id": "1f79bbd0",
   "metadata": {
    "papermill": {
     "duration": 0.02336,
     "end_time": "2022-01-05T13:04:48.629931",
     "exception": false,
     "start_time": "2022-01-05T13:04:48.606571",
     "status": "completed"
    },
    "tags": []
   },
   "source": [
    "## Public score"
   ]
  },
  {
   "cell_type": "markdown",
   "id": "bfb3d4c7",
   "metadata": {},
   "source": [
    "-0.0015"
   ]
  }
 ],
 "metadata": {
  "kernelspec": {
   "display_name": "Python 3",
   "language": "python",
   "name": "python3"
  },
  "language_info": {
   "codemirror_mode": {
    "name": "ipython",
    "version": 3
   },
   "file_extension": ".py",
   "mimetype": "text/x-python",
   "name": "python",
   "nbconvert_exporter": "python",
   "pygments_lexer": "ipython3",
   "version": "3.8.8"
  },
  "papermill": {
   "default_parameters": {},
   "duration": 132.324167,
   "end_time": "2022-01-05T16:00:33.086537",
   "environment_variables": {},
   "exception": null,
   "input_path": "__notebook__.ipynb",
   "output_path": "__notebook__.ipynb",
   "parameters": {},
   "start_time": "2022-01-05T15:58:20.762370",
   "version": "2.3.3"
  }
 },
 "nbformat": 4,
 "nbformat_minor": 5
}
