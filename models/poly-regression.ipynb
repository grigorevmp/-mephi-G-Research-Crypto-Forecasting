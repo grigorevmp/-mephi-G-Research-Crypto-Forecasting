{
 "cells": [
  {
   "cell_type": "markdown",
   "id": "4de961b5",
   "metadata": {
    "papermill": {
     "duration": 0.017747,
     "end_time": "2022-01-07T10:19:00.993176",
     "exception": false,
     "start_time": "2022-01-07T10:19:00.975429",
     "status": "completed"
    },
    "tags": []
   },
   "source": [
    "# Data loading"
   ]
  },
  {
   "cell_type": "code",
   "execution_count": 1,
   "id": "3eced535",
   "metadata": {
    "execution": {
     "iopub.execute_input": "2022-01-07T10:19:01.044170Z",
     "iopub.status.busy": "2022-01-07T10:19:01.042714Z",
     "iopub.status.idle": "2022-01-07T10:19:01.047202Z",
     "shell.execute_reply": "2022-01-07T10:19:01.047700Z",
     "shell.execute_reply.started": "2022-01-04T14:37:40.462212Z"
    },
    "papermill": {
     "duration": 0.035169,
     "end_time": "2022-01-07T10:19:01.048079",
     "exception": false,
     "start_time": "2022-01-07T10:19:01.012910",
     "status": "completed"
    },
    "tags": []
   },
   "outputs": [],
   "source": [
    "data_train = '/kaggle/input/g-research-crypto-forecasting/train.csv'\n",
    "data_asset_details = '/kaggle/input/g-research-crypto-forecasting/asset_details.csv'\n",
    "data_supplemental_train = '/kaggle/input/g-research-crypto-forecasting/supplemental_train.csv'"
   ]
  },
  {
   "cell_type": "code",
   "execution_count": 2,
   "id": "fa0899f9",
   "metadata": {
    "execution": {
     "iopub.execute_input": "2022-01-07T10:19:01.090077Z",
     "iopub.status.busy": "2022-01-07T10:19:01.089248Z",
     "iopub.status.idle": "2022-01-07T10:19:03.203162Z",
     "shell.execute_reply": "2022-01-07T10:19:03.202574Z",
     "shell.execute_reply.started": "2022-01-04T14:37:41.845022Z"
    },
    "papermill": {
     "duration": 2.136999,
     "end_time": "2022-01-07T10:19:03.203334",
     "exception": false,
     "start_time": "2022-01-07T10:19:01.066335",
     "status": "completed"
    },
    "tags": []
   },
   "outputs": [
    {
     "data": {
      "text/html": [
       "<style type='text/css'>\n",
       ".datatable table.frame { margin-bottom: 0; }\n",
       ".datatable table.frame thead { border-bottom: none; }\n",
       ".datatable table.frame tr.coltypes td {  color: #FFFFFF;  line-height: 6px;  padding: 0 0.5em;}\n",
       ".datatable .bool    { background: #DDDD99; }\n",
       ".datatable .object  { background: #565656; }\n",
       ".datatable .int     { background: #5D9E5D; }\n",
       ".datatable .float   { background: #4040CC; }\n",
       ".datatable .str     { background: #CC4040; }\n",
       ".datatable .time    { background: #40CC40; }\n",
       ".datatable .row_index {  background: var(--jp-border-color3);  border-right: 1px solid var(--jp-border-color0);  color: var(--jp-ui-font-color3);  font-size: 9px;}\n",
       ".datatable .frame tbody td { text-align: left; }\n",
       ".datatable .frame tr.coltypes .row_index {  background: var(--jp-border-color0);}\n",
       ".datatable th:nth-child(2) { padding-left: 12px; }\n",
       ".datatable .hellipsis {  color: var(--jp-cell-editor-border-color);}\n",
       ".datatable .vellipsis {  background: var(--jp-layout-color0);  color: var(--jp-cell-editor-border-color);}\n",
       ".datatable .na {  color: var(--jp-cell-editor-border-color);  font-size: 80%;}\n",
       ".datatable .sp {  opacity: 0.25;}\n",
       ".datatable .footer { font-size: 9px; }\n",
       ".datatable .frame_dimensions {  background: var(--jp-border-color3);  border-top: 1px solid var(--jp-border-color0);  color: var(--jp-ui-font-color3);  display: inline-block;  opacity: 0.6;  padding: 1px 10px 1px 5px;}\n",
       "</style>\n"
      ],
      "text/plain": [
       "<IPython.core.display.HTML object>"
      ]
     },
     "metadata": {},
     "output_type": "display_data"
    }
   ],
   "source": [
    "import random\n",
    "import pandas as pd\n",
    "import numpy as np\n",
    "import lightgbm as lgb\n",
    "import time\n",
    "import datetime\n",
    "import plotly.graph_objects as go"
   ]
  },
  {
   "cell_type": "code",
   "execution_count": 3,
   "id": "fb3e5402",
   "metadata": {
    "execution": {
     "iopub.execute_input": "2022-01-07T10:19:03.240527Z",
     "iopub.status.busy": "2022-01-07T10:19:03.239559Z",
     "iopub.status.idle": "2022-01-07T10:20:09.039821Z",
     "shell.execute_reply": "2022-01-07T10:20:09.040415Z",
     "shell.execute_reply.started": "2022-01-04T14:38:05.195288Z"
    },
    "papermill": {
     "duration": 65.820486,
     "end_time": "2022-01-07T10:20:09.040767",
     "exception": false,
     "start_time": "2022-01-07T10:19:03.220281",
     "status": "completed"
    },
    "tags": []
   },
   "outputs": [
    {
     "data": {
      "text/html": [
       "<div>\n",
       "<style scoped>\n",
       "    .dataframe tbody tr th:only-of-type {\n",
       "        vertical-align: middle;\n",
       "    }\n",
       "\n",
       "    .dataframe tbody tr th {\n",
       "        vertical-align: top;\n",
       "    }\n",
       "\n",
       "    .dataframe thead th {\n",
       "        text-align: right;\n",
       "    }\n",
       "</style>\n",
       "<table border=\"1\" class=\"dataframe\">\n",
       "  <thead>\n",
       "    <tr style=\"text-align: right;\">\n",
       "      <th></th>\n",
       "      <th>timestamp</th>\n",
       "      <th>Asset_ID</th>\n",
       "      <th>Count</th>\n",
       "      <th>Open</th>\n",
       "      <th>High</th>\n",
       "      <th>Low</th>\n",
       "      <th>Close</th>\n",
       "      <th>Volume</th>\n",
       "      <th>VWAP</th>\n",
       "      <th>Target</th>\n",
       "    </tr>\n",
       "  </thead>\n",
       "  <tbody>\n",
       "    <tr>\n",
       "      <th>0</th>\n",
       "      <td>1514764860</td>\n",
       "      <td>2</td>\n",
       "      <td>40</td>\n",
       "      <td>2376.5800</td>\n",
       "      <td>2399.5000</td>\n",
       "      <td>2357.1400</td>\n",
       "      <td>2374.5900</td>\n",
       "      <td>19.233005</td>\n",
       "      <td>2373.116392</td>\n",
       "      <td>-0.004218</td>\n",
       "    </tr>\n",
       "    <tr>\n",
       "      <th>1</th>\n",
       "      <td>1514764860</td>\n",
       "      <td>0</td>\n",
       "      <td>5</td>\n",
       "      <td>8.5300</td>\n",
       "      <td>8.5300</td>\n",
       "      <td>8.5300</td>\n",
       "      <td>8.5300</td>\n",
       "      <td>78.380000</td>\n",
       "      <td>8.530000</td>\n",
       "      <td>-0.014399</td>\n",
       "    </tr>\n",
       "    <tr>\n",
       "      <th>2</th>\n",
       "      <td>1514764860</td>\n",
       "      <td>1</td>\n",
       "      <td>229</td>\n",
       "      <td>13835.1940</td>\n",
       "      <td>14013.8000</td>\n",
       "      <td>13666.1100</td>\n",
       "      <td>13850.1760</td>\n",
       "      <td>31.550062</td>\n",
       "      <td>13827.062093</td>\n",
       "      <td>-0.014643</td>\n",
       "    </tr>\n",
       "    <tr>\n",
       "      <th>3</th>\n",
       "      <td>1514764860</td>\n",
       "      <td>5</td>\n",
       "      <td>32</td>\n",
       "      <td>7.6596</td>\n",
       "      <td>7.6596</td>\n",
       "      <td>7.6567</td>\n",
       "      <td>7.6576</td>\n",
       "      <td>6626.713370</td>\n",
       "      <td>7.657713</td>\n",
       "      <td>-0.013922</td>\n",
       "    </tr>\n",
       "    <tr>\n",
       "      <th>4</th>\n",
       "      <td>1514764860</td>\n",
       "      <td>7</td>\n",
       "      <td>5</td>\n",
       "      <td>25.9200</td>\n",
       "      <td>25.9200</td>\n",
       "      <td>25.8740</td>\n",
       "      <td>25.8770</td>\n",
       "      <td>121.087310</td>\n",
       "      <td>25.891363</td>\n",
       "      <td>-0.008264</td>\n",
       "    </tr>\n",
       "  </tbody>\n",
       "</table>\n",
       "</div>"
      ],
      "text/plain": [
       "    timestamp  Asset_ID  Count        Open        High         Low  \\\n",
       "0  1514764860         2     40   2376.5800   2399.5000   2357.1400   \n",
       "1  1514764860         0      5      8.5300      8.5300      8.5300   \n",
       "2  1514764860         1    229  13835.1940  14013.8000  13666.1100   \n",
       "3  1514764860         5     32      7.6596      7.6596      7.6567   \n",
       "4  1514764860         7      5     25.9200     25.9200     25.8740   \n",
       "\n",
       "        Close       Volume          VWAP    Target  \n",
       "0   2374.5900    19.233005   2373.116392 -0.004218  \n",
       "1      8.5300    78.380000      8.530000 -0.014399  \n",
       "2  13850.1760    31.550062  13827.062093 -0.014643  \n",
       "3      7.6576  6626.713370      7.657713 -0.013922  \n",
       "4     25.8770   121.087310     25.891363 -0.008264  "
      ]
     },
     "execution_count": 3,
     "metadata": {},
     "output_type": "execute_result"
    }
   ],
   "source": [
    "df_train = pd.read_csv(data_train, \n",
    "                       dtype={'Asset_ID': 'int8', 'Count': 'int32', 'row_id': 'int32', 'Count': 'int32', \n",
    "                              'Open': 'float64', 'High': 'float64', 'Low': 'float64', 'Close': 'float64', \n",
    "                              'Volume': 'float64', 'VWAP': 'float64'\n",
    "                             }\n",
    "                      )\n",
    "df_train.head()"
   ]
  },
  {
   "cell_type": "code",
   "execution_count": 4,
   "id": "eff9e815",
   "metadata": {
    "execution": {
     "iopub.execute_input": "2022-01-07T10:20:09.082620Z",
     "iopub.status.busy": "2022-01-07T10:20:09.081852Z",
     "iopub.status.idle": "2022-01-07T10:20:09.107392Z",
     "shell.execute_reply": "2022-01-07T10:20:09.106704Z",
     "shell.execute_reply.started": "2022-01-04T14:39:04.135313Z"
    },
    "papermill": {
     "duration": 0.048995,
     "end_time": "2022-01-07T10:20:09.107561",
     "exception": false,
     "start_time": "2022-01-07T10:20:09.058566",
     "status": "completed"
    },
    "tags": []
   },
   "outputs": [],
   "source": [
    "import gresearch_crypto"
   ]
  },
  {
   "cell_type": "code",
   "execution_count": 5,
   "id": "0d8bfb38",
   "metadata": {
    "execution": {
     "iopub.execute_input": "2022-01-07T10:20:09.148572Z",
     "iopub.status.busy": "2022-01-07T10:20:09.147887Z",
     "iopub.status.idle": "2022-01-07T10:20:09.171218Z",
     "shell.execute_reply": "2022-01-07T10:20:09.171700Z",
     "shell.execute_reply.started": "2022-01-04T14:39:04.160725Z"
    },
    "papermill": {
     "duration": 0.047045,
     "end_time": "2022-01-07T10:20:09.171940",
     "exception": false,
     "start_time": "2022-01-07T10:20:09.124895",
     "status": "completed"
    },
    "tags": []
   },
   "outputs": [
    {
     "data": {
      "text/html": [
       "<div>\n",
       "<style scoped>\n",
       "    .dataframe tbody tr th:only-of-type {\n",
       "        vertical-align: middle;\n",
       "    }\n",
       "\n",
       "    .dataframe tbody tr th {\n",
       "        vertical-align: top;\n",
       "    }\n",
       "\n",
       "    .dataframe thead th {\n",
       "        text-align: right;\n",
       "    }\n",
       "</style>\n",
       "<table border=\"1\" class=\"dataframe\">\n",
       "  <thead>\n",
       "    <tr style=\"text-align: right;\">\n",
       "      <th></th>\n",
       "      <th>Asset_ID</th>\n",
       "      <th>Weight</th>\n",
       "      <th>Asset_Name</th>\n",
       "    </tr>\n",
       "  </thead>\n",
       "  <tbody>\n",
       "    <tr>\n",
       "      <th>1</th>\n",
       "      <td>0</td>\n",
       "      <td>4.304065</td>\n",
       "      <td>Binance Coin</td>\n",
       "    </tr>\n",
       "    <tr>\n",
       "      <th>2</th>\n",
       "      <td>1</td>\n",
       "      <td>6.779922</td>\n",
       "      <td>Bitcoin</td>\n",
       "    </tr>\n",
       "    <tr>\n",
       "      <th>0</th>\n",
       "      <td>2</td>\n",
       "      <td>2.397895</td>\n",
       "      <td>Bitcoin Cash</td>\n",
       "    </tr>\n",
       "    <tr>\n",
       "      <th>10</th>\n",
       "      <td>3</td>\n",
       "      <td>4.406719</td>\n",
       "      <td>Cardano</td>\n",
       "    </tr>\n",
       "    <tr>\n",
       "      <th>13</th>\n",
       "      <td>4</td>\n",
       "      <td>3.555348</td>\n",
       "      <td>Dogecoin</td>\n",
       "    </tr>\n",
       "  </tbody>\n",
       "</table>\n",
       "</div>"
      ],
      "text/plain": [
       "    Asset_ID    Weight    Asset_Name\n",
       "1          0  4.304065  Binance Coin\n",
       "2          1  6.779922       Bitcoin\n",
       "0          2  2.397895  Bitcoin Cash\n",
       "10         3  4.406719       Cardano\n",
       "13         4  3.555348      Dogecoin"
      ]
     },
     "execution_count": 5,
     "metadata": {},
     "output_type": "execute_result"
    }
   ],
   "source": [
    "df_assets = pd.read_csv(data_asset_details).sort_values(by='Asset_ID')\n",
    "df_assets.head()"
   ]
  },
  {
   "cell_type": "markdown",
   "id": "efb2dd75",
   "metadata": {
    "papermill": {
     "duration": 0.017125,
     "end_time": "2022-01-07T10:20:09.206909",
     "exception": false,
     "start_time": "2022-01-07T10:20:09.189784",
     "status": "completed"
    },
    "tags": []
   },
   "source": [
    "# Data preprocessing"
   ]
  },
  {
   "cell_type": "code",
   "execution_count": 6,
   "id": "52395a48",
   "metadata": {
    "execution": {
     "iopub.execute_input": "2022-01-07T10:20:09.245922Z",
     "iopub.status.busy": "2022-01-07T10:20:09.244906Z",
     "iopub.status.idle": "2022-01-07T10:20:09.345334Z",
     "shell.execute_reply": "2022-01-07T10:20:09.344635Z",
     "shell.execute_reply.started": "2022-01-04T14:39:07.157043Z"
    },
    "papermill": {
     "duration": 0.121264,
     "end_time": "2022-01-07T10:20:09.345510",
     "exception": false,
     "start_time": "2022-01-07T10:20:09.224246",
     "status": "completed"
    },
    "tags": []
   },
   "outputs": [],
   "source": [
    "from sklearn.model_selection import GridSearchCV\n",
    "from sklearn.linear_model import LinearRegression\n",
    "from sklearn.preprocessing import PolynomialFeatures\n",
    "from sklearn.pipeline import make_pipeline"
   ]
  },
  {
   "cell_type": "code",
   "execution_count": 7,
   "id": "0b914ffd",
   "metadata": {
    "execution": {
     "iopub.execute_input": "2022-01-07T10:20:09.391697Z",
     "iopub.status.busy": "2022-01-07T10:20:09.390975Z",
     "iopub.status.idle": "2022-01-07T10:20:09.394605Z",
     "shell.execute_reply": "2022-01-07T10:20:09.395142Z",
     "shell.execute_reply.started": "2022-01-04T14:39:07.247458Z"
    },
    "papermill": {
     "duration": 0.031874,
     "end_time": "2022-01-07T10:20:09.395354",
     "exception": false,
     "start_time": "2022-01-07T10:20:09.363480",
     "status": "completed"
    },
    "tags": []
   },
   "outputs": [],
   "source": [
    "def upper_shadow(df):\n",
    "    return df['High'] - np.maximum(df['Close'], df['Open'])\n",
    "\n",
    "def lower_shadow(df):\n",
    "    return np.minimum(df['Close'], df['Open']) - df['Low']\n",
    "\n",
    "def get_features(df):\n",
    "    df_feat = df[['Count', 'Open', 'High', 'Low', 'Close', 'Volume', 'VWAP']].copy()\n",
    "    df_feat['Upper_Shadow'] = upper_shadow(df_feat)\n",
    "    df_feat['Lower_Shadow'] = lower_shadow(df_feat)\n",
    "    \n",
    "    df_feat[\"Close/Open\"] = df_feat[\"Close\"] / df_feat[\"Open\"] \n",
    "    df_feat[\"Close-Open\"] = df_feat[\"Close\"] - df_feat[\"Open\"] \n",
    "    df_feat[\"High-Low\"] = df_feat[\"High\"] - df_feat[\"Low\"] \n",
    "    df_feat[\"High/Low\"] = df_feat[\"High\"] / df_feat[\"Low\"]\n",
    "    \n",
    "    df_feat['Mean'] = df_feat[['Open', 'High', 'Low', 'Close']].mean(axis=1)\n",
    "\n",
    "    df_feat[\"Median\"] = df_feat[[\"Open\", \"High\", \"Low\", \"Close\"]].median(axis=1)\n",
    "\n",
    "    return df_feat"
   ]
  },
  {
   "cell_type": "code",
   "execution_count": 8,
   "id": "1275592a",
   "metadata": {
    "execution": {
     "iopub.execute_input": "2022-01-07T10:20:09.435606Z",
     "iopub.status.busy": "2022-01-07T10:20:09.434975Z",
     "iopub.status.idle": "2022-01-07T10:20:09.436498Z",
     "shell.execute_reply": "2022-01-07T10:20:09.437109Z",
     "shell.execute_reply.started": "2022-01-04T14:39:07.259622Z"
    },
    "papermill": {
     "duration": 0.024545,
     "end_time": "2022-01-07T10:20:09.437278",
     "exception": false,
     "start_time": "2022-01-07T10:20:09.412733",
     "status": "completed"
    },
    "tags": []
   },
   "outputs": [],
   "source": [
    "from sklearn.preprocessing import StandardScaler"
   ]
  },
  {
   "cell_type": "code",
   "execution_count": 9,
   "id": "0919440d",
   "metadata": {
    "execution": {
     "iopub.execute_input": "2022-01-07T10:20:09.475091Z",
     "iopub.status.busy": "2022-01-07T10:20:09.474450Z",
     "iopub.status.idle": "2022-01-07T10:20:09.480914Z",
     "shell.execute_reply": "2022-01-07T10:20:09.481372Z",
     "shell.execute_reply.started": "2022-01-04T14:39:07.278434Z"
    },
    "papermill": {
     "duration": 0.027132,
     "end_time": "2022-01-07T10:20:09.481556",
     "exception": false,
     "start_time": "2022-01-07T10:20:09.454424",
     "status": "completed"
    },
    "tags": []
   },
   "outputs": [],
   "source": [
    "def get_Xy_and_model_for_asset(df_train, asset_id):\n",
    "    df = df_train[df_train[\"Asset_ID\"] == asset_id]\n",
    "    \n",
    "    df_proc = get_features(df)\n",
    "    df_proc['y'] = df['Target']\n",
    "    df_proc = df_proc.dropna(how=\"any\")\n",
    "    \n",
    "    \n",
    "    X = df_proc.drop(\"y\", axis=1)\n",
    "    y = df_proc[\"y\"]\n",
    "    \n",
    "    scaler = StandardScaler()\n",
    "    X = scaler.fit_transform(X)\n",
    "    \n",
    "    polreg=make_pipeline(PolynomialFeatures(2), LinearRegression())\n",
    "    polreg.fit(X, y)\n",
    "\n",
    "    return X, y, model"
   ]
  },
  {
   "cell_type": "markdown",
   "id": "d34ecf9f",
   "metadata": {
    "papermill": {
     "duration": 0.016807,
     "end_time": "2022-01-07T10:20:09.515389",
     "exception": false,
     "start_time": "2022-01-07T10:20:09.498582",
     "status": "completed"
    },
    "tags": []
   },
   "source": [
    "# Training"
   ]
  },
  {
   "cell_type": "code",
   "execution_count": 10,
   "id": "41e1a834",
   "metadata": {
    "execution": {
     "iopub.execute_input": "2022-01-07T10:20:09.552946Z",
     "iopub.status.busy": "2022-01-07T10:20:09.552312Z",
     "iopub.status.idle": "2022-01-07T10:26:48.522906Z",
     "shell.execute_reply": "2022-01-07T10:26:48.523937Z",
     "shell.execute_reply.started": "2022-01-04T14:39:07.296726Z"
    },
    "papermill": {
     "duration": 398.991989,
     "end_time": "2022-01-07T10:26:48.524378",
     "exception": false,
     "start_time": "2022-01-07T10:20:09.532389",
     "status": "completed"
    },
    "tags": []
   },
   "outputs": [
    {
     "name": "stdout",
     "output_type": "stream",
     "text": [
      "Training model for Binance Coin     (ID=0 )\n",
      "Training model for Bitcoin          (ID=1 )\n",
      "Training model for Bitcoin Cash     (ID=2 )\n",
      "Training model for Cardano          (ID=3 )\n",
      "Training model for Dogecoin         (ID=4 )\n",
      "Training model for EOS.IO           (ID=5 )\n",
      "Training model for Ethereum         (ID=6 )\n",
      "Training model for Ethereum Classic (ID=7 )\n",
      "Training model for IOTA             (ID=8 )\n",
      "Training model for Litecoin         (ID=9 )\n",
      "Training model for Maker            (ID=10)\n"
     ]
    },
    {
     "name": "stderr",
     "output_type": "stream",
     "text": [
      "/opt/conda/lib/python3.7/site-packages/numpy/core/fromnumeric.py:87: RuntimeWarning: invalid value encountered in reduce\n",
      "  return ufunc.reduce(obj, axis, dtype, out, **passkwargs)\n"
     ]
    },
    {
     "name": "stdout",
     "output_type": "stream",
     "text": [
      "Training model for Monero           (ID=11)\n",
      "Training model for Stellar          (ID=12)\n",
      "Training model for TRON             (ID=13)\n"
     ]
    }
   ],
   "source": [
    "Xs = {}\n",
    "ys = {}\n",
    "models = {}\n",
    "\n",
    "for asset_id, asset_name in zip(df_assets['Asset_ID'], df_assets['Asset_Name']):\n",
    "    print(f\"Training model for {asset_name:<16} (ID={asset_id:<2})\")\n",
    "    try:\n",
    "        X, y, model = get_Xy_and_model_for_asset(df_train, asset_id)    \n",
    "        Xs[asset_id], ys[asset_id], models[asset_id] = X, y, model\n",
    "    except:         \n",
    "        Xs[asset_id], ys[asset_id], models[asset_id] = None, None, None    "
   ]
  },
  {
   "cell_type": "code",
   "execution_count": 11,
   "id": "7b404a3b",
   "metadata": {
    "execution": {
     "iopub.execute_input": "2022-01-07T10:26:48.611547Z",
     "iopub.status.busy": "2022-01-07T10:26:48.610850Z",
     "iopub.status.idle": "2022-01-07T10:26:48.614169Z",
     "shell.execute_reply": "2022-01-07T10:26:48.613477Z"
    },
    "papermill": {
     "duration": 0.048629,
     "end_time": "2022-01-07T10:26:48.614326",
     "exception": false,
     "start_time": "2022-01-07T10:26:48.565697",
     "status": "completed"
    },
    "tags": []
   },
   "outputs": [],
   "source": [
    "import traceback"
   ]
  },
  {
   "cell_type": "code",
   "execution_count": 12,
   "id": "08655b3e",
   "metadata": {
    "execution": {
     "iopub.execute_input": "2022-01-07T10:26:48.665873Z",
     "iopub.status.busy": "2022-01-07T10:26:48.665033Z",
     "iopub.status.idle": "2022-01-07T10:26:48.669917Z",
     "shell.execute_reply": "2022-01-07T10:26:48.669205Z"
    },
    "papermill": {
     "duration": 0.033202,
     "end_time": "2022-01-07T10:26:48.670082",
     "exception": false,
     "start_time": "2022-01-07T10:26:48.636880",
     "status": "completed"
    },
    "tags": []
   },
   "outputs": [
    {
     "data": {
      "text/plain": [
       "{0: None,\n",
       " 1: None,\n",
       " 2: None,\n",
       " 3: None,\n",
       " 4: None,\n",
       " 5: None,\n",
       " 6: None,\n",
       " 7: None,\n",
       " 8: None,\n",
       " 9: None,\n",
       " 10: None,\n",
       " 11: None,\n",
       " 12: None,\n",
       " 13: None}"
      ]
     },
     "execution_count": 12,
     "metadata": {},
     "output_type": "execute_result"
    }
   ],
   "source": [
    "Xs"
   ]
  },
  {
   "cell_type": "markdown",
   "id": "ecac63c2",
   "metadata": {
    "papermill": {
     "duration": 0.021967,
     "end_time": "2022-01-07T10:26:48.715437",
     "exception": false,
     "start_time": "2022-01-07T10:26:48.693470",
     "status": "completed"
    },
    "tags": []
   },
   "source": [
    "# Kaggle submission"
   ]
  },
  {
   "cell_type": "code",
   "execution_count": 13,
   "id": "018b4c1f",
   "metadata": {
    "execution": {
     "iopub.execute_input": "2022-01-07T10:26:48.764969Z",
     "iopub.status.busy": "2022-01-07T10:26:48.764300Z",
     "iopub.status.idle": "2022-01-07T10:26:48.768716Z",
     "shell.execute_reply": "2022-01-07T10:26:48.769240Z"
    },
    "papermill": {
     "duration": 0.03169,
     "end_time": "2022-01-07T10:26:48.769440",
     "exception": false,
     "start_time": "2022-01-07T10:26:48.737750",
     "status": "completed"
    },
    "tags": []
   },
   "outputs": [],
   "source": [
    "env = gresearch_crypto.make_env()\n",
    "iter_test = env.iter_test()"
   ]
  },
  {
   "cell_type": "code",
   "execution_count": 14,
   "id": "17db64d0",
   "metadata": {
    "execution": {
     "iopub.execute_input": "2022-01-07T10:26:48.821417Z",
     "iopub.status.busy": "2022-01-07T10:26:48.820452Z",
     "iopub.status.idle": "2022-01-07T10:26:48.823114Z",
     "shell.execute_reply": "2022-01-07T10:26:48.823571Z"
    },
    "papermill": {
     "duration": 0.030975,
     "end_time": "2022-01-07T10:26:48.823744",
     "exception": false,
     "start_time": "2022-01-07T10:26:48.792769",
     "status": "completed"
    },
    "tags": []
   },
   "outputs": [],
   "source": [
    "scaler = StandardScaler()"
   ]
  },
  {
   "cell_type": "code",
   "execution_count": 15,
   "id": "3a7974f2",
   "metadata": {
    "execution": {
     "iopub.execute_input": "2022-01-07T10:26:48.878868Z",
     "iopub.status.busy": "2022-01-07T10:26:48.877923Z",
     "iopub.status.idle": "2022-01-07T10:26:48.947132Z",
     "shell.execute_reply": "2022-01-07T10:26:48.946555Z"
    },
    "papermill": {
     "duration": 0.10085,
     "end_time": "2022-01-07T10:26:48.947290",
     "exception": false,
     "start_time": "2022-01-07T10:26:48.846440",
     "status": "completed"
    },
    "tags": []
   },
   "outputs": [
    {
     "name": "stdout",
     "output_type": "stream",
     "text": [
      "This version of the API is not optimized and should not be used to estimate the runtime of your code on the hidden test set.\n"
     ]
    }
   ],
   "source": [
    "for i, (df_test, df_pred) in enumerate(iter_test):\n",
    "    for j , row in df_test.iterrows():\n",
    "        if models[row['Asset_ID']] is not None:\n",
    "            try:\n",
    "                model = models[row['Asset_ID']]\n",
    "                x_test = scaler.fit_transform(x_test)\n",
    "                x_test = get_features(pd.DataFrame([row]))\n",
    "                y_pred = model.predict(x_test)[0]\n",
    "                df_pred.loc[df_pred['row_id'] == row['row_id'], 'Target'] = y_pred\n",
    "            except:\n",
    "                df_pred.loc[df_pred['row_id'] == row['row_id'], 'Target'] = 0\n",
    "                traceback.print_exc()\n",
    "        else: \n",
    "            df_pred.loc[df_pred['row_id'] == row['row_id'], 'Target'] = 0\n",
    "    env.predict(df_pred)"
   ]
  },
  {
   "cell_type": "markdown",
   "id": "91cd5da5",
   "metadata": {
    "papermill": {
     "duration": 0.022719,
     "end_time": "2022-01-07T10:26:48.993258",
     "exception": false,
     "start_time": "2022-01-07T10:26:48.970539",
     "status": "completed"
    },
    "tags": []
   },
   "source": [
    "# Public score"
   ]
  },
  {
   "cell_type": "markdown",
   "id": "45d7614f",
   "metadata": {
    "papermill": {
     "duration": 0.022688,
     "end_time": "2022-01-07T10:26:49.038961",
     "exception": false,
     "start_time": "2022-01-07T10:26:49.016273",
     "status": "completed"
    },
    "tags": []
   },
   "source": [
    "-1.0000"
   ]
  },
  {
   "cell_type": "markdown",
   "id": "080fd4e3",
   "metadata": {
    "papermill": {
     "duration": 0.02289,
     "end_time": "2022-01-07T10:26:49.085625",
     "exception": false,
     "start_time": "2022-01-07T10:26:49.062735",
     "status": "completed"
    },
    "tags": []
   },
   "source": [
    "**Explanation:** *need higher polynomial degree, but we can't run degree upper 2 due to memory limit =(*"
   ]
  }
 ],
 "metadata": {
  "kernelspec": {
   "display_name": "Python 3",
   "language": "python",
   "name": "python3"
  },
  "language_info": {
   "codemirror_mode": {
    "name": "ipython",
    "version": 3
   },
   "file_extension": ".py",
   "mimetype": "text/x-python",
   "name": "python",
   "nbconvert_exporter": "python",
   "pygments_lexer": "ipython3",
   "version": "3.7.12"
  },
  "papermill": {
   "default_parameters": {},
   "duration": 480.001678,
   "end_time": "2022-01-07T10:26:50.426246",
   "environment_variables": {},
   "exception": null,
   "input_path": "__notebook__.ipynb",
   "output_path": "__notebook__.ipynb",
   "parameters": {},
   "start_time": "2022-01-07T10:18:50.424568",
   "version": "2.3.3"
  }
 },
 "nbformat": 4,
 "nbformat_minor": 5
}
