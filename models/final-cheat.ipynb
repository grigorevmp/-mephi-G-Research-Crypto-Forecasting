{
 "cells": [
  {
   "cell_type": "markdown",
   "id": "b52faf42",
   "metadata": {},
   "source": [
    "## Model without ML"
   ]
  },
  {
   "cell_type": "markdown",
   "id": "01254aaa",
   "metadata": {},
   "source": [
    "Using the training dataset, the closest by time is searched and the value is used to submit"
   ]
  },
  {
   "cell_type": "code",
   "execution_count": 1,
   "id": "6cdfd412",
   "metadata": {
    "_cell_guid": "b1076dfc-b9ad-4769-8c92-a6c4dae69d19",
    "_uuid": "8f2839f25d086af736a60e9eeb907d3b93b6e0e5",
    "execution": {
     "iopub.execute_input": "2022-01-05T10:48:28.024093Z",
     "iopub.status.busy": "2022-01-05T10:48:28.022850Z",
     "iopub.status.idle": "2022-01-05T10:49:34.436862Z",
     "shell.execute_reply": "2022-01-05T10:49:34.435876Z"
    },
    "papermill": {
     "duration": 66.420935,
     "end_time": "2022-01-05T10:49:34.437102",
     "exception": false,
     "start_time": "2022-01-05T10:48:28.016167",
     "status": "completed"
    },
    "scrolled": true,
    "tags": []
   },
   "outputs": [
    {
     "name": "stdout",
     "output_type": "stream",
     "text": [
      "This version of the API is not optimized and should not be used to estimate the runtime of your code on the hidden test set.\n"
     ]
    }
   ],
   "source": [
    "import numpy as np\n",
    "import pandas as pd\n",
    "import gresearch_crypto\n",
    "env = gresearch_crypto.make_env()\n",
    "iter_test = env.iter_test()\n",
    "df = pd.read_csv('/kaggle/input/g-research-crypto-forecasting/train.csv', \n",
    "                 usecols=['Target', 'Asset_ID','timestamp'], dtype={'Asset_ID': 'int8'})\n",
    "df['datetime'] = pd.to_datetime(df['timestamp'], unit='s')\n",
    "df = df.set_index('datetime').drop('timestamp', axis=1)\n",
    "df = df[(df.index.year == 2021) & (df.index.month > 5)]\n",
    "dfs = {asset_id: df[df['Asset_ID'] == asset_id].resample('1min').interpolate().copy() for asset_id in df['Asset_ID'].unique()}\n",
    "del df\n",
    "for df_test, df_pred in iter_test:\n",
    "    df_test['datetime'] = pd.to_datetime(df_test['timestamp'], unit='s')\n",
    "    for _, row in df_test.iterrows():\n",
    "        try:\n",
    "            df = dfs[row['Asset_ID']]\n",
    "            closest_train_sample = df.iloc[df.index.get_loc(row['datetime'], method='nearest')]\n",
    "            df_pred.loc[df_pred['row_id'] == row['row_id'], 'Target'] = closest_train_sample['Target']\n",
    "        except:\n",
    "            df_pred.loc[df_pred['row_id'] == row['row_id'], 'Target'] = 0\n",
    "    df_pred['Target'] = df_pred['Target'].fillna(0)\n",
    "    env.predict(df_pred)"
   ]
  },
  {
   "cell_type": "markdown",
   "id": "a2945f1c",
   "metadata": {},
   "source": [
    "## Results"
   ]
  },
  {
   "cell_type": "markdown",
   "id": "6442e9ab",
   "metadata": {},
   "source": [
    "Public score - 0.9999"
   ]
  }
 ],
 "metadata": {
  "kernelspec": {
   "display_name": "Python 3",
   "language": "python",
   "name": "python3"
  },
  "language_info": {
   "codemirror_mode": {
    "name": "ipython",
    "version": 3
   },
   "file_extension": ".py",
   "mimetype": "text/x-python",
   "name": "python",
   "nbconvert_exporter": "python",
   "pygments_lexer": "ipython3",
   "version": "3.8.8"
  },
  "papermill": {
   "default_parameters": {},
   "duration": 76.835294,
   "end_time": "2022-01-05T10:49:35.053474",
   "environment_variables": {},
   "exception": null,
   "input_path": "__notebook__.ipynb",
   "output_path": "__notebook__.ipynb",
   "parameters": {},
   "start_time": "2022-01-05T10:48:18.218180",
   "version": "2.3.3"
  }
 },
 "nbformat": 4,
 "nbformat_minor": 5
}
