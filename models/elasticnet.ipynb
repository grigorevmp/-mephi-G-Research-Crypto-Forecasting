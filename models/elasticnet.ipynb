{
 "cells": [
  {
   "cell_type": "markdown",
   "id": "9c7c8584",
   "metadata": {},
   "source": [
    "## Data loading"
   ]
  },
  {
   "cell_type": "code",
   "execution_count": 1,
   "id": "9b7fd0d2",
   "metadata": {
    "execution": {
     "iopub.execute_input": "2022-01-05T13:05:54.804890Z",
     "iopub.status.busy": "2022-01-05T13:05:54.801976Z",
     "iopub.status.idle": "2022-01-05T13:05:54.808739Z",
     "shell.execute_reply": "2022-01-05T13:05:54.808050Z",
     "shell.execute_reply.started": "2022-01-05T12:55:56.796346Z"
    },
    "papermill": {
     "duration": 0.027264,
     "end_time": "2022-01-05T13:05:54.808913",
     "exception": false,
     "start_time": "2022-01-05T13:05:54.781649",
     "status": "completed"
    },
    "tags": []
   },
   "outputs": [],
   "source": [
    "data_train = '/kaggle/input/g-research-crypto-forecasting/train.csv'\n",
    "data_asset_details = '/kaggle/input/g-research-crypto-forecasting/asset_details.csv'\n",
    "data_supplemental_train = '/kaggle/input/g-research-crypto-forecasting/supplemental_train.csv'"
   ]
  },
  {
   "cell_type": "code",
   "execution_count": 2,
   "id": "6ba3c466",
   "metadata": {
    "execution": {
     "iopub.execute_input": "2022-01-05T13:05:54.839452Z",
     "iopub.status.busy": "2022-01-05T13:05:54.838777Z",
     "iopub.status.idle": "2022-01-05T13:05:56.781221Z",
     "shell.execute_reply": "2022-01-05T13:05:56.781762Z",
     "shell.execute_reply.started": "2022-01-05T12:55:57.973513Z"
    },
    "papermill": {
     "duration": 1.959858,
     "end_time": "2022-01-05T13:05:56.781949",
     "exception": false,
     "start_time": "2022-01-05T13:05:54.822091",
     "status": "completed"
    },
    "tags": []
   },
   "outputs": [
    {
     "data": {
      "text/html": [
       "<style type='text/css'>\n",
       ".datatable table.frame { margin-bottom: 0; }\n",
       ".datatable table.frame thead { border-bottom: none; }\n",
       ".datatable table.frame tr.coltypes td {  color: #FFFFFF;  line-height: 6px;  padding: 0 0.5em;}\n",
       ".datatable .bool    { background: #DDDD99; }\n",
       ".datatable .object  { background: #565656; }\n",
       ".datatable .int     { background: #5D9E5D; }\n",
       ".datatable .float   { background: #4040CC; }\n",
       ".datatable .str     { background: #CC4040; }\n",
       ".datatable .time    { background: #40CC40; }\n",
       ".datatable .row_index {  background: var(--jp-border-color3);  border-right: 1px solid var(--jp-border-color0);  color: var(--jp-ui-font-color3);  font-size: 9px;}\n",
       ".datatable .frame tbody td { text-align: left; }\n",
       ".datatable .frame tr.coltypes .row_index {  background: var(--jp-border-color0);}\n",
       ".datatable th:nth-child(2) { padding-left: 12px; }\n",
       ".datatable .hellipsis {  color: var(--jp-cell-editor-border-color);}\n",
       ".datatable .vellipsis {  background: var(--jp-layout-color0);  color: var(--jp-cell-editor-border-color);}\n",
       ".datatable .na {  color: var(--jp-cell-editor-border-color);  font-size: 80%;}\n",
       ".datatable .sp {  opacity: 0.25;}\n",
       ".datatable .footer { font-size: 9px; }\n",
       ".datatable .frame_dimensions {  background: var(--jp-border-color3);  border-top: 1px solid var(--jp-border-color0);  color: var(--jp-ui-font-color3);  display: inline-block;  opacity: 0.6;  padding: 1px 10px 1px 5px;}\n",
       "</style>\n"
      ],
      "text/plain": [
       "<IPython.core.display.HTML object>"
      ]
     },
     "metadata": {},
     "output_type": "display_data"
    }
   ],
   "source": [
    "import pandas as pd\n",
    "import numpy as np\n",
    "import time"
   ]
  },
  {
   "cell_type": "code",
   "execution_count": 3,
   "id": "d1fb5683",
   "metadata": {
    "execution": {
     "iopub.execute_input": "2022-01-05T13:05:56.813337Z",
     "iopub.status.busy": "2022-01-05T13:05:56.812368Z",
     "iopub.status.idle": "2022-01-05T13:06:59.425345Z",
     "shell.execute_reply": "2022-01-05T13:06:59.425925Z",
     "shell.execute_reply.started": "2022-01-05T12:56:01.753463Z"
    },
    "papermill": {
     "duration": 62.629899,
     "end_time": "2022-01-05T13:06:59.426311",
     "exception": false,
     "start_time": "2022-01-05T13:05:56.796412",
     "status": "completed"
    },
    "tags": []
   },
   "outputs": [
    {
     "data": {
      "text/html": [
       "<div>\n",
       "<style scoped>\n",
       "    .dataframe tbody tr th:only-of-type {\n",
       "        vertical-align: middle;\n",
       "    }\n",
       "\n",
       "    .dataframe tbody tr th {\n",
       "        vertical-align: top;\n",
       "    }\n",
       "\n",
       "    .dataframe thead th {\n",
       "        text-align: right;\n",
       "    }\n",
       "</style>\n",
       "<table border=\"1\" class=\"dataframe\">\n",
       "  <thead>\n",
       "    <tr style=\"text-align: right;\">\n",
       "      <th></th>\n",
       "      <th>timestamp</th>\n",
       "      <th>Asset_ID</th>\n",
       "      <th>Count</th>\n",
       "      <th>Open</th>\n",
       "      <th>High</th>\n",
       "      <th>Low</th>\n",
       "      <th>Close</th>\n",
       "      <th>Volume</th>\n",
       "      <th>VWAP</th>\n",
       "      <th>Target</th>\n",
       "    </tr>\n",
       "  </thead>\n",
       "  <tbody>\n",
       "    <tr>\n",
       "      <th>0</th>\n",
       "      <td>1514764860</td>\n",
       "      <td>2</td>\n",
       "      <td>40</td>\n",
       "      <td>2376.5800</td>\n",
       "      <td>2399.5000</td>\n",
       "      <td>2357.1400</td>\n",
       "      <td>2374.5900</td>\n",
       "      <td>19.233005</td>\n",
       "      <td>2373.116392</td>\n",
       "      <td>-0.004218</td>\n",
       "    </tr>\n",
       "    <tr>\n",
       "      <th>1</th>\n",
       "      <td>1514764860</td>\n",
       "      <td>0</td>\n",
       "      <td>5</td>\n",
       "      <td>8.5300</td>\n",
       "      <td>8.5300</td>\n",
       "      <td>8.5300</td>\n",
       "      <td>8.5300</td>\n",
       "      <td>78.380000</td>\n",
       "      <td>8.530000</td>\n",
       "      <td>-0.014399</td>\n",
       "    </tr>\n",
       "    <tr>\n",
       "      <th>2</th>\n",
       "      <td>1514764860</td>\n",
       "      <td>1</td>\n",
       "      <td>229</td>\n",
       "      <td>13835.1940</td>\n",
       "      <td>14013.8000</td>\n",
       "      <td>13666.1100</td>\n",
       "      <td>13850.1760</td>\n",
       "      <td>31.550062</td>\n",
       "      <td>13827.062093</td>\n",
       "      <td>-0.014643</td>\n",
       "    </tr>\n",
       "    <tr>\n",
       "      <th>3</th>\n",
       "      <td>1514764860</td>\n",
       "      <td>5</td>\n",
       "      <td>32</td>\n",
       "      <td>7.6596</td>\n",
       "      <td>7.6596</td>\n",
       "      <td>7.6567</td>\n",
       "      <td>7.6576</td>\n",
       "      <td>6626.713370</td>\n",
       "      <td>7.657713</td>\n",
       "      <td>-0.013922</td>\n",
       "    </tr>\n",
       "    <tr>\n",
       "      <th>4</th>\n",
       "      <td>1514764860</td>\n",
       "      <td>7</td>\n",
       "      <td>5</td>\n",
       "      <td>25.9200</td>\n",
       "      <td>25.9200</td>\n",
       "      <td>25.8740</td>\n",
       "      <td>25.8770</td>\n",
       "      <td>121.087310</td>\n",
       "      <td>25.891363</td>\n",
       "      <td>-0.008264</td>\n",
       "    </tr>\n",
       "  </tbody>\n",
       "</table>\n",
       "</div>"
      ],
      "text/plain": [
       "    timestamp  Asset_ID  Count        Open        High         Low  \\\n",
       "0  1514764860         2     40   2376.5800   2399.5000   2357.1400   \n",
       "1  1514764860         0      5      8.5300      8.5300      8.5300   \n",
       "2  1514764860         1    229  13835.1940  14013.8000  13666.1100   \n",
       "3  1514764860         5     32      7.6596      7.6596      7.6567   \n",
       "4  1514764860         7      5     25.9200     25.9200     25.8740   \n",
       "\n",
       "        Close       Volume          VWAP    Target  \n",
       "0   2374.5900    19.233005   2373.116392 -0.004218  \n",
       "1      8.5300    78.380000      8.530000 -0.014399  \n",
       "2  13850.1760    31.550062  13827.062093 -0.014643  \n",
       "3      7.6576  6626.713370      7.657713 -0.013922  \n",
       "4     25.8770   121.087310     25.891363 -0.008264  "
      ]
     },
     "execution_count": 3,
     "metadata": {},
     "output_type": "execute_result"
    }
   ],
   "source": [
    "df_train = pd.read_csv(data_train, \n",
    "                       dtype={'Asset_ID': 'int8', 'Count': 'int32', 'row_id': 'int32', 'Count': 'int32', \n",
    "                              'Open': 'float64', 'High': 'float64', 'Low': 'float64', 'Close': 'float64', \n",
    "                              'Volume': 'float64', 'VWAP': 'float64'\n",
    "                             }\n",
    "                      )\n",
    "df_train.head()"
   ]
  },
  {
   "cell_type": "code",
   "execution_count": 4,
   "id": "eb1eab60",
   "metadata": {
    "execution": {
     "iopub.execute_input": "2022-01-05T13:06:59.457636Z",
     "iopub.status.busy": "2022-01-05T13:06:59.456677Z",
     "iopub.status.idle": "2022-01-05T13:06:59.483890Z",
     "shell.execute_reply": "2022-01-05T13:06:59.484473Z",
     "shell.execute_reply.started": "2022-01-05T12:57:14.346476Z"
    },
    "papermill": {
     "duration": 0.044711,
     "end_time": "2022-01-05T13:06:59.484642",
     "exception": false,
     "start_time": "2022-01-05T13:06:59.439931",
     "status": "completed"
    },
    "tags": []
   },
   "outputs": [],
   "source": [
    "import gresearch_crypto"
   ]
  },
  {
   "cell_type": "code",
   "execution_count": 5,
   "id": "18241038",
   "metadata": {
    "execution": {
     "iopub.execute_input": "2022-01-05T13:06:59.515076Z",
     "iopub.status.busy": "2022-01-05T13:06:59.514446Z",
     "iopub.status.idle": "2022-01-05T13:06:59.543340Z",
     "shell.execute_reply": "2022-01-05T13:06:59.543935Z",
     "shell.execute_reply.started": "2022-01-05T12:57:20.414171Z"
    },
    "papermill": {
     "duration": 0.045716,
     "end_time": "2022-01-05T13:06:59.544102",
     "exception": false,
     "start_time": "2022-01-05T13:06:59.498386",
     "status": "completed"
    },
    "tags": []
   },
   "outputs": [
    {
     "data": {
      "text/html": [
       "<div>\n",
       "<style scoped>\n",
       "    .dataframe tbody tr th:only-of-type {\n",
       "        vertical-align: middle;\n",
       "    }\n",
       "\n",
       "    .dataframe tbody tr th {\n",
       "        vertical-align: top;\n",
       "    }\n",
       "\n",
       "    .dataframe thead th {\n",
       "        text-align: right;\n",
       "    }\n",
       "</style>\n",
       "<table border=\"1\" class=\"dataframe\">\n",
       "  <thead>\n",
       "    <tr style=\"text-align: right;\">\n",
       "      <th></th>\n",
       "      <th>Asset_ID</th>\n",
       "      <th>Weight</th>\n",
       "      <th>Asset_Name</th>\n",
       "    </tr>\n",
       "  </thead>\n",
       "  <tbody>\n",
       "    <tr>\n",
       "      <th>1</th>\n",
       "      <td>0</td>\n",
       "      <td>4.304065</td>\n",
       "      <td>Binance Coin</td>\n",
       "    </tr>\n",
       "    <tr>\n",
       "      <th>2</th>\n",
       "      <td>1</td>\n",
       "      <td>6.779922</td>\n",
       "      <td>Bitcoin</td>\n",
       "    </tr>\n",
       "    <tr>\n",
       "      <th>0</th>\n",
       "      <td>2</td>\n",
       "      <td>2.397895</td>\n",
       "      <td>Bitcoin Cash</td>\n",
       "    </tr>\n",
       "    <tr>\n",
       "      <th>10</th>\n",
       "      <td>3</td>\n",
       "      <td>4.406719</td>\n",
       "      <td>Cardano</td>\n",
       "    </tr>\n",
       "    <tr>\n",
       "      <th>13</th>\n",
       "      <td>4</td>\n",
       "      <td>3.555348</td>\n",
       "      <td>Dogecoin</td>\n",
       "    </tr>\n",
       "  </tbody>\n",
       "</table>\n",
       "</div>"
      ],
      "text/plain": [
       "    Asset_ID    Weight    Asset_Name\n",
       "1          0  4.304065  Binance Coin\n",
       "2          1  6.779922       Bitcoin\n",
       "0          2  2.397895  Bitcoin Cash\n",
       "10         3  4.406719       Cardano\n",
       "13         4  3.555348      Dogecoin"
      ]
     },
     "execution_count": 5,
     "metadata": {},
     "output_type": "execute_result"
    }
   ],
   "source": [
    "df_assets = pd.read_csv(data_asset_details).sort_values(by='Asset_ID')\n",
    "df_assets.head()"
   ]
  },
  {
   "cell_type": "markdown",
   "id": "043a862f",
   "metadata": {},
   "source": [
    "## Data preprocessing"
   ]
  },
  {
   "cell_type": "code",
   "execution_count": 6,
   "id": "c23bb62a",
   "metadata": {
    "execution": {
     "iopub.execute_input": "2022-01-05T13:06:59.575735Z",
     "iopub.status.busy": "2022-01-05T13:06:59.575057Z",
     "iopub.status.idle": "2022-01-05T13:07:02.394112Z",
     "shell.execute_reply": "2022-01-05T13:07:02.391767Z",
     "shell.execute_reply.started": "2022-01-05T12:57:21.815419Z"
    },
    "papermill": {
     "duration": 2.835767,
     "end_time": "2022-01-05T13:07:02.394288",
     "exception": false,
     "start_time": "2022-01-05T13:06:59.558521",
     "status": "completed"
    },
    "tags": []
   },
   "outputs": [
    {
     "name": "stdout",
     "output_type": "stream",
     "text": [
      "Percentage of values not nan 99.3094374141301\n",
      "Percentage of values not nan 99.9844603180932\n",
      "Percentage of values not nan 99.75116928934543\n",
      "Percentage of values not nan 98.95466572016784\n",
      "Percentage of values not nan 87.46838441098623\n",
      "Percentage of values not nan 99.88225907096167\n",
      "Percentage of values not nan 99.9826193640732\n",
      "Percentage of values not nan 99.52201983776557\n",
      "Percentage of values not nan 87.87076707006158\n",
      "Percentage of values not nan 99.97336441670117\n",
      "Percentage of values not nan 94.03054748939965\n",
      "Percentage of values not nan 85.91615278314144\n",
      "Percentage of values not nan 96.52474857329506\n",
      "Percentage of values not nan 98.87899026971662\n"
     ]
    }
   ],
   "source": [
    "for i in range(14):\n",
    " \n",
    "    dfcrop=df_train[df_train['Asset_ID']==i]\n",
    "    print('Percentage of values not nan',(1-(np.sum((dfcrop['Target'].isnull()).astype(int))/dfcrop.shape[0]))*100)\n",
    "  "
   ]
  },
  {
   "cell_type": "code",
   "execution_count": 7,
   "id": "7b0116d6",
   "metadata": {
    "execution": {
     "iopub.execute_input": "2022-01-05T13:07:02.433416Z",
     "iopub.status.busy": "2022-01-05T13:07:02.432474Z",
     "iopub.status.idle": "2022-01-05T13:07:02.441351Z",
     "shell.execute_reply": "2022-01-05T13:07:02.441874Z",
     "shell.execute_reply.started": "2022-01-05T12:57:28.555299Z"
    },
    "papermill": {
     "duration": 0.029771,
     "end_time": "2022-01-05T13:07:02.442045",
     "exception": false,
     "start_time": "2022-01-05T13:07:02.412274",
     "status": "completed"
    },
    "tags": []
   },
   "outputs": [],
   "source": [
    "def upper_shadow(df):\n",
    "    return df['High'] - np.maximum(df['Close'], df['Open'])\n",
    "\n",
    "def lower_shadow(df):\n",
    "    return np.minimum(df['Close'], df['Open']) - df['Low']\n",
    "\n",
    "def get_features(df):\n",
    "    df_feat = df[['Count', 'Open', 'High', 'Low', 'Close', 'Volume', 'VWAP']].copy()\n",
    "    df_feat['Upper_Shadow'] = upper_shadow(df_feat)\n",
    "    df_feat['Lower_Shadow'] = lower_shadow(df_feat)\n",
    "    \n",
    "    df_feat[\"Close/Open\"] = df_feat[\"Close\"] / df_feat[\"Open\"] \n",
    "    df_feat[\"Close-Open\"] = df_feat[\"Close\"] - df_feat[\"Open\"] \n",
    "    df_feat[\"High-Low\"] = df_feat[\"High\"] - df_feat[\"Low\"] \n",
    "    df_feat[\"High/Low\"] = df_feat[\"High\"] / df_feat[\"Low\"]\n",
    "    \n",
    "    df_feat['Mean'] = df_feat[['Open', 'High', 'Low', 'Close']].mean(axis=1)\n",
    "\n",
    "    df_feat[\"Median\"] = df_feat[[\"Open\", \"High\", \"Low\", \"Close\"]].median(axis=1)\n",
    "   \n",
    "\n",
    "    return df_feat"
   ]
  },
  {
   "cell_type": "code",
   "execution_count": 8,
   "id": "0c02df13",
   "metadata": {
    "execution": {
     "iopub.execute_input": "2022-01-05T13:07:02.480148Z",
     "iopub.status.busy": "2022-01-05T13:07:02.479224Z",
     "iopub.status.idle": "2022-01-05T13:07:02.560034Z",
     "shell.execute_reply": "2022-01-05T13:07:02.560546Z",
     "shell.execute_reply.started": "2022-01-05T12:57:35.332299Z"
    },
    "papermill": {
     "duration": 0.101504,
     "end_time": "2022-01-05T13:07:02.560712",
     "exception": false,
     "start_time": "2022-01-05T13:07:02.459208",
     "status": "completed"
    },
    "tags": []
   },
   "outputs": [],
   "source": [
    "from sklearn.preprocessing import StandardScaler\n",
    "from sklearn.linear_model import ElasticNet"
   ]
  },
  {
   "cell_type": "code",
   "execution_count": 9,
   "id": "8145e3d5",
   "metadata": {
    "execution": {
     "iopub.execute_input": "2022-01-05T13:07:02.604749Z",
     "iopub.status.busy": "2022-01-05T13:07:02.604107Z",
     "iopub.status.idle": "2022-01-05T13:07:02.606175Z",
     "shell.execute_reply": "2022-01-05T13:07:02.606673Z",
     "shell.execute_reply.started": "2022-01-05T12:57:36.395672Z"
    },
    "papermill": {
     "duration": 0.028284,
     "end_time": "2022-01-05T13:07:02.606868",
     "exception": false,
     "start_time": "2022-01-05T13:07:02.578584",
     "status": "completed"
    },
    "tags": []
   },
   "outputs": [],
   "source": [
    "def get_Xy_and_model_for_asset(df_train, asset_id):\n",
    "    df = df_train[df_train[\"Asset_ID\"] == asset_id]\n",
    "    \n",
    "    df_proc = get_features(df)\n",
    "    df_proc['y'] = df['Target']\n",
    "    df_proc = df_proc.reset_index(drop=True)\n",
    "    df_proc = df_proc.drop(labels=np.where(np.isinf(df_proc))[0], axis=0)\n",
    "    df_proc = df_proc.dropna(how=\"any\")\n",
    "    df_proc = df_proc.reset_index(drop=True)\n",
    "    \n",
    "    \n",
    "    X = df_proc.drop(\"y\", axis=1)\n",
    "    y = df_proc[\"y\"]\n",
    "    \n",
    "    scaler = StandardScaler()\n",
    "    X = scaler.fit_transform(X)\n",
    "    \n",
    "    model = ElasticNet(\n",
    "        alpha=0.2,\n",
    "        l1_ratio=0.0,\n",
    "        selection='cyclic'\n",
    "    )\n",
    "    model.fit(X, y)\n",
    "\n",
    "    del X\n",
    "    del y\n",
    "    #return X, y, model\n",
    "    return model"
   ]
  },
  {
   "cell_type": "markdown",
   "id": "05ea4ab7",
   "metadata": {},
   "source": [
    "## Training"
   ]
  },
  {
   "cell_type": "code",
   "execution_count": 10,
   "id": "7652bbc8",
   "metadata": {
    "execution": {
     "iopub.execute_input": "2022-01-05T13:07:02.644649Z",
     "iopub.status.busy": "2022-01-05T13:07:02.644036Z",
     "iopub.status.idle": "2022-01-05T13:18:23.999435Z",
     "shell.execute_reply": "2022-01-05T13:18:23.998219Z"
    },
    "papermill": {
     "duration": 681.375559,
     "end_time": "2022-01-05T13:18:23.999900",
     "exception": false,
     "start_time": "2022-01-05T13:07:02.624341",
     "status": "completed"
    },
    "tags": []
   },
   "outputs": [
    {
     "name": "stdout",
     "output_type": "stream",
     "text": [
      "Training model for Binance Coin     (ID=0 )\n"
     ]
    },
    {
     "name": "stderr",
     "output_type": "stream",
     "text": [
      "/opt/conda/lib/python3.7/site-packages/sklearn/linear_model/_coordinate_descent.py:531: ConvergenceWarning: Objective did not converge. You might want to increase the number of iterations. Duality gap: 28.648655965986382, tolerance: 0.005733959367944924\n",
      "  positive)\n"
     ]
    },
    {
     "name": "stdout",
     "output_type": "stream",
     "text": [
      "Training model for Bitcoin          (ID=1 )\n"
     ]
    },
    {
     "name": "stderr",
     "output_type": "stream",
     "text": [
      "/opt/conda/lib/python3.7/site-packages/sklearn/linear_model/_coordinate_descent.py:531: ConvergenceWarning: Objective did not converge. You might want to increase the number of iterations. Duality gap: 3.961906665425698, tolerance: 0.0007931890135373414\n",
      "  positive)\n"
     ]
    },
    {
     "name": "stdout",
     "output_type": "stream",
     "text": [
      "Training model for Bitcoin Cash     (ID=2 )\n"
     ]
    },
    {
     "name": "stderr",
     "output_type": "stream",
     "text": [
      "/opt/conda/lib/python3.7/site-packages/sklearn/linear_model/_coordinate_descent.py:531: ConvergenceWarning: Objective did not converge. You might want to increase the number of iterations. Duality gap: 40.87337488747637, tolerance: 0.008176996141019082\n",
      "  positive)\n"
     ]
    },
    {
     "name": "stdout",
     "output_type": "stream",
     "text": [
      "Training model for Cardano          (ID=3 )\n"
     ]
    },
    {
     "name": "stderr",
     "output_type": "stream",
     "text": [
      "/opt/conda/lib/python3.7/site-packages/sklearn/linear_model/_coordinate_descent.py:531: ConvergenceWarning: Objective did not converge. You might want to increase the number of iterations. Duality gap: 18.016737033080044, tolerance: 0.0036067542283994033\n",
      "  positive)\n"
     ]
    },
    {
     "name": "stdout",
     "output_type": "stream",
     "text": [
      "Training model for Dogecoin         (ID=4 )\n"
     ]
    },
    {
     "name": "stderr",
     "output_type": "stream",
     "text": [
      "/opt/conda/lib/python3.7/site-packages/sklearn/linear_model/_coordinate_descent.py:531: ConvergenceWarning: Objective did not converge. You might want to increase the number of iterations. Duality gap: 33.29616245444006, tolerance: 0.006675439476141318\n",
      "  positive)\n"
     ]
    },
    {
     "name": "stdout",
     "output_type": "stream",
     "text": [
      "Training model for EOS.IO           (ID=5 )\n"
     ]
    },
    {
     "name": "stderr",
     "output_type": "stream",
     "text": [
      "/opt/conda/lib/python3.7/site-packages/sklearn/linear_model/_coordinate_descent.py:531: ConvergenceWarning: Objective did not converge. You might want to increase the number of iterations. Duality gap: 22.735778312906717, tolerance: 0.0045494208938029815\n",
      "  positive)\n"
     ]
    },
    {
     "name": "stdout",
     "output_type": "stream",
     "text": [
      "Training model for Ethereum         (ID=6 )\n"
     ]
    },
    {
     "name": "stderr",
     "output_type": "stream",
     "text": [
      "/opt/conda/lib/python3.7/site-packages/sklearn/linear_model/_coordinate_descent.py:531: ConvergenceWarning: Objective did not converge. You might want to increase the number of iterations. Duality gap: 6.079407464781585, tolerance: 0.001218063410308942\n",
      "  positive)\n"
     ]
    },
    {
     "name": "stdout",
     "output_type": "stream",
     "text": [
      "Training model for Ethereum Classic (ID=7 )\n"
     ]
    },
    {
     "name": "stderr",
     "output_type": "stream",
     "text": [
      "/opt/conda/lib/python3.7/site-packages/sklearn/linear_model/_coordinate_descent.py:531: ConvergenceWarning: Objective did not converge. You might want to increase the number of iterations. Duality gap: 78.14369559267021, tolerance: 0.015633977088149557\n",
      "  positive)\n"
     ]
    },
    {
     "name": "stdout",
     "output_type": "stream",
     "text": [
      "Training model for IOTA             (ID=8 )\n"
     ]
    },
    {
     "name": "stderr",
     "output_type": "stream",
     "text": [
      "/opt/conda/lib/python3.7/site-packages/sklearn/linear_model/_coordinate_descent.py:531: ConvergenceWarning: Objective did not converge. You might want to increase the number of iterations. Duality gap: 44.98180861385001, tolerance: 0.008998451246231281\n",
      "  positive)\n"
     ]
    },
    {
     "name": "stdout",
     "output_type": "stream",
     "text": [
      "Training model for Litecoin         (ID=9 )\n"
     ]
    },
    {
     "name": "stderr",
     "output_type": "stream",
     "text": [
      "/opt/conda/lib/python3.7/site-packages/sklearn/linear_model/_coordinate_descent.py:531: ConvergenceWarning: Objective did not converge. You might want to increase the number of iterations. Duality gap: 12.335429307075634, tolerance: 0.002468673254839621\n",
      "  positive)\n"
     ]
    },
    {
     "name": "stdout",
     "output_type": "stream",
     "text": [
      "Training model for Maker            (ID=10)\n"
     ]
    },
    {
     "name": "stderr",
     "output_type": "stream",
     "text": [
      "/opt/conda/lib/python3.7/site-packages/sklearn/linear_model/_coordinate_descent.py:531: ConvergenceWarning: Objective did not converge. You might want to increase the number of iterations. Duality gap: 11.32561745165263, tolerance: 0.002267256375163112\n",
      "  positive)\n"
     ]
    },
    {
     "name": "stdout",
     "output_type": "stream",
     "text": [
      "Training model for Monero           (ID=11)\n"
     ]
    },
    {
     "name": "stderr",
     "output_type": "stream",
     "text": [
      "/opt/conda/lib/python3.7/site-packages/sklearn/linear_model/_coordinate_descent.py:531: ConvergenceWarning: Objective did not converge. You might want to increase the number of iterations. Duality gap: 32.3395505489706, tolerance: 0.00647049886992037\n",
      "  positive)\n"
     ]
    },
    {
     "name": "stdout",
     "output_type": "stream",
     "text": [
      "Training model for Stellar          (ID=12)\n"
     ]
    },
    {
     "name": "stderr",
     "output_type": "stream",
     "text": [
      "/opt/conda/lib/python3.7/site-packages/sklearn/linear_model/_coordinate_descent.py:531: ConvergenceWarning: Objective did not converge. You might want to increase the number of iterations. Duality gap: 23.306710017517688, tolerance: 0.004663064342859892\n",
      "  positive)\n"
     ]
    },
    {
     "name": "stdout",
     "output_type": "stream",
     "text": [
      "Training model for TRON             (ID=13)\n",
      "CPU times: user 41min 10s, sys: 1min 54s, total: 43min 4s\n",
      "Wall time: 11min 21s\n"
     ]
    },
    {
     "name": "stderr",
     "output_type": "stream",
     "text": [
      "/opt/conda/lib/python3.7/site-packages/sklearn/linear_model/_coordinate_descent.py:531: ConvergenceWarning: Objective did not converge. You might want to increase the number of iterations. Duality gap: 22.430985406276466, tolerance: 0.0044909865161938504\n",
      "  positive)\n"
     ]
    }
   ],
   "source": [
    "%%time\n",
    "Xs = {}\n",
    "ys = {}\n",
    "models = {}\n",
    "\n",
    "for asset_id, asset_name in zip(df_assets['Asset_ID'], df_assets['Asset_Name']):\n",
    "    print(f\"Training model for {asset_name:<16} (ID={asset_id:<2})\")\n",
    "    try:\n",
    "        model = get_Xy_and_model_for_asset(df_train, asset_id)\n",
    "        models[asset_id] = model\n",
    "    except:         \n",
    "        models[asset_id] = None"
   ]
  },
  {
   "cell_type": "code",
   "execution_count": 11,
   "id": "5440f1e7",
   "metadata": {
    "execution": {
     "iopub.execute_input": "2022-01-05T13:18:24.085427Z",
     "iopub.status.busy": "2022-01-05T13:18:24.084376Z",
     "iopub.status.idle": "2022-01-05T13:18:24.087317Z",
     "shell.execute_reply": "2022-01-05T13:18:24.086716Z",
     "shell.execute_reply.started": "2022-01-04T07:39:53.407201Z"
    },
    "papermill": {
     "duration": 0.038972,
     "end_time": "2022-01-05T13:18:24.087456",
     "exception": false,
     "start_time": "2022-01-05T13:18:24.048484",
     "status": "completed"
    },
    "tags": []
   },
   "outputs": [],
   "source": [
    "import traceback"
   ]
  },
  {
   "cell_type": "code",
   "execution_count": 12,
   "id": "532aaef9",
   "metadata": {
    "execution": {
     "iopub.execute_input": "2022-01-05T13:18:24.144603Z",
     "iopub.status.busy": "2022-01-05T13:18:24.143652Z",
     "iopub.status.idle": "2022-01-05T13:18:24.155331Z",
     "shell.execute_reply": "2022-01-05T13:18:24.155940Z",
     "shell.execute_reply.started": "2022-01-04T07:39:53.416493Z"
    },
    "papermill": {
     "duration": 0.041876,
     "end_time": "2022-01-05T13:18:24.156116",
     "exception": false,
     "start_time": "2022-01-05T13:18:24.114240",
     "status": "completed"
    },
    "tags": []
   },
   "outputs": [
    {
     "data": {
      "text/plain": [
       "{0: ElasticNet(alpha=0.2, l1_ratio=0.0),\n",
       " 1: ElasticNet(alpha=0.2, l1_ratio=0.0),\n",
       " 2: ElasticNet(alpha=0.2, l1_ratio=0.0),\n",
       " 3: ElasticNet(alpha=0.2, l1_ratio=0.0),\n",
       " 4: ElasticNet(alpha=0.2, l1_ratio=0.0),\n",
       " 5: ElasticNet(alpha=0.2, l1_ratio=0.0),\n",
       " 6: ElasticNet(alpha=0.2, l1_ratio=0.0),\n",
       " 7: ElasticNet(alpha=0.2, l1_ratio=0.0),\n",
       " 8: ElasticNet(alpha=0.2, l1_ratio=0.0),\n",
       " 9: ElasticNet(alpha=0.2, l1_ratio=0.0),\n",
       " 10: ElasticNet(alpha=0.2, l1_ratio=0.0),\n",
       " 11: ElasticNet(alpha=0.2, l1_ratio=0.0),\n",
       " 12: ElasticNet(alpha=0.2, l1_ratio=0.0),\n",
       " 13: ElasticNet(alpha=0.2, l1_ratio=0.0)}"
      ]
     },
     "execution_count": 12,
     "metadata": {},
     "output_type": "execute_result"
    }
   ],
   "source": [
    "models"
   ]
  },
  {
   "cell_type": "markdown",
   "id": "d440a3f1",
   "metadata": {},
   "source": [
    "## Kaggle submission"
   ]
  },
  {
   "cell_type": "code",
   "execution_count": 13,
   "id": "d9490b5e",
   "metadata": {
    "execution": {
     "iopub.execute_input": "2022-01-05T13:18:24.213532Z",
     "iopub.status.busy": "2022-01-05T13:18:24.212557Z",
     "iopub.status.idle": "2022-01-05T13:18:24.833086Z",
     "shell.execute_reply": "2022-01-05T13:18:24.833614Z",
     "shell.execute_reply.started": "2022-01-04T07:39:53.4318Z"
    },
    "papermill": {
     "duration": 0.651157,
     "end_time": "2022-01-05T13:18:24.833777",
     "exception": false,
     "start_time": "2022-01-05T13:18:24.182620",
     "status": "completed"
    },
    "tags": []
   },
   "outputs": [
    {
     "name": "stdout",
     "output_type": "stream",
     "text": [
      "This version of the API is not optimized and should not be used to estimate the runtime of your code on the hidden test set.\n",
      "CPU times: user 593 ms, sys: 4.99 ms, total: 598 ms\n",
      "Wall time: 611 ms\n"
     ]
    }
   ],
   "source": [
    "%%time\n",
    "env = gresearch_crypto.make_env()\n",
    "iter_test = env.iter_test()\n",
    "scaler = StandardScaler()\n",
    "for i, (df_test, df_pred) in enumerate(iter_test):\n",
    "    for j , row in df_test.iterrows():\n",
    "        if models[row['Asset_ID']] is not None:\n",
    "            try:\n",
    "                model = models[row['Asset_ID']]\n",
    "                x_test = get_features(pd.DataFrame([row]))\n",
    "                x_test = scaler.fit_transform(x_test)\n",
    "                y_pred = model.predict(x_test)[0]\n",
    "                df_pred.loc[df_pred['row_id'] == row['row_id'], 'Target'] = y_pred\n",
    "            except:\n",
    "                df_pred.loc[df_pred['row_id'] == row['row_id'], 'Target'] = 0\n",
    "                traceback.print_exc()\n",
    "        else: \n",
    "            df_pred.loc[df_pred['row_id'] == row['row_id'], 'Target'] = 0\n",
    "    env.predict(df_pred)"
   ]
  },
  {
   "cell_type": "markdown",
   "id": "e5723237",
   "metadata": {},
   "source": [
    "<br>"
   ]
  },
  {
   "cell_type": "markdown",
   "id": "5153f41d",
   "metadata": {},
   "source": [
    "## Public score"
   ]
  },
  {
   "cell_type": "markdown",
   "id": "9bddf0ad",
   "metadata": {
    "papermill": {
     "duration": 0.027078,
     "end_time": "2022-01-05T13:18:24.888214",
     "exception": false,
     "start_time": "2022-01-05T13:18:24.861136",
     "status": "completed"
    },
    "tags": []
   },
   "source": [
    "-0.0020"
   ]
  }
 ],
 "metadata": {
  "kernelspec": {
   "display_name": "Python 3",
   "language": "python",
   "name": "python3"
  },
  "language_info": {
   "codemirror_mode": {
    "name": "ipython",
    "version": 3
   },
   "file_extension": ".py",
   "mimetype": "text/x-python",
   "name": "python",
   "nbconvert_exporter": "python",
   "pygments_lexer": "ipython3",
   "version": "3.8.8"
  },
  "papermill": {
   "default_parameters": {},
   "duration": 761.018574,
   "end_time": "2022-01-05T13:18:25.929381",
   "environment_variables": {},
   "exception": null,
   "input_path": "__notebook__.ipynb",
   "output_path": "__notebook__.ipynb",
   "parameters": {},
   "start_time": "2022-01-05T13:05:44.910807",
   "version": "2.3.3"
  }
 },
 "nbformat": 4,
 "nbformat_minor": 5
}
