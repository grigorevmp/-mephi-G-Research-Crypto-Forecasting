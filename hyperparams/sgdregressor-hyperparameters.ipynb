{
 "cells": [
  {
   "cell_type": "code",
   "execution_count": 1,
   "id": "f0f106a8",
   "metadata": {
    "_cell_guid": "b1076dfc-b9ad-4769-8c92-a6c4dae69d19",
    "_uuid": "8f2839f25d086af736a60e9eeb907d3b93b6e0e5",
    "execution": {
     "iopub.execute_input": "2022-01-04T09:59:33.451023Z",
     "iopub.status.busy": "2022-01-04T09:59:33.450311Z",
     "iopub.status.idle": "2022-01-04T09:59:33.463809Z",
     "shell.execute_reply": "2022-01-04T09:59:33.462923Z",
     "shell.execute_reply.started": "2022-01-04T09:56:36.322997Z"
    },
    "papermill": {
     "duration": 0.040255,
     "end_time": "2022-01-04T09:59:33.463998",
     "exception": false,
     "start_time": "2022-01-04T09:59:33.423743",
     "status": "completed"
    },
    "tags": []
   },
   "outputs": [
    {
     "name": "stdout",
     "output_type": "stream",
     "text": [
      "/kaggle/input/g-research-crypto-forecasting/example_sample_submission.csv\n",
      "/kaggle/input/g-research-crypto-forecasting/asset_details.csv\n",
      "/kaggle/input/g-research-crypto-forecasting/example_test.csv\n",
      "/kaggle/input/g-research-crypto-forecasting/train.csv\n",
      "/kaggle/input/g-research-crypto-forecasting/supplemental_train.csv\n",
      "/kaggle/input/g-research-crypto-forecasting/gresearch_crypto/competition.cpython-37m-x86_64-linux-gnu.so\n",
      "/kaggle/input/g-research-crypto-forecasting/gresearch_crypto/__init__.py\n"
     ]
    }
   ],
   "source": [
    "import numpy as np\n",
    "import pandas as pd\n",
    "\n",
    "import os\n",
    "for dirname, _, filenames in os.walk('/kaggle/input'):\n",
    "    for filename in filenames:\n",
    "        print(os.path.join(dirname, filename))"
   ]
  },
  {
   "cell_type": "code",
   "execution_count": 2,
   "id": "c32f0810",
   "metadata": {
    "execution": {
     "iopub.execute_input": "2022-01-04T09:59:33.503624Z",
     "iopub.status.busy": "2022-01-04T09:59:33.502582Z",
     "iopub.status.idle": "2022-01-04T09:59:33.505173Z",
     "shell.execute_reply": "2022-01-04T09:59:33.505621Z",
     "shell.execute_reply.started": "2022-01-04T09:56:36.335755Z"
    },
    "papermill": {
     "duration": 0.025557,
     "end_time": "2022-01-04T09:59:33.505806",
     "exception": false,
     "start_time": "2022-01-04T09:59:33.480249",
     "status": "completed"
    },
    "tags": []
   },
   "outputs": [],
   "source": [
    "data_train = '/kaggle/input/g-research-crypto-forecasting/train.csv'\n",
    "data_asset_details = '/kaggle/input/g-research-crypto-forecasting/asset_details.csv'\n",
    "data_supplemental_train = '/kaggle/input/g-research-crypto-forecasting/supplemental_train.csv'"
   ]
  },
  {
   "cell_type": "code",
   "execution_count": 3,
   "id": "1f4ecc92",
   "metadata": {
    "execution": {
     "iopub.execute_input": "2022-01-04T09:59:33.544295Z",
     "iopub.status.busy": "2022-01-04T09:59:33.543463Z",
     "iopub.status.idle": "2022-01-04T09:59:33.558772Z",
     "shell.execute_reply": "2022-01-04T09:59:33.559226Z",
     "shell.execute_reply.started": "2022-01-04T09:56:36.348489Z"
    },
    "papermill": {
     "duration": 0.036262,
     "end_time": "2022-01-04T09:59:33.559417",
     "exception": false,
     "start_time": "2022-01-04T09:59:33.523155",
     "status": "completed"
    },
    "tags": []
   },
   "outputs": [],
   "source": [
    "import random\n",
    "import pandas as pd\n",
    "import numpy as np"
   ]
  },
  {
   "cell_type": "code",
   "execution_count": 4,
   "id": "328a5aea",
   "metadata": {
    "execution": {
     "iopub.execute_input": "2022-01-04T09:59:33.595249Z",
     "iopub.status.busy": "2022-01-04T09:59:33.594254Z",
     "iopub.status.idle": "2022-01-04T10:00:31.938660Z",
     "shell.execute_reply": "2022-01-04T10:00:31.939263Z",
     "shell.execute_reply.started": "2022-01-04T09:56:36.359806Z"
    },
    "papermill": {
     "duration": 58.363897,
     "end_time": "2022-01-04T10:00:31.939657",
     "exception": false,
     "start_time": "2022-01-04T09:59:33.575760",
     "status": "completed"
    },
    "tags": []
   },
   "outputs": [
    {
     "data": {
      "text/html": [
       "<div>\n",
       "<style scoped>\n",
       "    .dataframe tbody tr th:only-of-type {\n",
       "        vertical-align: middle;\n",
       "    }\n",
       "\n",
       "    .dataframe tbody tr th {\n",
       "        vertical-align: top;\n",
       "    }\n",
       "\n",
       "    .dataframe thead th {\n",
       "        text-align: right;\n",
       "    }\n",
       "</style>\n",
       "<table border=\"1\" class=\"dataframe\">\n",
       "  <thead>\n",
       "    <tr style=\"text-align: right;\">\n",
       "      <th></th>\n",
       "      <th>timestamp</th>\n",
       "      <th>Asset_ID</th>\n",
       "      <th>Count</th>\n",
       "      <th>Open</th>\n",
       "      <th>High</th>\n",
       "      <th>Low</th>\n",
       "      <th>Close</th>\n",
       "      <th>Volume</th>\n",
       "      <th>VWAP</th>\n",
       "      <th>Target</th>\n",
       "    </tr>\n",
       "  </thead>\n",
       "  <tbody>\n",
       "    <tr>\n",
       "      <th>0</th>\n",
       "      <td>1514764860</td>\n",
       "      <td>2</td>\n",
       "      <td>40</td>\n",
       "      <td>2376.5800</td>\n",
       "      <td>2399.5000</td>\n",
       "      <td>2357.1400</td>\n",
       "      <td>2374.5900</td>\n",
       "      <td>19.233005</td>\n",
       "      <td>2373.116392</td>\n",
       "      <td>-0.004218</td>\n",
       "    </tr>\n",
       "    <tr>\n",
       "      <th>1</th>\n",
       "      <td>1514764860</td>\n",
       "      <td>0</td>\n",
       "      <td>5</td>\n",
       "      <td>8.5300</td>\n",
       "      <td>8.5300</td>\n",
       "      <td>8.5300</td>\n",
       "      <td>8.5300</td>\n",
       "      <td>78.380000</td>\n",
       "      <td>8.530000</td>\n",
       "      <td>-0.014399</td>\n",
       "    </tr>\n",
       "    <tr>\n",
       "      <th>2</th>\n",
       "      <td>1514764860</td>\n",
       "      <td>1</td>\n",
       "      <td>229</td>\n",
       "      <td>13835.1940</td>\n",
       "      <td>14013.8000</td>\n",
       "      <td>13666.1100</td>\n",
       "      <td>13850.1760</td>\n",
       "      <td>31.550062</td>\n",
       "      <td>13827.062093</td>\n",
       "      <td>-0.014643</td>\n",
       "    </tr>\n",
       "    <tr>\n",
       "      <th>3</th>\n",
       "      <td>1514764860</td>\n",
       "      <td>5</td>\n",
       "      <td>32</td>\n",
       "      <td>7.6596</td>\n",
       "      <td>7.6596</td>\n",
       "      <td>7.6567</td>\n",
       "      <td>7.6576</td>\n",
       "      <td>6626.713370</td>\n",
       "      <td>7.657713</td>\n",
       "      <td>-0.013922</td>\n",
       "    </tr>\n",
       "    <tr>\n",
       "      <th>4</th>\n",
       "      <td>1514764860</td>\n",
       "      <td>7</td>\n",
       "      <td>5</td>\n",
       "      <td>25.9200</td>\n",
       "      <td>25.9200</td>\n",
       "      <td>25.8740</td>\n",
       "      <td>25.8770</td>\n",
       "      <td>121.087310</td>\n",
       "      <td>25.891363</td>\n",
       "      <td>-0.008264</td>\n",
       "    </tr>\n",
       "  </tbody>\n",
       "</table>\n",
       "</div>"
      ],
      "text/plain": [
       "    timestamp  Asset_ID  Count        Open        High         Low  \\\n",
       "0  1514764860         2     40   2376.5800   2399.5000   2357.1400   \n",
       "1  1514764860         0      5      8.5300      8.5300      8.5300   \n",
       "2  1514764860         1    229  13835.1940  14013.8000  13666.1100   \n",
       "3  1514764860         5     32      7.6596      7.6596      7.6567   \n",
       "4  1514764860         7      5     25.9200     25.9200     25.8740   \n",
       "\n",
       "        Close       Volume          VWAP    Target  \n",
       "0   2374.5900    19.233005   2373.116392 -0.004218  \n",
       "1      8.5300    78.380000      8.530000 -0.014399  \n",
       "2  13850.1760    31.550062  13827.062093 -0.014643  \n",
       "3      7.6576  6626.713370      7.657713 -0.013922  \n",
       "4     25.8770   121.087310     25.891363 -0.008264  "
      ]
     },
     "execution_count": 4,
     "metadata": {},
     "output_type": "execute_result"
    }
   ],
   "source": [
    "df_train = pd.read_csv(data_train, \n",
    "                       dtype={'Asset_ID': 'int8', 'Count': 'int32', 'row_id': 'int32', 'Count': 'int32', \n",
    "                              'Open': 'float64', 'High': 'float64', 'Low': 'float64', 'Close': 'float64', \n",
    "                              'Volume': 'float64', 'VWAP': 'float64'\n",
    "                             }\n",
    "                      )\n",
    "df_train.head()"
   ]
  },
  {
   "cell_type": "code",
   "execution_count": 5,
   "id": "9e11027e",
   "metadata": {
    "execution": {
     "iopub.execute_input": "2022-01-04T10:00:31.976207Z",
     "iopub.status.busy": "2022-01-04T10:00:31.975587Z",
     "iopub.status.idle": "2022-01-04T10:00:32.000030Z",
     "shell.execute_reply": "2022-01-04T10:00:32.000550Z",
     "shell.execute_reply.started": "2022-01-04T09:57:26.946704Z"
    },
    "papermill": {
     "duration": 0.045065,
     "end_time": "2022-01-04T10:00:32.000749",
     "exception": false,
     "start_time": "2022-01-04T10:00:31.955684",
     "status": "completed"
    },
    "tags": []
   },
   "outputs": [],
   "source": [
    "import gresearch_crypto"
   ]
  },
  {
   "cell_type": "code",
   "execution_count": 6,
   "id": "733cbd01",
   "metadata": {
    "execution": {
     "iopub.execute_input": "2022-01-04T10:00:32.037047Z",
     "iopub.status.busy": "2022-01-04T10:00:32.036408Z",
     "iopub.status.idle": "2022-01-04T10:00:32.060090Z",
     "shell.execute_reply": "2022-01-04T10:00:32.060536Z",
     "shell.execute_reply.started": "2022-01-04T09:57:26.970250Z"
    },
    "papermill": {
     "duration": 0.043674,
     "end_time": "2022-01-04T10:00:32.060719",
     "exception": false,
     "start_time": "2022-01-04T10:00:32.017045",
     "status": "completed"
    },
    "tags": []
   },
   "outputs": [
    {
     "data": {
      "text/html": [
       "<div>\n",
       "<style scoped>\n",
       "    .dataframe tbody tr th:only-of-type {\n",
       "        vertical-align: middle;\n",
       "    }\n",
       "\n",
       "    .dataframe tbody tr th {\n",
       "        vertical-align: top;\n",
       "    }\n",
       "\n",
       "    .dataframe thead th {\n",
       "        text-align: right;\n",
       "    }\n",
       "</style>\n",
       "<table border=\"1\" class=\"dataframe\">\n",
       "  <thead>\n",
       "    <tr style=\"text-align: right;\">\n",
       "      <th></th>\n",
       "      <th>Asset_ID</th>\n",
       "      <th>Weight</th>\n",
       "      <th>Asset_Name</th>\n",
       "    </tr>\n",
       "  </thead>\n",
       "  <tbody>\n",
       "    <tr>\n",
       "      <th>1</th>\n",
       "      <td>0</td>\n",
       "      <td>4.304065</td>\n",
       "      <td>Binance Coin</td>\n",
       "    </tr>\n",
       "    <tr>\n",
       "      <th>2</th>\n",
       "      <td>1</td>\n",
       "      <td>6.779922</td>\n",
       "      <td>Bitcoin</td>\n",
       "    </tr>\n",
       "    <tr>\n",
       "      <th>0</th>\n",
       "      <td>2</td>\n",
       "      <td>2.397895</td>\n",
       "      <td>Bitcoin Cash</td>\n",
       "    </tr>\n",
       "    <tr>\n",
       "      <th>10</th>\n",
       "      <td>3</td>\n",
       "      <td>4.406719</td>\n",
       "      <td>Cardano</td>\n",
       "    </tr>\n",
       "    <tr>\n",
       "      <th>13</th>\n",
       "      <td>4</td>\n",
       "      <td>3.555348</td>\n",
       "      <td>Dogecoin</td>\n",
       "    </tr>\n",
       "  </tbody>\n",
       "</table>\n",
       "</div>"
      ],
      "text/plain": [
       "    Asset_ID    Weight    Asset_Name\n",
       "1          0  4.304065  Binance Coin\n",
       "2          1  6.779922       Bitcoin\n",
       "0          2  2.397895  Bitcoin Cash\n",
       "10         3  4.406719       Cardano\n",
       "13         4  3.555348      Dogecoin"
      ]
     },
     "execution_count": 6,
     "metadata": {},
     "output_type": "execute_result"
    }
   ],
   "source": [
    "df_assets = pd.read_csv(data_asset_details).sort_values(by='Asset_ID')\n",
    "df_assets.head()"
   ]
  },
  {
   "cell_type": "markdown",
   "id": "6fa54439",
   "metadata": {},
   "source": [
    "## Data preprocessing"
   ]
  },
  {
   "cell_type": "code",
   "execution_count": 1,
   "id": "a42c13d9",
   "metadata": {
    "execution": {
     "iopub.execute_input": "2022-01-04T10:00:32.098041Z",
     "iopub.status.busy": "2022-01-04T10:00:32.097356Z",
     "iopub.status.idle": "2022-01-04T10:00:33.348761Z",
     "shell.execute_reply": "2022-01-04T10:00:33.347929Z",
     "shell.execute_reply.started": "2022-01-04T09:57:26.991999Z"
    },
    "papermill": {
     "duration": 1.271565,
     "end_time": "2022-01-04T10:00:33.348959",
     "exception": false,
     "start_time": "2022-01-04T10:00:32.077394",
     "status": "completed"
    },
    "tags": []
   },
   "outputs": [],
   "source": [
    "def upper_shadow(df):\n",
    "    return df['High'] - np.maximum(df['Close'], df['Open'])\n",
    "\n",
    "def lower_shadow(df):\n",
    "    return np.minimum(df['Close'], df['Open']) - df['Low']\n",
    "\n",
    "def get_features(df):\n",
    "    df_feat = df[['Count', 'Open', 'High', 'Low', 'Close', 'Volume', 'VWAP']].copy()\n",
    "    df_feat['Upper_Shadow'] = upper_shadow(df_feat)\n",
    "    df_feat['Lower_Shadow'] = lower_shadow(df_feat)\n",
    "    \n",
    "    df_feat[\"Close/Open\"] = df_feat[\"Close\"] / df_feat[\"Open\"] \n",
    "    df_feat[\"Close-Open\"] = df_feat[\"Close\"] - df_feat[\"Open\"] \n",
    "    df_feat[\"High-Low\"] = df_feat[\"High\"] - df_feat[\"Low\"] \n",
    "    df_feat[\"High/Low\"] = df_feat[\"High\"] / df_feat[\"Low\"]\n",
    "    \n",
    "    df_feat['Mean'] = df_feat[['Open', 'High', 'Low', 'Close']].mean(axis=1)\n",
    "\n",
    "\n",
    "    df_feat[\"Median\"] = df_feat[[\"Open\", \"High\", \"Low\", \"Close\"]].median(axis=1)\n",
    "    return df_feat"
   ]
  },
  {
   "cell_type": "code",
   "execution_count": 8,
   "id": "698baffc",
   "metadata": {
    "execution": {
     "iopub.execute_input": "2022-01-04T10:00:33.394958Z",
     "iopub.status.busy": "2022-01-04T10:00:33.394209Z",
     "iopub.status.idle": "2022-01-04T10:00:33.398479Z",
     "shell.execute_reply": "2022-01-04T10:00:33.399108Z",
     "shell.execute_reply.started": "2022-01-04T09:57:28.057067Z"
    },
    "papermill": {
     "duration": 0.02476,
     "end_time": "2022-01-04T10:00:33.399316",
     "exception": false,
     "start_time": "2022-01-04T10:00:33.374556",
     "status": "completed"
    },
    "tags": []
   },
   "outputs": [],
   "source": [
    "from sklearn.preprocessing import StandardScaler"
   ]
  },
  {
   "cell_type": "code",
   "execution_count": 9,
   "id": "ef27b162",
   "metadata": {
    "execution": {
     "iopub.execute_input": "2022-01-04T10:00:33.440333Z",
     "iopub.status.busy": "2022-01-04T10:00:33.439737Z",
     "iopub.status.idle": "2022-01-04T10:00:33.717280Z",
     "shell.execute_reply": "2022-01-04T10:00:33.716711Z",
     "shell.execute_reply.started": "2022-01-04T09:57:28.063234Z"
    },
    "papermill": {
     "duration": 0.300246,
     "end_time": "2022-01-04T10:00:33.717418",
     "exception": false,
     "start_time": "2022-01-04T10:00:33.417172",
     "status": "completed"
    },
    "tags": []
   },
   "outputs": [],
   "source": [
    "from skopt import gp_minimize\n",
    "from skopt.space import Real, Integer\n",
    "from sklearn.model_selection import train_test_split\n",
    "from functools import partial"
   ]
  },
  {
   "cell_type": "code",
   "execution_count": 10,
   "id": "97f12a7e",
   "metadata": {
    "execution": {
     "iopub.execute_input": "2022-01-04T10:00:33.760292Z",
     "iopub.status.busy": "2022-01-04T10:00:33.759453Z",
     "iopub.status.idle": "2022-01-04T10:00:33.762646Z",
     "shell.execute_reply": "2022-01-04T10:00:33.762096Z",
     "shell.execute_reply.started": "2022-01-04T09:57:28.320671Z"
    },
    "papermill": {
     "duration": 0.02706,
     "end_time": "2022-01-04T10:00:33.762798",
     "exception": false,
     "start_time": "2022-01-04T10:00:33.735738",
     "status": "completed"
    },
    "tags": []
   },
   "outputs": [],
   "source": [
    "def m(x, w):\n",
    "    return np.sum(x * w) / np.sum(w)\n",
    "\n",
    "def cov(x, y, w):\n",
    "    return np.sum(w * (x - m(x, w)) * (y - m(y, w))) / np.sum(w)\n",
    "\n",
    "def wcc(x, y, w=2.079441541679836):\n",
    "    return cov(x, y, w) / np.sqrt(cov(x, x, w) * cov(y, y, w))"
   ]
  },
  {
   "cell_type": "code",
   "execution_count": 11,
   "id": "56a6e04e",
   "metadata": {
    "execution": {
     "iopub.execute_input": "2022-01-04T10:00:33.924683Z",
     "iopub.status.busy": "2022-01-04T10:00:33.921828Z",
     "iopub.status.idle": "2022-01-04T10:00:33.929087Z",
     "shell.execute_reply": "2022-01-04T10:00:33.928590Z",
     "shell.execute_reply.started": "2022-01-04T09:57:28.328441Z"
    },
    "papermill": {
     "duration": 0.149517,
     "end_time": "2022-01-04T10:00:33.929232",
     "exception": false,
     "start_time": "2022-01-04T10:00:33.779715",
     "status": "completed"
    },
    "tags": []
   },
   "outputs": [
    {
     "data": {
      "text/plain": [
       "1     1956282\n",
       "6     1956200\n",
       "9     1956030\n",
       "5     1955140\n",
       "2     1953537\n",
       "7     1951127\n",
       "0     1942619\n",
       "13    1874560\n",
       "3     1791867\n",
       "12    1778749\n",
       "11    1701261\n",
       "8     1592071\n",
       "4     1156866\n",
       "10     670497\n",
       "Name: Asset_ID, dtype: int64"
      ]
     },
     "execution_count": 11,
     "metadata": {},
     "output_type": "execute_result"
    }
   ],
   "source": [
    "df_train['Asset_ID'].value_counts()"
   ]
  },
  {
   "cell_type": "code",
   "execution_count": 12,
   "id": "ca19ba1f",
   "metadata": {
    "execution": {
     "iopub.execute_input": "2022-01-04T10:00:33.970099Z",
     "iopub.status.busy": "2022-01-04T10:00:33.969209Z",
     "iopub.status.idle": "2022-01-04T10:00:33.971466Z",
     "shell.execute_reply": "2022-01-04T10:00:33.971898Z",
     "shell.execute_reply.started": "2022-01-04T09:57:28.461879Z"
    },
    "papermill": {
     "duration": 0.025803,
     "end_time": "2022-01-04T10:00:33.972066",
     "exception": false,
     "start_time": "2022-01-04T10:00:33.946263",
     "status": "completed"
    },
    "tags": []
   },
   "outputs": [],
   "source": [
    "weight = df_assets[df_assets['Asset_ID'] == 7]['Weight'].values[0]"
   ]
  },
  {
   "cell_type": "code",
   "execution_count": 13,
   "id": "6bfa5aef",
   "metadata": {
    "execution": {
     "iopub.execute_input": "2022-01-04T10:00:34.009066Z",
     "iopub.status.busy": "2022-01-04T10:00:34.008101Z",
     "iopub.status.idle": "2022-01-04T10:00:34.014057Z",
     "shell.execute_reply": "2022-01-04T10:00:34.013363Z",
     "shell.execute_reply.started": "2022-01-04T09:57:28.472771Z"
    },
    "papermill": {
     "duration": 0.025773,
     "end_time": "2022-01-04T10:00:34.014197",
     "exception": false,
     "start_time": "2022-01-04T10:00:33.988424",
     "status": "completed"
    },
    "tags": []
   },
   "outputs": [
    {
     "data": {
      "text/plain": [
       "2.079441541679836"
      ]
     },
     "execution_count": 13,
     "metadata": {},
     "output_type": "execute_result"
    }
   ],
   "source": [
    "weight"
   ]
  },
  {
   "cell_type": "code",
   "execution_count": 14,
   "id": "62d3b7cf",
   "metadata": {
    "execution": {
     "iopub.execute_input": "2022-01-04T10:00:34.054414Z",
     "iopub.status.busy": "2022-01-04T10:00:34.053468Z",
     "iopub.status.idle": "2022-01-04T10:00:34.350134Z",
     "shell.execute_reply": "2022-01-04T10:00:34.349596Z",
     "shell.execute_reply.started": "2022-01-04T09:57:28.487362Z"
    },
    "papermill": {
     "duration": 0.31746,
     "end_time": "2022-01-04T10:00:34.350273",
     "exception": false,
     "start_time": "2022-01-04T10:00:34.032813",
     "status": "completed"
    },
    "tags": []
   },
   "outputs": [],
   "source": [
    "df = df_train[df_train['Asset_ID'] == 7].reset_index(drop=True)"
   ]
  },
  {
   "cell_type": "code",
   "execution_count": 15,
   "id": "055fa55c",
   "metadata": {
    "execution": {
     "iopub.execute_input": "2022-01-04T10:00:34.417763Z",
     "iopub.status.busy": "2022-01-04T10:00:34.417065Z",
     "iopub.status.idle": "2022-01-04T10:00:36.101708Z",
     "shell.execute_reply": "2022-01-04T10:00:36.102214Z",
     "shell.execute_reply.started": "2022-01-04T09:57:28.765667Z"
    },
    "papermill": {
     "duration": 1.735788,
     "end_time": "2022-01-04T10:00:36.102383",
     "exception": false,
     "start_time": "2022-01-04T10:00:34.366595",
     "status": "completed"
    },
    "tags": []
   },
   "outputs": [],
   "source": [
    "df_proc = get_features(df)\n",
    "df_proc['y'] = df['Target']\n",
    "df_proc = df_proc.dropna(how=\"any\")\n",
    "\n",
    "\n",
    "X = df_proc.drop(\"y\", axis=1)\n",
    "y = df_proc[\"y\"]\n",
    "\n",
    "scaler = StandardScaler()\n",
    "X = scaler.fit_transform(X)"
   ]
  },
  {
   "cell_type": "code",
   "execution_count": 16,
   "id": "d1aad391",
   "metadata": {
    "execution": {
     "iopub.execute_input": "2022-01-04T10:00:36.188834Z",
     "iopub.status.busy": "2022-01-04T10:00:36.187923Z",
     "iopub.status.idle": "2022-01-04T10:00:36.191021Z",
     "shell.execute_reply": "2022-01-04T10:00:36.190357Z",
     "shell.execute_reply.started": "2022-01-04T09:57:30.322419Z"
    },
    "papermill": {
     "duration": 0.072316,
     "end_time": "2022-01-04T10:00:36.191184",
     "exception": false,
     "start_time": "2022-01-04T10:00:36.118868",
     "status": "completed"
    },
    "tags": []
   },
   "outputs": [],
   "source": [
    "col_names = df_proc.drop('y', axis=1).columns"
   ]
  },
  {
   "cell_type": "code",
   "execution_count": 17,
   "id": "20237d9f",
   "metadata": {
    "execution": {
     "iopub.execute_input": "2022-01-04T10:00:36.238755Z",
     "iopub.status.busy": "2022-01-04T10:00:36.237590Z",
     "iopub.status.idle": "2022-01-04T10:00:36.999418Z",
     "shell.execute_reply": "2022-01-04T10:00:36.998734Z",
     "shell.execute_reply.started": "2022-01-04T09:57:30.376440Z"
    },
    "papermill": {
     "duration": 0.788056,
     "end_time": "2022-01-04T10:00:36.999587",
     "exception": false,
     "start_time": "2022-01-04T10:00:36.211531",
     "status": "completed"
    },
    "tags": []
   },
   "outputs": [],
   "source": [
    "X_train, X_test, y_train, y_test = train_test_split(X, y, test_size=0.75, random_state=42)\n",
    "target_col = \"y\"\n",
    "df_train = pd.DataFrame(X_train, columns=col_names)\n",
    "df_test = pd.DataFrame(X_test, columns=col_names)"
   ]
  },
  {
   "cell_type": "markdown",
   "id": "4e236041",
   "metadata": {},
   "source": [
    "## Best params finding"
   ]
  },
  {
   "cell_type": "code",
   "execution_count": 18,
   "id": "b422a489",
   "metadata": {
    "execution": {
     "iopub.execute_input": "2022-01-04T10:00:37.047535Z",
     "iopub.status.busy": "2022-01-04T10:00:37.045883Z",
     "iopub.status.idle": "2022-01-04T12:35:22.477543Z",
     "shell.execute_reply": "2022-01-04T12:35:22.478211Z",
     "shell.execute_reply.started": "2022-01-04T09:57:30.886549Z"
    },
    "papermill": {
     "duration": 9285.460997,
     "end_time": "2022-01-04T12:35:22.478771",
     "exception": false,
     "start_time": "2022-01-04T10:00:37.017774",
     "status": "completed"
    },
    "tags": []
   },
   "outputs": [
    {
     "name": "stdout",
     "output_type": "stream",
     "text": [
      "tuned hpyerparameters :(best parameters)  {'alpha': 0.0001, 'epsilon': 1.1, 'l1_ratio': 0.4, 'penalty': 'elasticnet'}\n",
      "WCC : 1.0459642937343806e-05\n",
      "WCC -  0.9999999875306764\n"
     ]
    }
   ],
   "source": [
    "from sklearn.model_selection import GridSearchCV\n",
    "from sklearn.linear_model import SGDRegressor\n",
    "grid={\"alpha\": [0.0001, 0.001, 0.01, 0.1, 1],\n",
    "      'penalty': ['l2', 'l1', 'elasticnet'],\n",
    "      'l1_ratio': [0.1, 0.15, 0.2, 0.25, 0.3, 0.35, 0.4, 0.45, 0.5],\n",
    "     'epsilon': [0.5, 0.8, 0.9, 1.0, 1.1, 1.2, 1.3]}\n",
    "sgd=SGDRegressor(tol=1e-6)\n",
    "sgd_cv=GridSearchCV(sgd,grid,cv=10, estimator=wcc)\n",
    "sgd_cv.fit(X_train, y_train)\n",
    "\n",
    "print(\"tuned hpyerparameters :(best parameters) \",sgd_cv.best_params_)\n",
    "print(\"WCC :\",sgd_cv.best_score_)\n",
    "\n",
    "prediction = sgd_cv.predict(X_test)\n",
    "\n",
    "\n",
    "print('WCC - ',wcc(prediction, y_test))"
   ]
  }
 ],
 "metadata": {
  "kernelspec": {
   "display_name": "Python 3",
   "language": "python",
   "name": "python3"
  },
  "language_info": {
   "codemirror_mode": {
    "name": "ipython",
    "version": 3
   },
   "file_extension": ".py",
   "mimetype": "text/x-python",
   "name": "python",
   "nbconvert_exporter": "python",
   "pygments_lexer": "ipython3",
   "version": "3.8.8"
  },
  "papermill": {
   "default_parameters": {},
   "duration": 9360.174579,
   "end_time": "2022-01-04T12:35:23.566636",
   "environment_variables": {},
   "exception": null,
   "input_path": "__notebook__.ipynb",
   "output_path": "__notebook__.ipynb",
   "parameters": {},
   "start_time": "2022-01-04T09:59:23.392057",
   "version": "2.3.3"
  }
 },
 "nbformat": 4,
 "nbformat_minor": 5
}
