{
 "cells": [
  {
   "cell_type": "code",
   "execution_count": 1,
   "id": "6a15bac2",
   "metadata": {
    "_cell_guid": "b1076dfc-b9ad-4769-8c92-a6c4dae69d19",
    "_uuid": "8f2839f25d086af736a60e9eeb907d3b93b6e0e5",
    "execution": {
     "iopub.execute_input": "2022-01-04T10:01:23.169901Z",
     "iopub.status.busy": "2022-01-04T10:01:23.168676Z",
     "iopub.status.idle": "2022-01-04T10:01:23.188279Z",
     "shell.execute_reply": "2022-01-04T10:01:23.187629Z",
     "shell.execute_reply.started": "2022-01-04T08:58:00.361128Z"
    },
    "papermill": {
     "duration": 0.044864,
     "end_time": "2022-01-04T10:01:23.188459",
     "exception": false,
     "start_time": "2022-01-04T10:01:23.143595",
     "status": "completed"
    },
    "tags": []
   },
   "outputs": [
    {
     "name": "stdout",
     "output_type": "stream",
     "text": [
      "/kaggle/input/g-research-crypto-forecasting/example_sample_submission.csv\n",
      "/kaggle/input/g-research-crypto-forecasting/asset_details.csv\n",
      "/kaggle/input/g-research-crypto-forecasting/example_test.csv\n",
      "/kaggle/input/g-research-crypto-forecasting/train.csv\n",
      "/kaggle/input/g-research-crypto-forecasting/supplemental_train.csv\n",
      "/kaggle/input/g-research-crypto-forecasting/gresearch_crypto/competition.cpython-37m-x86_64-linux-gnu.so\n",
      "/kaggle/input/g-research-crypto-forecasting/gresearch_crypto/__init__.py\n"
     ]
    }
   ],
   "source": [
    "import numpy as np\n",
    "import pandas as pd\n",
    "\n",
    "import os\n",
    "for dirname, _, filenames in os.walk('/kaggle/input'):\n",
    "    for filename in filenames:\n",
    "        print(os.path.join(dirname, filename))"
   ]
  },
  {
   "cell_type": "code",
   "execution_count": 2,
   "id": "37ce9b6a",
   "metadata": {
    "execution": {
     "iopub.execute_input": "2022-01-04T10:01:23.234213Z",
     "iopub.status.busy": "2022-01-04T10:01:23.233574Z",
     "iopub.status.idle": "2022-01-04T10:01:23.236877Z",
     "shell.execute_reply": "2022-01-04T10:01:23.237347Z",
     "shell.execute_reply.started": "2022-01-04T09:16:17.905094Z"
    },
    "papermill": {
     "duration": 0.028027,
     "end_time": "2022-01-04T10:01:23.237520",
     "exception": false,
     "start_time": "2022-01-04T10:01:23.209493",
     "status": "completed"
    },
    "tags": []
   },
   "outputs": [],
   "source": [
    "data_train = '/kaggle/input/g-research-crypto-forecasting/train.csv'\n",
    "data_asset_details = '/kaggle/input/g-research-crypto-forecasting/asset_details.csv'\n",
    "data_supplemental_train = '/kaggle/input/g-research-crypto-forecasting/supplemental_train.csv'"
   ]
  },
  {
   "cell_type": "code",
   "execution_count": 3,
   "id": "7380c0a8",
   "metadata": {
    "execution": {
     "iopub.execute_input": "2022-01-04T10:01:23.280355Z",
     "iopub.status.busy": "2022-01-04T10:01:23.279752Z",
     "iopub.status.idle": "2022-01-04T10:01:23.294124Z",
     "shell.execute_reply": "2022-01-04T10:01:23.294690Z",
     "shell.execute_reply.started": "2022-01-04T09:16:17.933061Z"
    },
    "papermill": {
     "duration": 0.037423,
     "end_time": "2022-01-04T10:01:23.294863",
     "exception": false,
     "start_time": "2022-01-04T10:01:23.257440",
     "status": "completed"
    },
    "tags": []
   },
   "outputs": [],
   "source": [
    "import random\n",
    "import pandas as pd\n",
    "import numpy as np\n",
    "import time"
   ]
  },
  {
   "cell_type": "code",
   "execution_count": 4,
   "id": "4d63f071",
   "metadata": {
    "execution": {
     "iopub.execute_input": "2022-01-04T10:01:23.338753Z",
     "iopub.status.busy": "2022-01-04T10:01:23.337739Z",
     "iopub.status.idle": "2022-01-04T10:02:24.538746Z",
     "shell.execute_reply": "2022-01-04T10:02:24.539261Z",
     "shell.execute_reply.started": "2022-01-04T09:16:17.956635Z"
    },
    "papermill": {
     "duration": 61.22455,
     "end_time": "2022-01-04T10:02:24.539458",
     "exception": false,
     "start_time": "2022-01-04T10:01:23.314908",
     "status": "completed"
    },
    "tags": []
   },
   "outputs": [
    {
     "data": {
      "text/html": [
       "<div>\n",
       "<style scoped>\n",
       "    .dataframe tbody tr th:only-of-type {\n",
       "        vertical-align: middle;\n",
       "    }\n",
       "\n",
       "    .dataframe tbody tr th {\n",
       "        vertical-align: top;\n",
       "    }\n",
       "\n",
       "    .dataframe thead th {\n",
       "        text-align: right;\n",
       "    }\n",
       "</style>\n",
       "<table border=\"1\" class=\"dataframe\">\n",
       "  <thead>\n",
       "    <tr style=\"text-align: right;\">\n",
       "      <th></th>\n",
       "      <th>timestamp</th>\n",
       "      <th>Asset_ID</th>\n",
       "      <th>Count</th>\n",
       "      <th>Open</th>\n",
       "      <th>High</th>\n",
       "      <th>Low</th>\n",
       "      <th>Close</th>\n",
       "      <th>Volume</th>\n",
       "      <th>VWAP</th>\n",
       "      <th>Target</th>\n",
       "    </tr>\n",
       "  </thead>\n",
       "  <tbody>\n",
       "    <tr>\n",
       "      <th>0</th>\n",
       "      <td>1514764860</td>\n",
       "      <td>2</td>\n",
       "      <td>40</td>\n",
       "      <td>2376.5800</td>\n",
       "      <td>2399.5000</td>\n",
       "      <td>2357.1400</td>\n",
       "      <td>2374.5900</td>\n",
       "      <td>19.233005</td>\n",
       "      <td>2373.116392</td>\n",
       "      <td>-0.004218</td>\n",
       "    </tr>\n",
       "    <tr>\n",
       "      <th>1</th>\n",
       "      <td>1514764860</td>\n",
       "      <td>0</td>\n",
       "      <td>5</td>\n",
       "      <td>8.5300</td>\n",
       "      <td>8.5300</td>\n",
       "      <td>8.5300</td>\n",
       "      <td>8.5300</td>\n",
       "      <td>78.380000</td>\n",
       "      <td>8.530000</td>\n",
       "      <td>-0.014399</td>\n",
       "    </tr>\n",
       "    <tr>\n",
       "      <th>2</th>\n",
       "      <td>1514764860</td>\n",
       "      <td>1</td>\n",
       "      <td>229</td>\n",
       "      <td>13835.1940</td>\n",
       "      <td>14013.8000</td>\n",
       "      <td>13666.1100</td>\n",
       "      <td>13850.1760</td>\n",
       "      <td>31.550062</td>\n",
       "      <td>13827.062093</td>\n",
       "      <td>-0.014643</td>\n",
       "    </tr>\n",
       "    <tr>\n",
       "      <th>3</th>\n",
       "      <td>1514764860</td>\n",
       "      <td>5</td>\n",
       "      <td>32</td>\n",
       "      <td>7.6596</td>\n",
       "      <td>7.6596</td>\n",
       "      <td>7.6567</td>\n",
       "      <td>7.6576</td>\n",
       "      <td>6626.713370</td>\n",
       "      <td>7.657713</td>\n",
       "      <td>-0.013922</td>\n",
       "    </tr>\n",
       "    <tr>\n",
       "      <th>4</th>\n",
       "      <td>1514764860</td>\n",
       "      <td>7</td>\n",
       "      <td>5</td>\n",
       "      <td>25.9200</td>\n",
       "      <td>25.9200</td>\n",
       "      <td>25.8740</td>\n",
       "      <td>25.8770</td>\n",
       "      <td>121.087310</td>\n",
       "      <td>25.891363</td>\n",
       "      <td>-0.008264</td>\n",
       "    </tr>\n",
       "  </tbody>\n",
       "</table>\n",
       "</div>"
      ],
      "text/plain": [
       "    timestamp  Asset_ID  Count        Open        High         Low  \\\n",
       "0  1514764860         2     40   2376.5800   2399.5000   2357.1400   \n",
       "1  1514764860         0      5      8.5300      8.5300      8.5300   \n",
       "2  1514764860         1    229  13835.1940  14013.8000  13666.1100   \n",
       "3  1514764860         5     32      7.6596      7.6596      7.6567   \n",
       "4  1514764860         7      5     25.9200     25.9200     25.8740   \n",
       "\n",
       "        Close       Volume          VWAP    Target  \n",
       "0   2374.5900    19.233005   2373.116392 -0.004218  \n",
       "1      8.5300    78.380000      8.530000 -0.014399  \n",
       "2  13850.1760    31.550062  13827.062093 -0.014643  \n",
       "3      7.6576  6626.713370      7.657713 -0.013922  \n",
       "4     25.8770   121.087310     25.891363 -0.008264  "
      ]
     },
     "execution_count": 4,
     "metadata": {},
     "output_type": "execute_result"
    }
   ],
   "source": [
    "df_train = pd.read_csv(data_train, \n",
    "                       dtype={'Asset_ID': 'int8', 'Count': 'int32', 'row_id': 'int32', 'Count': 'int32', \n",
    "                              'Open': 'float64', 'High': 'float64', 'Low': 'float64', 'Close': 'float64', \n",
    "                              'Volume': 'float64', 'VWAP': 'float64'\n",
    "                             }\n",
    "                      )\n",
    "df_train.head()"
   ]
  },
  {
   "cell_type": "code",
   "execution_count": 5,
   "id": "43d39f16",
   "metadata": {
    "execution": {
     "iopub.execute_input": "2022-01-04T10:02:24.584127Z",
     "iopub.status.busy": "2022-01-04T10:02:24.583169Z",
     "iopub.status.idle": "2022-01-04T10:02:24.606348Z",
     "shell.execute_reply": "2022-01-04T10:02:24.606882Z",
     "shell.execute_reply.started": "2022-01-04T09:17:17.038906Z"
    },
    "papermill": {
     "duration": 0.047195,
     "end_time": "2022-01-04T10:02:24.607061",
     "exception": false,
     "start_time": "2022-01-04T10:02:24.559866",
     "status": "completed"
    },
    "tags": []
   },
   "outputs": [],
   "source": [
    "import gresearch_crypto"
   ]
  },
  {
   "cell_type": "code",
   "execution_count": 6,
   "id": "849ec233",
   "metadata": {
    "execution": {
     "iopub.execute_input": "2022-01-04T10:02:24.654293Z",
     "iopub.status.busy": "2022-01-04T10:02:24.653399Z",
     "iopub.status.idle": "2022-01-04T10:02:24.676481Z",
     "shell.execute_reply": "2022-01-04T10:02:24.676949Z",
     "shell.execute_reply.started": "2022-01-04T09:17:17.071759Z"
    },
    "papermill": {
     "duration": 0.049381,
     "end_time": "2022-01-04T10:02:24.677120",
     "exception": false,
     "start_time": "2022-01-04T10:02:24.627739",
     "status": "completed"
    },
    "tags": []
   },
   "outputs": [
    {
     "data": {
      "text/html": [
       "<div>\n",
       "<style scoped>\n",
       "    .dataframe tbody tr th:only-of-type {\n",
       "        vertical-align: middle;\n",
       "    }\n",
       "\n",
       "    .dataframe tbody tr th {\n",
       "        vertical-align: top;\n",
       "    }\n",
       "\n",
       "    .dataframe thead th {\n",
       "        text-align: right;\n",
       "    }\n",
       "</style>\n",
       "<table border=\"1\" class=\"dataframe\">\n",
       "  <thead>\n",
       "    <tr style=\"text-align: right;\">\n",
       "      <th></th>\n",
       "      <th>Asset_ID</th>\n",
       "      <th>Weight</th>\n",
       "      <th>Asset_Name</th>\n",
       "    </tr>\n",
       "  </thead>\n",
       "  <tbody>\n",
       "    <tr>\n",
       "      <th>1</th>\n",
       "      <td>0</td>\n",
       "      <td>4.304065</td>\n",
       "      <td>Binance Coin</td>\n",
       "    </tr>\n",
       "    <tr>\n",
       "      <th>2</th>\n",
       "      <td>1</td>\n",
       "      <td>6.779922</td>\n",
       "      <td>Bitcoin</td>\n",
       "    </tr>\n",
       "    <tr>\n",
       "      <th>0</th>\n",
       "      <td>2</td>\n",
       "      <td>2.397895</td>\n",
       "      <td>Bitcoin Cash</td>\n",
       "    </tr>\n",
       "    <tr>\n",
       "      <th>10</th>\n",
       "      <td>3</td>\n",
       "      <td>4.406719</td>\n",
       "      <td>Cardano</td>\n",
       "    </tr>\n",
       "    <tr>\n",
       "      <th>13</th>\n",
       "      <td>4</td>\n",
       "      <td>3.555348</td>\n",
       "      <td>Dogecoin</td>\n",
       "    </tr>\n",
       "  </tbody>\n",
       "</table>\n",
       "</div>"
      ],
      "text/plain": [
       "    Asset_ID    Weight    Asset_Name\n",
       "1          0  4.304065  Binance Coin\n",
       "2          1  6.779922       Bitcoin\n",
       "0          2  2.397895  Bitcoin Cash\n",
       "10         3  4.406719       Cardano\n",
       "13         4  3.555348      Dogecoin"
      ]
     },
     "execution_count": 6,
     "metadata": {},
     "output_type": "execute_result"
    }
   ],
   "source": [
    "df_assets = pd.read_csv(data_asset_details).sort_values(by='Asset_ID')\n",
    "df_assets.head()"
   ]
  },
  {
   "cell_type": "markdown",
   "id": "118eb1c5",
   "metadata": {},
   "source": [
    "## Data preprocessing"
   ]
  },
  {
   "cell_type": "code",
   "execution_count": 7,
   "id": "df376842",
   "metadata": {
    "execution": {
     "iopub.execute_input": "2022-01-04T10:02:24.729266Z",
     "iopub.status.busy": "2022-01-04T10:02:24.728480Z",
     "iopub.status.idle": "2022-01-04T10:02:25.833887Z",
     "shell.execute_reply": "2022-01-04T10:02:25.833233Z",
     "shell.execute_reply.started": "2022-01-04T09:17:17.095847Z"
    },
    "papermill": {
     "duration": 1.135939,
     "end_time": "2022-01-04T10:02:25.834039",
     "exception": false,
     "start_time": "2022-01-04T10:02:24.698100",
     "status": "completed"
    },
    "tags": []
   },
   "outputs": [],
   "source": [
    "def upper_shadow(df):\n",
    "    return df['High'] - np.maximum(df['Close'], df['Open'])\n",
    "\n",
    "def lower_shadow(df):\n",
    "    return np.minimum(df['Close'], df['Open']) - df['Low']\n",
    "\n",
    "def get_features(df):\n",
    "    df_feat = df[['Count', 'Open', 'High', 'Low', 'Close', 'Volume', 'VWAP']].copy()\n",
    "    df_feat['Upper_Shadow'] = upper_shadow(df_feat)\n",
    "    df_feat['Lower_Shadow'] = lower_shadow(df_feat)\n",
    "    \n",
    "    df_feat[\"Close/Open\"] = df_feat[\"Close\"] / df_feat[\"Open\"] \n",
    "    df_feat[\"Close-Open\"] = df_feat[\"Close\"] - df_feat[\"Open\"] \n",
    "    df_feat[\"High-Low\"] = df_feat[\"High\"] - df_feat[\"Low\"] \n",
    "    df_feat[\"High/Low\"] = df_feat[\"High\"] / df_feat[\"Low\"]\n",
    "    \n",
    "    df_feat['Mean'] = df_feat[['Open', 'High', 'Low', 'Close']].mean(axis=1)\n",
    "\n",
    "\n",
    "    df_feat[\"Median\"] = df_feat[[\"Open\", \"High\", \"Low\", \"Close\"]].median(axis=1)\n",
    "    return df_feat"
   ]
  },
  {
   "cell_type": "code",
   "execution_count": 8,
   "id": "43f01727",
   "metadata": {
    "execution": {
     "iopub.execute_input": "2022-01-04T10:02:25.882053Z",
     "iopub.status.busy": "2022-01-04T10:02:25.881415Z",
     "iopub.status.idle": "2022-01-04T10:02:25.883285Z",
     "shell.execute_reply": "2022-01-04T10:02:25.883820Z",
     "shell.execute_reply.started": "2022-01-04T09:17:18.202546Z"
    },
    "papermill": {
     "duration": 0.028358,
     "end_time": "2022-01-04T10:02:25.883973",
     "exception": false,
     "start_time": "2022-01-04T10:02:25.855615",
     "status": "completed"
    },
    "tags": []
   },
   "outputs": [],
   "source": [
    "from sklearn.preprocessing import StandardScaler"
   ]
  },
  {
   "cell_type": "code",
   "execution_count": 9,
   "id": "bf144c33",
   "metadata": {
    "execution": {
     "iopub.execute_input": "2022-01-04T10:02:25.929835Z",
     "iopub.status.busy": "2022-01-04T10:02:25.928940Z",
     "iopub.status.idle": "2022-01-04T10:02:26.176407Z",
     "shell.execute_reply": "2022-01-04T10:02:26.175773Z",
     "shell.execute_reply.started": "2022-01-04T09:17:18.208480Z"
    },
    "papermill": {
     "duration": 0.271069,
     "end_time": "2022-01-04T10:02:26.176555",
     "exception": false,
     "start_time": "2022-01-04T10:02:25.905486",
     "status": "completed"
    },
    "tags": []
   },
   "outputs": [],
   "source": [
    "from skopt import gp_minimize\n",
    "from skopt.space import Real, Integer\n",
    "from sklearn.model_selection import train_test_split\n",
    "from functools import partial"
   ]
  },
  {
   "cell_type": "code",
   "execution_count": 10,
   "id": "a35e05b1",
   "metadata": {
    "execution": {
     "iopub.execute_input": "2022-01-04T10:02:26.226575Z",
     "iopub.status.busy": "2022-01-04T10:02:26.225897Z",
     "iopub.status.idle": "2022-01-04T10:02:26.228802Z",
     "shell.execute_reply": "2022-01-04T10:02:26.228152Z",
     "shell.execute_reply.started": "2022-01-04T09:17:18.472730Z"
    },
    "papermill": {
     "duration": 0.031189,
     "end_time": "2022-01-04T10:02:26.228948",
     "exception": false,
     "start_time": "2022-01-04T10:02:26.197759",
     "status": "completed"
    },
    "tags": []
   },
   "outputs": [],
   "source": [
    "def m(x, w):\n",
    "    return np.sum(x * w) / np.sum(w)\n",
    "\n",
    "def cov(x, y, w):\n",
    "    return np.sum(w * (x - m(x, w)) * (y - m(y, w))) / np.sum(w)\n",
    "\n",
    "def wcc(x, y, w=2.079441541679836):\n",
    "    return cov(x, y, w) / np.sqrt(cov(x, x, w) * cov(y, y, w))"
   ]
  },
  {
   "cell_type": "code",
   "execution_count": 11,
   "id": "172cd345",
   "metadata": {
    "execution": {
     "iopub.execute_input": "2022-01-04T10:02:26.394933Z",
     "iopub.status.busy": "2022-01-04T10:02:26.394145Z",
     "iopub.status.idle": "2022-01-04T10:02:26.397400Z",
     "shell.execute_reply": "2022-01-04T10:02:26.397884Z",
     "shell.execute_reply.started": "2022-01-04T09:17:18.481553Z"
    },
    "papermill": {
     "duration": 0.148044,
     "end_time": "2022-01-04T10:02:26.398049",
     "exception": false,
     "start_time": "2022-01-04T10:02:26.250005",
     "status": "completed"
    },
    "tags": []
   },
   "outputs": [
    {
     "data": {
      "text/plain": [
       "1     1956282\n",
       "6     1956200\n",
       "9     1956030\n",
       "5     1955140\n",
       "2     1953537\n",
       "7     1951127\n",
       "0     1942619\n",
       "13    1874560\n",
       "3     1791867\n",
       "12    1778749\n",
       "11    1701261\n",
       "8     1592071\n",
       "4     1156866\n",
       "10     670497\n",
       "Name: Asset_ID, dtype: int64"
      ]
     },
     "execution_count": 11,
     "metadata": {},
     "output_type": "execute_result"
    }
   ],
   "source": [
    "df_train['Asset_ID'].value_counts()"
   ]
  },
  {
   "cell_type": "code",
   "execution_count": 12,
   "id": "84b7824f",
   "metadata": {
    "execution": {
     "iopub.execute_input": "2022-01-04T10:02:26.448432Z",
     "iopub.status.busy": "2022-01-04T10:02:26.447740Z",
     "iopub.status.idle": "2022-01-04T10:02:26.449625Z",
     "shell.execute_reply": "2022-01-04T10:02:26.450098Z",
     "shell.execute_reply.started": "2022-01-04T09:17:18.618590Z"
    },
    "papermill": {
     "duration": 0.030608,
     "end_time": "2022-01-04T10:02:26.450283",
     "exception": false,
     "start_time": "2022-01-04T10:02:26.419675",
     "status": "completed"
    },
    "tags": []
   },
   "outputs": [],
   "source": [
    "weight = df_assets[df_assets['Asset_ID'] == 7]['Weight'].values[0]"
   ]
  },
  {
   "cell_type": "code",
   "execution_count": 13,
   "id": "e451b700",
   "metadata": {
    "execution": {
     "iopub.execute_input": "2022-01-04T10:02:26.498192Z",
     "iopub.status.busy": "2022-01-04T10:02:26.497208Z",
     "iopub.status.idle": "2022-01-04T10:02:26.502064Z",
     "shell.execute_reply": "2022-01-04T10:02:26.502567Z",
     "shell.execute_reply.started": "2022-01-04T09:17:18.629154Z"
    },
    "papermill": {
     "duration": 0.030473,
     "end_time": "2022-01-04T10:02:26.502740",
     "exception": false,
     "start_time": "2022-01-04T10:02:26.472267",
     "status": "completed"
    },
    "tags": []
   },
   "outputs": [
    {
     "data": {
      "text/plain": [
       "2.079441541679836"
      ]
     },
     "execution_count": 13,
     "metadata": {},
     "output_type": "execute_result"
    }
   ],
   "source": [
    "weight"
   ]
  },
  {
   "cell_type": "code",
   "execution_count": 14,
   "id": "6bd5efaa",
   "metadata": {
    "execution": {
     "iopub.execute_input": "2022-01-04T10:02:26.551638Z",
     "iopub.status.busy": "2022-01-04T10:02:26.550951Z",
     "iopub.status.idle": "2022-01-04T10:02:26.824194Z",
     "shell.execute_reply": "2022-01-04T10:02:26.823596Z",
     "shell.execute_reply.started": "2022-01-04T09:17:18.642046Z"
    },
    "papermill": {
     "duration": 0.299634,
     "end_time": "2022-01-04T10:02:26.824342",
     "exception": false,
     "start_time": "2022-01-04T10:02:26.524708",
     "status": "completed"
    },
    "tags": []
   },
   "outputs": [],
   "source": [
    "df = df_train[df_train['Asset_ID'] == 7].reset_index(drop=True)"
   ]
  },
  {
   "cell_type": "code",
   "execution_count": 15,
   "id": "c62e0401",
   "metadata": {
    "execution": {
     "iopub.execute_input": "2022-01-04T10:02:26.881839Z",
     "iopub.status.busy": "2022-01-04T10:02:26.881132Z",
     "iopub.status.idle": "2022-01-04T10:02:28.427563Z",
     "shell.execute_reply": "2022-01-04T10:02:28.428072Z",
     "shell.execute_reply.started": "2022-01-04T09:17:18.922375Z"
    },
    "papermill": {
     "duration": 1.581859,
     "end_time": "2022-01-04T10:02:28.428276",
     "exception": false,
     "start_time": "2022-01-04T10:02:26.846417",
     "status": "completed"
    },
    "tags": []
   },
   "outputs": [],
   "source": [
    "df_proc = get_features(df)\n",
    "df_proc['y'] = df['Target']\n",
    "df_proc = df_proc.dropna(how=\"any\")\n",
    "\n",
    "\n",
    "X = df_proc.drop(\"y\", axis=1)\n",
    "y = df_proc[\"y\"]\n",
    "\n",
    "scaler = StandardScaler()\n",
    "X = scaler.fit_transform(X)"
   ]
  },
  {
   "cell_type": "code",
   "execution_count": 16,
   "id": "83890d66",
   "metadata": {
    "execution": {
     "iopub.execute_input": "2022-01-04T10:02:28.476070Z",
     "iopub.status.busy": "2022-01-04T10:02:28.475104Z",
     "iopub.status.idle": "2022-01-04T10:02:28.531821Z",
     "shell.execute_reply": "2022-01-04T10:02:28.532344Z",
     "shell.execute_reply.started": "2022-01-04T09:17:20.475569Z"
    },
    "papermill": {
     "duration": 0.082162,
     "end_time": "2022-01-04T10:02:28.532554",
     "exception": false,
     "start_time": "2022-01-04T10:02:28.450392",
     "status": "completed"
    },
    "tags": []
   },
   "outputs": [],
   "source": [
    "col_names = df_proc.drop('y', axis=1).columns"
   ]
  },
  {
   "cell_type": "code",
   "execution_count": 17,
   "id": "9b3595df",
   "metadata": {
    "execution": {
     "iopub.execute_input": "2022-01-04T10:02:28.595314Z",
     "iopub.status.busy": "2022-01-04T10:02:28.594650Z",
     "iopub.status.idle": "2022-01-04T10:02:29.102836Z",
     "shell.execute_reply": "2022-01-04T10:02:29.102235Z",
     "shell.execute_reply.started": "2022-01-04T09:17:20.533989Z"
    },
    "papermill": {
     "duration": 0.543958,
     "end_time": "2022-01-04T10:02:29.102995",
     "exception": false,
     "start_time": "2022-01-04T10:02:28.559037",
     "status": "completed"
    },
    "tags": []
   },
   "outputs": [],
   "source": [
    "X_train, X_test, y_train, y_test = train_test_split(X, y, test_size=0.75, random_state=42)\n",
    "target_col = \"y\"\n",
    "df_train = pd.DataFrame(X_train, columns=col_names)\n",
    "df_test = pd.DataFrame(X_test, columns=col_names)"
   ]
  },
  {
   "cell_type": "markdown",
   "id": "63036e3e",
   "metadata": {},
   "source": [
    "## Best params finding"
   ]
  },
  {
   "cell_type": "code",
   "execution_count": 18,
   "id": "9a1e016e",
   "metadata": {
    "execution": {
     "iopub.execute_input": "2022-01-04T10:02:29.150427Z",
     "iopub.status.busy": "2022-01-04T10:02:29.149758Z",
     "iopub.status.idle": "2022-01-04T14:21:44.456270Z",
     "shell.execute_reply": "2022-01-04T14:21:44.456804Z"
    },
    "papermill": {
     "duration": 15555.332079,
     "end_time": "2022-01-04T14:21:44.457178",
     "exception": false,
     "start_time": "2022-01-04T10:02:29.125099",
     "status": "completed"
    },
    "tags": []
   },
   "outputs": [
    {
     "name": "stderr",
     "output_type": "stream",
     "text": [
      "/opt/conda/lib/python3.7/site-packages/sklearn/linear_model/_coordinate_descent.py:531: ConvergenceWarning: Objective did not converge. You might want to increase the number of iterations. Duality gap: 17.41567147214845, tolerance: 3.483909719633341e-05\n",
      "  positive)\n",
      "/opt/conda/lib/python3.7/site-packages/sklearn/linear_model/_coordinate_descent.py:531: ConvergenceWarning: Objective did not converge. You might want to increase the number of iterations. Duality gap: 17.2778576123721, tolerance: 3.456223945817303e-05\n",
      "  positive)\n",
      "/opt/conda/lib/python3.7/site-packages/sklearn/linear_model/_coordinate_descent.py:531: ConvergenceWarning: Objective did not converge. You might want to increase the number of iterations. Duality gap: 17.386897688115877, tolerance: 3.478072713527042e-05\n",
      "  positive)\n",
      "/opt/conda/lib/python3.7/site-packages/sklearn/linear_model/_coordinate_descent.py:531: ConvergenceWarning: Objective did not converge. You might want to increase the number of iterations. Duality gap: 17.332779160473255, tolerance: 3.467207607636766e-05\n",
      "  positive)\n",
      "/opt/conda/lib/python3.7/site-packages/sklearn/linear_model/_coordinate_descent.py:531: ConvergenceWarning: Objective did not converge. You might want to increase the number of iterations. Duality gap: 17.342730749164964, tolerance: 3.469410435696986e-05\n",
      "  positive)\n",
      "/opt/conda/lib/python3.7/site-packages/sklearn/linear_model/_coordinate_descent.py:531: ConvergenceWarning: Objective did not converge. You might want to increase the number of iterations. Duality gap: 17.39430364824759, tolerance: 3.479775204091903e-05\n",
      "  positive)\n",
      "/opt/conda/lib/python3.7/site-packages/sklearn/linear_model/_coordinate_descent.py:531: ConvergenceWarning: Objective did not converge. You might want to increase the number of iterations. Duality gap: 17.328649597906626, tolerance: 3.4666047939568544e-05\n",
      "  positive)\n",
      "/opt/conda/lib/python3.7/site-packages/sklearn/linear_model/_coordinate_descent.py:531: ConvergenceWarning: Objective did not converge. You might want to increase the number of iterations. Duality gap: 17.335983820315885, tolerance: 3.46818220295208e-05\n",
      "  positive)\n",
      "/opt/conda/lib/python3.7/site-packages/sklearn/linear_model/_coordinate_descent.py:531: ConvergenceWarning: Objective did not converge. You might want to increase the number of iterations. Duality gap: 17.317783392088703, tolerance: 3.464350344521821e-05\n",
      "  positive)\n",
      "/opt/conda/lib/python3.7/site-packages/sklearn/linear_model/_coordinate_descent.py:531: ConvergenceWarning: Objective did not converge. You might want to increase the number of iterations. Duality gap: 17.469578103933195, tolerance: 3.494773426174916e-05\n",
      "  positive)\n",
      "/opt/conda/lib/python3.7/site-packages/sklearn/linear_model/_coordinate_descent.py:531: ConvergenceWarning: Objective did not converge. You might want to increase the number of iterations. Duality gap: 17.415671472148453, tolerance: 3.483909719633341e-05\n",
      "  positive)\n",
      "/opt/conda/lib/python3.7/site-packages/sklearn/linear_model/_coordinate_descent.py:531: ConvergenceWarning: Objective did not converge. You might want to increase the number of iterations. Duality gap: 17.277857612372106, tolerance: 3.456223945817303e-05\n",
      "  positive)\n",
      "/opt/conda/lib/python3.7/site-packages/sklearn/linear_model/_coordinate_descent.py:531: ConvergenceWarning: Objective did not converge. You might want to increase the number of iterations. Duality gap: 17.386897688115884, tolerance: 3.478072713527042e-05\n",
      "  positive)\n",
      "/opt/conda/lib/python3.7/site-packages/sklearn/linear_model/_coordinate_descent.py:531: ConvergenceWarning: Objective did not converge. You might want to increase the number of iterations. Duality gap: 17.332779160473237, tolerance: 3.467207607636766e-05\n",
      "  positive)\n",
      "/opt/conda/lib/python3.7/site-packages/sklearn/linear_model/_coordinate_descent.py:531: ConvergenceWarning: Objective did not converge. You might want to increase the number of iterations. Duality gap: 17.34273074916496, tolerance: 3.469410435696986e-05\n",
      "  positive)\n",
      "/opt/conda/lib/python3.7/site-packages/sklearn/linear_model/_coordinate_descent.py:531: ConvergenceWarning: Objective did not converge. You might want to increase the number of iterations. Duality gap: 17.39430364824759, tolerance: 3.479775204091903e-05\n",
      "  positive)\n",
      "/opt/conda/lib/python3.7/site-packages/sklearn/linear_model/_coordinate_descent.py:531: ConvergenceWarning: Objective did not converge. You might want to increase the number of iterations. Duality gap: 17.328649597906626, tolerance: 3.4666047939568544e-05\n",
      "  positive)\n",
      "/opt/conda/lib/python3.7/site-packages/sklearn/linear_model/_coordinate_descent.py:531: ConvergenceWarning: Objective did not converge. You might want to increase the number of iterations. Duality gap: 17.335983820315892, tolerance: 3.46818220295208e-05\n",
      "  positive)\n",
      "/opt/conda/lib/python3.7/site-packages/sklearn/linear_model/_coordinate_descent.py:531: ConvergenceWarning: Objective did not converge. You might want to increase the number of iterations. Duality gap: 17.31778339208872, tolerance: 3.464350344521821e-05\n",
      "  positive)\n",
      "/opt/conda/lib/python3.7/site-packages/sklearn/linear_model/_coordinate_descent.py:531: ConvergenceWarning: Objective did not converge. You might want to increase the number of iterations. Duality gap: 17.469578103933205, tolerance: 3.494773426174916e-05\n",
      "  positive)\n",
      "/opt/conda/lib/python3.7/site-packages/sklearn/linear_model/_coordinate_descent.py:531: ConvergenceWarning: Objective did not converge. You might want to increase the number of iterations. Duality gap: 17.416542682141394, tolerance: 3.483909719633341e-05\n",
      "  positive)\n",
      "/opt/conda/lib/python3.7/site-packages/sklearn/linear_model/_coordinate_descent.py:531: ConvergenceWarning: Objective did not converge. You might want to increase the number of iterations. Duality gap: 17.27863128658779, tolerance: 3.456223945817303e-05\n",
      "  positive)\n",
      "/opt/conda/lib/python3.7/site-packages/sklearn/linear_model/_coordinate_descent.py:531: ConvergenceWarning: Objective did not converge. You might want to increase the number of iterations. Duality gap: 17.387671685290602, tolerance: 3.478072713527042e-05\n",
      "  positive)\n",
      "/opt/conda/lib/python3.7/site-packages/sklearn/linear_model/_coordinate_descent.py:531: ConvergenceWarning: Objective did not converge. You might want to increase the number of iterations. Duality gap: 17.333545839710975, tolerance: 3.467207607636766e-05\n",
      "  positive)\n",
      "/opt/conda/lib/python3.7/site-packages/sklearn/linear_model/_coordinate_descent.py:531: ConvergenceWarning: Objective did not converge. You might want to increase the number of iterations. Duality gap: 17.343708659309797, tolerance: 3.469410435696986e-05\n",
      "  positive)\n",
      "/opt/conda/lib/python3.7/site-packages/sklearn/linear_model/_coordinate_descent.py:531: ConvergenceWarning: Objective did not converge. You might want to increase the number of iterations. Duality gap: 17.395370606944468, tolerance: 3.479775204091903e-05\n",
      "  positive)\n",
      "/opt/conda/lib/python3.7/site-packages/sklearn/linear_model/_coordinate_descent.py:531: ConvergenceWarning: Objective did not converge. You might want to increase the number of iterations. Duality gap: 17.32959758975752, tolerance: 3.4666047939568544e-05\n",
      "  positive)\n",
      "/opt/conda/lib/python3.7/site-packages/sklearn/linear_model/_coordinate_descent.py:531: ConvergenceWarning: Objective did not converge. You might want to increase the number of iterations. Duality gap: 17.33716789378694, tolerance: 3.46818220295208e-05\n",
      "  positive)\n",
      "/opt/conda/lib/python3.7/site-packages/sklearn/linear_model/_coordinate_descent.py:531: ConvergenceWarning: Objective did not converge. You might want to increase the number of iterations. Duality gap: 17.31869114748467, tolerance: 3.464350344521821e-05\n",
      "  positive)\n",
      "/opt/conda/lib/python3.7/site-packages/sklearn/linear_model/_coordinate_descent.py:531: ConvergenceWarning: Objective did not converge. You might want to increase the number of iterations. Duality gap: 17.47061521529045, tolerance: 3.494773426174916e-05\n",
      "  positive)\n",
      "/opt/conda/lib/python3.7/site-packages/sklearn/linear_model/_coordinate_descent.py:531: ConvergenceWarning: Objective did not converge. You might want to increase the number of iterations. Duality gap: 17.416542682141408, tolerance: 3.483909719633341e-05\n",
      "  positive)\n",
      "/opt/conda/lib/python3.7/site-packages/sklearn/linear_model/_coordinate_descent.py:531: ConvergenceWarning: Objective did not converge. You might want to increase the number of iterations. Duality gap: 17.27863128658779, tolerance: 3.456223945817303e-05\n",
      "  positive)\n",
      "/opt/conda/lib/python3.7/site-packages/sklearn/linear_model/_coordinate_descent.py:531: ConvergenceWarning: Objective did not converge. You might want to increase the number of iterations. Duality gap: 17.387671685290595, tolerance: 3.478072713527042e-05\n",
      "  positive)\n",
      "/opt/conda/lib/python3.7/site-packages/sklearn/linear_model/_coordinate_descent.py:531: ConvergenceWarning: Objective did not converge. You might want to increase the number of iterations. Duality gap: 17.333545839710975, tolerance: 3.467207607636766e-05\n",
      "  positive)\n",
      "/opt/conda/lib/python3.7/site-packages/sklearn/linear_model/_coordinate_descent.py:531: ConvergenceWarning: Objective did not converge. You might want to increase the number of iterations. Duality gap: 17.34370865930979, tolerance: 3.469410435696986e-05\n",
      "  positive)\n",
      "/opt/conda/lib/python3.7/site-packages/sklearn/linear_model/_coordinate_descent.py:531: ConvergenceWarning: Objective did not converge. You might want to increase the number of iterations. Duality gap: 17.395370606944468, tolerance: 3.479775204091903e-05\n",
      "  positive)\n",
      "/opt/conda/lib/python3.7/site-packages/sklearn/linear_model/_coordinate_descent.py:531: ConvergenceWarning: Objective did not converge. You might want to increase the number of iterations. Duality gap: 17.329597589757515, tolerance: 3.4666047939568544e-05\n",
      "  positive)\n",
      "/opt/conda/lib/python3.7/site-packages/sklearn/linear_model/_coordinate_descent.py:531: ConvergenceWarning: Objective did not converge. You might want to increase the number of iterations. Duality gap: 17.337167893786933, tolerance: 3.46818220295208e-05\n",
      "  positive)\n",
      "/opt/conda/lib/python3.7/site-packages/sklearn/linear_model/_coordinate_descent.py:531: ConvergenceWarning: Objective did not converge. You might want to increase the number of iterations. Duality gap: 17.318691147484675, tolerance: 3.464350344521821e-05\n",
      "  positive)\n",
      "/opt/conda/lib/python3.7/site-packages/sklearn/linear_model/_coordinate_descent.py:531: ConvergenceWarning: Objective did not converge. You might want to increase the number of iterations. Duality gap: 17.470615215290447, tolerance: 3.494773426174916e-05\n",
      "  positive)\n",
      "/opt/conda/lib/python3.7/site-packages/sklearn/linear_model/_coordinate_descent.py:531: ConvergenceWarning: Objective did not converge. You might want to increase the number of iterations. Duality gap: 17.417063713119884, tolerance: 3.483909719633341e-05\n",
      "  positive)\n",
      "/opt/conda/lib/python3.7/site-packages/sklearn/linear_model/_coordinate_descent.py:531: ConvergenceWarning: Objective did not converge. You might want to increase the number of iterations. Duality gap: 17.279080176527092, tolerance: 3.456223945817303e-05\n",
      "  positive)\n",
      "/opt/conda/lib/python3.7/site-packages/sklearn/linear_model/_coordinate_descent.py:531: ConvergenceWarning: Objective did not converge. You might want to increase the number of iterations. Duality gap: 17.38813652858617, tolerance: 3.478072713527042e-05\n",
      "  positive)\n",
      "/opt/conda/lib/python3.7/site-packages/sklearn/linear_model/_coordinate_descent.py:531: ConvergenceWarning: Objective did not converge. You might want to increase the number of iterations. Duality gap: 17.333986103416578, tolerance: 3.467207607636766e-05\n",
      "  positive)\n",
      "/opt/conda/lib/python3.7/site-packages/sklearn/linear_model/_coordinate_descent.py:531: ConvergenceWarning: Objective did not converge. You might want to increase the number of iterations. Duality gap: 17.344292367846414, tolerance: 3.469410435696986e-05\n",
      "  positive)\n",
      "/opt/conda/lib/python3.7/site-packages/sklearn/linear_model/_coordinate_descent.py:531: ConvergenceWarning: Objective did not converge. You might want to increase the number of iterations. Duality gap: 17.39599066566835, tolerance: 3.479775204091903e-05\n",
      "  positive)\n",
      "/opt/conda/lib/python3.7/site-packages/sklearn/linear_model/_coordinate_descent.py:531: ConvergenceWarning: Objective did not converge. You might want to increase the number of iterations. Duality gap: 17.330170445432064, tolerance: 3.4666047939568544e-05\n",
      "  positive)\n",
      "/opt/conda/lib/python3.7/site-packages/sklearn/linear_model/_coordinate_descent.py:531: ConvergenceWarning: Objective did not converge. You might want to increase the number of iterations. Duality gap: 17.337845874171695, tolerance: 3.46818220295208e-05\n",
      "  positive)\n",
      "/opt/conda/lib/python3.7/site-packages/sklearn/linear_model/_coordinate_descent.py:531: ConvergenceWarning: Objective did not converge. You might want to increase the number of iterations. Duality gap: 17.31922569411044, tolerance: 3.464350344521821e-05\n",
      "  positive)\n",
      "/opt/conda/lib/python3.7/site-packages/sklearn/linear_model/_coordinate_descent.py:531: ConvergenceWarning: Objective did not converge. You might want to increase the number of iterations. Duality gap: 17.471206573726636, tolerance: 3.494773426174916e-05\n",
      "  positive)\n",
      "/opt/conda/lib/python3.7/site-packages/sklearn/linear_model/_coordinate_descent.py:531: ConvergenceWarning: Objective did not converge. You might want to increase the number of iterations. Duality gap: 17.41706371311988, tolerance: 3.483909719633341e-05\n",
      "  positive)\n",
      "/opt/conda/lib/python3.7/site-packages/sklearn/linear_model/_coordinate_descent.py:531: ConvergenceWarning: Objective did not converge. You might want to increase the number of iterations. Duality gap: 17.279080176527092, tolerance: 3.456223945817303e-05\n",
      "  positive)\n",
      "/opt/conda/lib/python3.7/site-packages/sklearn/linear_model/_coordinate_descent.py:531: ConvergenceWarning: Objective did not converge. You might want to increase the number of iterations. Duality gap: 17.38813652858616, tolerance: 3.478072713527042e-05\n",
      "  positive)\n",
      "/opt/conda/lib/python3.7/site-packages/sklearn/linear_model/_coordinate_descent.py:531: ConvergenceWarning: Objective did not converge. You might want to increase the number of iterations. Duality gap: 17.333986103416585, tolerance: 3.467207607636766e-05\n",
      "  positive)\n",
      "/opt/conda/lib/python3.7/site-packages/sklearn/linear_model/_coordinate_descent.py:531: ConvergenceWarning: Objective did not converge. You might want to increase the number of iterations. Duality gap: 17.34429236784641, tolerance: 3.469410435696986e-05\n",
      "  positive)\n",
      "/opt/conda/lib/python3.7/site-packages/sklearn/linear_model/_coordinate_descent.py:531: ConvergenceWarning: Objective did not converge. You might want to increase the number of iterations. Duality gap: 17.395990665668357, tolerance: 3.479775204091903e-05\n",
      "  positive)\n",
      "/opt/conda/lib/python3.7/site-packages/sklearn/linear_model/_coordinate_descent.py:531: ConvergenceWarning: Objective did not converge. You might want to increase the number of iterations. Duality gap: 17.33017044543206, tolerance: 3.4666047939568544e-05\n",
      "  positive)\n",
      "/opt/conda/lib/python3.7/site-packages/sklearn/linear_model/_coordinate_descent.py:531: ConvergenceWarning: Objective did not converge. You might want to increase the number of iterations. Duality gap: 17.33784587417169, tolerance: 3.46818220295208e-05\n",
      "  positive)\n",
      "/opt/conda/lib/python3.7/site-packages/sklearn/linear_model/_coordinate_descent.py:531: ConvergenceWarning: Objective did not converge. You might want to increase the number of iterations. Duality gap: 17.31922569411044, tolerance: 3.464350344521821e-05\n",
      "  positive)\n",
      "/opt/conda/lib/python3.7/site-packages/sklearn/linear_model/_coordinate_descent.py:531: ConvergenceWarning: Objective did not converge. You might want to increase the number of iterations. Duality gap: 17.47120657372664, tolerance: 3.494773426174916e-05\n",
      "  positive)\n",
      "/opt/conda/lib/python3.7/site-packages/sklearn/linear_model/_coordinate_descent.py:531: ConvergenceWarning: Objective did not converge. You might want to increase the number of iterations. Duality gap: 17.41742210882854, tolerance: 3.483909719633341e-05\n",
      "  positive)\n",
      "/opt/conda/lib/python3.7/site-packages/sklearn/linear_model/_coordinate_descent.py:531: ConvergenceWarning: Objective did not converge. You might want to increase the number of iterations. Duality gap: 17.27938371952379, tolerance: 3.456223945817303e-05\n",
      "  positive)\n",
      "/opt/conda/lib/python3.7/site-packages/sklearn/linear_model/_coordinate_descent.py:531: ConvergenceWarning: Objective did not converge. You might want to increase the number of iterations. Duality gap: 17.388456882089194, tolerance: 3.478072713527042e-05\n",
      "  positive)\n",
      "/opt/conda/lib/python3.7/site-packages/sklearn/linear_model/_coordinate_descent.py:531: ConvergenceWarning: Objective did not converge. You might want to increase the number of iterations. Duality gap: 17.33428326204849, tolerance: 3.467207607636766e-05\n",
      "  positive)\n",
      "/opt/conda/lib/python3.7/site-packages/sklearn/linear_model/_coordinate_descent.py:531: ConvergenceWarning: Objective did not converge. You might want to increase the number of iterations. Duality gap: 17.344692973543133, tolerance: 3.469410435696986e-05\n",
      "  positive)\n",
      "/opt/conda/lib/python3.7/site-packages/sklearn/linear_model/_coordinate_descent.py:531: ConvergenceWarning: Objective did not converge. You might want to increase the number of iterations. Duality gap: 17.39641090586665, tolerance: 3.479775204091903e-05\n",
      "  positive)\n",
      "/opt/conda/lib/python3.7/site-packages/sklearn/linear_model/_coordinate_descent.py:531: ConvergenceWarning: Objective did not converge. You might want to increase the number of iterations. Duality gap: 17.33056695781296, tolerance: 3.4666047939568544e-05\n",
      "  positive)\n",
      "/opt/conda/lib/python3.7/site-packages/sklearn/linear_model/_coordinate_descent.py:531: ConvergenceWarning: Objective did not converge. You might want to increase the number of iterations. Duality gap: 17.338301804096822, tolerance: 3.46818220295208e-05\n",
      "  positive)\n",
      "/opt/conda/lib/python3.7/site-packages/sklearn/linear_model/_coordinate_descent.py:531: ConvergenceWarning: Objective did not converge. You might want to increase the number of iterations. Duality gap: 17.319590753792315, tolerance: 3.464350344521821e-05\n",
      "  positive)\n",
      "/opt/conda/lib/python3.7/site-packages/sklearn/linear_model/_coordinate_descent.py:531: ConvergenceWarning: Objective did not converge. You might want to increase the number of iterations. Duality gap: 17.471603004498984, tolerance: 3.494773426174916e-05\n",
      "  positive)\n",
      "/opt/conda/lib/python3.7/site-packages/sklearn/linear_model/_coordinate_descent.py:531: ConvergenceWarning: Objective did not converge. You might want to increase the number of iterations. Duality gap: 17.417422108828546, tolerance: 3.483909719633341e-05\n",
      "  positive)\n",
      "/opt/conda/lib/python3.7/site-packages/sklearn/linear_model/_coordinate_descent.py:531: ConvergenceWarning: Objective did not converge. You might want to increase the number of iterations. Duality gap: 17.279383719523796, tolerance: 3.456223945817303e-05\n",
      "  positive)\n",
      "/opt/conda/lib/python3.7/site-packages/sklearn/linear_model/_coordinate_descent.py:531: ConvergenceWarning: Objective did not converge. You might want to increase the number of iterations. Duality gap: 17.38845688208919, tolerance: 3.478072713527042e-05\n",
      "  positive)\n",
      "/opt/conda/lib/python3.7/site-packages/sklearn/linear_model/_coordinate_descent.py:531: ConvergenceWarning: Objective did not converge. You might want to increase the number of iterations. Duality gap: 17.33428326204849, tolerance: 3.467207607636766e-05\n",
      "  positive)\n",
      "/opt/conda/lib/python3.7/site-packages/sklearn/linear_model/_coordinate_descent.py:531: ConvergenceWarning: Objective did not converge. You might want to increase the number of iterations. Duality gap: 17.34469297354314, tolerance: 3.469410435696986e-05\n",
      "  positive)\n",
      "/opt/conda/lib/python3.7/site-packages/sklearn/linear_model/_coordinate_descent.py:531: ConvergenceWarning: Objective did not converge. You might want to increase the number of iterations. Duality gap: 17.396410905866635, tolerance: 3.479775204091903e-05\n",
      "  positive)\n",
      "/opt/conda/lib/python3.7/site-packages/sklearn/linear_model/_coordinate_descent.py:531: ConvergenceWarning: Objective did not converge. You might want to increase the number of iterations. Duality gap: 17.3305669578129, tolerance: 3.4666047939568544e-05\n",
      "  positive)\n",
      "/opt/conda/lib/python3.7/site-packages/sklearn/linear_model/_coordinate_descent.py:531: ConvergenceWarning: Objective did not converge. You might want to increase the number of iterations. Duality gap: 17.33830180409683, tolerance: 3.46818220295208e-05\n",
      "  positive)\n",
      "/opt/conda/lib/python3.7/site-packages/sklearn/linear_model/_coordinate_descent.py:531: ConvergenceWarning: Objective did not converge. You might want to increase the number of iterations. Duality gap: 17.319590753792315, tolerance: 3.464350344521821e-05\n",
      "  positive)\n",
      "/opt/conda/lib/python3.7/site-packages/sklearn/linear_model/_coordinate_descent.py:531: ConvergenceWarning: Objective did not converge. You might want to increase the number of iterations. Duality gap: 17.47160300449898, tolerance: 3.494773426174916e-05\n",
      "  positive)\n",
      "/opt/conda/lib/python3.7/site-packages/sklearn/linear_model/_coordinate_descent.py:531: ConvergenceWarning: Objective did not converge. You might want to increase the number of iterations. Duality gap: 17.41768683090211, tolerance: 3.483909719633341e-05\n",
      "  positive)\n",
      "/opt/conda/lib/python3.7/site-packages/sklearn/linear_model/_coordinate_descent.py:531: ConvergenceWarning: Objective did not converge. You might want to increase the number of iterations. Duality gap: 17.279605475994522, tolerance: 3.456223945817303e-05\n",
      "  positive)\n",
      "/opt/conda/lib/python3.7/site-packages/sklearn/linear_model/_coordinate_descent.py:531: ConvergenceWarning: Objective did not converge. You might want to increase the number of iterations. Duality gap: 17.388693734020826, tolerance: 3.478072713527042e-05\n",
      "  positive)\n",
      "/opt/conda/lib/python3.7/site-packages/sklearn/linear_model/_coordinate_descent.py:531: ConvergenceWarning: Objective did not converge. You might want to increase the number of iterations. Duality gap: 17.33450054603496, tolerance: 3.467207607636766e-05\n",
      "  positive)\n",
      "/opt/conda/lib/python3.7/site-packages/sklearn/linear_model/_coordinate_descent.py:531: ConvergenceWarning: Objective did not converge. You might want to increase the number of iterations. Duality gap: 17.34498830285694, tolerance: 3.469410435696986e-05\n",
      "  positive)\n",
      "/opt/conda/lib/python3.7/site-packages/sklearn/linear_model/_coordinate_descent.py:531: ConvergenceWarning: Objective did not converge. You might want to increase the number of iterations. Duality gap: 17.396718674000475, tolerance: 3.479775204091903e-05\n",
      "  positive)\n",
      "/opt/conda/lib/python3.7/site-packages/sklearn/linear_model/_coordinate_descent.py:531: ConvergenceWarning: Objective did not converge. You might want to increase the number of iterations. Duality gap: 17.33086126008494, tolerance: 3.4666047939568544e-05\n",
      "  positive)\n",
      "/opt/conda/lib/python3.7/site-packages/sklearn/linear_model/_coordinate_descent.py:531: ConvergenceWarning: Objective did not converge. You might want to increase the number of iterations. Duality gap: 17.338634051315754, tolerance: 3.46818220295208e-05\n",
      "  positive)\n",
      "/opt/conda/lib/python3.7/site-packages/sklearn/linear_model/_coordinate_descent.py:531: ConvergenceWarning: Objective did not converge. You might want to increase the number of iterations. Duality gap: 17.319859382054638, tolerance: 3.464350344521821e-05\n",
      "  positive)\n",
      "/opt/conda/lib/python3.7/site-packages/sklearn/linear_model/_coordinate_descent.py:531: ConvergenceWarning: Objective did not converge. You might want to increase the number of iterations. Duality gap: 17.47189127363843, tolerance: 3.494773426174916e-05\n",
      "  positive)\n",
      "/opt/conda/lib/python3.7/site-packages/sklearn/linear_model/_coordinate_descent.py:531: ConvergenceWarning: Objective did not converge. You might want to increase the number of iterations. Duality gap: 17.417686830902113, tolerance: 3.483909719633341e-05\n",
      "  positive)\n",
      "/opt/conda/lib/python3.7/site-packages/sklearn/linear_model/_coordinate_descent.py:531: ConvergenceWarning: Objective did not converge. You might want to increase the number of iterations. Duality gap: 17.27960547599452, tolerance: 3.456223945817303e-05\n",
      "  positive)\n",
      "/opt/conda/lib/python3.7/site-packages/sklearn/linear_model/_coordinate_descent.py:531: ConvergenceWarning: Objective did not converge. You might want to increase the number of iterations. Duality gap: 17.38869373402083, tolerance: 3.478072713527042e-05\n",
      "  positive)\n",
      "/opt/conda/lib/python3.7/site-packages/sklearn/linear_model/_coordinate_descent.py:531: ConvergenceWarning: Objective did not converge. You might want to increase the number of iterations. Duality gap: 17.334500546034953, tolerance: 3.467207607636766e-05\n",
      "  positive)\n",
      "/opt/conda/lib/python3.7/site-packages/sklearn/linear_model/_coordinate_descent.py:531: ConvergenceWarning: Objective did not converge. You might want to increase the number of iterations. Duality gap: 17.34498830285694, tolerance: 3.469410435696986e-05\n",
      "  positive)\n",
      "/opt/conda/lib/python3.7/site-packages/sklearn/linear_model/_coordinate_descent.py:531: ConvergenceWarning: Objective did not converge. You might want to increase the number of iterations. Duality gap: 17.396718674000475, tolerance: 3.479775204091903e-05\n",
      "  positive)\n",
      "/opt/conda/lib/python3.7/site-packages/sklearn/linear_model/_coordinate_descent.py:531: ConvergenceWarning: Objective did not converge. You might want to increase the number of iterations. Duality gap: 17.33086126008494, tolerance: 3.4666047939568544e-05\n",
      "  positive)\n",
      "/opt/conda/lib/python3.7/site-packages/sklearn/linear_model/_coordinate_descent.py:531: ConvergenceWarning: Objective did not converge. You might want to increase the number of iterations. Duality gap: 17.338634051315747, tolerance: 3.46818220295208e-05\n",
      "  positive)\n",
      "/opt/conda/lib/python3.7/site-packages/sklearn/linear_model/_coordinate_descent.py:531: ConvergenceWarning: Objective did not converge. You might want to increase the number of iterations. Duality gap: 17.319859382054634, tolerance: 3.464350344521821e-05\n",
      "  positive)\n",
      "/opt/conda/lib/python3.7/site-packages/sklearn/linear_model/_coordinate_descent.py:531: ConvergenceWarning: Objective did not converge. You might want to increase the number of iterations. Duality gap: 17.47189127363843, tolerance: 3.494773426174916e-05\n",
      "  positive)\n",
      "/opt/conda/lib/python3.7/site-packages/sklearn/linear_model/_coordinate_descent.py:531: ConvergenceWarning: Objective did not converge. You might want to increase the number of iterations. Duality gap: 17.417891428153524, tolerance: 3.483909719633341e-05\n",
      "  positive)\n",
      "/opt/conda/lib/python3.7/site-packages/sklearn/linear_model/_coordinate_descent.py:531: ConvergenceWarning: Objective did not converge. You might want to increase the number of iterations. Duality gap: 17.279775552017977, tolerance: 3.456223945817303e-05\n",
      "  positive)\n",
      "/opt/conda/lib/python3.7/site-packages/sklearn/linear_model/_coordinate_descent.py:531: ConvergenceWarning: Objective did not converge. You might want to increase the number of iterations. Duality gap: 17.388876888958748, tolerance: 3.478072713527042e-05\n",
      "  positive)\n",
      "/opt/conda/lib/python3.7/site-packages/sklearn/linear_model/_coordinate_descent.py:531: ConvergenceWarning: Objective did not converge. You might want to increase the number of iterations. Duality gap: 17.334667521777227, tolerance: 3.467207607636766e-05\n",
      "  positive)\n",
      "/opt/conda/lib/python3.7/site-packages/sklearn/linear_model/_coordinate_descent.py:531: ConvergenceWarning: Objective did not converge. You might want to increase the number of iterations. Duality gap: 17.345216191066303, tolerance: 3.469410435696986e-05\n",
      "  positive)\n",
      "/opt/conda/lib/python3.7/site-packages/sklearn/linear_model/_coordinate_descent.py:531: ConvergenceWarning: Objective did not converge. You might want to increase the number of iterations. Duality gap: 17.396955295846322, tolerance: 3.479775204091903e-05\n",
      "  positive)\n",
      "/opt/conda/lib/python3.7/site-packages/sklearn/linear_model/_coordinate_descent.py:531: ConvergenceWarning: Objective did not converge. You might want to increase the number of iterations. Duality gap: 17.33108968488909, tolerance: 3.4666047939568544e-05\n",
      "  positive)\n",
      "/opt/conda/lib/python3.7/site-packages/sklearn/linear_model/_coordinate_descent.py:531: ConvergenceWarning: Objective did not converge. You might want to increase the number of iterations. Duality gap: 17.338888585224534, tolerance: 3.46818220295208e-05\n",
      "  positive)\n",
      "/opt/conda/lib/python3.7/site-packages/sklearn/linear_model/_coordinate_descent.py:531: ConvergenceWarning: Objective did not converge. You might want to increase the number of iterations. Duality gap: 17.32006656607019, tolerance: 3.464350344521821e-05\n",
      "  positive)\n",
      "/opt/conda/lib/python3.7/site-packages/sklearn/linear_model/_coordinate_descent.py:531: ConvergenceWarning: Objective did not converge. You might want to increase the number of iterations. Duality gap: 17.4721117983863, tolerance: 3.494773426174916e-05\n",
      "  positive)\n",
      "/opt/conda/lib/python3.7/site-packages/sklearn/linear_model/_coordinate_descent.py:531: ConvergenceWarning: Objective did not converge. You might want to increase the number of iterations. Duality gap: 17.417891428153524, tolerance: 3.483909719633341e-05\n",
      "  positive)\n",
      "/opt/conda/lib/python3.7/site-packages/sklearn/linear_model/_coordinate_descent.py:531: ConvergenceWarning: Objective did not converge. You might want to increase the number of iterations. Duality gap: 17.279775552017984, tolerance: 3.456223945817303e-05\n",
      "  positive)\n",
      "/opt/conda/lib/python3.7/site-packages/sklearn/linear_model/_coordinate_descent.py:531: ConvergenceWarning: Objective did not converge. You might want to increase the number of iterations. Duality gap: 17.38887688895875, tolerance: 3.478072713527042e-05\n",
      "  positive)\n",
      "/opt/conda/lib/python3.7/site-packages/sklearn/linear_model/_coordinate_descent.py:531: ConvergenceWarning: Objective did not converge. You might want to increase the number of iterations. Duality gap: 17.33466752177723, tolerance: 3.467207607636766e-05\n",
      "  positive)\n",
      "/opt/conda/lib/python3.7/site-packages/sklearn/linear_model/_coordinate_descent.py:531: ConvergenceWarning: Objective did not converge. You might want to increase the number of iterations. Duality gap: 17.34521619106631, tolerance: 3.469410435696986e-05\n",
      "  positive)\n",
      "/opt/conda/lib/python3.7/site-packages/sklearn/linear_model/_coordinate_descent.py:531: ConvergenceWarning: Objective did not converge. You might want to increase the number of iterations. Duality gap: 17.396955295846322, tolerance: 3.479775204091903e-05\n",
      "  positive)\n",
      "/opt/conda/lib/python3.7/site-packages/sklearn/linear_model/_coordinate_descent.py:531: ConvergenceWarning: Objective did not converge. You might want to increase the number of iterations. Duality gap: 17.33108968488909, tolerance: 3.4666047939568544e-05\n",
      "  positive)\n",
      "/opt/conda/lib/python3.7/site-packages/sklearn/linear_model/_coordinate_descent.py:531: ConvergenceWarning: Objective did not converge. You might want to increase the number of iterations. Duality gap: 17.33888858522453, tolerance: 3.46818220295208e-05\n",
      "  positive)\n",
      "/opt/conda/lib/python3.7/site-packages/sklearn/linear_model/_coordinate_descent.py:531: ConvergenceWarning: Objective did not converge. You might want to increase the number of iterations. Duality gap: 17.320066566070192, tolerance: 3.464350344521821e-05\n",
      "  positive)\n",
      "/opt/conda/lib/python3.7/site-packages/sklearn/linear_model/_coordinate_descent.py:531: ConvergenceWarning: Objective did not converge. You might want to increase the number of iterations. Duality gap: 17.472111798386305, tolerance: 3.494773426174916e-05\n",
      "  positive)\n",
      "/opt/conda/lib/python3.7/site-packages/sklearn/linear_model/_coordinate_descent.py:531: ConvergenceWarning: Objective did not converge. You might want to increase the number of iterations. Duality gap: 17.41805473524304, tolerance: 3.483909719633341e-05\n",
      "  positive)\n",
      "/opt/conda/lib/python3.7/site-packages/sklearn/linear_model/_coordinate_descent.py:531: ConvergenceWarning: Objective did not converge. You might want to increase the number of iterations. Duality gap: 17.279910531593877, tolerance: 3.456223945817303e-05\n",
      "  positive)\n",
      "/opt/conda/lib/python3.7/site-packages/sklearn/linear_model/_coordinate_descent.py:531: ConvergenceWarning: Objective did not converge. You might want to increase the number of iterations. Duality gap: 17.389023127646965, tolerance: 3.478072713527042e-05\n",
      "  positive)\n",
      "/opt/conda/lib/python3.7/site-packages/sklearn/linear_model/_coordinate_descent.py:531: ConvergenceWarning: Objective did not converge. You might want to increase the number of iterations. Duality gap: 17.334800366109267, tolerance: 3.467207607636766e-05\n",
      "  positive)\n",
      "/opt/conda/lib/python3.7/site-packages/sklearn/linear_model/_coordinate_descent.py:531: ConvergenceWarning: Objective did not converge. You might want to increase the number of iterations. Duality gap: 17.345397848240104, tolerance: 3.469410435696986e-05\n",
      "  positive)\n",
      "/opt/conda/lib/python3.7/site-packages/sklearn/linear_model/_coordinate_descent.py:531: ConvergenceWarning: Objective did not converge. You might want to increase the number of iterations. Duality gap: 17.397143533199305, tolerance: 3.479775204091903e-05\n",
      "  positive)\n",
      "/opt/conda/lib/python3.7/site-packages/sklearn/linear_model/_coordinate_descent.py:531: ConvergenceWarning: Objective did not converge. You might want to increase the number of iterations. Duality gap: 17.331272721367633, tolerance: 3.4666047939568544e-05\n",
      "  positive)\n",
      "/opt/conda/lib/python3.7/site-packages/sklearn/linear_model/_coordinate_descent.py:531: ConvergenceWarning: Objective did not converge. You might want to increase the number of iterations. Duality gap: 17.339090516391522, tolerance: 3.46818220295208e-05\n",
      "  positive)\n",
      "/opt/conda/lib/python3.7/site-packages/sklearn/linear_model/_coordinate_descent.py:531: ConvergenceWarning: Objective did not converge. You might want to increase the number of iterations. Duality gap: 17.320231749344593, tolerance: 3.464350344521821e-05\n",
      "  positive)\n",
      "/opt/conda/lib/python3.7/site-packages/sklearn/linear_model/_coordinate_descent.py:531: ConvergenceWarning: Objective did not converge. You might want to increase the number of iterations. Duality gap: 17.472286583249833, tolerance: 3.494773426174916e-05\n",
      "  positive)\n",
      "/opt/conda/lib/python3.7/site-packages/sklearn/linear_model/_coordinate_descent.py:531: ConvergenceWarning: Objective did not converge. You might want to increase the number of iterations. Duality gap: 17.418054735243054, tolerance: 3.483909719633341e-05\n",
      "  positive)\n",
      "/opt/conda/lib/python3.7/site-packages/sklearn/linear_model/_coordinate_descent.py:531: ConvergenceWarning: Objective did not converge. You might want to increase the number of iterations. Duality gap: 17.279910531593867, tolerance: 3.456223945817303e-05\n",
      "  positive)\n",
      "/opt/conda/lib/python3.7/site-packages/sklearn/linear_model/_coordinate_descent.py:531: ConvergenceWarning: Objective did not converge. You might want to increase the number of iterations. Duality gap: 17.38902312764696, tolerance: 3.478072713527042e-05\n",
      "  positive)\n",
      "/opt/conda/lib/python3.7/site-packages/sklearn/linear_model/_coordinate_descent.py:531: ConvergenceWarning: Objective did not converge. You might want to increase the number of iterations. Duality gap: 17.334800366109263, tolerance: 3.467207607636766e-05\n",
      "  positive)\n",
      "/opt/conda/lib/python3.7/site-packages/sklearn/linear_model/_coordinate_descent.py:531: ConvergenceWarning: Objective did not converge. You might want to increase the number of iterations. Duality gap: 17.34539784824011, tolerance: 3.469410435696986e-05\n",
      "  positive)\n",
      "/opt/conda/lib/python3.7/site-packages/sklearn/linear_model/_coordinate_descent.py:531: ConvergenceWarning: Objective did not converge. You might want to increase the number of iterations. Duality gap: 17.397143533199312, tolerance: 3.479775204091903e-05\n",
      "  positive)\n",
      "/opt/conda/lib/python3.7/site-packages/sklearn/linear_model/_coordinate_descent.py:531: ConvergenceWarning: Objective did not converge. You might want to increase the number of iterations. Duality gap: 17.33127272136763, tolerance: 3.4666047939568544e-05\n",
      "  positive)\n",
      "/opt/conda/lib/python3.7/site-packages/sklearn/linear_model/_coordinate_descent.py:531: ConvergenceWarning: Objective did not converge. You might want to increase the number of iterations. Duality gap: 17.339090516391522, tolerance: 3.46818220295208e-05\n",
      "  positive)\n",
      "/opt/conda/lib/python3.7/site-packages/sklearn/linear_model/_coordinate_descent.py:531: ConvergenceWarning: Objective did not converge. You might want to increase the number of iterations. Duality gap: 17.320231749344593, tolerance: 3.464350344521821e-05\n",
      "  positive)\n",
      "/opt/conda/lib/python3.7/site-packages/sklearn/linear_model/_coordinate_descent.py:531: ConvergenceWarning: Objective did not converge. You might want to increase the number of iterations. Duality gap: 17.472286583249833, tolerance: 3.494773426174916e-05\n",
      "  positive)\n",
      "/opt/conda/lib/python3.7/site-packages/sklearn/linear_model/_coordinate_descent.py:531: ConvergenceWarning: Objective did not converge. You might want to increase the number of iterations. Duality gap: 19.289253294680965, tolerance: 3.858724208506958e-05\n",
      "  positive)\n"
     ]
    },
    {
     "name": "stdout",
     "output_type": "stream",
     "text": [
      "tuned hpyerparameters :(best parameters)  {'alpha': 0.2, 'l1_ratio': 0.0, 'selection': 'cyclic'}\n",
      "WCC : 0.00016780649082359655\n",
      "WCC -  0.9999999875341485\n"
     ]
    }
   ],
   "source": [
    "from sklearn.model_selection import GridSearchCV\n",
    "from sklearn.linear_model import ElasticNet\n",
    "grid={\"alpha\": [0.2,0.4,0.6,0.8,1.0,1.2, 1.4], 'selection':['cyclic', 'random'],\n",
    "      'l1_ratio':[0.0, 0.1, 0.2, 0.3, 0.4, 0.5, 0.6, 0.7, 0.8, 0.9, 1.0]}\n",
    "elastic=ElasticNet(max_iter = 10000, tol=1e-6)\n",
    "elastic_cv=GridSearchCV(elastic,grid,cv=10, estimator=wcc)\n",
    "elastic_cv.fit(X_train, y_train)\n",
    "\n",
    "print(\"tuned hpyerparameters :(best parameters) \",elastic_cv.best_params_)\n",
    "print(\"WCC :\",elastic_cv.best_score_)\n",
    "\n",
    "prediction = elastic_cv.predict(X_test)\n",
    "\n",
    "\n",
    "print('WCC - ',wcc(prediction, y_test))"
   ]
  }
 ],
 "metadata": {
  "kernelspec": {
   "display_name": "Python 3",
   "language": "python",
   "name": "python3"
  },
  "language_info": {
   "codemirror_mode": {
    "name": "ipython",
    "version": 3
   },
   "file_extension": ".py",
   "mimetype": "text/x-python",
   "name": "python",
   "nbconvert_exporter": "python",
   "pygments_lexer": "ipython3",
   "version": "3.8.8"
  },
  "papermill": {
   "default_parameters": {},
   "duration": 15633.383423,
   "end_time": "2022-01-04T14:21:46.706618",
   "environment_variables": {},
   "exception": null,
   "input_path": "__notebook__.ipynb",
   "output_path": "__notebook__.ipynb",
   "parameters": {},
   "start_time": "2022-01-04T10:01:13.323195",
   "version": "2.3.3"
  }
 },
 "nbformat": 4,
 "nbformat_minor": 5
}
