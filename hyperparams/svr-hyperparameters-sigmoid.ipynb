{
 "cells": [
  {
   "cell_type": "code",
   "execution_count": 1,
   "id": "3217180c",
   "metadata": {
    "_cell_guid": "b1076dfc-b9ad-4769-8c92-a6c4dae69d19",
    "_uuid": "8f2839f25d086af736a60e9eeb907d3b93b6e0e5",
    "execution": {
     "iopub.execute_input": "2022-01-05T16:13:38.612039Z",
     "iopub.status.busy": "2022-01-05T16:13:38.610202Z",
     "iopub.status.idle": "2022-01-05T16:13:38.630634Z",
     "shell.execute_reply": "2022-01-05T16:13:38.631191Z",
     "shell.execute_reply.started": "2022-01-04T09:32:28.34407Z"
    },
    "papermill": {
     "duration": 0.043367,
     "end_time": "2022-01-05T16:13:38.631484",
     "exception": false,
     "start_time": "2022-01-05T16:13:38.588117",
     "status": "completed"
    },
    "tags": []
   },
   "outputs": [
    {
     "name": "stdout",
     "output_type": "stream",
     "text": [
      "/kaggle/input/g-research-crypto-forecasting/example_sample_submission.csv\n",
      "/kaggle/input/g-research-crypto-forecasting/asset_details.csv\n",
      "/kaggle/input/g-research-crypto-forecasting/example_test.csv\n",
      "/kaggle/input/g-research-crypto-forecasting/train.csv\n",
      "/kaggle/input/g-research-crypto-forecasting/supplemental_train.csv\n",
      "/kaggle/input/g-research-crypto-forecasting/gresearch_crypto/competition.cpython-37m-x86_64-linux-gnu.so\n",
      "/kaggle/input/g-research-crypto-forecasting/gresearch_crypto/__init__.py\n"
     ]
    }
   ],
   "source": [
    "import numpy as np \n",
    "import pandas as pd \n",
    "\n",
    "import os\n",
    "for dirname, _, filenames in os.walk('/kaggle/input'):\n",
    "    for filename in filenames:\n",
    "        print(os.path.join(dirname, filename))\n"
   ]
  },
  {
   "cell_type": "code",
   "execution_count": 2,
   "id": "88310f5a",
   "metadata": {
    "execution": {
     "iopub.execute_input": "2022-01-05T16:13:38.671596Z",
     "iopub.status.busy": "2022-01-05T16:13:38.670554Z",
     "iopub.status.idle": "2022-01-05T16:13:38.672637Z",
     "shell.execute_reply": "2022-01-05T16:13:38.673164Z",
     "shell.execute_reply.started": "2022-01-04T09:32:28.386579Z"
    },
    "papermill": {
     "duration": 0.023721,
     "end_time": "2022-01-05T16:13:38.673333",
     "exception": false,
     "start_time": "2022-01-05T16:13:38.649612",
     "status": "completed"
    },
    "tags": []
   },
   "outputs": [],
   "source": [
    "data_train = '/kaggle/input/g-research-crypto-forecasting/train.csv'\n",
    "data_asset_details = '/kaggle/input/g-research-crypto-forecasting/asset_details.csv'\n",
    "data_supplemental_train = '/kaggle/input/g-research-crypto-forecasting/supplemental_train.csv'"
   ]
  },
  {
   "cell_type": "code",
   "execution_count": 3,
   "id": "5adb98a0",
   "metadata": {
    "execution": {
     "iopub.execute_input": "2022-01-05T16:13:38.710336Z",
     "iopub.status.busy": "2022-01-05T16:13:38.709402Z",
     "iopub.status.idle": "2022-01-05T16:13:38.725302Z",
     "shell.execute_reply": "2022-01-05T16:13:38.725962Z",
     "shell.execute_reply.started": "2022-01-04T09:32:28.394539Z"
    },
    "papermill": {
     "duration": 0.036173,
     "end_time": "2022-01-05T16:13:38.726204",
     "exception": false,
     "start_time": "2022-01-05T16:13:38.690031",
     "status": "completed"
    },
    "tags": []
   },
   "outputs": [],
   "source": [
    "import random\n",
    "import time"
   ]
  },
  {
   "cell_type": "code",
   "execution_count": 4,
   "id": "953b13a1",
   "metadata": {
    "execution": {
     "iopub.execute_input": "2022-01-05T16:13:38.763724Z",
     "iopub.status.busy": "2022-01-05T16:13:38.762783Z",
     "iopub.status.idle": "2022-01-05T16:14:41.792811Z",
     "shell.execute_reply": "2022-01-05T16:14:41.793677Z",
     "shell.execute_reply.started": "2022-01-04T09:32:28.422252Z"
    },
    "papermill": {
     "duration": 63.050748,
     "end_time": "2022-01-05T16:14:41.793889",
     "exception": false,
     "start_time": "2022-01-05T16:13:38.743141",
     "status": "completed"
    },
    "tags": []
   },
   "outputs": [
    {
     "data": {
      "text/html": [
       "<div>\n",
       "<style scoped>\n",
       "    .dataframe tbody tr th:only-of-type {\n",
       "        vertical-align: middle;\n",
       "    }\n",
       "\n",
       "    .dataframe tbody tr th {\n",
       "        vertical-align: top;\n",
       "    }\n",
       "\n",
       "    .dataframe thead th {\n",
       "        text-align: right;\n",
       "    }\n",
       "</style>\n",
       "<table border=\"1\" class=\"dataframe\">\n",
       "  <thead>\n",
       "    <tr style=\"text-align: right;\">\n",
       "      <th></th>\n",
       "      <th>timestamp</th>\n",
       "      <th>Asset_ID</th>\n",
       "      <th>Count</th>\n",
       "      <th>Open</th>\n",
       "      <th>High</th>\n",
       "      <th>Low</th>\n",
       "      <th>Close</th>\n",
       "      <th>Volume</th>\n",
       "      <th>VWAP</th>\n",
       "      <th>Target</th>\n",
       "    </tr>\n",
       "  </thead>\n",
       "  <tbody>\n",
       "    <tr>\n",
       "      <th>0</th>\n",
       "      <td>1514764860</td>\n",
       "      <td>2</td>\n",
       "      <td>40</td>\n",
       "      <td>2376.5800</td>\n",
       "      <td>2399.5000</td>\n",
       "      <td>2357.1400</td>\n",
       "      <td>2374.5900</td>\n",
       "      <td>19.233005</td>\n",
       "      <td>2373.116392</td>\n",
       "      <td>-0.004218</td>\n",
       "    </tr>\n",
       "    <tr>\n",
       "      <th>1</th>\n",
       "      <td>1514764860</td>\n",
       "      <td>0</td>\n",
       "      <td>5</td>\n",
       "      <td>8.5300</td>\n",
       "      <td>8.5300</td>\n",
       "      <td>8.5300</td>\n",
       "      <td>8.5300</td>\n",
       "      <td>78.380000</td>\n",
       "      <td>8.530000</td>\n",
       "      <td>-0.014399</td>\n",
       "    </tr>\n",
       "    <tr>\n",
       "      <th>2</th>\n",
       "      <td>1514764860</td>\n",
       "      <td>1</td>\n",
       "      <td>229</td>\n",
       "      <td>13835.1940</td>\n",
       "      <td>14013.8000</td>\n",
       "      <td>13666.1100</td>\n",
       "      <td>13850.1760</td>\n",
       "      <td>31.550062</td>\n",
       "      <td>13827.062093</td>\n",
       "      <td>-0.014643</td>\n",
       "    </tr>\n",
       "    <tr>\n",
       "      <th>3</th>\n",
       "      <td>1514764860</td>\n",
       "      <td>5</td>\n",
       "      <td>32</td>\n",
       "      <td>7.6596</td>\n",
       "      <td>7.6596</td>\n",
       "      <td>7.6567</td>\n",
       "      <td>7.6576</td>\n",
       "      <td>6626.713370</td>\n",
       "      <td>7.657713</td>\n",
       "      <td>-0.013922</td>\n",
       "    </tr>\n",
       "    <tr>\n",
       "      <th>4</th>\n",
       "      <td>1514764860</td>\n",
       "      <td>7</td>\n",
       "      <td>5</td>\n",
       "      <td>25.9200</td>\n",
       "      <td>25.9200</td>\n",
       "      <td>25.8740</td>\n",
       "      <td>25.8770</td>\n",
       "      <td>121.087310</td>\n",
       "      <td>25.891363</td>\n",
       "      <td>-0.008264</td>\n",
       "    </tr>\n",
       "  </tbody>\n",
       "</table>\n",
       "</div>"
      ],
      "text/plain": [
       "    timestamp  Asset_ID  Count        Open        High         Low  \\\n",
       "0  1514764860         2     40   2376.5800   2399.5000   2357.1400   \n",
       "1  1514764860         0      5      8.5300      8.5300      8.5300   \n",
       "2  1514764860         1    229  13835.1940  14013.8000  13666.1100   \n",
       "3  1514764860         5     32      7.6596      7.6596      7.6567   \n",
       "4  1514764860         7      5     25.9200     25.9200     25.8740   \n",
       "\n",
       "        Close       Volume          VWAP    Target  \n",
       "0   2374.5900    19.233005   2373.116392 -0.004218  \n",
       "1      8.5300    78.380000      8.530000 -0.014399  \n",
       "2  13850.1760    31.550062  13827.062093 -0.014643  \n",
       "3      7.6576  6626.713370      7.657713 -0.013922  \n",
       "4     25.8770   121.087310     25.891363 -0.008264  "
      ]
     },
     "execution_count": 4,
     "metadata": {},
     "output_type": "execute_result"
    }
   ],
   "source": [
    "df_train = pd.read_csv(data_train, \n",
    "                       dtype={'Asset_ID': 'int8', 'Count': 'int32', 'row_id': 'int32', 'Count': 'int32', \n",
    "                              'Open': 'float64', 'High': 'float64', 'Low': 'float64', 'Close': 'float64', \n",
    "                              'Volume': 'float64', 'VWAP': 'float64'\n",
    "                             }\n",
    "                      )\n",
    "df_train.head()"
   ]
  },
  {
   "cell_type": "code",
   "execution_count": 5,
   "id": "33a5bfc7",
   "metadata": {
    "execution": {
     "iopub.execute_input": "2022-01-05T16:14:41.835091Z",
     "iopub.status.busy": "2022-01-05T16:14:41.834112Z",
     "iopub.status.idle": "2022-01-05T16:14:41.858659Z",
     "shell.execute_reply": "2022-01-05T16:14:41.857980Z",
     "shell.execute_reply.started": "2022-01-04T09:33:32.113943Z"
    },
    "papermill": {
     "duration": 0.046732,
     "end_time": "2022-01-05T16:14:41.858849",
     "exception": false,
     "start_time": "2022-01-05T16:14:41.812117",
     "status": "completed"
    },
    "tags": []
   },
   "outputs": [],
   "source": [
    "import gresearch_crypto"
   ]
  },
  {
   "cell_type": "code",
   "execution_count": 6,
   "id": "644d5780",
   "metadata": {
    "execution": {
     "iopub.execute_input": "2022-01-05T16:14:41.901751Z",
     "iopub.status.busy": "2022-01-05T16:14:41.900940Z",
     "iopub.status.idle": "2022-01-05T16:14:41.925745Z",
     "shell.execute_reply": "2022-01-05T16:14:41.925165Z",
     "shell.execute_reply.started": "2022-01-04T09:33:32.145526Z"
    },
    "papermill": {
     "duration": 0.048554,
     "end_time": "2022-01-05T16:14:41.925889",
     "exception": false,
     "start_time": "2022-01-05T16:14:41.877335",
     "status": "completed"
    },
    "tags": []
   },
   "outputs": [
    {
     "data": {
      "text/html": [
       "<div>\n",
       "<style scoped>\n",
       "    .dataframe tbody tr th:only-of-type {\n",
       "        vertical-align: middle;\n",
       "    }\n",
       "\n",
       "    .dataframe tbody tr th {\n",
       "        vertical-align: top;\n",
       "    }\n",
       "\n",
       "    .dataframe thead th {\n",
       "        text-align: right;\n",
       "    }\n",
       "</style>\n",
       "<table border=\"1\" class=\"dataframe\">\n",
       "  <thead>\n",
       "    <tr style=\"text-align: right;\">\n",
       "      <th></th>\n",
       "      <th>Asset_ID</th>\n",
       "      <th>Weight</th>\n",
       "      <th>Asset_Name</th>\n",
       "    </tr>\n",
       "  </thead>\n",
       "  <tbody>\n",
       "    <tr>\n",
       "      <th>1</th>\n",
       "      <td>0</td>\n",
       "      <td>4.304065</td>\n",
       "      <td>Binance Coin</td>\n",
       "    </tr>\n",
       "    <tr>\n",
       "      <th>2</th>\n",
       "      <td>1</td>\n",
       "      <td>6.779922</td>\n",
       "      <td>Bitcoin</td>\n",
       "    </tr>\n",
       "    <tr>\n",
       "      <th>0</th>\n",
       "      <td>2</td>\n",
       "      <td>2.397895</td>\n",
       "      <td>Bitcoin Cash</td>\n",
       "    </tr>\n",
       "    <tr>\n",
       "      <th>10</th>\n",
       "      <td>3</td>\n",
       "      <td>4.406719</td>\n",
       "      <td>Cardano</td>\n",
       "    </tr>\n",
       "    <tr>\n",
       "      <th>13</th>\n",
       "      <td>4</td>\n",
       "      <td>3.555348</td>\n",
       "      <td>Dogecoin</td>\n",
       "    </tr>\n",
       "  </tbody>\n",
       "</table>\n",
       "</div>"
      ],
      "text/plain": [
       "    Asset_ID    Weight    Asset_Name\n",
       "1          0  4.304065  Binance Coin\n",
       "2          1  6.779922       Bitcoin\n",
       "0          2  2.397895  Bitcoin Cash\n",
       "10         3  4.406719       Cardano\n",
       "13         4  3.555348      Dogecoin"
      ]
     },
     "execution_count": 6,
     "metadata": {},
     "output_type": "execute_result"
    }
   ],
   "source": [
    "df_assets = pd.read_csv(data_asset_details).sort_values(by='Asset_ID')\n",
    "df_assets.head()"
   ]
  },
  {
   "cell_type": "markdown",
   "id": "e6b22aab",
   "metadata": {},
   "source": [
    "## Data preprocessing"
   ]
  },
  {
   "cell_type": "code",
   "execution_count": 7,
   "id": "9bbb7ea2",
   "metadata": {
    "execution": {
     "iopub.execute_input": "2022-01-05T16:14:41.973364Z",
     "iopub.status.busy": "2022-01-05T16:14:41.972611Z",
     "iopub.status.idle": "2022-01-05T16:14:43.124099Z",
     "shell.execute_reply": "2022-01-05T16:14:43.123529Z",
     "shell.execute_reply.started": "2022-01-04T09:33:32.175628Z"
    },
    "papermill": {
     "duration": 1.18011,
     "end_time": "2022-01-05T16:14:43.124251",
     "exception": false,
     "start_time": "2022-01-05T16:14:41.944141",
     "status": "completed"
    },
    "tags": []
   },
   "outputs": [],
   "source": [
    "def upper_shadow(df):\n",
    "    return df['High'] - np.maximum(df['Close'], df['Open'])\n",
    "\n",
    "def lower_shadow(df):\n",
    "    return np.minimum(df['Close'], df['Open']) - df['Low']\n",
    "\n",
    "def get_features(df):\n",
    "    df_feat = df[['Count', 'Open', 'High', 'Low', 'Close', 'Volume', 'VWAP']].copy()\n",
    "    df_feat['Upper_Shadow'] = upper_shadow(df_feat)\n",
    "    df_feat['Lower_Shadow'] = lower_shadow(df_feat)\n",
    "    \n",
    "    df_feat[\"Close/Open\"] = df_feat[\"Close\"] / df_feat[\"Open\"] \n",
    "    df_feat[\"Close-Open\"] = df_feat[\"Close\"] - df_feat[\"Open\"] \n",
    "    df_feat[\"High-Low\"] = df_feat[\"High\"] - df_feat[\"Low\"] \n",
    "    df_feat[\"High/Low\"] = df_feat[\"High\"] / df_feat[\"Low\"]\n",
    "    \n",
    "    df_feat['Mean'] = df_feat[['Open', 'High', 'Low', 'Close']].mean(axis=1)\n",
    "\n",
    "\n",
    "    df_feat[\"Median\"] = df_feat[[\"Open\", \"High\", \"Low\", \"Close\"]].median(axis=1)\n",
    "    return df_feat"
   ]
  },
  {
   "cell_type": "code",
   "execution_count": 8,
   "id": "8f7bd0fa",
   "metadata": {
    "execution": {
     "iopub.execute_input": "2022-01-05T16:14:43.165814Z",
     "iopub.status.busy": "2022-01-05T16:14:43.164722Z",
     "iopub.status.idle": "2022-01-05T16:14:43.167621Z",
     "shell.execute_reply": "2022-01-05T16:14:43.167053Z",
     "shell.execute_reply.started": "2022-01-04T09:33:33.593047Z"
    },
    "papermill": {
     "duration": 0.02497,
     "end_time": "2022-01-05T16:14:43.167759",
     "exception": false,
     "start_time": "2022-01-05T16:14:43.142789",
     "status": "completed"
    },
    "tags": []
   },
   "outputs": [],
   "source": [
    "from sklearn.preprocessing import StandardScaler"
   ]
  },
  {
   "cell_type": "code",
   "execution_count": 9,
   "id": "880dd3fb",
   "metadata": {
    "execution": {
     "iopub.execute_input": "2022-01-05T16:14:43.207458Z",
     "iopub.status.busy": "2022-01-05T16:14:43.206446Z",
     "iopub.status.idle": "2022-01-05T16:14:43.467776Z",
     "shell.execute_reply": "2022-01-05T16:14:43.467221Z",
     "shell.execute_reply.started": "2022-01-04T09:33:33.600724Z"
    },
    "papermill": {
     "duration": 0.282332,
     "end_time": "2022-01-05T16:14:43.467945",
     "exception": false,
     "start_time": "2022-01-05T16:14:43.185613",
     "status": "completed"
    },
    "tags": []
   },
   "outputs": [],
   "source": [
    "from skopt import gp_minimize\n",
    "from skopt.space import Real, Integer\n",
    "from sklearn.model_selection import train_test_split\n",
    "from functools import partial"
   ]
  },
  {
   "cell_type": "code",
   "execution_count": 10,
   "id": "dc6beb78",
   "metadata": {
    "execution": {
     "iopub.execute_input": "2022-01-05T16:14:43.512389Z",
     "iopub.status.busy": "2022-01-05T16:14:43.511346Z",
     "iopub.status.idle": "2022-01-05T16:14:43.513514Z",
     "shell.execute_reply": "2022-01-05T16:14:43.514120Z",
     "shell.execute_reply.started": "2022-01-04T09:33:33.938306Z"
    },
    "papermill": {
     "duration": 0.027846,
     "end_time": "2022-01-05T16:14:43.514289",
     "exception": false,
     "start_time": "2022-01-05T16:14:43.486443",
     "status": "completed"
    },
    "tags": []
   },
   "outputs": [],
   "source": [
    "def m(x, w):\n",
    "    return np.sum(x * w) / np.sum(w)\n",
    "\n",
    "def cov(x, y, w):\n",
    "    return np.sum(w * (x - m(x, w)) * (y - m(y, w))) / np.sum(w)\n",
    "\n",
    "def wcc(x, y, w=2.079441541679836):\n",
    "    return cov(x, y, w) / np.sqrt(cov(x, x, w) * cov(y, y, w))"
   ]
  },
  {
   "cell_type": "code",
   "execution_count": 11,
   "id": "969ec407",
   "metadata": {
    "execution": {
     "iopub.execute_input": "2022-01-05T16:14:43.554952Z",
     "iopub.status.busy": "2022-01-05T16:14:43.553983Z",
     "iopub.status.idle": "2022-01-05T16:14:43.676407Z",
     "shell.execute_reply": "2022-01-05T16:14:43.676882Z",
     "shell.execute_reply.started": "2022-01-04T09:33:33.947271Z"
    },
    "papermill": {
     "duration": 0.144243,
     "end_time": "2022-01-05T16:14:43.677076",
     "exception": false,
     "start_time": "2022-01-05T16:14:43.532833",
     "status": "completed"
    },
    "tags": []
   },
   "outputs": [
    {
     "data": {
      "text/plain": [
       "1     1956282\n",
       "6     1956200\n",
       "9     1956030\n",
       "5     1955140\n",
       "2     1953537\n",
       "7     1951127\n",
       "0     1942619\n",
       "13    1874560\n",
       "3     1791867\n",
       "12    1778749\n",
       "11    1701261\n",
       "8     1592071\n",
       "4     1156866\n",
       "10     670497\n",
       "Name: Asset_ID, dtype: int64"
      ]
     },
     "execution_count": 11,
     "metadata": {},
     "output_type": "execute_result"
    }
   ],
   "source": [
    "df_train['Asset_ID'].value_counts()"
   ]
  },
  {
   "cell_type": "code",
   "execution_count": 12,
   "id": "d517fc03",
   "metadata": {
    "execution": {
     "iopub.execute_input": "2022-01-05T16:14:43.720327Z",
     "iopub.status.busy": "2022-01-05T16:14:43.719628Z",
     "iopub.status.idle": "2022-01-05T16:14:43.722303Z",
     "shell.execute_reply": "2022-01-05T16:14:43.721401Z",
     "shell.execute_reply.started": "2022-01-04T09:33:34.083685Z"
    },
    "papermill": {
     "duration": 0.026999,
     "end_time": "2022-01-05T16:14:43.722444",
     "exception": false,
     "start_time": "2022-01-05T16:14:43.695445",
     "status": "completed"
    },
    "tags": []
   },
   "outputs": [],
   "source": [
    "weight = df_assets[df_assets['Asset_ID'] == 7]['Weight'].values[0]"
   ]
  },
  {
   "cell_type": "code",
   "execution_count": 13,
   "id": "3b20db8e",
   "metadata": {
    "execution": {
     "iopub.execute_input": "2022-01-05T16:14:43.777710Z",
     "iopub.status.busy": "2022-01-05T16:14:43.776999Z",
     "iopub.status.idle": "2022-01-05T16:14:43.788154Z",
     "shell.execute_reply": "2022-01-05T16:14:43.788658Z",
     "shell.execute_reply.started": "2022-01-04T09:33:34.09589Z"
    },
    "papermill": {
     "duration": 0.044412,
     "end_time": "2022-01-05T16:14:43.788839",
     "exception": false,
     "start_time": "2022-01-05T16:14:43.744427",
     "status": "completed"
    },
    "tags": []
   },
   "outputs": [
    {
     "data": {
      "text/plain": [
       "2.079441541679836"
      ]
     },
     "execution_count": 13,
     "metadata": {},
     "output_type": "execute_result"
    }
   ],
   "source": [
    "weight"
   ]
  },
  {
   "cell_type": "code",
   "execution_count": 14,
   "id": "2fccd926",
   "metadata": {
    "execution": {
     "iopub.execute_input": "2022-01-05T16:14:43.838766Z",
     "iopub.status.busy": "2022-01-05T16:14:43.837772Z",
     "iopub.status.idle": "2022-01-05T16:14:44.117693Z",
     "shell.execute_reply": "2022-01-05T16:14:44.117125Z",
     "shell.execute_reply.started": "2022-01-04T09:33:34.108889Z"
    },
    "papermill": {
     "duration": 0.306014,
     "end_time": "2022-01-05T16:14:44.117840",
     "exception": false,
     "start_time": "2022-01-05T16:14:43.811826",
     "status": "completed"
    },
    "tags": []
   },
   "outputs": [],
   "source": [
    "df = df_train[df_train['Asset_ID'] == 7].reset_index(drop=True)"
   ]
  },
  {
   "cell_type": "code",
   "execution_count": 15,
   "id": "dcfb6ec1",
   "metadata": {
    "execution": {
     "iopub.execute_input": "2022-01-05T16:14:44.162579Z",
     "iopub.status.busy": "2022-01-05T16:14:44.161890Z",
     "iopub.status.idle": "2022-01-05T16:14:45.736321Z",
     "shell.execute_reply": "2022-01-05T16:14:45.735370Z",
     "shell.execute_reply.started": "2022-01-04T09:33:34.493561Z"
    },
    "papermill": {
     "duration": 1.600157,
     "end_time": "2022-01-05T16:14:45.736563",
     "exception": false,
     "start_time": "2022-01-05T16:14:44.136406",
     "status": "completed"
    },
    "tags": []
   },
   "outputs": [],
   "source": [
    "df_proc = get_features(df)\n",
    "df_proc['y'] = df['Target']\n",
    "df_proc = df_proc.dropna(how=\"any\")\n",
    "\n",
    "\n",
    "X = df_proc.drop(\"y\", axis=1)\n",
    "y = df_proc[\"y\"]\n",
    "\n",
    "scaler = StandardScaler()\n",
    "X = scaler.fit_transform(X)"
   ]
  },
  {
   "cell_type": "code",
   "execution_count": 16,
   "id": "4dc760d7",
   "metadata": {
    "execution": {
     "iopub.execute_input": "2022-01-05T16:14:45.778331Z",
     "iopub.status.busy": "2022-01-05T16:14:45.777371Z",
     "iopub.status.idle": "2022-01-05T16:14:45.831793Z",
     "shell.execute_reply": "2022-01-05T16:14:45.832338Z",
     "shell.execute_reply.started": "2022-01-04T09:33:36.6454Z"
    },
    "papermill": {
     "duration": 0.076809,
     "end_time": "2022-01-05T16:14:45.832527",
     "exception": false,
     "start_time": "2022-01-05T16:14:45.755718",
     "status": "completed"
    },
    "tags": []
   },
   "outputs": [],
   "source": [
    "col_names = df_proc.drop('y', axis=1).columns"
   ]
  },
  {
   "cell_type": "code",
   "execution_count": 17,
   "id": "b91dcb13",
   "metadata": {
    "execution": {
     "iopub.execute_input": "2022-01-05T16:14:45.876645Z",
     "iopub.status.busy": "2022-01-05T16:14:45.876031Z",
     "iopub.status.idle": "2022-01-05T16:14:46.425847Z",
     "shell.execute_reply": "2022-01-05T16:14:46.424985Z",
     "shell.execute_reply.started": "2022-01-04T09:33:36.71222Z"
    },
    "papermill": {
     "duration": 0.574786,
     "end_time": "2022-01-05T16:14:46.426082",
     "exception": false,
     "start_time": "2022-01-05T16:14:45.851296",
     "status": "completed"
    },
    "tags": []
   },
   "outputs": [],
   "source": [
    "X_train, X_test, y_train, y_test = train_test_split(X, y, test_size=0.75, random_state=42)\n",
    "target_col = \"y\"\n",
    "df_train = pd.DataFrame(X_train, columns=col_names)\n",
    "df_test = pd.DataFrame(X_test, columns=col_names)"
   ]
  },
  {
   "cell_type": "markdown",
   "id": "48c0f875",
   "metadata": {},
   "source": [
    "## Best params finding"
   ]
  },
  {
   "cell_type": "code",
   "execution_count": 18,
   "id": "efb9b6f1",
   "metadata": {
    "execution": {
     "iopub.execute_input": "2022-01-05T16:14:46.468386Z",
     "iopub.status.busy": "2022-01-05T16:14:46.467396Z",
     "iopub.status.idle": "2022-01-05T16:15:28.230540Z",
     "shell.execute_reply": "2022-01-05T16:15:28.231276Z"
    },
    "papermill": {
     "duration": 41.785702,
     "end_time": "2022-01-05T16:15:28.231535",
     "exception": false,
     "start_time": "2022-01-05T16:14:46.445833",
     "status": "completed"
    },
    "tags": []
   },
   "outputs": [
    {
     "name": "stderr",
     "output_type": "stream",
     "text": [
      "/opt/conda/lib/python3.7/site-packages/sklearn/svm/_base.py:249: ConvergenceWarning: Solver terminated early (max_iter=10).  Consider pre-processing your data with StandardScaler or MinMaxScaler.\n",
      "  % self.max_iter, ConvergenceWarning)\n",
      "/opt/conda/lib/python3.7/site-packages/sklearn/svm/_base.py:249: ConvergenceWarning: Solver terminated early (max_iter=10).  Consider pre-processing your data with StandardScaler or MinMaxScaler.\n",
      "  % self.max_iter, ConvergenceWarning)\n",
      "/opt/conda/lib/python3.7/site-packages/sklearn/svm/_base.py:249: ConvergenceWarning: Solver terminated early (max_iter=10).  Consider pre-processing your data with StandardScaler or MinMaxScaler.\n",
      "  % self.max_iter, ConvergenceWarning)\n",
      "/opt/conda/lib/python3.7/site-packages/sklearn/svm/_base.py:249: ConvergenceWarning: Solver terminated early (max_iter=10).  Consider pre-processing your data with StandardScaler or MinMaxScaler.\n",
      "  % self.max_iter, ConvergenceWarning)\n",
      "/opt/conda/lib/python3.7/site-packages/sklearn/svm/_base.py:249: ConvergenceWarning: Solver terminated early (max_iter=10).  Consider pre-processing your data with StandardScaler or MinMaxScaler.\n",
      "  % self.max_iter, ConvergenceWarning)\n",
      "/opt/conda/lib/python3.7/site-packages/sklearn/svm/_base.py:249: ConvergenceWarning: Solver terminated early (max_iter=10).  Consider pre-processing your data with StandardScaler or MinMaxScaler.\n",
      "  % self.max_iter, ConvergenceWarning)\n",
      "/opt/conda/lib/python3.7/site-packages/sklearn/svm/_base.py:249: ConvergenceWarning: Solver terminated early (max_iter=10).  Consider pre-processing your data with StandardScaler or MinMaxScaler.\n",
      "  % self.max_iter, ConvergenceWarning)\n",
      "/opt/conda/lib/python3.7/site-packages/sklearn/svm/_base.py:249: ConvergenceWarning: Solver terminated early (max_iter=10).  Consider pre-processing your data with StandardScaler or MinMaxScaler.\n",
      "  % self.max_iter, ConvergenceWarning)\n",
      "/opt/conda/lib/python3.7/site-packages/sklearn/svm/_base.py:249: ConvergenceWarning: Solver terminated early (max_iter=10).  Consider pre-processing your data with StandardScaler or MinMaxScaler.\n",
      "  % self.max_iter, ConvergenceWarning)\n",
      "/opt/conda/lib/python3.7/site-packages/sklearn/svm/_base.py:249: ConvergenceWarning: Solver terminated early (max_iter=10).  Consider pre-processing your data with StandardScaler or MinMaxScaler.\n",
      "  % self.max_iter, ConvergenceWarning)\n",
      "/opt/conda/lib/python3.7/site-packages/sklearn/svm/_base.py:249: ConvergenceWarning: Solver terminated early (max_iter=10).  Consider pre-processing your data with StandardScaler or MinMaxScaler.\n",
      "  % self.max_iter, ConvergenceWarning)\n",
      "/opt/conda/lib/python3.7/site-packages/sklearn/svm/_base.py:249: ConvergenceWarning: Solver terminated early (max_iter=10).  Consider pre-processing your data with StandardScaler or MinMaxScaler.\n",
      "  % self.max_iter, ConvergenceWarning)\n",
      "/opt/conda/lib/python3.7/site-packages/sklearn/svm/_base.py:249: ConvergenceWarning: Solver terminated early (max_iter=10).  Consider pre-processing your data with StandardScaler or MinMaxScaler.\n",
      "  % self.max_iter, ConvergenceWarning)\n",
      "/opt/conda/lib/python3.7/site-packages/sklearn/svm/_base.py:249: ConvergenceWarning: Solver terminated early (max_iter=10).  Consider pre-processing your data with StandardScaler or MinMaxScaler.\n",
      "  % self.max_iter, ConvergenceWarning)\n",
      "/opt/conda/lib/python3.7/site-packages/sklearn/svm/_base.py:249: ConvergenceWarning: Solver terminated early (max_iter=10).  Consider pre-processing your data with StandardScaler or MinMaxScaler.\n",
      "  % self.max_iter, ConvergenceWarning)\n",
      "/opt/conda/lib/python3.7/site-packages/sklearn/svm/_base.py:249: ConvergenceWarning: Solver terminated early (max_iter=10).  Consider pre-processing your data with StandardScaler or MinMaxScaler.\n",
      "  % self.max_iter, ConvergenceWarning)\n",
      "/opt/conda/lib/python3.7/site-packages/sklearn/svm/_base.py:249: ConvergenceWarning: Solver terminated early (max_iter=10).  Consider pre-processing your data with StandardScaler or MinMaxScaler.\n",
      "  % self.max_iter, ConvergenceWarning)\n",
      "/opt/conda/lib/python3.7/site-packages/sklearn/svm/_base.py:249: ConvergenceWarning: Solver terminated early (max_iter=10).  Consider pre-processing your data with StandardScaler or MinMaxScaler.\n",
      "  % self.max_iter, ConvergenceWarning)\n",
      "/opt/conda/lib/python3.7/site-packages/sklearn/svm/_base.py:249: ConvergenceWarning: Solver terminated early (max_iter=10).  Consider pre-processing your data with StandardScaler or MinMaxScaler.\n",
      "  % self.max_iter, ConvergenceWarning)\n",
      "/opt/conda/lib/python3.7/site-packages/sklearn/svm/_base.py:249: ConvergenceWarning: Solver terminated early (max_iter=10).  Consider pre-processing your data with StandardScaler or MinMaxScaler.\n",
      "  % self.max_iter, ConvergenceWarning)\n",
      "/opt/conda/lib/python3.7/site-packages/sklearn/svm/_base.py:249: ConvergenceWarning: Solver terminated early (max_iter=10).  Consider pre-processing your data with StandardScaler or MinMaxScaler.\n",
      "  % self.max_iter, ConvergenceWarning)\n",
      "/opt/conda/lib/python3.7/site-packages/sklearn/svm/_base.py:249: ConvergenceWarning: Solver terminated early (max_iter=10).  Consider pre-processing your data with StandardScaler or MinMaxScaler.\n",
      "  % self.max_iter, ConvergenceWarning)\n",
      "/opt/conda/lib/python3.7/site-packages/sklearn/svm/_base.py:249: ConvergenceWarning: Solver terminated early (max_iter=10).  Consider pre-processing your data with StandardScaler or MinMaxScaler.\n",
      "  % self.max_iter, ConvergenceWarning)\n",
      "/opt/conda/lib/python3.7/site-packages/sklearn/svm/_base.py:249: ConvergenceWarning: Solver terminated early (max_iter=10).  Consider pre-processing your data with StandardScaler or MinMaxScaler.\n",
      "  % self.max_iter, ConvergenceWarning)\n",
      "/opt/conda/lib/python3.7/site-packages/sklearn/svm/_base.py:249: ConvergenceWarning: Solver terminated early (max_iter=10).  Consider pre-processing your data with StandardScaler or MinMaxScaler.\n",
      "  % self.max_iter, ConvergenceWarning)\n",
      "/opt/conda/lib/python3.7/site-packages/sklearn/svm/_base.py:249: ConvergenceWarning: Solver terminated early (max_iter=10).  Consider pre-processing your data with StandardScaler or MinMaxScaler.\n",
      "  % self.max_iter, ConvergenceWarning)\n",
      "/opt/conda/lib/python3.7/site-packages/sklearn/svm/_base.py:249: ConvergenceWarning: Solver terminated early (max_iter=10).  Consider pre-processing your data with StandardScaler or MinMaxScaler.\n",
      "  % self.max_iter, ConvergenceWarning)\n",
      "/opt/conda/lib/python3.7/site-packages/sklearn/svm/_base.py:249: ConvergenceWarning: Solver terminated early (max_iter=10).  Consider pre-processing your data with StandardScaler or MinMaxScaler.\n",
      "  % self.max_iter, ConvergenceWarning)\n",
      "/opt/conda/lib/python3.7/site-packages/sklearn/svm/_base.py:249: ConvergenceWarning: Solver terminated early (max_iter=10).  Consider pre-processing your data with StandardScaler or MinMaxScaler.\n",
      "  % self.max_iter, ConvergenceWarning)\n",
      "/opt/conda/lib/python3.7/site-packages/sklearn/svm/_base.py:249: ConvergenceWarning: Solver terminated early (max_iter=10).  Consider pre-processing your data with StandardScaler or MinMaxScaler.\n",
      "  % self.max_iter, ConvergenceWarning)\n",
      "/opt/conda/lib/python3.7/site-packages/sklearn/svm/_base.py:249: ConvergenceWarning: Solver terminated early (max_iter=10).  Consider pre-processing your data with StandardScaler or MinMaxScaler.\n",
      "  % self.max_iter, ConvergenceWarning)\n",
      "/opt/conda/lib/python3.7/site-packages/sklearn/svm/_base.py:249: ConvergenceWarning: Solver terminated early (max_iter=10).  Consider pre-processing your data with StandardScaler or MinMaxScaler.\n",
      "  % self.max_iter, ConvergenceWarning)\n",
      "/opt/conda/lib/python3.7/site-packages/sklearn/svm/_base.py:249: ConvergenceWarning: Solver terminated early (max_iter=10).  Consider pre-processing your data with StandardScaler or MinMaxScaler.\n",
      "  % self.max_iter, ConvergenceWarning)\n",
      "/opt/conda/lib/python3.7/site-packages/sklearn/svm/_base.py:249: ConvergenceWarning: Solver terminated early (max_iter=10).  Consider pre-processing your data with StandardScaler or MinMaxScaler.\n",
      "  % self.max_iter, ConvergenceWarning)\n",
      "/opt/conda/lib/python3.7/site-packages/sklearn/svm/_base.py:249: ConvergenceWarning: Solver terminated early (max_iter=10).  Consider pre-processing your data with StandardScaler or MinMaxScaler.\n",
      "  % self.max_iter, ConvergenceWarning)\n",
      "/opt/conda/lib/python3.7/site-packages/sklearn/svm/_base.py:249: ConvergenceWarning: Solver terminated early (max_iter=10).  Consider pre-processing your data with StandardScaler or MinMaxScaler.\n",
      "  % self.max_iter, ConvergenceWarning)\n",
      "/opt/conda/lib/python3.7/site-packages/sklearn/svm/_base.py:249: ConvergenceWarning: Solver terminated early (max_iter=10).  Consider pre-processing your data with StandardScaler or MinMaxScaler.\n",
      "  % self.max_iter, ConvergenceWarning)\n",
      "/opt/conda/lib/python3.7/site-packages/sklearn/svm/_base.py:249: ConvergenceWarning: Solver terminated early (max_iter=10).  Consider pre-processing your data with StandardScaler or MinMaxScaler.\n",
      "  % self.max_iter, ConvergenceWarning)\n",
      "/opt/conda/lib/python3.7/site-packages/sklearn/svm/_base.py:249: ConvergenceWarning: Solver terminated early (max_iter=10).  Consider pre-processing your data with StandardScaler or MinMaxScaler.\n",
      "  % self.max_iter, ConvergenceWarning)\n",
      "/opt/conda/lib/python3.7/site-packages/sklearn/svm/_base.py:249: ConvergenceWarning: Solver terminated early (max_iter=10).  Consider pre-processing your data with StandardScaler or MinMaxScaler.\n",
      "  % self.max_iter, ConvergenceWarning)\n"
     ]
    },
    {
     "name": "stdout",
     "output_type": "stream",
     "text": [
      "tuned hpyerparameters :(best parameters)  {'C': 0.01, 'epsilon': 1, 'kernel': 'sigmoid'}\n",
      "WCC : -2.572209528396475\n",
      "WCC -  0.9999999875306759\n"
     ]
    }
   ],
   "source": [
    "from sklearn.model_selection import GridSearchCV\n",
    "from sklearn.svm import SVR\n",
    "grid={'kernel':['sigmoid'],\n",
    "     'C': [0.01,0.1,1,10],\n",
    "     'epsilon': [0.01, 0.1, 1, 10]}\n",
    "svr=SVR(max_iter = 10, tol=1e-6)\n",
    "svr_cv=GridSearchCV(svr,grid,cv=5)\n",
    "svr_cv.fit(X_train, y_train)\n",
    "\n",
    "print(\"tuned hpyerparameters :(best parameters) \",svr_cv.best_params_)\n",
    "print(\"WCC :\",svr_cv.best_score_)\n",
    "\n",
    "prediction = svr_cv.predict(X_test)\n",
    "\n",
    "\n",
    "print('WCC - ',wcc(prediction, y_test))"
   ]
  }
 ],
 "metadata": {
  "kernelspec": {
   "display_name": "Python 3",
   "language": "python",
   "name": "python3"
  },
  "language_info": {
   "codemirror_mode": {
    "name": "ipython",
    "version": 3
   },
   "file_extension": ".py",
   "mimetype": "text/x-python",
   "name": "python",
   "nbconvert_exporter": "python",
   "pygments_lexer": "ipython3",
   "version": "3.8.8"
  },
  "papermill": {
   "default_parameters": {},
   "duration": 120.614211,
   "end_time": "2022-01-05T16:15:29.198693",
   "environment_variables": {},
   "exception": null,
   "input_path": "__notebook__.ipynb",
   "output_path": "__notebook__.ipynb",
   "parameters": {},
   "start_time": "2022-01-05T16:13:28.584482",
   "version": "2.3.3"
  }
 },
 "nbformat": 4,
 "nbformat_minor": 5
}
