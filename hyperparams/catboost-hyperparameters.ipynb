{
 "cells": [
  {
   "cell_type": "markdown",
   "metadata": {},
   "source": [
    "## Data loading"
   ]
  },
  {
   "cell_type": "code",
   "execution_count": 1,
   "metadata": {
    "_cell_guid": "b1076dfc-b9ad-4769-8c92-a6c4dae69d19",
    "_uuid": "8f2839f25d086af736a60e9eeb907d3b93b6e0e5",
    "execution": {
     "iopub.execute_input": "2022-01-07T08:14:22.489133Z",
     "iopub.status.busy": "2022-01-07T08:14:22.488699Z",
     "iopub.status.idle": "2022-01-07T08:14:22.518007Z",
     "shell.execute_reply": "2022-01-07T08:14:22.517246Z",
     "shell.execute_reply.started": "2022-01-07T08:14:22.488997Z"
    }
   },
   "outputs": [],
   "source": [
    "data_train = '/kaggle/input/g-research-crypto-forecasting/train.csv'\n",
    "data_asset_details = '/kaggle/input/g-research-crypto-forecasting/asset_details.csv'\n",
    "data_supplemental_train = '/kaggle/input/g-research-crypto-forecasting/supplemental_train.csv'"
   ]
  },
  {
   "cell_type": "code",
   "execution_count": 2,
   "metadata": {
    "execution": {
     "iopub.execute_input": "2022-01-07T08:14:22.519872Z",
     "iopub.status.busy": "2022-01-07T08:14:22.519499Z",
     "iopub.status.idle": "2022-01-07T08:14:22.875587Z",
     "shell.execute_reply": "2022-01-07T08:14:22.874321Z",
     "shell.execute_reply.started": "2022-01-07T08:14:22.519840Z"
    }
   },
   "outputs": [],
   "source": [
    "from catboost import Pool, cv, CatBoostRegressor"
   ]
  },
  {
   "cell_type": "code",
   "execution_count": 3,
   "metadata": {
    "execution": {
     "iopub.execute_input": "2022-01-07T08:14:22.877258Z",
     "iopub.status.busy": "2022-01-07T08:14:22.876952Z",
     "iopub.status.idle": "2022-01-07T08:14:25.069635Z",
     "shell.execute_reply": "2022-01-07T08:14:25.068420Z",
     "shell.execute_reply.started": "2022-01-07T08:14:22.877223Z"
    }
   },
   "outputs": [],
   "source": [
    "import random\n",
    "import pandas as pd\n",
    "import numpy as np\n",
    "import lightgbm as lgb\n",
    "import time\n",
    "import datetime\n",
    "import plotly.graph_objects as go"
   ]
  },
  {
   "cell_type": "code",
   "execution_count": 4,
   "metadata": {
    "execution": {
     "iopub.execute_input": "2022-01-07T08:14:25.072851Z",
     "iopub.status.busy": "2022-01-07T08:14:25.072516Z",
     "iopub.status.idle": "2022-01-07T08:15:34.337849Z",
     "shell.execute_reply": "2022-01-07T08:15:34.336946Z",
     "shell.execute_reply.started": "2022-01-07T08:14:25.072807Z"
    }
   },
   "outputs": [],
   "source": [
    "df_train = pd.read_csv(data_train, \n",
    "                       dtype={'Asset_ID': 'int8', 'Count': 'int32', 'row_id': 'int32', 'Count': 'int32', \n",
    "                              'Open': 'float64', 'High': 'float64', 'Low': 'float64', 'Close': 'float64', \n",
    "                              'Volume': 'float64', 'VWAP': 'float64'\n",
    "                             }\n",
    "                      )\n",
    "df_train.head()"
   ]
  },
  {
   "cell_type": "code",
   "execution_count": 5,
   "metadata": {
    "execution": {
     "iopub.execute_input": "2022-01-07T08:15:34.339607Z",
     "iopub.status.busy": "2022-01-07T08:15:34.339369Z",
     "iopub.status.idle": "2022-01-07T08:15:34.373327Z",
     "shell.execute_reply": "2022-01-07T08:15:34.372478Z",
     "shell.execute_reply.started": "2022-01-07T08:15:34.339576Z"
    }
   },
   "outputs": [],
   "source": [
    "import gresearch_crypto"
   ]
  },
  {
   "cell_type": "code",
   "execution_count": 6,
   "metadata": {
    "execution": {
     "iopub.execute_input": "2022-01-07T08:15:34.375224Z",
     "iopub.status.busy": "2022-01-07T08:15:34.374890Z",
     "iopub.status.idle": "2022-01-07T08:15:34.399822Z",
     "shell.execute_reply": "2022-01-07T08:15:34.399196Z",
     "shell.execute_reply.started": "2022-01-07T08:15:34.375179Z"
    }
   },
   "outputs": [],
   "source": [
    "df_assets = pd.read_csv(data_asset_details).sort_values(by='Asset_ID')\n",
    "df_assets.head()"
   ]
  },
  {
   "cell_type": "markdown",
   "metadata": {},
   "source": [
    "## Data preprocessing"
   ]
  },
  {
   "cell_type": "code",
   "execution_count": 7,
   "metadata": {
    "execution": {
     "iopub.execute_input": "2022-01-07T08:15:34.401638Z",
     "iopub.status.busy": "2022-01-07T08:15:34.400972Z",
     "iopub.status.idle": "2022-01-07T08:15:34.411091Z",
     "shell.execute_reply": "2022-01-07T08:15:34.410137Z",
     "shell.execute_reply.started": "2022-01-07T08:15:34.401605Z"
    }
   },
   "outputs": [],
   "source": [
    "def upper_shadow(df):\n",
    "    return df['High'] - np.maximum(df['Close'], df['Open'])\n",
    "\n",
    "def lower_shadow(df):\n",
    "    return np.minimum(df['Close'], df['Open']) - df['Low']\n",
    "\n",
    "def get_features(df):\n",
    "    df_feat = df[['Count', 'Open', 'High', 'Low', 'Close', 'Volume', 'VWAP']].copy()\n",
    "    df_feat['Upper_Shadow'] = upper_shadow(df_feat)\n",
    "    df_feat['Lower_Shadow'] = lower_shadow(df_feat)\n",
    "    \n",
    "    df_feat[\"Close/Open\"] = df_feat[\"Close\"] / df_feat[\"Open\"] \n",
    "    df_feat[\"Close-Open\"] = df_feat[\"Close\"] - df_feat[\"Open\"] \n",
    "    df_feat[\"High-Low\"] = df_feat[\"High\"] - df_feat[\"Low\"] \n",
    "    df_feat[\"High/Low\"] = df_feat[\"High\"] / df_feat[\"Low\"]\n",
    "    \n",
    "    df_feat['Mean'] = df_feat[['Open', 'High', 'Low', 'Close']].mean(axis=1)\n",
    "    df_feat[\"Median\"] = df_feat[[\"Open\", \"High\", \"Low\", \"Close\"]].median(axis=1)\n",
    "\n",
    "    return df_feat"
   ]
  },
  {
   "cell_type": "code",
   "execution_count": 8,
   "metadata": {
    "execution": {
     "iopub.execute_input": "2022-01-07T08:15:34.412790Z",
     "iopub.status.busy": "2022-01-07T08:15:34.412550Z",
     "iopub.status.idle": "2022-01-07T08:15:34.423373Z",
     "shell.execute_reply": "2022-01-07T08:15:34.422433Z",
     "shell.execute_reply.started": "2022-01-07T08:15:34.412754Z"
    }
   },
   "outputs": [],
   "source": [
    "from sklearn.preprocessing import StandardScaler"
   ]
  },
  {
   "cell_type": "markdown",
   "metadata": {},
   "source": [
    "## Model getting"
   ]
  },
  {
   "cell_type": "code",
   "execution_count": 9,
   "metadata": {
    "execution": {
     "iopub.execute_input": "2022-01-07T08:15:34.425378Z",
     "iopub.status.busy": "2022-01-07T08:15:34.424922Z",
     "iopub.status.idle": "2022-01-07T08:15:34.437299Z",
     "shell.execute_reply": "2022-01-07T08:15:34.436525Z",
     "shell.execute_reply.started": "2022-01-07T08:15:34.425330Z"
    }
   },
   "outputs": [],
   "source": [
    "def get_Xy_and_model_for_asset(df_train, asset_id):\n",
    "    df = df_train[df_train[\"Asset_ID\"] == asset_id]\n",
    "    \n",
    "    df_proc = get_features(df)\n",
    "    df_proc['y'] = df['Target']\n",
    "    df_proc = df_proc.dropna(how=\"any\")\n",
    "    \n",
    "    df_proc = df_proc.reset_index(drop=True)\n",
    "    df_proc = df_proc.drop(labels=np.where(np.isinf(df_proc))[0], axis=0)\n",
    "    df_proc = df_proc.reset_index(drop=True)\n",
    "     \n",
    "    X = df_proc.drop(\"y\", axis=1)\n",
    "    y = df_proc[\"y\"]\n",
    "    \n",
    "    scaler = StandardScaler()\n",
    "    X = scaler.fit_transform(X)\n",
    "    \n",
    "    model = CatBoostRegressor(iterations=500, learning_rate=0.05, depth=10, random_seed=42, verbose = 0, silent=True, task_type=\"GPU\")\n",
    "    model.fit(X, y)\n",
    "\n",
    "    return X, y, model"
   ]
  },
  {
   "cell_type": "code",
   "execution_count": 10,
   "metadata": {
    "execution": {
     "iopub.execute_input": "2022-01-07T08:15:34.440420Z",
     "iopub.status.busy": "2022-01-07T08:15:34.439961Z",
     "iopub.status.idle": "2022-01-07T08:15:34.699082Z",
     "shell.execute_reply": "2022-01-07T08:15:34.698136Z",
     "shell.execute_reply.started": "2022-01-07T08:15:34.440366Z"
    }
   },
   "outputs": [],
   "source": [
    "from sklearn.metrics import f1_score\n",
    "import pandas as pd\n",
    "from skopt import gp_minimize\n",
    "from skopt.space import Real, Integer\n",
    "from sklearn.model_selection import train_test_split\n",
    "from functools import partial"
   ]
  },
  {
   "cell_type": "code",
   "execution_count": 11,
   "metadata": {
    "execution": {
     "iopub.execute_input": "2022-01-07T08:15:34.703482Z",
     "iopub.status.busy": "2022-01-07T08:15:34.703240Z",
     "iopub.status.idle": "2022-01-07T08:15:34.710627Z",
     "shell.execute_reply": "2022-01-07T08:15:34.709957Z",
     "shell.execute_reply.started": "2022-01-07T08:15:34.703451Z"
    }
   },
   "outputs": [],
   "source": [
    "def m(x, w):\n",
    "    \"\"\"Weighted Mean\"\"\"\n",
    "    return np.sum(x * w) / np.sum(w)\n",
    "def cov(x, y, w):\n",
    "    return np.sum(w * (x - m(x, w)) * (y - m(y, w))) / np.sum(w)\n",
    "\n",
    "def wcc(x, y, w):\n",
    "    return cov(x, y, w) / np.sqrt(cov(x, x, w) * cov(y, y, w))"
   ]
  },
  {
   "cell_type": "markdown",
   "metadata": {},
   "source": [
    "## Parameters grid"
   ]
  },
  {
   "cell_type": "code",
   "execution_count": 12,
   "metadata": {
    "execution": {
     "iopub.execute_input": "2022-01-07T08:15:34.712439Z",
     "iopub.status.busy": "2022-01-07T08:15:34.711810Z",
     "iopub.status.idle": "2022-01-07T08:15:34.727075Z",
     "shell.execute_reply": "2022-01-07T08:15:34.726351Z",
     "shell.execute_reply.started": "2022-01-07T08:15:34.712405Z"
    }
   },
   "outputs": [],
   "source": [
    "space = [\n",
    "    Real(0.001, 0.5, name=\"learning_rate\"),\n",
    "    Integer(6, 15, name=\"max_depth\"),\n",
    "    Integer(100, 1000, name=\"n_estimators\"),\n",
    "    Real(0.5, 0.95, name=\"subsample\"),\n",
    "]"
   ]
  },
  {
   "cell_type": "markdown",
   "metadata": {},
   "source": [
    "## Parameters finding"
   ]
  },
  {
   "cell_type": "code",
   "execution_count": 13,
   "metadata": {
    "execution": {
     "iopub.execute_input": "2022-01-07T08:15:34.729094Z",
     "iopub.status.busy": "2022-01-07T08:15:34.728575Z",
     "iopub.status.idle": "2022-01-07T08:15:34.739026Z",
     "shell.execute_reply": "2022-01-07T08:15:34.738162Z",
     "shell.execute_reply.started": "2022-01-07T08:15:34.729027Z"
    }
   },
   "outputs": [],
   "source": [
    "train_ratio = 0.75"
   ]
  },
  {
   "cell_type": "code",
   "execution_count": 14,
   "metadata": {
    "execution": {
     "iopub.execute_input": "2022-01-07T08:15:34.741412Z",
     "iopub.status.busy": "2022-01-07T08:15:34.740907Z",
     "iopub.status.idle": "2022-01-07T08:15:34.753146Z",
     "shell.execute_reply": "2022-01-07T08:15:34.751951Z",
     "shell.execute_reply.started": "2022-01-07T08:15:34.741374Z"
    }
   },
   "outputs": [],
   "source": [
    "def return_model_assessment(args, X_train, y_train, X_test, w):\n",
    "    global models, train_scores, test_scores, curr_model_hyper_params\n",
    "    params = {curr_model_hyper_params[i]: args[i] for i, j in enumerate(curr_model_hyper_params)}\n",
    "    model = CatBoostRegressor(random_state=2022, silent=True)\n",
    "    model.set_params(**params)\n",
    "    fitted_model = model.fit(X_train, y_train, sample_weight=None)\n",
    "    models.append(fitted_model)\n",
    "    train_predictions = model.predict(X_train)\n",
    "    test_predictions = model.predict(X_test)\n",
    "    train_score = wcc(train_predictions, y_train, w)\n",
    "    test_score = wcc(test_predictions, y_test, w)\n",
    "    train_scores.append(train_score)\n",
    "    test_scores.append(test_score)\n",
    "    return 1 - test_score"
   ]
  },
  {
   "cell_type": "code",
   "execution_count": null,
   "metadata": {
    "execution": {
     "iopub.execute_input": "2022-01-06T11:39:39.001822Z",
     "iopub.status.busy": "2022-01-06T11:39:39.001625Z",
     "iopub.status.idle": "2022-01-06T12:20:00.997121Z",
     "shell.execute_reply": "2022-01-06T12:20:00.995667Z",
     "shell.execute_reply.started": "2022-01-06T11:39:39.001797Z"
    }
   },
   "outputs": [],
   "source": [
    "for i in range(14):\n",
    "    print(i, \"started:\")\n",
    "    weight = df_assets[df_assets['Asset_ID'] == i]['Weight'].values[0]\n",
    "    df = df_train[df_train['Asset_ID'] == i].reset_index(drop=True)\n",
    "    \n",
    "    df_proc = get_features(df)\n",
    "    df_proc['y'] = df['Target']\n",
    "    df_proc = df_proc.dropna(how=\"any\")\n",
    "\n",
    "    df_proc = df_proc.reset_index(drop=True)\n",
    "    df_proc = df_proc.drop(labels=np.where(np.isinf(df_proc))[0], axis=0)\n",
    "    df_proc = df_proc.reset_index(drop=True)\n",
    "    \n",
    "    X = df_proc.drop(\"y\", axis=1)\n",
    "    y = df_proc[\"y\"]\n",
    "\n",
    "    scaler = StandardScaler()\n",
    "    X = scaler.fit_transform(X)\n",
    "    col_names = df_proc.drop('y', axis=1).columns\n",
    "    X_train, X_test, y_train, y_test = train_test_split(X, y, test_size=1 - train_ratio, random_state=42)\n",
    "    target_col = \"y\"\n",
    "    \n",
    "    models = []\n",
    "    train_scores = []\n",
    "    test_scores = []\n",
    "    curr_model_hyper_params = ['learning_rate',\n",
    "                            'max_depth', 'n_estimators', 'subsample']\n",
    "    objective_function = partial(return_model_assessment, X_train=X_train, y_train=y_train, X_test=X_test, w=weight)\n",
    "\n",
    "    n_calls = 5 \n",
    "    results = gp_minimize(objective_function, space, base_estimator=None, n_calls=5, n_random_starts=n_calls-1, random_state=42)\n",
    "    \n",
    "    print(results.x)"
   ]
  },
  {
   "cell_type": "code",
   "execution_count": null,
   "metadata": {},
   "outputs": [],
   "source": [
    "# First [0.07229054214304846, 12, 151, 0.8248994475200712]"
   ]
  }
 ],
 "metadata": {
  "kernelspec": {
   "display_name": "Python 3",
   "language": "python",
   "name": "python3"
  },
  "language_info": {
   "codemirror_mode": {
    "name": "ipython",
    "version": 3
   },
   "file_extension": ".py",
   "mimetype": "text/x-python",
   "name": "python",
   "nbconvert_exporter": "python",
   "pygments_lexer": "ipython3",
   "version": "3.8.8"
  }
 },
 "nbformat": 4,
 "nbformat_minor": 4
}
