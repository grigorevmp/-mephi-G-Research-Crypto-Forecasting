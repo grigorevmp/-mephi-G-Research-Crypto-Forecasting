{
 "cells": [
  {
   "cell_type": "code",
   "execution_count": 1,
   "id": "a3f9dee4",
   "metadata": {
    "_cell_guid": "b1076dfc-b9ad-4769-8c92-a6c4dae69d19",
    "_uuid": "8f2839f25d086af736a60e9eeb907d3b93b6e0e5",
    "execution": {
     "iopub.execute_input": "2022-01-04T09:48:50.052739Z",
     "iopub.status.busy": "2022-01-04T09:48:50.050869Z",
     "iopub.status.idle": "2022-01-04T09:48:50.075796Z",
     "shell.execute_reply": "2022-01-04T09:48:50.076470Z",
     "shell.execute_reply.started": "2022-01-04T09:12:50.276449Z"
    },
    "papermill": {
     "duration": 0.058642,
     "end_time": "2022-01-04T09:48:50.076878",
     "exception": false,
     "start_time": "2022-01-04T09:48:50.018236",
     "status": "completed"
    },
    "tags": []
   },
   "outputs": [
    {
     "name": "stdout",
     "output_type": "stream",
     "text": [
      "/kaggle/input/g-research-crypto-forecasting/example_sample_submission.csv\n",
      "/kaggle/input/g-research-crypto-forecasting/asset_details.csv\n",
      "/kaggle/input/g-research-crypto-forecasting/example_test.csv\n",
      "/kaggle/input/g-research-crypto-forecasting/train.csv\n",
      "/kaggle/input/g-research-crypto-forecasting/supplemental_train.csv\n",
      "/kaggle/input/g-research-crypto-forecasting/gresearch_crypto/competition.cpython-37m-x86_64-linux-gnu.so\n",
      "/kaggle/input/g-research-crypto-forecasting/gresearch_crypto/__init__.py\n"
     ]
    }
   ],
   "source": [
    "import numpy as np\n",
    "import pandas as pd \n",
    "import os\n",
    "for dirname, _, filenames in os.walk('/kaggle/input'):\n",
    "    for filename in filenames:\n",
    "        print(os.path.join(dirname, filename))"
   ]
  },
  {
   "cell_type": "code",
   "execution_count": 2,
   "id": "4d522b21",
   "metadata": {
    "execution": {
     "iopub.execute_input": "2022-01-04T09:48:50.135246Z",
     "iopub.status.busy": "2022-01-04T09:48:50.134201Z",
     "iopub.status.idle": "2022-01-04T09:48:50.138244Z",
     "shell.execute_reply": "2022-01-04T09:48:50.138874Z",
     "shell.execute_reply.started": "2022-01-04T09:12:50.318509Z"
    },
    "papermill": {
     "duration": 0.034489,
     "end_time": "2022-01-04T09:48:50.139066",
     "exception": false,
     "start_time": "2022-01-04T09:48:50.104577",
     "status": "completed"
    },
    "tags": []
   },
   "outputs": [],
   "source": [
    "data_train = '/kaggle/input/g-research-crypto-forecasting/train.csv'\n",
    "data_asset_details = '/kaggle/input/g-research-crypto-forecasting/asset_details.csv'\n",
    "data_supplemental_train = '/kaggle/input/g-research-crypto-forecasting/supplemental_train.csv'"
   ]
  },
  {
   "cell_type": "code",
   "execution_count": 3,
   "id": "e396c865",
   "metadata": {
    "execution": {
     "iopub.execute_input": "2022-01-04T09:48:50.195177Z",
     "iopub.status.busy": "2022-01-04T09:48:50.194073Z",
     "iopub.status.idle": "2022-01-04T09:48:50.213486Z",
     "shell.execute_reply": "2022-01-04T09:48:50.214081Z",
     "shell.execute_reply.started": "2022-01-04T09:12:50.324408Z"
    },
    "papermill": {
     "duration": 0.049561,
     "end_time": "2022-01-04T09:48:50.214311",
     "exception": false,
     "start_time": "2022-01-04T09:48:50.164750",
     "status": "completed"
    },
    "tags": []
   },
   "outputs": [],
   "source": [
    "import random\n",
    "import pandas as pd\n",
    "import numpy as np\n",
    "import time"
   ]
  },
  {
   "cell_type": "code",
   "execution_count": 4,
   "id": "f1894588",
   "metadata": {
    "execution": {
     "iopub.execute_input": "2022-01-04T09:48:50.271232Z",
     "iopub.status.busy": "2022-01-04T09:48:50.270151Z",
     "iopub.status.idle": "2022-01-04T09:49:54.306770Z",
     "shell.execute_reply": "2022-01-04T09:49:54.307789Z",
     "shell.execute_reply.started": "2022-01-04T09:19:36.341955Z"
    },
    "papermill": {
     "duration": 64.067743,
     "end_time": "2022-01-04T09:49:54.308062",
     "exception": false,
     "start_time": "2022-01-04T09:48:50.240319",
     "status": "completed"
    },
    "tags": []
   },
   "outputs": [
    {
     "data": {
      "text/html": [
       "<div>\n",
       "<style scoped>\n",
       "    .dataframe tbody tr th:only-of-type {\n",
       "        vertical-align: middle;\n",
       "    }\n",
       "\n",
       "    .dataframe tbody tr th {\n",
       "        vertical-align: top;\n",
       "    }\n",
       "\n",
       "    .dataframe thead th {\n",
       "        text-align: right;\n",
       "    }\n",
       "</style>\n",
       "<table border=\"1\" class=\"dataframe\">\n",
       "  <thead>\n",
       "    <tr style=\"text-align: right;\">\n",
       "      <th></th>\n",
       "      <th>timestamp</th>\n",
       "      <th>Asset_ID</th>\n",
       "      <th>Count</th>\n",
       "      <th>Open</th>\n",
       "      <th>High</th>\n",
       "      <th>Low</th>\n",
       "      <th>Close</th>\n",
       "      <th>Volume</th>\n",
       "      <th>VWAP</th>\n",
       "      <th>Target</th>\n",
       "    </tr>\n",
       "  </thead>\n",
       "  <tbody>\n",
       "    <tr>\n",
       "      <th>0</th>\n",
       "      <td>1514764860</td>\n",
       "      <td>2</td>\n",
       "      <td>40</td>\n",
       "      <td>2376.5800</td>\n",
       "      <td>2399.5000</td>\n",
       "      <td>2357.1400</td>\n",
       "      <td>2374.5900</td>\n",
       "      <td>19.233005</td>\n",
       "      <td>2373.116392</td>\n",
       "      <td>-0.004218</td>\n",
       "    </tr>\n",
       "    <tr>\n",
       "      <th>1</th>\n",
       "      <td>1514764860</td>\n",
       "      <td>0</td>\n",
       "      <td>5</td>\n",
       "      <td>8.5300</td>\n",
       "      <td>8.5300</td>\n",
       "      <td>8.5300</td>\n",
       "      <td>8.5300</td>\n",
       "      <td>78.380000</td>\n",
       "      <td>8.530000</td>\n",
       "      <td>-0.014399</td>\n",
       "    </tr>\n",
       "    <tr>\n",
       "      <th>2</th>\n",
       "      <td>1514764860</td>\n",
       "      <td>1</td>\n",
       "      <td>229</td>\n",
       "      <td>13835.1940</td>\n",
       "      <td>14013.8000</td>\n",
       "      <td>13666.1100</td>\n",
       "      <td>13850.1760</td>\n",
       "      <td>31.550062</td>\n",
       "      <td>13827.062093</td>\n",
       "      <td>-0.014643</td>\n",
       "    </tr>\n",
       "    <tr>\n",
       "      <th>3</th>\n",
       "      <td>1514764860</td>\n",
       "      <td>5</td>\n",
       "      <td>32</td>\n",
       "      <td>7.6596</td>\n",
       "      <td>7.6596</td>\n",
       "      <td>7.6567</td>\n",
       "      <td>7.6576</td>\n",
       "      <td>6626.713370</td>\n",
       "      <td>7.657713</td>\n",
       "      <td>-0.013922</td>\n",
       "    </tr>\n",
       "    <tr>\n",
       "      <th>4</th>\n",
       "      <td>1514764860</td>\n",
       "      <td>7</td>\n",
       "      <td>5</td>\n",
       "      <td>25.9200</td>\n",
       "      <td>25.9200</td>\n",
       "      <td>25.8740</td>\n",
       "      <td>25.8770</td>\n",
       "      <td>121.087310</td>\n",
       "      <td>25.891363</td>\n",
       "      <td>-0.008264</td>\n",
       "    </tr>\n",
       "  </tbody>\n",
       "</table>\n",
       "</div>"
      ],
      "text/plain": [
       "    timestamp  Asset_ID  Count        Open        High         Low  \\\n",
       "0  1514764860         2     40   2376.5800   2399.5000   2357.1400   \n",
       "1  1514764860         0      5      8.5300      8.5300      8.5300   \n",
       "2  1514764860         1    229  13835.1940  14013.8000  13666.1100   \n",
       "3  1514764860         5     32      7.6596      7.6596      7.6567   \n",
       "4  1514764860         7      5     25.9200     25.9200     25.8740   \n",
       "\n",
       "        Close       Volume          VWAP    Target  \n",
       "0   2374.5900    19.233005   2373.116392 -0.004218  \n",
       "1      8.5300    78.380000      8.530000 -0.014399  \n",
       "2  13850.1760    31.550062  13827.062093 -0.014643  \n",
       "3      7.6576  6626.713370      7.657713 -0.013922  \n",
       "4     25.8770   121.087310     25.891363 -0.008264  "
      ]
     },
     "execution_count": 4,
     "metadata": {},
     "output_type": "execute_result"
    }
   ],
   "source": [
    "df_train = pd.read_csv(data_train, \n",
    "                       dtype={'Asset_ID': 'int8', 'Count': 'int32', 'row_id': 'int32', 'Count': 'int32', \n",
    "                              'Open': 'float64', 'High': 'float64', 'Low': 'float64', 'Close': 'float64', \n",
    "                              'Volume': 'float64', 'VWAP': 'float64'\n",
    "                             }\n",
    "                      )\n",
    "df_train.head()"
   ]
  },
  {
   "cell_type": "code",
   "execution_count": 5,
   "id": "21160ca0",
   "metadata": {
    "execution": {
     "iopub.execute_input": "2022-01-04T09:49:54.367786Z",
     "iopub.status.busy": "2022-01-04T09:49:54.367029Z",
     "iopub.status.idle": "2022-01-04T09:49:54.392090Z",
     "shell.execute_reply": "2022-01-04T09:49:54.391451Z",
     "shell.execute_reply.started": "2022-01-04T09:13:50.964233Z"
    },
    "papermill": {
     "duration": 0.057131,
     "end_time": "2022-01-04T09:49:54.392277",
     "exception": false,
     "start_time": "2022-01-04T09:49:54.335146",
     "status": "completed"
    },
    "tags": []
   },
   "outputs": [],
   "source": [
    "import gresearch_crypto"
   ]
  },
  {
   "cell_type": "code",
   "execution_count": 6,
   "id": "8ddeaf3b",
   "metadata": {
    "execution": {
     "iopub.execute_input": "2022-01-04T09:49:54.451701Z",
     "iopub.status.busy": "2022-01-04T09:49:54.450815Z",
     "iopub.status.idle": "2022-01-04T09:49:54.474827Z",
     "shell.execute_reply": "2022-01-04T09:49:54.474180Z",
     "shell.execute_reply.started": "2022-01-04T09:13:50.992137Z"
    },
    "papermill": {
     "duration": 0.056134,
     "end_time": "2022-01-04T09:49:54.474985",
     "exception": false,
     "start_time": "2022-01-04T09:49:54.418851",
     "status": "completed"
    },
    "tags": []
   },
   "outputs": [
    {
     "data": {
      "text/html": [
       "<div>\n",
       "<style scoped>\n",
       "    .dataframe tbody tr th:only-of-type {\n",
       "        vertical-align: middle;\n",
       "    }\n",
       "\n",
       "    .dataframe tbody tr th {\n",
       "        vertical-align: top;\n",
       "    }\n",
       "\n",
       "    .dataframe thead th {\n",
       "        text-align: right;\n",
       "    }\n",
       "</style>\n",
       "<table border=\"1\" class=\"dataframe\">\n",
       "  <thead>\n",
       "    <tr style=\"text-align: right;\">\n",
       "      <th></th>\n",
       "      <th>Asset_ID</th>\n",
       "      <th>Weight</th>\n",
       "      <th>Asset_Name</th>\n",
       "    </tr>\n",
       "  </thead>\n",
       "  <tbody>\n",
       "    <tr>\n",
       "      <th>1</th>\n",
       "      <td>0</td>\n",
       "      <td>4.304065</td>\n",
       "      <td>Binance Coin</td>\n",
       "    </tr>\n",
       "    <tr>\n",
       "      <th>2</th>\n",
       "      <td>1</td>\n",
       "      <td>6.779922</td>\n",
       "      <td>Bitcoin</td>\n",
       "    </tr>\n",
       "    <tr>\n",
       "      <th>0</th>\n",
       "      <td>2</td>\n",
       "      <td>2.397895</td>\n",
       "      <td>Bitcoin Cash</td>\n",
       "    </tr>\n",
       "    <tr>\n",
       "      <th>10</th>\n",
       "      <td>3</td>\n",
       "      <td>4.406719</td>\n",
       "      <td>Cardano</td>\n",
       "    </tr>\n",
       "    <tr>\n",
       "      <th>13</th>\n",
       "      <td>4</td>\n",
       "      <td>3.555348</td>\n",
       "      <td>Dogecoin</td>\n",
       "    </tr>\n",
       "  </tbody>\n",
       "</table>\n",
       "</div>"
      ],
      "text/plain": [
       "    Asset_ID    Weight    Asset_Name\n",
       "1          0  4.304065  Binance Coin\n",
       "2          1  6.779922       Bitcoin\n",
       "0          2  2.397895  Bitcoin Cash\n",
       "10         3  4.406719       Cardano\n",
       "13         4  3.555348      Dogecoin"
      ]
     },
     "execution_count": 6,
     "metadata": {},
     "output_type": "execute_result"
    }
   ],
   "source": [
    "df_assets = pd.read_csv(data_asset_details).sort_values(by='Asset_ID')\n",
    "df_assets.head()"
   ]
  },
  {
   "cell_type": "markdown",
   "id": "118eb1c5",
   "metadata": {},
   "source": [
    "## Data preprocessing"
   ]
  },
  {
   "cell_type": "code",
   "execution_count": 7,
   "id": "2744ae7f",
   "metadata": {
    "execution": {
     "iopub.execute_input": "2022-01-04T09:49:54.539328Z",
     "iopub.status.busy": "2022-01-04T09:49:54.533411Z",
     "iopub.status.idle": "2022-01-04T09:49:55.814384Z",
     "shell.execute_reply": "2022-01-04T09:49:55.813743Z",
     "shell.execute_reply.started": "2022-01-04T09:13:51.015203Z"
    },
    "papermill": {
     "duration": 1.311636,
     "end_time": "2022-01-04T09:49:55.814595",
     "exception": false,
     "start_time": "2022-01-04T09:49:54.502959",
     "status": "completed"
    },
    "tags": []
   },
   "outputs": [],
   "source": [
    "def upper_shadow(df):\n",
    "    return df['High'] - np.maximum(df['Close'], df['Open'])\n",
    "\n",
    "def lower_shadow(df):\n",
    "    return np.minimum(df['Close'], df['Open']) - df['Low']\n",
    "\n",
    "def get_features(df):\n",
    "    df_feat = df[['Count', 'Open', 'High', 'Low', 'Close', 'Volume', 'VWAP']].copy()\n",
    "    df_feat['Upper_Shadow'] = upper_shadow(df_feat)\n",
    "    df_feat['Lower_Shadow'] = lower_shadow(df_feat)\n",
    "    \n",
    "    df_feat[\"Close/Open\"] = df_feat[\"Close\"] / df_feat[\"Open\"] \n",
    "    df_feat[\"Close-Open\"] = df_feat[\"Close\"] - df_feat[\"Open\"] \n",
    "    df_feat[\"High-Low\"] = df_feat[\"High\"] - df_feat[\"Low\"] \n",
    "    df_feat[\"High/Low\"] = df_feat[\"High\"] / df_feat[\"Low\"]\n",
    "    \n",
    "    df_feat['Mean'] = df_feat[['Open', 'High', 'Low', 'Close']].mean(axis=1)\n",
    "\n",
    "\n",
    "    df_feat[\"Median\"] = df_feat[[\"Open\", \"High\", \"Low\", \"Close\"]].median(axis=1)\n",
    "    return df_feat"
   ]
  },
  {
   "cell_type": "markdown",
   "id": "0875cc7f",
   "metadata": {},
   "source": [
    "## Some useful funcs and imports"
   ]
  },
  {
   "cell_type": "code",
   "execution_count": 8,
   "id": "4e1ff881",
   "metadata": {
    "execution": {
     "iopub.execute_input": "2022-01-04T09:49:55.876970Z",
     "iopub.status.busy": "2022-01-04T09:49:55.876268Z",
     "iopub.status.idle": "2022-01-04T09:49:55.878646Z",
     "shell.execute_reply": "2022-01-04T09:49:55.879187Z",
     "shell.execute_reply.started": "2022-01-04T09:13:52.16869Z"
    },
    "papermill": {
     "duration": 0.037846,
     "end_time": "2022-01-04T09:49:55.879407",
     "exception": false,
     "start_time": "2022-01-04T09:49:55.841561",
     "status": "completed"
    },
    "tags": []
   },
   "outputs": [],
   "source": [
    "from sklearn.preprocessing import StandardScaler"
   ]
  },
  {
   "cell_type": "code",
   "execution_count": 9,
   "id": "7f0ec73e",
   "metadata": {
    "execution": {
     "iopub.execute_input": "2022-01-04T09:49:55.939924Z",
     "iopub.status.busy": "2022-01-04T09:49:55.939224Z",
     "iopub.status.idle": "2022-01-04T09:49:56.226554Z",
     "shell.execute_reply": "2022-01-04T09:49:56.227444Z",
     "shell.execute_reply.started": "2022-01-04T09:13:52.174288Z"
    },
    "papermill": {
     "duration": 0.321252,
     "end_time": "2022-01-04T09:49:56.227741",
     "exception": false,
     "start_time": "2022-01-04T09:49:55.906489",
     "status": "completed"
    },
    "tags": []
   },
   "outputs": [],
   "source": [
    "from skopt import gp_minimize\n",
    "from skopt.space import Real, Integer\n",
    "from sklearn.model_selection import train_test_split\n",
    "from functools import partial"
   ]
  },
  {
   "cell_type": "code",
   "execution_count": 10,
   "id": "0a7ffe4d",
   "metadata": {
    "execution": {
     "iopub.execute_input": "2022-01-04T09:49:56.286563Z",
     "iopub.status.busy": "2022-01-04T09:49:56.285782Z",
     "iopub.status.idle": "2022-01-04T09:49:56.292277Z",
     "shell.execute_reply": "2022-01-04T09:49:56.292857Z",
     "shell.execute_reply.started": "2022-01-04T09:19:17.832294Z"
    },
    "papermill": {
     "duration": 0.038127,
     "end_time": "2022-01-04T09:49:56.293068",
     "exception": false,
     "start_time": "2022-01-04T09:49:56.254941",
     "status": "completed"
    },
    "tags": []
   },
   "outputs": [],
   "source": [
    "def m(x, w):\n",
    "    return np.sum(x * w) / np.sum(w)\n",
    "\n",
    "def cov(x, y, w):\n",
    "    return np.sum(w * (x - m(x, w)) * (y - m(y, w))) / np.sum(w)\n",
    "\n",
    "def wcc(x, y, w=2.079441541679836):\n",
    "    return cov(x, y, w) / np.sqrt(cov(x, x, w) * cov(y, y, w))"
   ]
  },
  {
   "cell_type": "markdown",
   "id": "3af9d393",
   "metadata": {},
   "source": [
    "## Data preprocessing"
   ]
  },
  {
   "cell_type": "code",
   "execution_count": 11,
   "id": "72d43d4e",
   "metadata": {
    "execution": {
     "iopub.execute_input": "2022-01-04T09:49:56.359753Z",
     "iopub.status.busy": "2022-01-04T09:49:56.358791Z",
     "iopub.status.idle": "2022-01-04T09:49:56.482595Z",
     "shell.execute_reply": "2022-01-04T09:49:56.483125Z",
     "shell.execute_reply.started": "2022-01-04T09:13:52.462295Z"
    },
    "papermill": {
     "duration": 0.161023,
     "end_time": "2022-01-04T09:49:56.483317",
     "exception": false,
     "start_time": "2022-01-04T09:49:56.322294",
     "status": "completed"
    },
    "tags": []
   },
   "outputs": [
    {
     "data": {
      "text/plain": [
       "1     1956282\n",
       "6     1956200\n",
       "9     1956030\n",
       "5     1955140\n",
       "2     1953537\n",
       "7     1951127\n",
       "0     1942619\n",
       "13    1874560\n",
       "3     1791867\n",
       "12    1778749\n",
       "11    1701261\n",
       "8     1592071\n",
       "4     1156866\n",
       "10     670497\n",
       "Name: Asset_ID, dtype: int64"
      ]
     },
     "execution_count": 11,
     "metadata": {},
     "output_type": "execute_result"
    }
   ],
   "source": [
    "df_train['Asset_ID'].value_counts()"
   ]
  },
  {
   "cell_type": "code",
   "execution_count": 12,
   "id": "6589ec56",
   "metadata": {
    "execution": {
     "iopub.execute_input": "2022-01-04T09:49:56.545745Z",
     "iopub.status.busy": "2022-01-04T09:49:56.541063Z",
     "iopub.status.idle": "2022-01-04T09:49:56.547838Z",
     "shell.execute_reply": "2022-01-04T09:49:56.548518Z",
     "shell.execute_reply.started": "2022-01-04T09:13:52.587761Z"
    },
    "papermill": {
     "duration": 0.03808,
     "end_time": "2022-01-04T09:49:56.548729",
     "exception": false,
     "start_time": "2022-01-04T09:49:56.510649",
     "status": "completed"
    },
    "tags": []
   },
   "outputs": [],
   "source": [
    "weight = df_assets[df_assets['Asset_ID'] == 7]['Weight'].values[0]"
   ]
  },
  {
   "cell_type": "code",
   "execution_count": 13,
   "id": "83c7cb2b",
   "metadata": {
    "execution": {
     "iopub.execute_input": "2022-01-04T09:49:56.609900Z",
     "iopub.status.busy": "2022-01-04T09:49:56.609151Z",
     "iopub.status.idle": "2022-01-04T09:49:56.614324Z",
     "shell.execute_reply": "2022-01-04T09:49:56.614852Z",
     "shell.execute_reply.started": "2022-01-04T09:13:52.601373Z"
    },
    "papermill": {
     "duration": 0.037308,
     "end_time": "2022-01-04T09:49:56.615042",
     "exception": false,
     "start_time": "2022-01-04T09:49:56.577734",
     "status": "completed"
    },
    "tags": []
   },
   "outputs": [
    {
     "data": {
      "text/plain": [
       "2.079441541679836"
      ]
     },
     "execution_count": 13,
     "metadata": {},
     "output_type": "execute_result"
    }
   ],
   "source": [
    "weight"
   ]
  },
  {
   "cell_type": "code",
   "execution_count": 14,
   "id": "c79205ab",
   "metadata": {
    "execution": {
     "iopub.execute_input": "2022-01-04T09:49:56.681024Z",
     "iopub.status.busy": "2022-01-04T09:49:56.679068Z",
     "iopub.status.idle": "2022-01-04T09:49:57.035019Z",
     "shell.execute_reply": "2022-01-04T09:49:57.034238Z",
     "shell.execute_reply.started": "2022-01-04T09:13:52.614492Z"
    },
    "papermill": {
     "duration": 0.392326,
     "end_time": "2022-01-04T09:49:57.035264",
     "exception": false,
     "start_time": "2022-01-04T09:49:56.642938",
     "status": "completed"
    },
    "tags": []
   },
   "outputs": [],
   "source": [
    "df = df_train[df_train['Asset_ID'] == 7].reset_index(drop=True)"
   ]
  },
  {
   "cell_type": "code",
   "execution_count": 15,
   "id": "41f3ab0e",
   "metadata": {
    "execution": {
     "iopub.execute_input": "2022-01-04T09:49:57.132083Z",
     "iopub.status.busy": "2022-01-04T09:49:57.130311Z",
     "iopub.status.idle": "2022-01-04T09:49:59.029467Z",
     "shell.execute_reply": "2022-01-04T09:49:59.030042Z",
     "shell.execute_reply.started": "2022-01-04T09:13:52.902791Z"
    },
    "papermill": {
     "duration": 1.966952,
     "end_time": "2022-01-04T09:49:59.030266",
     "exception": false,
     "start_time": "2022-01-04T09:49:57.063314",
     "status": "completed"
    },
    "tags": []
   },
   "outputs": [],
   "source": [
    "df_proc = get_features(df)\n",
    "df_proc['y'] = df['Target']\n",
    "df_proc = df_proc.dropna(how=\"any\")\n",
    "\n",
    "\n",
    "X = df_proc.drop(\"y\", axis=1)\n",
    "y = df_proc[\"y\"]\n",
    "\n",
    "scaler = StandardScaler()\n",
    "X = scaler.fit_transform(X)"
   ]
  },
  {
   "cell_type": "code",
   "execution_count": 16,
   "id": "02b70e1c",
   "metadata": {
    "execution": {
     "iopub.execute_input": "2022-01-04T09:49:59.091974Z",
     "iopub.status.busy": "2022-01-04T09:49:59.090921Z",
     "iopub.status.idle": "2022-01-04T09:49:59.162080Z",
     "shell.execute_reply": "2022-01-04T09:49:59.161309Z",
     "shell.execute_reply.started": "2022-01-04T09:13:54.536095Z"
    },
    "papermill": {
     "duration": 0.103834,
     "end_time": "2022-01-04T09:49:59.162277",
     "exception": false,
     "start_time": "2022-01-04T09:49:59.058443",
     "status": "completed"
    },
    "tags": []
   },
   "outputs": [],
   "source": [
    "col_names = df_proc.drop('y', axis=1).columns"
   ]
  },
  {
   "cell_type": "code",
   "execution_count": 17,
   "id": "b4286676",
   "metadata": {
    "execution": {
     "iopub.execute_input": "2022-01-04T09:49:59.221795Z",
     "iopub.status.busy": "2022-01-04T09:49:59.220687Z",
     "iopub.status.idle": "2022-01-04T09:49:59.833489Z",
     "shell.execute_reply": "2022-01-04T09:49:59.834088Z",
     "shell.execute_reply.started": "2022-01-04T09:13:54.597738Z"
    },
    "papermill": {
     "duration": 0.644474,
     "end_time": "2022-01-04T09:49:59.834325",
     "exception": false,
     "start_time": "2022-01-04T09:49:59.189851",
     "status": "completed"
    },
    "tags": []
   },
   "outputs": [],
   "source": [
    "X_train, X_test, y_train, y_test = train_test_split(X, y, test_size=0.75, random_state=42)\n",
    "target_col = \"y\"\n",
    "df_train = pd.DataFrame(X_train, columns=col_names)\n",
    "df_test = pd.DataFrame(X_test, columns=col_names)"
   ]
  },
  {
   "cell_type": "markdown",
   "id": "ee4d79c0",
   "metadata": {},
   "source": [
    "## Best params finding"
   ]
  },
  {
   "cell_type": "code",
   "execution_count": 18,
   "id": "66ff347e",
   "metadata": {
    "execution": {
     "iopub.execute_input": "2022-01-04T09:49:59.901681Z",
     "iopub.status.busy": "2022-01-04T09:49:59.894635Z",
     "iopub.status.idle": "2022-01-04T09:50:31.255728Z",
     "shell.execute_reply": "2022-01-04T09:50:31.256381Z",
     "shell.execute_reply.started": "2022-01-04T09:15:30.514135Z"
    },
    "papermill": {
     "duration": 31.39382,
     "end_time": "2022-01-04T09:50:31.256763",
     "exception": false,
     "start_time": "2022-01-04T09:49:59.862943",
     "status": "completed"
    },
    "tags": []
   },
   "outputs": [
    {
     "name": "stdout",
     "output_type": "stream",
     "text": [
      "tuned hpyerparameters :(best parameters)  {'alpha': 0.2, 'selection': 'cyclic'}\n",
      "WCC : -2.1666741929449174e-05\n",
      "WCC -  0.9999999875306775\n"
     ]
    }
   ],
   "source": [
    "from sklearn.model_selection import GridSearchCV\n",
    "from sklearn.linear_model import Lasso\n",
    "grid={\"alpha\": [0.2,0.4,0.6,0.8,1.0,1.2, 1.4], 'selection':['cyclic', 'random']}\n",
    "lasso=Lasso(max_iter = 5000, tol=1e-6)\n",
    "lasso_cv=GridSearchCV(lasso,grid,cv=10, estimator=wcc)\n",
    "lasso_cv.fit(X_train, y_train)\n",
    "\n",
    "print(\"tuned hpyerparameters :(best parameters) \",lasso_cv.best_params_)\n",
    "print(\"WCC :\",lasso_cv.best_score_)\n",
    "\n",
    "prediction = lasso_cv.predict(X_test)\n",
    "\n",
    "\n",
    "print('WCC - ',wcc(prediction, y_test))"
   ]
  }
 ],
 "metadata": {
  "kernelspec": {
   "display_name": "Python 3",
   "language": "python",
   "name": "python3"
  },
  "language_info": {
   "codemirror_mode": {
    "name": "ipython",
    "version": 3
   },
   "file_extension": ".py",
   "mimetype": "text/x-python",
   "name": "python",
   "nbconvert_exporter": "python",
   "pygments_lexer": "ipython3",
   "version": "3.8.8"
  },
  "papermill": {
   "default_parameters": {},
   "duration": 212.230969,
   "end_time": "2022-01-04T09:52:10.412454",
   "environment_variables": {},
   "exception": null,
   "input_path": "__notebook__.ipynb",
   "output_path": "__notebook__.ipynb",
   "parameters": {},
   "start_time": "2022-01-04T09:48:38.181485",
   "version": "2.3.3"
  }
 },
 "nbformat": 4,
 "nbformat_minor": 5
}
