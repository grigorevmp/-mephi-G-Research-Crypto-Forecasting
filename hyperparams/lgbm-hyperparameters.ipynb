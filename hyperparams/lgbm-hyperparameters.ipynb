{
 "cells": [
  {
   "cell_type": "code",
   "execution_count": 1,
   "id": "a368b634",
   "metadata": {
    "_cell_guid": "b1076dfc-b9ad-4769-8c92-a6c4dae69d19",
    "_uuid": "8f2839f25d086af736a60e9eeb907d3b93b6e0e5",
    "execution": {
     "iopub.execute_input": "2022-01-07T08:05:53.649859Z",
     "iopub.status.busy": "2022-01-07T08:05:53.647993Z",
     "iopub.status.idle": "2022-01-07T08:05:53.670484Z",
     "shell.execute_reply": "2022-01-07T08:05:53.671110Z",
     "shell.execute_reply.started": "2022-01-04T17:18:24.964334Z"
    },
    "papermill": {
     "duration": 0.052435,
     "end_time": "2022-01-07T08:05:53.671456",
     "exception": false,
     "start_time": "2022-01-07T08:05:53.619021",
     "status": "completed"
    },
    "tags": []
   },
   "outputs": [
    {
     "name": "stdout",
     "output_type": "stream",
     "text": [
      "/kaggle/input/g-research-crypto-forecasting/example_sample_submission.csv\n",
      "/kaggle/input/g-research-crypto-forecasting/asset_details.csv\n",
      "/kaggle/input/g-research-crypto-forecasting/example_test.csv\n",
      "/kaggle/input/g-research-crypto-forecasting/train.csv\n",
      "/kaggle/input/g-research-crypto-forecasting/supplemental_train.csv\n",
      "/kaggle/input/g-research-crypto-forecasting/gresearch_crypto/competition.cpython-37m-x86_64-linux-gnu.so\n",
      "/kaggle/input/g-research-crypto-forecasting/gresearch_crypto/__init__.py\n"
     ]
    }
   ],
   "source": [
    "# This Python 3 environment comes with many helpful analytics libraries installed\n",
    "# It is defined by the kaggle/python Docker image: https://github.com/kaggle/docker-python\n",
    "# For example, here's several helpful packages to load\n",
    "\n",
    "import numpy as np # linear algebra\n",
    "import pandas as pd # data processing, CSV file I/O (e.g. pd.read_csv)\n",
    "\n",
    "# Input data files are available in the read-only \"../input/\" directory\n",
    "# For example, running this (by clicking run or pressing Shift+Enter) will list all files under the input directory\n",
    "\n",
    "import os\n",
    "for dirname, _, filenames in os.walk('/kaggle/input'):\n",
    "    for filename in filenames:\n",
    "        print(os.path.join(dirname, filename))\n",
    "\n",
    "# You can write up to 20GB to the current directory (/kaggle/working/) that gets preserved as output when you create a version using \"Save & Run All\" \n",
    "# You can also write temporary files to /kaggle/temp/, but they won't be saved outside of the current session"
   ]
  },
  {
   "cell_type": "markdown",
   "id": "1e1d1227",
   "metadata": {
    "papermill": {
     "duration": 0.022805,
     "end_time": "2022-01-07T08:05:53.718983",
     "exception": false,
     "start_time": "2022-01-07T08:05:53.696178",
     "status": "completed"
    },
    "tags": []
   },
   "source": [
    "## Data loading"
   ]
  },
  {
   "cell_type": "code",
   "execution_count": 2,
   "id": "674fb246",
   "metadata": {
    "execution": {
     "iopub.execute_input": "2022-01-07T08:05:53.769093Z",
     "iopub.status.busy": "2022-01-07T08:05:53.768390Z",
     "iopub.status.idle": "2022-01-07T08:05:53.770382Z",
     "shell.execute_reply": "2022-01-07T08:05:53.769779Z",
     "shell.execute_reply.started": "2022-01-04T17:18:25.008882Z"
    },
    "papermill": {
     "duration": 0.029153,
     "end_time": "2022-01-07T08:05:53.770520",
     "exception": false,
     "start_time": "2022-01-07T08:05:53.741367",
     "status": "completed"
    },
    "tags": []
   },
   "outputs": [],
   "source": [
    "data_train = '/kaggle/input/g-research-crypto-forecasting/train.csv'\n",
    "data_asset_details = '/kaggle/input/g-research-crypto-forecasting/asset_details.csv'\n",
    "data_supplemental_train = '/kaggle/input/g-research-crypto-forecasting/supplemental_train.csv'"
   ]
  },
  {
   "cell_type": "code",
   "execution_count": 3,
   "id": "c5b986d9",
   "metadata": {
    "execution": {
     "iopub.execute_input": "2022-01-07T08:05:53.822691Z",
     "iopub.status.busy": "2022-01-07T08:05:53.821731Z",
     "iopub.status.idle": "2022-01-07T08:05:55.921718Z",
     "shell.execute_reply": "2022-01-07T08:05:55.921110Z",
     "shell.execute_reply.started": "2022-01-04T17:18:25.01488Z"
    },
    "papermill": {
     "duration": 2.12826,
     "end_time": "2022-01-07T08:05:55.921872",
     "exception": false,
     "start_time": "2022-01-07T08:05:53.793612",
     "status": "completed"
    },
    "tags": []
   },
   "outputs": [
    {
     "data": {
      "text/html": [
       "<style type='text/css'>\n",
       ".datatable table.frame { margin-bottom: 0; }\n",
       ".datatable table.frame thead { border-bottom: none; }\n",
       ".datatable table.frame tr.coltypes td {  color: #FFFFFF;  line-height: 6px;  padding: 0 0.5em;}\n",
       ".datatable .bool    { background: #DDDD99; }\n",
       ".datatable .object  { background: #565656; }\n",
       ".datatable .int     { background: #5D9E5D; }\n",
       ".datatable .float   { background: #4040CC; }\n",
       ".datatable .str     { background: #CC4040; }\n",
       ".datatable .time    { background: #40CC40; }\n",
       ".datatable .row_index {  background: var(--jp-border-color3);  border-right: 1px solid var(--jp-border-color0);  color: var(--jp-ui-font-color3);  font-size: 9px;}\n",
       ".datatable .frame tbody td { text-align: left; }\n",
       ".datatable .frame tr.coltypes .row_index {  background: var(--jp-border-color0);}\n",
       ".datatable th:nth-child(2) { padding-left: 12px; }\n",
       ".datatable .hellipsis {  color: var(--jp-cell-editor-border-color);}\n",
       ".datatable .vellipsis {  background: var(--jp-layout-color0);  color: var(--jp-cell-editor-border-color);}\n",
       ".datatable .na {  color: var(--jp-cell-editor-border-color);  font-size: 80%;}\n",
       ".datatable .sp {  opacity: 0.25;}\n",
       ".datatable .footer { font-size: 9px; }\n",
       ".datatable .frame_dimensions {  background: var(--jp-border-color3);  border-top: 1px solid var(--jp-border-color0);  color: var(--jp-ui-font-color3);  display: inline-block;  opacity: 0.6;  padding: 1px 10px 1px 5px;}\n",
       "</style>\n"
      ],
      "text/plain": [
       "<IPython.core.display.HTML object>"
      ]
     },
     "metadata": {},
     "output_type": "display_data"
    }
   ],
   "source": [
    "import random\n",
    "import pandas as pd\n",
    "import numpy as np\n",
    "import lightgbm as lgb\n",
    "import time\n",
    "import datetime\n",
    "import plotly.graph_objects as go"
   ]
  },
  {
   "cell_type": "code",
   "execution_count": 4,
   "id": "15ce677d",
   "metadata": {
    "execution": {
     "iopub.execute_input": "2022-01-07T08:05:55.973301Z",
     "iopub.status.busy": "2022-01-07T08:05:55.972300Z",
     "iopub.status.idle": "2022-01-07T08:06:59.640483Z",
     "shell.execute_reply": "2022-01-07T08:06:59.641000Z",
     "shell.execute_reply.started": "2022-01-04T17:23:10.773541Z"
    },
    "papermill": {
     "duration": 63.694758,
     "end_time": "2022-01-07T08:06:59.641178",
     "exception": false,
     "start_time": "2022-01-07T08:05:55.946420",
     "status": "completed"
    },
    "tags": []
   },
   "outputs": [
    {
     "data": {
      "text/html": [
       "<div>\n",
       "<style scoped>\n",
       "    .dataframe tbody tr th:only-of-type {\n",
       "        vertical-align: middle;\n",
       "    }\n",
       "\n",
       "    .dataframe tbody tr th {\n",
       "        vertical-align: top;\n",
       "    }\n",
       "\n",
       "    .dataframe thead th {\n",
       "        text-align: right;\n",
       "    }\n",
       "</style>\n",
       "<table border=\"1\" class=\"dataframe\">\n",
       "  <thead>\n",
       "    <tr style=\"text-align: right;\">\n",
       "      <th></th>\n",
       "      <th>timestamp</th>\n",
       "      <th>Asset_ID</th>\n",
       "      <th>Count</th>\n",
       "      <th>Open</th>\n",
       "      <th>High</th>\n",
       "      <th>Low</th>\n",
       "      <th>Close</th>\n",
       "      <th>Volume</th>\n",
       "      <th>VWAP</th>\n",
       "      <th>Target</th>\n",
       "    </tr>\n",
       "  </thead>\n",
       "  <tbody>\n",
       "    <tr>\n",
       "      <th>0</th>\n",
       "      <td>1514764860</td>\n",
       "      <td>2</td>\n",
       "      <td>40</td>\n",
       "      <td>2376.5800</td>\n",
       "      <td>2399.5000</td>\n",
       "      <td>2357.1400</td>\n",
       "      <td>2374.5900</td>\n",
       "      <td>19.233005</td>\n",
       "      <td>2373.116392</td>\n",
       "      <td>-0.004218</td>\n",
       "    </tr>\n",
       "    <tr>\n",
       "      <th>1</th>\n",
       "      <td>1514764860</td>\n",
       "      <td>0</td>\n",
       "      <td>5</td>\n",
       "      <td>8.5300</td>\n",
       "      <td>8.5300</td>\n",
       "      <td>8.5300</td>\n",
       "      <td>8.5300</td>\n",
       "      <td>78.380000</td>\n",
       "      <td>8.530000</td>\n",
       "      <td>-0.014399</td>\n",
       "    </tr>\n",
       "    <tr>\n",
       "      <th>2</th>\n",
       "      <td>1514764860</td>\n",
       "      <td>1</td>\n",
       "      <td>229</td>\n",
       "      <td>13835.1940</td>\n",
       "      <td>14013.8000</td>\n",
       "      <td>13666.1100</td>\n",
       "      <td>13850.1760</td>\n",
       "      <td>31.550062</td>\n",
       "      <td>13827.062093</td>\n",
       "      <td>-0.014643</td>\n",
       "    </tr>\n",
       "    <tr>\n",
       "      <th>3</th>\n",
       "      <td>1514764860</td>\n",
       "      <td>5</td>\n",
       "      <td>32</td>\n",
       "      <td>7.6596</td>\n",
       "      <td>7.6596</td>\n",
       "      <td>7.6567</td>\n",
       "      <td>7.6576</td>\n",
       "      <td>6626.713370</td>\n",
       "      <td>7.657713</td>\n",
       "      <td>-0.013922</td>\n",
       "    </tr>\n",
       "    <tr>\n",
       "      <th>4</th>\n",
       "      <td>1514764860</td>\n",
       "      <td>7</td>\n",
       "      <td>5</td>\n",
       "      <td>25.9200</td>\n",
       "      <td>25.9200</td>\n",
       "      <td>25.8740</td>\n",
       "      <td>25.8770</td>\n",
       "      <td>121.087310</td>\n",
       "      <td>25.891363</td>\n",
       "      <td>-0.008264</td>\n",
       "    </tr>\n",
       "  </tbody>\n",
       "</table>\n",
       "</div>"
      ],
      "text/plain": [
       "    timestamp  Asset_ID  Count        Open        High         Low  \\\n",
       "0  1514764860         2     40   2376.5800   2399.5000   2357.1400   \n",
       "1  1514764860         0      5      8.5300      8.5300      8.5300   \n",
       "2  1514764860         1    229  13835.1940  14013.8000  13666.1100   \n",
       "3  1514764860         5     32      7.6596      7.6596      7.6567   \n",
       "4  1514764860         7      5     25.9200     25.9200     25.8740   \n",
       "\n",
       "        Close       Volume          VWAP    Target  \n",
       "0   2374.5900    19.233005   2373.116392 -0.004218  \n",
       "1      8.5300    78.380000      8.530000 -0.014399  \n",
       "2  13850.1760    31.550062  13827.062093 -0.014643  \n",
       "3      7.6576  6626.713370      7.657713 -0.013922  \n",
       "4     25.8770   121.087310     25.891363 -0.008264  "
      ]
     },
     "execution_count": 4,
     "metadata": {},
     "output_type": "execute_result"
    }
   ],
   "source": [
    "df_train = pd.read_csv(data_train, \n",
    "                       dtype={'Asset_ID': 'int8', 'Count': 'int32', 'row_id': 'int32', 'Count': 'int32', \n",
    "                              'Open': 'float64', 'High': 'float64', 'Low': 'float64', 'Close': 'float64', \n",
    "                              'Volume': 'float64', 'VWAP': 'float64'\n",
    "                             }\n",
    "                      )\n",
    "df_train.head()"
   ]
  },
  {
   "cell_type": "code",
   "execution_count": 5,
   "id": "e1b921ac",
   "metadata": {
    "execution": {
     "iopub.execute_input": "2022-01-07T08:06:59.693308Z",
     "iopub.status.busy": "2022-01-07T08:06:59.692458Z",
     "iopub.status.idle": "2022-01-07T08:06:59.722331Z",
     "shell.execute_reply": "2022-01-07T08:06:59.721586Z",
     "shell.execute_reply.started": "2022-01-04T17:24:56.47503Z"
    },
    "papermill": {
     "duration": 0.057867,
     "end_time": "2022-01-07T08:06:59.722498",
     "exception": false,
     "start_time": "2022-01-07T08:06:59.664631",
     "status": "completed"
    },
    "tags": []
   },
   "outputs": [],
   "source": [
    "import gresearch_crypto"
   ]
  },
  {
   "cell_type": "code",
   "execution_count": 6,
   "id": "7e281332",
   "metadata": {
    "execution": {
     "iopub.execute_input": "2022-01-07T08:06:59.778295Z",
     "iopub.status.busy": "2022-01-07T08:06:59.776957Z",
     "iopub.status.idle": "2022-01-07T08:06:59.810863Z",
     "shell.execute_reply": "2022-01-07T08:06:59.810000Z",
     "shell.execute_reply.started": "2022-01-04T17:24:56.74332Z"
    },
    "papermill": {
     "duration": 0.063081,
     "end_time": "2022-01-07T08:06:59.811132",
     "exception": false,
     "start_time": "2022-01-07T08:06:59.748051",
     "status": "completed"
    },
    "tags": []
   },
   "outputs": [
    {
     "data": {
      "text/html": [
       "<div>\n",
       "<style scoped>\n",
       "    .dataframe tbody tr th:only-of-type {\n",
       "        vertical-align: middle;\n",
       "    }\n",
       "\n",
       "    .dataframe tbody tr th {\n",
       "        vertical-align: top;\n",
       "    }\n",
       "\n",
       "    .dataframe thead th {\n",
       "        text-align: right;\n",
       "    }\n",
       "</style>\n",
       "<table border=\"1\" class=\"dataframe\">\n",
       "  <thead>\n",
       "    <tr style=\"text-align: right;\">\n",
       "      <th></th>\n",
       "      <th>Asset_ID</th>\n",
       "      <th>Weight</th>\n",
       "      <th>Asset_Name</th>\n",
       "    </tr>\n",
       "  </thead>\n",
       "  <tbody>\n",
       "    <tr>\n",
       "      <th>1</th>\n",
       "      <td>0</td>\n",
       "      <td>4.304065</td>\n",
       "      <td>Binance Coin</td>\n",
       "    </tr>\n",
       "    <tr>\n",
       "      <th>2</th>\n",
       "      <td>1</td>\n",
       "      <td>6.779922</td>\n",
       "      <td>Bitcoin</td>\n",
       "    </tr>\n",
       "    <tr>\n",
       "      <th>0</th>\n",
       "      <td>2</td>\n",
       "      <td>2.397895</td>\n",
       "      <td>Bitcoin Cash</td>\n",
       "    </tr>\n",
       "    <tr>\n",
       "      <th>10</th>\n",
       "      <td>3</td>\n",
       "      <td>4.406719</td>\n",
       "      <td>Cardano</td>\n",
       "    </tr>\n",
       "    <tr>\n",
       "      <th>13</th>\n",
       "      <td>4</td>\n",
       "      <td>3.555348</td>\n",
       "      <td>Dogecoin</td>\n",
       "    </tr>\n",
       "  </tbody>\n",
       "</table>\n",
       "</div>"
      ],
      "text/plain": [
       "    Asset_ID    Weight    Asset_Name\n",
       "1          0  4.304065  Binance Coin\n",
       "2          1  6.779922       Bitcoin\n",
       "0          2  2.397895  Bitcoin Cash\n",
       "10         3  4.406719       Cardano\n",
       "13         4  3.555348      Dogecoin"
      ]
     },
     "execution_count": 6,
     "metadata": {},
     "output_type": "execute_result"
    }
   ],
   "source": [
    "df_assets = pd.read_csv(data_asset_details).sort_values(by='Asset_ID')\n",
    "df_assets.head()"
   ]
  },
  {
   "cell_type": "code",
   "execution_count": 7,
   "id": "409eaf18",
   "metadata": {
    "execution": {
     "iopub.execute_input": "2022-01-07T08:06:59.890820Z",
     "iopub.status.busy": "2022-01-07T08:06:59.889930Z",
     "iopub.status.idle": "2022-01-07T08:06:59.893703Z",
     "shell.execute_reply": "2022-01-07T08:06:59.894330Z",
     "shell.execute_reply.started": "2022-01-04T18:12:33.811872Z"
    },
    "papermill": {
     "duration": 0.051264,
     "end_time": "2022-01-07T08:06:59.894600",
     "exception": false,
     "start_time": "2022-01-07T08:06:59.843336",
     "status": "completed"
    },
    "tags": []
   },
   "outputs": [
    {
     "data": {
      "text/html": [
       "<div>\n",
       "<style scoped>\n",
       "    .dataframe tbody tr th:only-of-type {\n",
       "        vertical-align: middle;\n",
       "    }\n",
       "\n",
       "    .dataframe tbody tr th {\n",
       "        vertical-align: top;\n",
       "    }\n",
       "\n",
       "    .dataframe thead th {\n",
       "        text-align: right;\n",
       "    }\n",
       "</style>\n",
       "<table border=\"1\" class=\"dataframe\">\n",
       "  <thead>\n",
       "    <tr style=\"text-align: right;\">\n",
       "      <th></th>\n",
       "      <th>Asset_ID</th>\n",
       "      <th>Weight</th>\n",
       "      <th>Asset_Name</th>\n",
       "    </tr>\n",
       "  </thead>\n",
       "  <tbody>\n",
       "    <tr>\n",
       "      <th>1</th>\n",
       "      <td>0</td>\n",
       "      <td>4.304065</td>\n",
       "      <td>Binance Coin</td>\n",
       "    </tr>\n",
       "    <tr>\n",
       "      <th>2</th>\n",
       "      <td>1</td>\n",
       "      <td>6.779922</td>\n",
       "      <td>Bitcoin</td>\n",
       "    </tr>\n",
       "    <tr>\n",
       "      <th>0</th>\n",
       "      <td>2</td>\n",
       "      <td>2.397895</td>\n",
       "      <td>Bitcoin Cash</td>\n",
       "    </tr>\n",
       "    <tr>\n",
       "      <th>10</th>\n",
       "      <td>3</td>\n",
       "      <td>4.406719</td>\n",
       "      <td>Cardano</td>\n",
       "    </tr>\n",
       "    <tr>\n",
       "      <th>13</th>\n",
       "      <td>4</td>\n",
       "      <td>3.555348</td>\n",
       "      <td>Dogecoin</td>\n",
       "    </tr>\n",
       "    <tr>\n",
       "      <th>3</th>\n",
       "      <td>5</td>\n",
       "      <td>1.386294</td>\n",
       "      <td>EOS.IO</td>\n",
       "    </tr>\n",
       "    <tr>\n",
       "      <th>5</th>\n",
       "      <td>6</td>\n",
       "      <td>5.894403</td>\n",
       "      <td>Ethereum</td>\n",
       "    </tr>\n",
       "    <tr>\n",
       "      <th>4</th>\n",
       "      <td>7</td>\n",
       "      <td>2.079442</td>\n",
       "      <td>Ethereum Classic</td>\n",
       "    </tr>\n",
       "    <tr>\n",
       "      <th>11</th>\n",
       "      <td>8</td>\n",
       "      <td>1.098612</td>\n",
       "      <td>IOTA</td>\n",
       "    </tr>\n",
       "    <tr>\n",
       "      <th>6</th>\n",
       "      <td>9</td>\n",
       "      <td>2.397895</td>\n",
       "      <td>Litecoin</td>\n",
       "    </tr>\n",
       "    <tr>\n",
       "      <th>12</th>\n",
       "      <td>10</td>\n",
       "      <td>1.098612</td>\n",
       "      <td>Maker</td>\n",
       "    </tr>\n",
       "    <tr>\n",
       "      <th>7</th>\n",
       "      <td>11</td>\n",
       "      <td>1.609438</td>\n",
       "      <td>Monero</td>\n",
       "    </tr>\n",
       "    <tr>\n",
       "      <th>9</th>\n",
       "      <td>12</td>\n",
       "      <td>2.079442</td>\n",
       "      <td>Stellar</td>\n",
       "    </tr>\n",
       "    <tr>\n",
       "      <th>8</th>\n",
       "      <td>13</td>\n",
       "      <td>1.791759</td>\n",
       "      <td>TRON</td>\n",
       "    </tr>\n",
       "  </tbody>\n",
       "</table>\n",
       "</div>"
      ],
      "text/plain": [
       "    Asset_ID    Weight        Asset_Name\n",
       "1          0  4.304065      Binance Coin\n",
       "2          1  6.779922           Bitcoin\n",
       "0          2  2.397895      Bitcoin Cash\n",
       "10         3  4.406719           Cardano\n",
       "13         4  3.555348          Dogecoin\n",
       "3          5  1.386294            EOS.IO\n",
       "5          6  5.894403          Ethereum\n",
       "4          7  2.079442  Ethereum Classic\n",
       "11         8  1.098612              IOTA\n",
       "6          9  2.397895          Litecoin\n",
       "12        10  1.098612             Maker\n",
       "7         11  1.609438            Monero\n",
       "9         12  2.079442           Stellar\n",
       "8         13  1.791759              TRON"
      ]
     },
     "execution_count": 7,
     "metadata": {},
     "output_type": "execute_result"
    }
   ],
   "source": [
    "df_assets"
   ]
  },
  {
   "cell_type": "markdown",
   "id": "0cd1a2ab",
   "metadata": {
    "papermill": {
     "duration": 0.03749,
     "end_time": "2022-01-07T08:06:59.963457",
     "exception": false,
     "start_time": "2022-01-07T08:06:59.925967",
     "status": "completed"
    },
    "tags": []
   },
   "source": [
    "## Data preprocessing"
   ]
  },
  {
   "cell_type": "code",
   "execution_count": 8,
   "id": "194b3acb",
   "metadata": {
    "execution": {
     "iopub.execute_input": "2022-01-07T08:07:00.019622Z",
     "iopub.status.busy": "2022-01-07T08:07:00.018595Z",
     "iopub.status.idle": "2022-01-07T08:07:00.022010Z",
     "shell.execute_reply": "2022-01-07T08:07:00.022519Z",
     "shell.execute_reply.started": "2022-01-04T17:24:56.985671Z"
    },
    "papermill": {
     "duration": 0.032509,
     "end_time": "2022-01-07T08:07:00.022704",
     "exception": false,
     "start_time": "2022-01-07T08:06:59.990195",
     "status": "completed"
    },
    "tags": []
   },
   "outputs": [],
   "source": [
    "from lightgbm import LGBMRegressor"
   ]
  },
  {
   "cell_type": "code",
   "execution_count": 9,
   "id": "90de083c",
   "metadata": {
    "execution": {
     "iopub.execute_input": "2022-01-07T08:07:00.087484Z",
     "iopub.status.busy": "2022-01-07T08:07:00.086466Z",
     "iopub.status.idle": "2022-01-07T08:07:00.095127Z",
     "shell.execute_reply": "2022-01-07T08:07:00.095998Z",
     "shell.execute_reply.started": "2022-01-04T17:24:57.449962Z"
    },
    "papermill": {
     "duration": 0.044341,
     "end_time": "2022-01-07T08:07:00.096293",
     "exception": false,
     "start_time": "2022-01-07T08:07:00.051952",
     "status": "completed"
    },
    "tags": []
   },
   "outputs": [],
   "source": [
    "def upper_shadow(df):\n",
    "    return df['High'] - np.maximum(df['Close'], df['Open'])\n",
    "\n",
    "def lower_shadow(df):\n",
    "    return np.minimum(df['Close'], df['Open']) - df['Low']\n",
    "\n",
    "def get_features(df):\n",
    "    df_feat = df[['Count', 'Open', 'High', 'Low', 'Close', 'Volume', 'VWAP']].copy()\n",
    "    df_feat['Upper_Shadow'] = upper_shadow(df_feat)\n",
    "    df_feat['Lower_Shadow'] = lower_shadow(df_feat)\n",
    "    \n",
    "    df_feat[\"Close/Open\"] = df_feat[\"Close\"] / df_feat[\"Open\"] \n",
    "    df_feat[\"Close-Open\"] = df_feat[\"Close\"] - df_feat[\"Open\"] \n",
    "    df_feat[\"High-Low\"] = df_feat[\"High\"] - df_feat[\"Low\"] \n",
    "    df_feat[\"High/Low\"] = df_feat[\"High\"] / df_feat[\"Low\"]\n",
    "    \n",
    "    df_feat['Mean'] = df_feat[['Open', 'High', 'Low', 'Close']].mean(axis=1)\n",
    "\n",
    "\n",
    "    df_feat[\"Median\"] = df_feat[[\"Open\", \"High\", \"Low\", \"Close\"]].median(axis=1)\n",
    "    return df_feat"
   ]
  },
  {
   "cell_type": "code",
   "execution_count": 10,
   "id": "1d338ec4",
   "metadata": {
    "execution": {
     "iopub.execute_input": "2022-01-07T08:07:00.161463Z",
     "iopub.status.busy": "2022-01-07T08:07:00.158151Z",
     "iopub.status.idle": "2022-01-07T08:07:00.164919Z",
     "shell.execute_reply": "2022-01-07T08:07:00.165757Z",
     "shell.execute_reply.started": "2022-01-04T17:24:59.234895Z"
    },
    "papermill": {
     "duration": 0.038942,
     "end_time": "2022-01-07T08:07:00.166003",
     "exception": false,
     "start_time": "2022-01-07T08:07:00.127061",
     "status": "completed"
    },
    "tags": []
   },
   "outputs": [],
   "source": [
    "from sklearn.preprocessing import StandardScaler"
   ]
  },
  {
   "cell_type": "code",
   "execution_count": 11,
   "id": "8cb737c4",
   "metadata": {
    "execution": {
     "iopub.execute_input": "2022-01-07T08:07:00.225528Z",
     "iopub.status.busy": "2022-01-07T08:07:00.224689Z",
     "iopub.status.idle": "2022-01-07T08:07:00.489752Z",
     "shell.execute_reply": "2022-01-07T08:07:00.490331Z",
     "shell.execute_reply.started": "2022-01-04T17:25:00.691689Z"
    },
    "papermill": {
     "duration": 0.295204,
     "end_time": "2022-01-07T08:07:00.490528",
     "exception": false,
     "start_time": "2022-01-07T08:07:00.195324",
     "status": "completed"
    },
    "tags": []
   },
   "outputs": [],
   "source": [
    "from sklearn.metrics import f1_score\n",
    "import pandas as pd\n",
    "from skopt import gp_minimize\n",
    "from skopt.space import Real, Integer\n",
    "from sklearn.model_selection import train_test_split\n",
    "from functools import partial"
   ]
  },
  {
   "cell_type": "code",
   "execution_count": 12,
   "id": "671d271b",
   "metadata": {
    "execution": {
     "iopub.execute_input": "2022-01-07T08:07:00.543838Z",
     "iopub.status.busy": "2022-01-07T08:07:00.542866Z",
     "iopub.status.idle": "2022-01-07T08:07:00.549381Z",
     "shell.execute_reply": "2022-01-07T08:07:00.549957Z",
     "shell.execute_reply.started": "2022-01-04T17:25:01.003481Z"
    },
    "papermill": {
     "duration": 0.034807,
     "end_time": "2022-01-07T08:07:00.550133",
     "exception": false,
     "start_time": "2022-01-07T08:07:00.515326",
     "status": "completed"
    },
    "tags": []
   },
   "outputs": [],
   "source": [
    "def m(x, w):\n",
    "    \"\"\"Weighted Mean\"\"\"\n",
    "    return np.sum(x * w) / np.sum(w)\n",
    "def cov(x, y, w):\n",
    "    return np.sum(w * (x - m(x, w)) * (y - m(y, w))) / np.sum(w)\n",
    "\n",
    "def wcc(x, y, w):\n",
    "    return cov(x, y, w) / np.sqrt(cov(x, x, w) * cov(y, y, w))"
   ]
  },
  {
   "cell_type": "markdown",
   "id": "f72ee0b2",
   "metadata": {
    "papermill": {
     "duration": 0.025172,
     "end_time": "2022-01-07T08:07:00.599832",
     "exception": false,
     "start_time": "2022-01-07T08:07:00.574660",
     "status": "completed"
    },
    "tags": []
   },
   "source": [
    "## Parameters grid"
   ]
  },
  {
   "cell_type": "code",
   "execution_count": 13,
   "id": "9e9ae414",
   "metadata": {
    "execution": {
     "iopub.execute_input": "2022-01-07T08:07:00.652187Z",
     "iopub.status.busy": "2022-01-07T08:07:00.651523Z",
     "iopub.status.idle": "2022-01-07T08:07:00.662484Z",
     "shell.execute_reply": "2022-01-07T08:07:00.661775Z",
     "shell.execute_reply.started": "2022-01-04T17:25:01.210916Z"
    },
    "papermill": {
     "duration": 0.038395,
     "end_time": "2022-01-07T08:07:00.662631",
     "exception": false,
     "start_time": "2022-01-07T08:07:00.624236",
     "status": "completed"
    },
    "tags": []
   },
   "outputs": [],
   "source": [
    "space = [\n",
    "    Real(0.5, 0.8, name=\"colsample_bytree\"),\n",
    "    Real(0.001, 0.5, name=\"learning_rate\"),\n",
    "    Integer(6, 15, name=\"max_depth\"),\n",
    "    Integer(100, 1000, name=\"n_estimators\"),\n",
    "    Real(0.5, 0.95, name=\"subsample\"),\n",
    "]"
   ]
  },
  {
   "cell_type": "code",
   "execution_count": 14,
   "id": "7b7d5012",
   "metadata": {
    "execution": {
     "iopub.execute_input": "2022-01-07T08:07:00.714980Z",
     "iopub.status.busy": "2022-01-07T08:07:00.714348Z",
     "iopub.status.idle": "2022-01-07T08:07:00.717919Z",
     "shell.execute_reply": "2022-01-07T08:07:00.718436Z",
     "shell.execute_reply.started": "2022-01-04T17:25:01.906681Z"
    },
    "papermill": {
     "duration": 0.031338,
     "end_time": "2022-01-07T08:07:00.718605",
     "exception": false,
     "start_time": "2022-01-07T08:07:00.687267",
     "status": "completed"
    },
    "tags": []
   },
   "outputs": [],
   "source": [
    "train_ratio = 0.75"
   ]
  },
  {
   "cell_type": "code",
   "execution_count": 15,
   "id": "056f065b",
   "metadata": {
    "execution": {
     "iopub.execute_input": "2022-01-07T08:07:00.771349Z",
     "iopub.status.busy": "2022-01-07T08:07:00.770673Z",
     "iopub.status.idle": "2022-01-07T08:07:00.894906Z",
     "shell.execute_reply": "2022-01-07T08:07:00.894331Z",
     "shell.execute_reply.started": "2022-01-04T17:25:02.283288Z"
    },
    "papermill": {
     "duration": 0.152071,
     "end_time": "2022-01-07T08:07:00.895048",
     "exception": false,
     "start_time": "2022-01-07T08:07:00.742977",
     "status": "completed"
    },
    "tags": []
   },
   "outputs": [
    {
     "data": {
      "text/plain": [
       "1     1956282\n",
       "6     1956200\n",
       "9     1956030\n",
       "5     1955140\n",
       "2     1953537\n",
       "7     1951127\n",
       "0     1942619\n",
       "13    1874560\n",
       "3     1791867\n",
       "12    1778749\n",
       "11    1701261\n",
       "8     1592071\n",
       "4     1156866\n",
       "10     670497\n",
       "Name: Asset_ID, dtype: int64"
      ]
     },
     "execution_count": 15,
     "metadata": {},
     "output_type": "execute_result"
    }
   ],
   "source": [
    "df_train['Asset_ID'].value_counts()"
   ]
  },
  {
   "cell_type": "code",
   "execution_count": 16,
   "id": "15e9400b",
   "metadata": {
    "execution": {
     "iopub.execute_input": "2022-01-07T08:07:00.950228Z",
     "iopub.status.busy": "2022-01-07T08:07:00.949359Z",
     "iopub.status.idle": "2022-01-07T08:07:00.952191Z",
     "shell.execute_reply": "2022-01-07T08:07:00.951568Z",
     "shell.execute_reply.started": "2022-01-04T17:25:02.854406Z"
    },
    "papermill": {
     "duration": 0.032325,
     "end_time": "2022-01-07T08:07:00.952355",
     "exception": false,
     "start_time": "2022-01-07T08:07:00.920030",
     "status": "completed"
    },
    "tags": []
   },
   "outputs": [],
   "source": [
    "weight = df_assets['Weight'].values[0]"
   ]
  },
  {
   "cell_type": "code",
   "execution_count": 17,
   "id": "67002c75",
   "metadata": {
    "execution": {
     "iopub.execute_input": "2022-01-07T08:07:01.006997Z",
     "iopub.status.busy": "2022-01-07T08:07:01.006322Z",
     "iopub.status.idle": "2022-01-07T08:07:01.616739Z",
     "shell.execute_reply": "2022-01-07T08:07:01.615756Z",
     "shell.execute_reply.started": "2022-01-04T17:25:05.791949Z"
    },
    "papermill": {
     "duration": 0.639607,
     "end_time": "2022-01-07T08:07:01.616950",
     "exception": false,
     "start_time": "2022-01-07T08:07:00.977343",
     "status": "completed"
    },
    "tags": []
   },
   "outputs": [],
   "source": [
    "df = df_train.reset_index(drop=True)"
   ]
  },
  {
   "cell_type": "code",
   "execution_count": 18,
   "id": "96e26bb0",
   "metadata": {
    "execution": {
     "iopub.execute_input": "2022-01-07T08:07:01.674067Z",
     "iopub.status.busy": "2022-01-07T08:07:01.673383Z",
     "iopub.status.idle": "2022-01-07T08:07:01.676593Z",
     "shell.execute_reply": "2022-01-07T08:07:01.675953Z",
     "shell.execute_reply.started": "2022-01-04T17:25:06.648341Z"
    },
    "papermill": {
     "duration": 0.034765,
     "end_time": "2022-01-07T08:07:01.676744",
     "exception": false,
     "start_time": "2022-01-07T08:07:01.641979",
     "status": "completed"
    },
    "tags": []
   },
   "outputs": [
    {
     "data": {
      "text/plain": [
       "(14, 3)"
      ]
     },
     "execution_count": 18,
     "metadata": {},
     "output_type": "execute_result"
    }
   ],
   "source": [
    "df_assets.shape"
   ]
  },
  {
   "cell_type": "markdown",
   "id": "bd9895a3",
   "metadata": {
    "papermill": {
     "duration": 0.024971,
     "end_time": "2022-01-07T08:07:01.726752",
     "exception": false,
     "start_time": "2022-01-07T08:07:01.701781",
     "status": "completed"
    },
    "tags": []
   },
   "source": [
    "## Best params finding"
   ]
  },
  {
   "cell_type": "code",
   "execution_count": 19,
   "id": "22c470a9",
   "metadata": {
    "execution": {
     "iopub.execute_input": "2022-01-07T08:07:01.786635Z",
     "iopub.status.busy": "2022-01-07T08:07:01.780820Z",
     "iopub.status.idle": "2022-01-07T08:07:01.789472Z",
     "shell.execute_reply": "2022-01-07T08:07:01.788869Z",
     "shell.execute_reply.started": "2022-01-04T17:22:36.137554Z"
    },
    "papermill": {
     "duration": 0.037859,
     "end_time": "2022-01-07T08:07:01.789633",
     "exception": false,
     "start_time": "2022-01-07T08:07:01.751774",
     "status": "completed"
    },
    "tags": []
   },
   "outputs": [],
   "source": [
    "def return_model_assessment(args, X_train, y_train, X_test, w):\n",
    "    global models, train_scores, test_scores, curr_model_hyper_params\n",
    "    params = {curr_model_hyper_params[i]: args[i] for i, j in enumerate(curr_model_hyper_params)}\n",
    "    model = LGBMRegressor(random_state=2022)\n",
    "    model.set_params(**params)\n",
    "    fitted_model = model.fit(X_train, y_train, sample_weight=None)\n",
    "    models.append(fitted_model)\n",
    "    train_predictions = model.predict(X_train)\n",
    "    test_predictions = model.predict(X_test)\n",
    "    train_score = wcc(train_predictions, y_train, w)\n",
    "    test_score = wcc(test_predictions, y_test, w)\n",
    "    train_scores.append(train_score)\n",
    "    test_scores.append(test_score)\n",
    "    return 1 - test_score"
   ]
  },
  {
   "cell_type": "code",
   "execution_count": 20,
   "id": "880a531d",
   "metadata": {
    "execution": {
     "iopub.execute_input": "2022-01-07T08:07:01.843851Z",
     "iopub.status.busy": "2022-01-07T08:07:01.843115Z",
     "iopub.status.idle": "2022-01-07T08:07:39.879117Z",
     "shell.execute_reply": "2022-01-07T08:07:39.879973Z",
     "shell.execute_reply.started": "2022-01-04T18:33:55.134995Z"
    },
    "papermill": {
     "duration": 38.065892,
     "end_time": "2022-01-07T08:07:39.880868",
     "exception": false,
     "start_time": "2022-01-07T08:07:01.814976",
     "status": "completed"
    },
    "tags": []
   },
   "outputs": [
    {
     "name": "stdout",
     "output_type": "stream",
     "text": [
      "10 ++++++++++++++++++++++++++\n",
      "Best parameters:\n",
      "    - colsample_bytree=0.685244\n",
      "    - learning_rate=0.306215\n",
      "    - max_depth=6\n",
      "    - n_estimators=121\n",
      "    - subsample=0.736149\n"
     ]
    }
   ],
   "source": [
    "for i in range(10, 11):\n",
    "    print(i, '++++++++++++++++++++++++++')\n",
    "    df_assets_copy = df_assets.copy()\n",
    "    weight = df_assets_copy[df_assets_copy['Asset_ID'] == i]['Weight'].values[0]\n",
    "    df_copy = df_train.copy()\n",
    "    df_copy = df_copy[df_copy['Asset_ID'] == i].copy()\n",
    "    df = df_copy.reset_index(drop=True)\n",
    "    df_proc = get_features(df)\n",
    "    df_proc['y'] = df['Target']\n",
    "    df_proc = df_proc.dropna(how=\"any\")\n",
    "\n",
    "    df_proc = df_proc.reset_index()\n",
    "    X = df_proc.drop(labels=np.where(np.isinf(df_proc))[0], axis=0)\n",
    "    X = X.reset_index()\n",
    "    \n",
    "    y = X[\"y\"]\n",
    "    X = X.drop(\"y\", axis=1)\n",
    "    \n",
    "    scaler = StandardScaler()\n",
    "    X = scaler.fit_transform(X)\n",
    "    \n",
    "    col_names = df_proc.drop('y', axis=1).columns\n",
    "    \n",
    "    X_train, X_test, y_train, y_test = train_test_split(X, y, test_size=1 - train_ratio, random_state=42)\n",
    "    target_col = \"y\"\n",
    "    \n",
    "    models = []\n",
    "    train_scores = []\n",
    "    test_scores = []\n",
    "    curr_model_hyper_params = ['colsample_bytree', 'learning_rate',\n",
    "                               'max_depth', 'n_estimators', 'subsample']\n",
    "    objective_function = partial(return_model_assessment, X_train=X_train, y_train=y_train, X_test=X_test, w=weight)\n",
    "\n",
    "    n_calls = 5 \n",
    "    results = gp_minimize(objective_function, space, base_estimator=None, n_calls=5, n_random_starts=n_calls-1, random_state=42)\n",
    "    \n",
    "    print(\"\"\"Best parameters:\n",
    "    - colsample_bytree=%f\n",
    "    - learning_rate=%.6f\n",
    "    - max_depth=%d\n",
    "    - n_estimators=%d\n",
    "    - subsample=%f\"\"\" % (results.x[0], results.x[1],\n",
    "                         results.x[2], results.x[3],\n",
    "                         results.x[4]))"
   ]
  },
  {
   "cell_type": "markdown",
   "id": "91f63a72",
   "metadata": {
    "papermill": {
     "duration": 0.02528,
     "end_time": "2022-01-07T08:07:39.952076",
     "exception": false,
     "start_time": "2022-01-07T08:07:39.926796",
     "status": "completed"
    },
    "tags": []
   },
   "source": [
    "## Graphic plot (for single version)"
   ]
  },
  {
   "cell_type": "code",
   "execution_count": 21,
   "id": "42791eee",
   "metadata": {
    "execution": {
     "iopub.execute_input": "2022-01-07T08:07:40.011881Z",
     "iopub.status.busy": "2022-01-07T08:07:40.011142Z",
     "iopub.status.idle": "2022-01-07T08:07:41.694647Z",
     "shell.execute_reply": "2022-01-07T08:07:41.695200Z",
     "shell.execute_reply.started": "2022-01-04T17:00:26.764496Z"
    },
    "papermill": {
     "duration": 1.71703,
     "end_time": "2022-01-07T08:07:41.695406",
     "exception": false,
     "start_time": "2022-01-07T08:07:39.978376",
     "status": "completed"
    },
    "tags": []
   },
   "outputs": [
    {
     "data": {
      "text/html": [
       "        <script type=\"text/javascript\">\n",
       "        window.PlotlyConfig = {MathJaxConfig: 'local'};\n",
       "        if (window.MathJax) {MathJax.Hub.Config({SVG: {font: \"STIX-Web\"}});}\n",
       "        if (typeof require !== 'undefined') {\n",
       "        require.undef(\"plotly\");\n",
       "        requirejs.config({\n",
       "            paths: {\n",
       "                'plotly': ['https://cdn.plot.ly/plotly-2.6.3.min']\n",
       "            }\n",
       "        });\n",
       "        require(['plotly'], function(Plotly) {\n",
       "            window._Plotly = Plotly;\n",
       "        });\n",
       "        }\n",
       "        </script>\n",
       "        "
      ]
     },
     "metadata": {},
     "output_type": "display_data"
    },
    {
     "data": {
      "text/html": [
       "<div>                            <div id=\"a0cf34e8-da6e-4afa-885f-4407b3a4e4e0\" class=\"plotly-graph-div\" style=\"height:525px; width:100%;\"></div>            <script type=\"text/javascript\">                require([\"plotly\"], function(Plotly) {                    window.PLOTLYENV=window.PLOTLYENV || {};                                    if (document.getElementById(\"a0cf34e8-da6e-4afa-885f-4407b3a4e4e0\")) {                    Plotly.newPlot(                        \"a0cf34e8-da6e-4afa-885f-4407b3a4e4e0\",                        [{\"hovertemplate\":\"dataset=train_score<br>Iteration Number=%{x}<br>WCC=%{y}<extra></extra>\",\"legendgroup\":\"train_score\",\"line\":{\"color\":\"#636efa\",\"dash\":\"solid\"},\"marker\":{\"symbol\":\"circle\"},\"mode\":\"lines\",\"name\":\"train_score\",\"orientation\":\"v\",\"showlegend\":true,\"x\":[1,2,3,4,5],\"xaxis\":\"x\",\"y\":[0.9999863446488728,0.999986012662063,0.9999855477526577,0.9999854233840232,0.9999888827280337],\"yaxis\":\"y\",\"type\":\"scatter\"},{\"hovertemplate\":\"dataset=test_score<br>Iteration Number=%{x}<br>WCC=%{y}<extra></extra>\",\"legendgroup\":\"test_score\",\"line\":{\"color\":\"#EF553B\",\"dash\":\"solid\"},\"marker\":{\"symbol\":\"circle\"},\"mode\":\"lines\",\"name\":\"test_score\",\"orientation\":\"v\",\"showlegend\":true,\"x\":[1,2,3,4,5],\"xaxis\":\"x\",\"y\":[0.9999398783137422,0.9999414089068498,0.9999424306785666,0.9999425503895217,0.9959307886454422],\"yaxis\":\"y\",\"type\":\"scatter\"}],                        {\"template\":{\"data\":{\"bar\":[{\"error_x\":{\"color\":\"#2a3f5f\"},\"error_y\":{\"color\":\"#2a3f5f\"},\"marker\":{\"line\":{\"color\":\"#E5ECF6\",\"width\":0.5},\"pattern\":{\"fillmode\":\"overlay\",\"size\":10,\"solidity\":0.2}},\"type\":\"bar\"}],\"barpolar\":[{\"marker\":{\"line\":{\"color\":\"#E5ECF6\",\"width\":0.5},\"pattern\":{\"fillmode\":\"overlay\",\"size\":10,\"solidity\":0.2}},\"type\":\"barpolar\"}],\"carpet\":[{\"aaxis\":{\"endlinecolor\":\"#2a3f5f\",\"gridcolor\":\"white\",\"linecolor\":\"white\",\"minorgridcolor\":\"white\",\"startlinecolor\":\"#2a3f5f\"},\"baxis\":{\"endlinecolor\":\"#2a3f5f\",\"gridcolor\":\"white\",\"linecolor\":\"white\",\"minorgridcolor\":\"white\",\"startlinecolor\":\"#2a3f5f\"},\"type\":\"carpet\"}],\"choropleth\":[{\"colorbar\":{\"outlinewidth\":0,\"ticks\":\"\"},\"type\":\"choropleth\"}],\"contour\":[{\"colorbar\":{\"outlinewidth\":0,\"ticks\":\"\"},\"colorscale\":[[0.0,\"#0d0887\"],[0.1111111111111111,\"#46039f\"],[0.2222222222222222,\"#7201a8\"],[0.3333333333333333,\"#9c179e\"],[0.4444444444444444,\"#bd3786\"],[0.5555555555555556,\"#d8576b\"],[0.6666666666666666,\"#ed7953\"],[0.7777777777777778,\"#fb9f3a\"],[0.8888888888888888,\"#fdca26\"],[1.0,\"#f0f921\"]],\"type\":\"contour\"}],\"contourcarpet\":[{\"colorbar\":{\"outlinewidth\":0,\"ticks\":\"\"},\"type\":\"contourcarpet\"}],\"heatmap\":[{\"colorbar\":{\"outlinewidth\":0,\"ticks\":\"\"},\"colorscale\":[[0.0,\"#0d0887\"],[0.1111111111111111,\"#46039f\"],[0.2222222222222222,\"#7201a8\"],[0.3333333333333333,\"#9c179e\"],[0.4444444444444444,\"#bd3786\"],[0.5555555555555556,\"#d8576b\"],[0.6666666666666666,\"#ed7953\"],[0.7777777777777778,\"#fb9f3a\"],[0.8888888888888888,\"#fdca26\"],[1.0,\"#f0f921\"]],\"type\":\"heatmap\"}],\"heatmapgl\":[{\"colorbar\":{\"outlinewidth\":0,\"ticks\":\"\"},\"colorscale\":[[0.0,\"#0d0887\"],[0.1111111111111111,\"#46039f\"],[0.2222222222222222,\"#7201a8\"],[0.3333333333333333,\"#9c179e\"],[0.4444444444444444,\"#bd3786\"],[0.5555555555555556,\"#d8576b\"],[0.6666666666666666,\"#ed7953\"],[0.7777777777777778,\"#fb9f3a\"],[0.8888888888888888,\"#fdca26\"],[1.0,\"#f0f921\"]],\"type\":\"heatmapgl\"}],\"histogram\":[{\"marker\":{\"pattern\":{\"fillmode\":\"overlay\",\"size\":10,\"solidity\":0.2}},\"type\":\"histogram\"}],\"histogram2d\":[{\"colorbar\":{\"outlinewidth\":0,\"ticks\":\"\"},\"colorscale\":[[0.0,\"#0d0887\"],[0.1111111111111111,\"#46039f\"],[0.2222222222222222,\"#7201a8\"],[0.3333333333333333,\"#9c179e\"],[0.4444444444444444,\"#bd3786\"],[0.5555555555555556,\"#d8576b\"],[0.6666666666666666,\"#ed7953\"],[0.7777777777777778,\"#fb9f3a\"],[0.8888888888888888,\"#fdca26\"],[1.0,\"#f0f921\"]],\"type\":\"histogram2d\"}],\"histogram2dcontour\":[{\"colorbar\":{\"outlinewidth\":0,\"ticks\":\"\"},\"colorscale\":[[0.0,\"#0d0887\"],[0.1111111111111111,\"#46039f\"],[0.2222222222222222,\"#7201a8\"],[0.3333333333333333,\"#9c179e\"],[0.4444444444444444,\"#bd3786\"],[0.5555555555555556,\"#d8576b\"],[0.6666666666666666,\"#ed7953\"],[0.7777777777777778,\"#fb9f3a\"],[0.8888888888888888,\"#fdca26\"],[1.0,\"#f0f921\"]],\"type\":\"histogram2dcontour\"}],\"mesh3d\":[{\"colorbar\":{\"outlinewidth\":0,\"ticks\":\"\"},\"type\":\"mesh3d\"}],\"parcoords\":[{\"line\":{\"colorbar\":{\"outlinewidth\":0,\"ticks\":\"\"}},\"type\":\"parcoords\"}],\"pie\":[{\"automargin\":true,\"type\":\"pie\"}],\"scatter\":[{\"marker\":{\"colorbar\":{\"outlinewidth\":0,\"ticks\":\"\"}},\"type\":\"scatter\"}],\"scatter3d\":[{\"line\":{\"colorbar\":{\"outlinewidth\":0,\"ticks\":\"\"}},\"marker\":{\"colorbar\":{\"outlinewidth\":0,\"ticks\":\"\"}},\"type\":\"scatter3d\"}],\"scattercarpet\":[{\"marker\":{\"colorbar\":{\"outlinewidth\":0,\"ticks\":\"\"}},\"type\":\"scattercarpet\"}],\"scattergeo\":[{\"marker\":{\"colorbar\":{\"outlinewidth\":0,\"ticks\":\"\"}},\"type\":\"scattergeo\"}],\"scattergl\":[{\"marker\":{\"colorbar\":{\"outlinewidth\":0,\"ticks\":\"\"}},\"type\":\"scattergl\"}],\"scattermapbox\":[{\"marker\":{\"colorbar\":{\"outlinewidth\":0,\"ticks\":\"\"}},\"type\":\"scattermapbox\"}],\"scatterpolar\":[{\"marker\":{\"colorbar\":{\"outlinewidth\":0,\"ticks\":\"\"}},\"type\":\"scatterpolar\"}],\"scatterpolargl\":[{\"marker\":{\"colorbar\":{\"outlinewidth\":0,\"ticks\":\"\"}},\"type\":\"scatterpolargl\"}],\"scatterternary\":[{\"marker\":{\"colorbar\":{\"outlinewidth\":0,\"ticks\":\"\"}},\"type\":\"scatterternary\"}],\"surface\":[{\"colorbar\":{\"outlinewidth\":0,\"ticks\":\"\"},\"colorscale\":[[0.0,\"#0d0887\"],[0.1111111111111111,\"#46039f\"],[0.2222222222222222,\"#7201a8\"],[0.3333333333333333,\"#9c179e\"],[0.4444444444444444,\"#bd3786\"],[0.5555555555555556,\"#d8576b\"],[0.6666666666666666,\"#ed7953\"],[0.7777777777777778,\"#fb9f3a\"],[0.8888888888888888,\"#fdca26\"],[1.0,\"#f0f921\"]],\"type\":\"surface\"}],\"table\":[{\"cells\":{\"fill\":{\"color\":\"#EBF0F8\"},\"line\":{\"color\":\"white\"}},\"header\":{\"fill\":{\"color\":\"#C8D4E3\"},\"line\":{\"color\":\"white\"}},\"type\":\"table\"}]},\"layout\":{\"annotationdefaults\":{\"arrowcolor\":\"#2a3f5f\",\"arrowhead\":0,\"arrowwidth\":1},\"autotypenumbers\":\"strict\",\"coloraxis\":{\"colorbar\":{\"outlinewidth\":0,\"ticks\":\"\"}},\"colorscale\":{\"diverging\":[[0,\"#8e0152\"],[0.1,\"#c51b7d\"],[0.2,\"#de77ae\"],[0.3,\"#f1b6da\"],[0.4,\"#fde0ef\"],[0.5,\"#f7f7f7\"],[0.6,\"#e6f5d0\"],[0.7,\"#b8e186\"],[0.8,\"#7fbc41\"],[0.9,\"#4d9221\"],[1,\"#276419\"]],\"sequential\":[[0.0,\"#0d0887\"],[0.1111111111111111,\"#46039f\"],[0.2222222222222222,\"#7201a8\"],[0.3333333333333333,\"#9c179e\"],[0.4444444444444444,\"#bd3786\"],[0.5555555555555556,\"#d8576b\"],[0.6666666666666666,\"#ed7953\"],[0.7777777777777778,\"#fb9f3a\"],[0.8888888888888888,\"#fdca26\"],[1.0,\"#f0f921\"]],\"sequentialminus\":[[0.0,\"#0d0887\"],[0.1111111111111111,\"#46039f\"],[0.2222222222222222,\"#7201a8\"],[0.3333333333333333,\"#9c179e\"],[0.4444444444444444,\"#bd3786\"],[0.5555555555555556,\"#d8576b\"],[0.6666666666666666,\"#ed7953\"],[0.7777777777777778,\"#fb9f3a\"],[0.8888888888888888,\"#fdca26\"],[1.0,\"#f0f921\"]]},\"colorway\":[\"#636efa\",\"#EF553B\",\"#00cc96\",\"#ab63fa\",\"#FFA15A\",\"#19d3f3\",\"#FF6692\",\"#B6E880\",\"#FF97FF\",\"#FECB52\"],\"font\":{\"color\":\"#2a3f5f\"},\"geo\":{\"bgcolor\":\"white\",\"lakecolor\":\"white\",\"landcolor\":\"#E5ECF6\",\"showlakes\":true,\"showland\":true,\"subunitcolor\":\"white\"},\"hoverlabel\":{\"align\":\"left\"},\"hovermode\":\"closest\",\"mapbox\":{\"style\":\"light\"},\"paper_bgcolor\":\"white\",\"plot_bgcolor\":\"#E5ECF6\",\"polar\":{\"angularaxis\":{\"gridcolor\":\"white\",\"linecolor\":\"white\",\"ticks\":\"\"},\"bgcolor\":\"#E5ECF6\",\"radialaxis\":{\"gridcolor\":\"white\",\"linecolor\":\"white\",\"ticks\":\"\"}},\"scene\":{\"xaxis\":{\"backgroundcolor\":\"#E5ECF6\",\"gridcolor\":\"white\",\"gridwidth\":2,\"linecolor\":\"white\",\"showbackground\":true,\"ticks\":\"\",\"zerolinecolor\":\"white\"},\"yaxis\":{\"backgroundcolor\":\"#E5ECF6\",\"gridcolor\":\"white\",\"gridwidth\":2,\"linecolor\":\"white\",\"showbackground\":true,\"ticks\":\"\",\"zerolinecolor\":\"white\"},\"zaxis\":{\"backgroundcolor\":\"#E5ECF6\",\"gridcolor\":\"white\",\"gridwidth\":2,\"linecolor\":\"white\",\"showbackground\":true,\"ticks\":\"\",\"zerolinecolor\":\"white\"}},\"shapedefaults\":{\"line\":{\"color\":\"#2a3f5f\"}},\"ternary\":{\"aaxis\":{\"gridcolor\":\"white\",\"linecolor\":\"white\",\"ticks\":\"\"},\"baxis\":{\"gridcolor\":\"white\",\"linecolor\":\"white\",\"ticks\":\"\"},\"bgcolor\":\"#E5ECF6\",\"caxis\":{\"gridcolor\":\"white\",\"linecolor\":\"white\",\"ticks\":\"\"}},\"title\":{\"x\":0.05},\"xaxis\":{\"automargin\":true,\"gridcolor\":\"white\",\"linecolor\":\"white\",\"ticks\":\"\",\"title\":{\"standoff\":15},\"zerolinecolor\":\"white\",\"zerolinewidth\":2},\"yaxis\":{\"automargin\":true,\"gridcolor\":\"white\",\"linecolor\":\"white\",\"ticks\":\"\",\"title\":{\"standoff\":15},\"zerolinecolor\":\"white\",\"zerolinewidth\":2}}},\"xaxis\":{\"anchor\":\"y\",\"domain\":[0.0,1.0],\"title\":{\"text\":\"Iteration Number\"}},\"yaxis\":{\"anchor\":\"x\",\"domain\":[0.0,1.0],\"title\":{\"text\":\"WCC\"}},\"legend\":{\"title\":{\"text\":\"dataset\"},\"tracegroupgap\":0},\"margin\":{\"t\":60}},                        {\"responsive\": true}                    ).then(function(){\n",
       "                            \n",
       "var gd = document.getElementById('a0cf34e8-da6e-4afa-885f-4407b3a4e4e0');\n",
       "var x = new MutationObserver(function (mutations, observer) {{\n",
       "        var display = window.getComputedStyle(gd).display;\n",
       "        if (!display || display === 'none') {{\n",
       "            console.log([gd, 'removed!']);\n",
       "            Plotly.purge(gd);\n",
       "            observer.disconnect();\n",
       "        }}\n",
       "}});\n",
       "\n",
       "// Listen for the removal of the full notebook cells\n",
       "var notebookContainer = gd.closest('#notebook-container');\n",
       "if (notebookContainer) {{\n",
       "    x.observe(notebookContainer, {childList: true});\n",
       "}}\n",
       "\n",
       "// Listen for the clearing of the current output cell\n",
       "var outputEl = gd.closest('.output');\n",
       "if (outputEl) {{\n",
       "    x.observe(outputEl, {childList: true});\n",
       "}}\n",
       "\n",
       "                        })                };                });            </script>        </div>"
      ]
     },
     "metadata": {},
     "output_type": "display_data"
    }
   ],
   "source": [
    "import plotly.express as px\n",
    "metrics = pd.DataFrame(train_scores + test_scores)\n",
    "metrics.loc[:,'dataset'] = [\"train_score\"]*n_calls + [\"test_score\"]*n_calls\n",
    "metrics.loc[:,'Iteration Number'] = list(range(1,n_calls+1)) + list(range(1,n_calls+1))\n",
    "metrics.columns = [\"WCC\", \"dataset\", \"Iteration Number\"]\n",
    "fig = px.line(metrics, x=\"Iteration Number\", y=\"WCC\", color=\"dataset\")\n",
    "fig.show()"
   ]
  },
  {
   "cell_type": "code",
   "execution_count": 22,
   "id": "a4d44ead",
   "metadata": {
    "execution": {
     "iopub.execute_input": "2022-01-07T08:07:41.754253Z",
     "iopub.status.busy": "2022-01-07T08:07:41.753438Z",
     "iopub.status.idle": "2022-01-07T08:07:41.758181Z",
     "shell.execute_reply": "2022-01-07T08:07:41.758727Z",
     "shell.execute_reply.started": "2022-01-04T17:00:26.769749Z"
    },
    "papermill": {
     "duration": 0.036266,
     "end_time": "2022-01-07T08:07:41.758903",
     "exception": false,
     "start_time": "2022-01-07T08:07:41.722637",
     "status": "completed"
    },
    "tags": []
   },
   "outputs": [
    {
     "name": "stdout",
     "output_type": "stream",
     "text": [
      "Best parameters:\n",
      "- colsample_bytree=0.685244\n",
      "- learning_rate=0.306215\n",
      "- max_depth=6\n",
      "- n_estimators=121\n",
      "- subsample=0.736149\n"
     ]
    }
   ],
   "source": [
    "print(\"\"\"Best parameters:\n",
    "- colsample_bytree=%f\n",
    "- learning_rate=%.6f\n",
    "- max_depth=%d\n",
    "- n_estimators=%d\n",
    "- subsample=%f\"\"\" % (results.x[0], results.x[1],\n",
    "                            results.x[2], results.x[3],\n",
    "                            results.x[4]))"
   ]
  },
  {
   "cell_type": "markdown",
   "id": "6386689e",
   "metadata": {
    "papermill": {
     "duration": 0.029241,
     "end_time": "2022-01-07T08:07:41.815407",
     "exception": false,
     "start_time": "2022-01-07T08:07:41.786166",
     "status": "completed"
    },
    "tags": []
   },
   "source": [
    "    Real(0.5, 0.8, name=\"colsample_bytree\"),\n",
    "    Real(0.001, 0.5, name=\"learning_rate\"),\n",
    "    Integer(6, 15, name=\"max_depth\"),\n",
    "    Integer(100, 1000, name=\"n_estimators\"),\n",
    "    Real(0.5, 0.95, name=\"subsample\"),"
   ]
  },
  {
   "cell_type": "code",
   "execution_count": 23,
   "id": "c38c7d28",
   "metadata": {
    "execution": {
     "iopub.execute_input": "2022-01-07T08:07:41.880034Z",
     "iopub.status.busy": "2022-01-07T08:07:41.879001Z",
     "iopub.status.idle": "2022-01-07T08:07:41.885390Z",
     "shell.execute_reply": "2022-01-07T08:07:41.886079Z",
     "shell.execute_reply.started": "2022-01-04T17:00:26.771144Z"
    },
    "papermill": {
     "duration": 0.042954,
     "end_time": "2022-01-07T08:07:41.886295",
     "exception": false,
     "start_time": "2022-01-07T08:07:41.843341",
     "status": "completed"
    },
    "tags": []
   },
   "outputs": [
    {
     "data": {
      "text/plain": [
       "[0.685244452888315, 0.3062149270836522, 6, 121, 0.7361485971162751]"
      ]
     },
     "execution_count": 23,
     "metadata": {},
     "output_type": "execute_result"
    }
   ],
   "source": [
    "results.x"
   ]
  }
 ],
 "metadata": {
  "kernelspec": {
   "display_name": "Python 3",
   "language": "python",
   "name": "python3"
  },
  "language_info": {
   "codemirror_mode": {
    "name": "ipython",
    "version": 3
   },
   "file_extension": ".py",
   "mimetype": "text/x-python",
   "name": "python",
   "nbconvert_exporter": "python",
   "pygments_lexer": "ipython3",
   "version": "3.8.8"
  },
  "papermill": {
   "default_parameters": {},
   "duration": 119.880007,
   "end_time": "2022-01-07T08:07:42.838841",
   "environment_variables": {},
   "exception": null,
   "input_path": "__notebook__.ipynb",
   "output_path": "__notebook__.ipynb",
   "parameters": {},
   "start_time": "2022-01-07T08:05:42.958834",
   "version": "2.3.3"
  }
 },
 "nbformat": 4,
 "nbformat_minor": 5
}
