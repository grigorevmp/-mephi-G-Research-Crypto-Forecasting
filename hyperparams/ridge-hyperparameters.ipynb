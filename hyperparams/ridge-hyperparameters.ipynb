{
 "cells": [
  {
   "cell_type": "code",
   "execution_count": null,
   "metadata": {
    "_cell_guid": "b1076dfc-b9ad-4769-8c92-a6c4dae69d19",
    "_uuid": "8f2839f25d086af736a60e9eeb907d3b93b6e0e5",
    "execution": {
     "iopub.execute_input": "2022-01-04T19:26:39.527295Z",
     "iopub.status.busy": "2022-01-04T19:26:39.52643Z",
     "iopub.status.idle": "2022-01-04T19:26:39.56186Z",
     "shell.execute_reply": "2022-01-04T19:26:39.561185Z",
     "shell.execute_reply.started": "2022-01-04T19:26:39.52717Z"
    }
   },
   "outputs": [],
   "source": [
    "import numpy as np\n",
    "import pandas as pd \n",
    "\n",
    "import os\n",
    "for dirname, _, filenames in os.walk('/kaggle/input'):\n",
    "    for filename in filenames:\n",
    "        print(os.path.join(dirname, filename))\n"
   ]
  },
  {
   "cell_type": "code",
   "execution_count": null,
   "metadata": {
    "execution": {
     "iopub.execute_input": "2022-01-04T19:26:39.563982Z",
     "iopub.status.busy": "2022-01-04T19:26:39.563559Z",
     "iopub.status.idle": "2022-01-04T19:26:39.56883Z",
     "shell.execute_reply": "2022-01-04T19:26:39.567818Z",
     "shell.execute_reply.started": "2022-01-04T19:26:39.563944Z"
    }
   },
   "outputs": [],
   "source": [
    "data_train = '/kaggle/input/g-research-crypto-forecasting/train.csv'\n",
    "data_asset_details = '/kaggle/input/g-research-crypto-forecasting/asset_details.csv'\n",
    "data_supplemental_train = '/kaggle/input/g-research-crypto-forecasting/supplemental_train.csv'"
   ]
  },
  {
   "cell_type": "code",
   "execution_count": null,
   "metadata": {
    "execution": {
     "iopub.execute_input": "2022-01-04T19:26:39.591687Z",
     "iopub.status.busy": "2022-01-04T19:26:39.591348Z",
     "iopub.status.idle": "2022-01-04T19:27:38.436288Z",
     "shell.execute_reply": "2022-01-04T19:27:38.435713Z",
     "shell.execute_reply.started": "2022-01-04T19:26:39.59166Z"
    }
   },
   "outputs": [],
   "source": [
    "df_train = pd.read_csv(data_train, \n",
    "                       dtype={'Asset_ID': 'int8', 'Count': 'int32', 'row_id': 'int32', 'Count': 'int32', \n",
    "                              'Open': 'float64', 'High': 'float64', 'Low': 'float64', 'Close': 'float64', \n",
    "                              'Volume': 'float64', 'VWAP': 'float64'\n",
    "                             }\n",
    "                      )\n",
    "df_train.head()"
   ]
  },
  {
   "cell_type": "code",
   "execution_count": null,
   "metadata": {
    "execution": {
     "iopub.execute_input": "2022-01-04T19:27:38.437657Z",
     "iopub.status.busy": "2022-01-04T19:27:38.437294Z",
     "iopub.status.idle": "2022-01-04T19:27:38.461081Z",
     "shell.execute_reply": "2022-01-04T19:27:38.460367Z",
     "shell.execute_reply.started": "2022-01-04T19:27:38.437616Z"
    }
   },
   "outputs": [],
   "source": [
    "import gresearch_crypto"
   ]
  },
  {
   "cell_type": "code",
   "execution_count": null,
   "metadata": {
    "execution": {
     "iopub.execute_input": "2022-01-04T19:27:38.462745Z",
     "iopub.status.busy": "2022-01-04T19:27:38.462243Z",
     "iopub.status.idle": "2022-01-04T19:27:38.484944Z",
     "shell.execute_reply": "2022-01-04T19:27:38.484155Z",
     "shell.execute_reply.started": "2022-01-04T19:27:38.462695Z"
    }
   },
   "outputs": [],
   "source": [
    "df_assets = pd.read_csv(data_asset_details).sort_values(by='Asset_ID')\n",
    "df_assets.head()"
   ]
  },
  {
   "cell_type": "markdown",
   "metadata": {},
   "source": [
    "## Data preprocessing"
   ]
  },
  {
   "cell_type": "code",
   "execution_count": null,
   "metadata": {
    "execution": {
     "iopub.execute_input": "2022-01-04T19:27:38.486681Z",
     "iopub.status.busy": "2022-01-04T19:27:38.486303Z",
     "iopub.status.idle": "2022-01-04T19:27:39.55541Z",
     "shell.execute_reply": "2022-01-04T19:27:39.55472Z",
     "shell.execute_reply.started": "2022-01-04T19:27:38.486635Z"
    }
   },
   "outputs": [],
   "source": [
    "def upper_shadow(df):\n",
    "    return df['High'] - np.maximum(df['Close'], df['Open'])\n",
    "\n",
    "def lower_shadow(df):\n",
    "    return np.minimum(df['Close'], df['Open']) - df['Low']\n",
    "\n",
    "def get_features(df):\n",
    "    df_feat = df[['Count', 'Open', 'High', 'Low', 'Close', 'Volume', 'VWAP']].copy()\n",
    "    df_feat['Upper_Shadow'] = upper_shadow(df_feat)\n",
    "    df_feat['Lower_Shadow'] = lower_shadow(df_feat)\n",
    "    \n",
    "    df_feat[\"Close/Open\"] = df_feat[\"Close\"] / df_feat[\"Open\"] \n",
    "    df_feat[\"Close-Open\"] = df_feat[\"Close\"] - df_feat[\"Open\"] \n",
    "    df_feat[\"High-Low\"] = df_feat[\"High\"] - df_feat[\"Low\"] \n",
    "    df_feat[\"High/Low\"] = df_feat[\"High\"] / df_feat[\"Low\"]\n",
    "    \n",
    "    df_feat['Mean'] = df_feat[['Open', 'High', 'Low', 'Close']].mean(axis=1)\n",
    "\n",
    "    df_feat[\"Median\"] = df_feat[[\"Open\", \"High\", \"Low\", \"Close\"]].median(axis=1)\n",
    "    return df_feat"
   ]
  },
  {
   "cell_type": "code",
   "execution_count": null,
   "metadata": {
    "execution": {
     "iopub.execute_input": "2022-01-04T19:27:39.556644Z",
     "iopub.status.busy": "2022-01-04T19:27:39.556384Z",
     "iopub.status.idle": "2022-01-04T19:27:39.560413Z",
     "shell.execute_reply": "2022-01-04T19:27:39.559522Z",
     "shell.execute_reply.started": "2022-01-04T19:27:39.556612Z"
    }
   },
   "outputs": [],
   "source": [
    "from sklearn.preprocessing import StandardScaler"
   ]
  },
  {
   "cell_type": "code",
   "execution_count": null,
   "metadata": {
    "execution": {
     "iopub.execute_input": "2022-01-04T19:27:39.56309Z",
     "iopub.status.busy": "2022-01-04T19:27:39.562549Z",
     "iopub.status.idle": "2022-01-04T19:27:39.819113Z",
     "shell.execute_reply": "2022-01-04T19:27:39.818508Z",
     "shell.execute_reply.started": "2022-01-04T19:27:39.563062Z"
    }
   },
   "outputs": [],
   "source": [
    "from skopt import gp_minimize\n",
    "from skopt.space import Real, Integer\n",
    "from sklearn.model_selection import train_test_split\n",
    "from functools import partial"
   ]
  },
  {
   "cell_type": "code",
   "execution_count": null,
   "metadata": {
    "execution": {
     "iopub.execute_input": "2022-01-04T19:27:39.820644Z",
     "iopub.status.busy": "2022-01-04T19:27:39.820121Z",
     "iopub.status.idle": "2022-01-04T19:27:39.826539Z",
     "shell.execute_reply": "2022-01-04T19:27:39.825691Z",
     "shell.execute_reply.started": "2022-01-04T19:27:39.82061Z"
    }
   },
   "outputs": [],
   "source": [
    "def m(x, w):\n",
    "    return np.sum(x * w) / np.sum(w)\n",
    "\n",
    "def cov(x, y, w):\n",
    "    return np.sum(w * (x - m(x, w)) * (y - m(y, w))) / np.sum(w)\n",
    "\n",
    "def wcc(x, y, w=2.079441541679836):\n",
    "    return cov(x, y, w) / np.sqrt(cov(x, x, w) * cov(y, y, w))"
   ]
  },
  {
   "cell_type": "code",
   "execution_count": null,
   "metadata": {
    "execution": {
     "iopub.execute_input": "2022-01-04T19:27:39.827912Z",
     "iopub.status.busy": "2022-01-04T19:27:39.82764Z",
     "iopub.status.idle": "2022-01-04T19:27:39.956462Z",
     "shell.execute_reply": "2022-01-04T19:27:39.955668Z",
     "shell.execute_reply.started": "2022-01-04T19:27:39.827883Z"
    }
   },
   "outputs": [],
   "source": [
    "df_train['Asset_ID'].value_counts()"
   ]
  },
  {
   "cell_type": "code",
   "execution_count": null,
   "metadata": {
    "execution": {
     "iopub.execute_input": "2022-01-04T19:27:39.958492Z",
     "iopub.status.busy": "2022-01-04T19:27:39.957765Z",
     "iopub.status.idle": "2022-01-04T19:27:39.968855Z",
     "shell.execute_reply": "2022-01-04T19:27:39.968352Z",
     "shell.execute_reply.started": "2022-01-04T19:27:39.958449Z"
    }
   },
   "outputs": [],
   "source": [
    "weight = df_assets[df_assets['Asset_ID'] == 7]['Weight'].values[0]"
   ]
  },
  {
   "cell_type": "code",
   "execution_count": null,
   "metadata": {
    "execution": {
     "iopub.execute_input": "2022-01-04T19:27:39.970563Z",
     "iopub.status.busy": "2022-01-04T19:27:39.970094Z",
     "iopub.status.idle": "2022-01-04T19:27:39.981878Z",
     "shell.execute_reply": "2022-01-04T19:27:39.981066Z",
     "shell.execute_reply.started": "2022-01-04T19:27:39.970523Z"
    }
   },
   "outputs": [],
   "source": [
    "weight"
   ]
  },
  {
   "cell_type": "code",
   "execution_count": null,
   "metadata": {
    "execution": {
     "iopub.execute_input": "2022-01-04T19:27:39.983539Z",
     "iopub.status.busy": "2022-01-04T19:27:39.983225Z",
     "iopub.status.idle": "2022-01-04T19:28:04.310399Z",
     "shell.execute_reply": "2022-01-04T19:28:04.308697Z",
     "shell.execute_reply.started": "2022-01-04T19:27:39.983497Z"
    }
   },
   "outputs": [],
   "source": [
    "df_train['DateAndTime'] = pd.to_datetime(df_train['timestamp'], unit='s',utc = True,infer_datetime_format = True,).apply(lambda x:x.tz_convert('Europe/London'))\n",
    "df_train['Date'] = df_train.DateAndTime.dt.date\n",
    "df_train['Date'] = df_train['Date'].astype('datetime64[ns]')\n",
    "df_train.set_index(['DateAndTime'], inplace=True)\n",
    "df_train.head()"
   ]
  },
  {
   "cell_type": "code",
   "execution_count": null,
   "metadata": {
    "execution": {
     "iopub.execute_input": "2022-01-04T19:28:04.311819Z",
     "iopub.status.busy": "2022-01-04T19:28:04.311541Z",
     "iopub.status.idle": "2022-01-04T19:28:05.311613Z",
     "shell.execute_reply": "2022-01-04T19:28:05.310738Z",
     "shell.execute_reply.started": "2022-01-04T19:28:04.311791Z"
    }
   },
   "outputs": [],
   "source": [
    "start_date = '2020-01-01'\n",
    "end_date = '2021-09-21'\n",
    "data_training = df_train[df_train['Date'] >= '2020-01-01'].copy()\n",
    "df_train = data_training"
   ]
  },
  {
   "cell_type": "code",
   "execution_count": null,
   "metadata": {
    "execution": {
     "iopub.execute_input": "2022-01-04T19:28:05.31283Z",
     "iopub.status.busy": "2022-01-04T19:28:05.312639Z",
     "iopub.status.idle": "2022-01-04T19:28:05.449447Z",
     "shell.execute_reply": "2022-01-04T19:28:05.448708Z",
     "shell.execute_reply.started": "2022-01-04T19:28:05.312806Z"
    }
   },
   "outputs": [],
   "source": [
    "df = df_train[df_train['Asset_ID'] == 7].reset_index(drop=True)"
   ]
  },
  {
   "cell_type": "code",
   "execution_count": null,
   "metadata": {
    "execution": {
     "iopub.execute_input": "2022-01-04T19:28:05.450795Z",
     "iopub.status.busy": "2022-01-04T19:28:05.450571Z",
     "iopub.status.idle": "2022-01-04T19:28:06.269547Z",
     "shell.execute_reply": "2022-01-04T19:28:06.268531Z",
     "shell.execute_reply.started": "2022-01-04T19:28:05.450769Z"
    }
   },
   "outputs": [],
   "source": [
    "df_proc = get_features(df)\n",
    "df_proc['y'] = df['Target']\n",
    "df_proc = df_proc.dropna(how=\"any\")\n",
    "df_proc = df_proc.drop(labels=np.where(np.isinf(df_proc))[0], axis=0)\n",
    "\n",
    "X = df_proc.drop(\"y\", axis=1)\n",
    "y = df_proc[\"y\"]\n",
    "\n",
    "scaler = StandardScaler()\n",
    "X = scaler.fit_transform(X)"
   ]
  },
  {
   "cell_type": "code",
   "execution_count": null,
   "metadata": {
    "execution": {
     "iopub.execute_input": "2022-01-04T19:28:06.271226Z",
     "iopub.status.busy": "2022-01-04T19:28:06.270829Z",
     "iopub.status.idle": "2022-01-04T19:28:06.298567Z",
     "shell.execute_reply": "2022-01-04T19:28:06.297628Z",
     "shell.execute_reply.started": "2022-01-04T19:28:06.271197Z"
    }
   },
   "outputs": [],
   "source": [
    "col_names = df_proc.drop('y', axis=1).columns"
   ]
  },
  {
   "cell_type": "code",
   "execution_count": null,
   "metadata": {
    "execution": {
     "iopub.execute_input": "2022-01-04T19:28:06.300172Z",
     "iopub.status.busy": "2022-01-04T19:28:06.299953Z",
     "iopub.status.idle": "2022-01-04T19:28:06.620299Z",
     "shell.execute_reply": "2022-01-04T19:28:06.619545Z",
     "shell.execute_reply.started": "2022-01-04T19:28:06.300147Z"
    }
   },
   "outputs": [],
   "source": [
    "X_train, X_test, y_train, y_test = train_test_split(X, y, test_size=0.75, random_state=42)\n",
    "target_col = \"y\"\n",
    "df_train = pd.DataFrame(X_train, columns=col_names)\n",
    "df_test = pd.DataFrame(X_test, columns=col_names)"
   ]
  },
  {
   "cell_type": "markdown",
   "metadata": {},
   "source": [
    "## Best params finding"
   ]
  },
  {
   "cell_type": "code",
   "execution_count": null,
   "metadata": {
    "execution": {
     "iopub.execute_input": "2022-01-04T19:28:23.465709Z",
     "iopub.status.busy": "2022-01-04T19:28:23.465424Z"
    }
   },
   "outputs": [],
   "source": [
    "from sklearn.model_selection import GridSearchCV\n",
    "from sklearn.linear_model import Ridge\n",
    "grid={\"alpha\": [0.6,0.8,1.0,1.2], \n",
    "      'solver':['svd', 'cholesky', 'lsqr', 'sparse_cg', 'sag', 'saga', 'lbfgs']}\n",
    "ridge=Ridge(max_iter = 15000, tol=1e-6)\n",
    "ridge_cv=GridSearchCV(ridge,grid,cv=5)\n",
    "ridge_cv.fit(X_train, y_train)\n",
    "\n",
    "print(\"tuned hpyerparameters :(best parameters) \",ridge_cv.best_params_)\n",
    "print(\"WCC :\",ridge_cv.best_score_)\n",
    "\n",
    "prediction = ridge_cv.predict(X_test)\n",
    "\n",
    "\n",
    "print('WCC - ',wcc(prediction, y_test))"
   ]
  },
  {
   "cell_type": "markdown",
   "metadata": {},
   "source": [
    "<br>"
   ]
  },
  {
   "cell_type": "markdown",
   "metadata": {},
   "source": [
    "## Result"
   ]
  },
  {
   "cell_type": "markdown",
   "metadata": {},
   "source": [
    "Timeout after 9 hours"
   ]
  }
 ],
 "metadata": {
  "kernelspec": {
   "display_name": "Python 3",
   "language": "python",
   "name": "python3"
  },
  "language_info": {
   "codemirror_mode": {
    "name": "ipython",
    "version": 3
   },
   "file_extension": ".py",
   "mimetype": "text/x-python",
   "name": "python",
   "nbconvert_exporter": "python",
   "pygments_lexer": "ipython3",
   "version": "3.8.8"
  }
 },
 "nbformat": 4,
 "nbformat_minor": 4
}
