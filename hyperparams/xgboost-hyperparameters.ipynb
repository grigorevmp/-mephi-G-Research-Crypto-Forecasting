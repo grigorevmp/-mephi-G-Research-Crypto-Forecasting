{
 "cells": [
  {
   "cell_type": "code",
   "execution_count": 1,
   "id": "70b936df",
   "metadata": {
    "_cell_guid": "b1076dfc-b9ad-4769-8c92-a6c4dae69d19",
    "_uuid": "8f2839f25d086af736a60e9eeb907d3b93b6e0e5",
    "execution": {
     "iopub.execute_input": "2022-01-05T10:43:44.591880Z",
     "iopub.status.busy": "2022-01-05T10:43:44.590700Z",
     "iopub.status.idle": "2022-01-05T10:43:44.608531Z",
     "shell.execute_reply": "2022-01-05T10:43:44.609130Z",
     "shell.execute_reply.started": "2022-01-05T10:37:52.85862Z"
    },
    "papermill": {
     "duration": 0.050324,
     "end_time": "2022-01-05T10:43:44.609450",
     "exception": false,
     "start_time": "2022-01-05T10:43:44.559126",
     "status": "completed"
    },
    "tags": []
   },
   "outputs": [
    {
     "name": "stdout",
     "output_type": "stream",
     "text": [
      "/kaggle/input/g-research-crypto-forecasting/example_sample_submission.csv\n",
      "/kaggle/input/g-research-crypto-forecasting/asset_details.csv\n",
      "/kaggle/input/g-research-crypto-forecasting/example_test.csv\n",
      "/kaggle/input/g-research-crypto-forecasting/train.csv\n",
      "/kaggle/input/g-research-crypto-forecasting/supplemental_train.csv\n",
      "/kaggle/input/g-research-crypto-forecasting/gresearch_crypto/competition.cpython-37m-x86_64-linux-gnu.so\n",
      "/kaggle/input/g-research-crypto-forecasting/gresearch_crypto/__init__.py\n"
     ]
    }
   ],
   "source": [
    "import numpy as np\n",
    "import pandas as pd\n",
    "\n",
    "import os\n",
    "for dirname, _, filenames in os.walk('/kaggle/input'):\n",
    "    for filename in filenames:\n",
    "        print(os.path.join(dirname, filename))\n"
   ]
  },
  {
   "cell_type": "code",
   "execution_count": 2,
   "id": "dd7fb4be",
   "metadata": {
    "execution": {
     "iopub.execute_input": "2022-01-05T10:43:44.668844Z",
     "iopub.status.busy": "2022-01-05T10:43:44.666902Z",
     "iopub.status.idle": "2022-01-05T10:43:44.670793Z",
     "shell.execute_reply": "2022-01-05T10:43:44.671329Z",
     "shell.execute_reply.started": "2022-01-05T10:37:52.898549Z"
    },
    "papermill": {
     "duration": 0.034146,
     "end_time": "2022-01-05T10:43:44.671502",
     "exception": false,
     "start_time": "2022-01-05T10:43:44.637356",
     "status": "completed"
    },
    "tags": []
   },
   "outputs": [],
   "source": [
    "data_train = '/kaggle/input/g-research-crypto-forecasting/train.csv'\n",
    "data_asset_details = '/kaggle/input/g-research-crypto-forecasting/asset_details.csv'\n",
    "data_supplemental_train = '/kaggle/input/g-research-crypto-forecasting/supplemental_train.csv'"
   ]
  },
  {
   "cell_type": "code",
   "execution_count": 3,
   "id": "aa055070",
   "metadata": {
    "execution": {
     "iopub.execute_input": "2022-01-05T10:43:44.728543Z",
     "iopub.status.busy": "2022-01-05T10:43:44.727905Z",
     "iopub.status.idle": "2022-01-05T10:43:46.587765Z",
     "shell.execute_reply": "2022-01-05T10:43:46.588377Z",
     "shell.execute_reply.started": "2022-01-05T10:37:52.905121Z"
    },
    "papermill": {
     "duration": 1.890277,
     "end_time": "2022-01-05T10:43:46.588571",
     "exception": false,
     "start_time": "2022-01-05T10:43:44.698294",
     "status": "completed"
    },
    "tags": []
   },
   "outputs": [
    {
     "data": {
      "text/html": [
       "<style type='text/css'>\n",
       ".datatable table.frame { margin-bottom: 0; }\n",
       ".datatable table.frame thead { border-bottom: none; }\n",
       ".datatable table.frame tr.coltypes td {  color: #FFFFFF;  line-height: 6px;  padding: 0 0.5em;}\n",
       ".datatable .bool    { background: #DDDD99; }\n",
       ".datatable .object  { background: #565656; }\n",
       ".datatable .int     { background: #5D9E5D; }\n",
       ".datatable .float   { background: #4040CC; }\n",
       ".datatable .str     { background: #CC4040; }\n",
       ".datatable .time    { background: #40CC40; }\n",
       ".datatable .row_index {  background: var(--jp-border-color3);  border-right: 1px solid var(--jp-border-color0);  color: var(--jp-ui-font-color3);  font-size: 9px;}\n",
       ".datatable .frame tbody td { text-align: left; }\n",
       ".datatable .frame tr.coltypes .row_index {  background: var(--jp-border-color0);}\n",
       ".datatable th:nth-child(2) { padding-left: 12px; }\n",
       ".datatable .hellipsis {  color: var(--jp-cell-editor-border-color);}\n",
       ".datatable .vellipsis {  background: var(--jp-layout-color0);  color: var(--jp-cell-editor-border-color);}\n",
       ".datatable .na {  color: var(--jp-cell-editor-border-color);  font-size: 80%;}\n",
       ".datatable .sp {  opacity: 0.25;}\n",
       ".datatable .footer { font-size: 9px; }\n",
       ".datatable .frame_dimensions {  background: var(--jp-border-color3);  border-top: 1px solid var(--jp-border-color0);  color: var(--jp-ui-font-color3);  display: inline-block;  opacity: 0.6;  padding: 1px 10px 1px 5px;}\n",
       "</style>\n"
      ],
      "text/plain": [
       "<IPython.core.display.HTML object>"
      ]
     },
     "metadata": {},
     "output_type": "display_data"
    }
   ],
   "source": [
    "import random\n",
    "import pandas as pd\n",
    "import numpy as np"
   ]
  },
  {
   "cell_type": "code",
   "execution_count": 4,
   "id": "159b759d",
   "metadata": {
    "execution": {
     "iopub.execute_input": "2022-01-05T10:43:46.648336Z",
     "iopub.status.busy": "2022-01-05T10:43:46.647675Z",
     "iopub.status.idle": "2022-01-05T10:44:46.338029Z",
     "shell.execute_reply": "2022-01-05T10:44:46.338603Z",
     "shell.execute_reply.started": "2022-01-05T10:37:54.975863Z"
    },
    "papermill": {
     "duration": 59.722414,
     "end_time": "2022-01-05T10:44:46.338953",
     "exception": false,
     "start_time": "2022-01-05T10:43:46.616539",
     "status": "completed"
    },
    "tags": []
   },
   "outputs": [
    {
     "data": {
      "text/html": [
       "<div>\n",
       "<style scoped>\n",
       "    .dataframe tbody tr th:only-of-type {\n",
       "        vertical-align: middle;\n",
       "    }\n",
       "\n",
       "    .dataframe tbody tr th {\n",
       "        vertical-align: top;\n",
       "    }\n",
       "\n",
       "    .dataframe thead th {\n",
       "        text-align: right;\n",
       "    }\n",
       "</style>\n",
       "<table border=\"1\" class=\"dataframe\">\n",
       "  <thead>\n",
       "    <tr style=\"text-align: right;\">\n",
       "      <th></th>\n",
       "      <th>timestamp</th>\n",
       "      <th>Asset_ID</th>\n",
       "      <th>Count</th>\n",
       "      <th>Open</th>\n",
       "      <th>High</th>\n",
       "      <th>Low</th>\n",
       "      <th>Close</th>\n",
       "      <th>Volume</th>\n",
       "      <th>VWAP</th>\n",
       "      <th>Target</th>\n",
       "    </tr>\n",
       "  </thead>\n",
       "  <tbody>\n",
       "    <tr>\n",
       "      <th>0</th>\n",
       "      <td>1514764860</td>\n",
       "      <td>2</td>\n",
       "      <td>40</td>\n",
       "      <td>2376.5800</td>\n",
       "      <td>2399.5000</td>\n",
       "      <td>2357.1400</td>\n",
       "      <td>2374.5900</td>\n",
       "      <td>19.233005</td>\n",
       "      <td>2373.116392</td>\n",
       "      <td>-0.004218</td>\n",
       "    </tr>\n",
       "    <tr>\n",
       "      <th>1</th>\n",
       "      <td>1514764860</td>\n",
       "      <td>0</td>\n",
       "      <td>5</td>\n",
       "      <td>8.5300</td>\n",
       "      <td>8.5300</td>\n",
       "      <td>8.5300</td>\n",
       "      <td>8.5300</td>\n",
       "      <td>78.380000</td>\n",
       "      <td>8.530000</td>\n",
       "      <td>-0.014399</td>\n",
       "    </tr>\n",
       "    <tr>\n",
       "      <th>2</th>\n",
       "      <td>1514764860</td>\n",
       "      <td>1</td>\n",
       "      <td>229</td>\n",
       "      <td>13835.1940</td>\n",
       "      <td>14013.8000</td>\n",
       "      <td>13666.1100</td>\n",
       "      <td>13850.1760</td>\n",
       "      <td>31.550062</td>\n",
       "      <td>13827.062093</td>\n",
       "      <td>-0.014643</td>\n",
       "    </tr>\n",
       "    <tr>\n",
       "      <th>3</th>\n",
       "      <td>1514764860</td>\n",
       "      <td>5</td>\n",
       "      <td>32</td>\n",
       "      <td>7.6596</td>\n",
       "      <td>7.6596</td>\n",
       "      <td>7.6567</td>\n",
       "      <td>7.6576</td>\n",
       "      <td>6626.713370</td>\n",
       "      <td>7.657713</td>\n",
       "      <td>-0.013922</td>\n",
       "    </tr>\n",
       "    <tr>\n",
       "      <th>4</th>\n",
       "      <td>1514764860</td>\n",
       "      <td>7</td>\n",
       "      <td>5</td>\n",
       "      <td>25.9200</td>\n",
       "      <td>25.9200</td>\n",
       "      <td>25.8740</td>\n",
       "      <td>25.8770</td>\n",
       "      <td>121.087310</td>\n",
       "      <td>25.891363</td>\n",
       "      <td>-0.008264</td>\n",
       "    </tr>\n",
       "  </tbody>\n",
       "</table>\n",
       "</div>"
      ],
      "text/plain": [
       "    timestamp  Asset_ID  Count        Open        High         Low  \\\n",
       "0  1514764860         2     40   2376.5800   2399.5000   2357.1400   \n",
       "1  1514764860         0      5      8.5300      8.5300      8.5300   \n",
       "2  1514764860         1    229  13835.1940  14013.8000  13666.1100   \n",
       "3  1514764860         5     32      7.6596      7.6596      7.6567   \n",
       "4  1514764860         7      5     25.9200     25.9200     25.8740   \n",
       "\n",
       "        Close       Volume          VWAP    Target  \n",
       "0   2374.5900    19.233005   2373.116392 -0.004218  \n",
       "1      8.5300    78.380000      8.530000 -0.014399  \n",
       "2  13850.1760    31.550062  13827.062093 -0.014643  \n",
       "3      7.6576  6626.713370      7.657713 -0.013922  \n",
       "4     25.8770   121.087310     25.891363 -0.008264  "
      ]
     },
     "execution_count": 4,
     "metadata": {},
     "output_type": "execute_result"
    }
   ],
   "source": [
    "df_train = pd.read_csv(data_train, \n",
    "                       dtype={'Asset_ID': 'int8', 'Count': 'int32', 'row_id': 'int32', 'Count': 'int32', \n",
    "                              'Open': 'float64', 'High': 'float64', 'Low': 'float64', 'Close': 'float64', \n",
    "                              'Volume': 'float64', 'VWAP': 'float64'\n",
    "                             }\n",
    "                      )\n",
    "df_train.head()"
   ]
  },
  {
   "cell_type": "code",
   "execution_count": 5,
   "id": "cb908de6",
   "metadata": {
    "execution": {
     "iopub.execute_input": "2022-01-05T10:44:46.401782Z",
     "iopub.status.busy": "2022-01-05T10:44:46.400854Z",
     "iopub.status.idle": "2022-01-05T10:44:46.424023Z",
     "shell.execute_reply": "2022-01-05T10:44:46.424536Z",
     "shell.execute_reply.started": "2022-01-05T10:38:51.129304Z"
    },
    "papermill": {
     "duration": 0.056335,
     "end_time": "2022-01-05T10:44:46.424725",
     "exception": false,
     "start_time": "2022-01-05T10:44:46.368390",
     "status": "completed"
    },
    "tags": []
   },
   "outputs": [],
   "source": [
    "import gresearch_crypto"
   ]
  },
  {
   "cell_type": "code",
   "execution_count": 6,
   "id": "2efeea32",
   "metadata": {
    "execution": {
     "iopub.execute_input": "2022-01-05T10:44:46.488274Z",
     "iopub.status.busy": "2022-01-05T10:44:46.487470Z",
     "iopub.status.idle": "2022-01-05T10:44:46.508221Z",
     "shell.execute_reply": "2022-01-05T10:44:46.508678Z",
     "shell.execute_reply.started": "2022-01-05T10:38:51.156594Z"
    },
    "papermill": {
     "duration": 0.054665,
     "end_time": "2022-01-05T10:44:46.508861",
     "exception": false,
     "start_time": "2022-01-05T10:44:46.454196",
     "status": "completed"
    },
    "tags": []
   },
   "outputs": [
    {
     "data": {
      "text/html": [
       "<div>\n",
       "<style scoped>\n",
       "    .dataframe tbody tr th:only-of-type {\n",
       "        vertical-align: middle;\n",
       "    }\n",
       "\n",
       "    .dataframe tbody tr th {\n",
       "        vertical-align: top;\n",
       "    }\n",
       "\n",
       "    .dataframe thead th {\n",
       "        text-align: right;\n",
       "    }\n",
       "</style>\n",
       "<table border=\"1\" class=\"dataframe\">\n",
       "  <thead>\n",
       "    <tr style=\"text-align: right;\">\n",
       "      <th></th>\n",
       "      <th>Asset_ID</th>\n",
       "      <th>Weight</th>\n",
       "      <th>Asset_Name</th>\n",
       "    </tr>\n",
       "  </thead>\n",
       "  <tbody>\n",
       "    <tr>\n",
       "      <th>1</th>\n",
       "      <td>0</td>\n",
       "      <td>4.304065</td>\n",
       "      <td>Binance Coin</td>\n",
       "    </tr>\n",
       "    <tr>\n",
       "      <th>2</th>\n",
       "      <td>1</td>\n",
       "      <td>6.779922</td>\n",
       "      <td>Bitcoin</td>\n",
       "    </tr>\n",
       "    <tr>\n",
       "      <th>0</th>\n",
       "      <td>2</td>\n",
       "      <td>2.397895</td>\n",
       "      <td>Bitcoin Cash</td>\n",
       "    </tr>\n",
       "    <tr>\n",
       "      <th>10</th>\n",
       "      <td>3</td>\n",
       "      <td>4.406719</td>\n",
       "      <td>Cardano</td>\n",
       "    </tr>\n",
       "    <tr>\n",
       "      <th>13</th>\n",
       "      <td>4</td>\n",
       "      <td>3.555348</td>\n",
       "      <td>Dogecoin</td>\n",
       "    </tr>\n",
       "  </tbody>\n",
       "</table>\n",
       "</div>"
      ],
      "text/plain": [
       "    Asset_ID    Weight    Asset_Name\n",
       "1          0  4.304065  Binance Coin\n",
       "2          1  6.779922       Bitcoin\n",
       "0          2  2.397895  Bitcoin Cash\n",
       "10         3  4.406719       Cardano\n",
       "13         4  3.555348      Dogecoin"
      ]
     },
     "execution_count": 6,
     "metadata": {},
     "output_type": "execute_result"
    }
   ],
   "source": [
    "df_assets = pd.read_csv(data_asset_details).sort_values(by='Asset_ID')\n",
    "df_assets.head()"
   ]
  },
  {
   "cell_type": "code",
   "execution_count": 7,
   "id": "88c45ca7",
   "metadata": {
    "execution": {
     "iopub.execute_input": "2022-01-05T10:44:46.572348Z",
     "iopub.status.busy": "2022-01-05T10:44:46.571361Z",
     "iopub.status.idle": "2022-01-05T10:44:46.671841Z",
     "shell.execute_reply": "2022-01-05T10:44:46.671303Z",
     "shell.execute_reply.started": "2022-01-05T10:38:51.180481Z"
    },
    "papermill": {
     "duration": 0.13455,
     "end_time": "2022-01-05T10:44:46.672020",
     "exception": false,
     "start_time": "2022-01-05T10:44:46.537470",
     "status": "completed"
    },
    "tags": []
   },
   "outputs": [],
   "source": [
    "import xgboost as xgb\n",
    "\n",
    "def upper_shadow(df):\n",
    "    return df['High'] - np.maximum(df['Close'], df['Open'])\n",
    "\n",
    "def lower_shadow(df):\n",
    "    return np.minimum(df['Close'], df['Open']) - df['Low']\n",
    "\n",
    "def get_features(df):\n",
    "    df_feat = df[['Count', 'Open', 'High', 'Low', 'Close', 'Volume', 'VWAP']].copy()\n",
    "    df_feat['Upper_Shadow'] = upper_shadow(df_feat)\n",
    "    df_feat['Lower_Shadow'] = lower_shadow(df_feat)\n",
    "    \n",
    "    df_feat[\"Close/Open\"] = df_feat[\"Close\"] / df_feat[\"Open\"] \n",
    "    df_feat[\"Close-Open\"] = df_feat[\"Close\"] - df_feat[\"Open\"] \n",
    "    df_feat[\"High-Low\"] = df_feat[\"High\"] - df_feat[\"Low\"] \n",
    "    df_feat[\"High/Low\"] = df_feat[\"High\"] / df_feat[\"Low\"]\n",
    "    \n",
    "    df_feat['Mean'] = df_feat[['Open', 'High', 'Low', 'Close']].mean(axis=1)\n",
    "\n",
    "    df_feat[\"Median\"] = df_feat[[\"Open\", \"High\", \"Low\", \"Close\"]].median(axis=1)\n",
    "    return df_feat"
   ]
  },
  {
   "cell_type": "markdown",
   "id": "0875cc7f",
   "metadata": {},
   "source": [
    "## Some useful funcs and imports"
   ]
  },
  {
   "cell_type": "code",
   "execution_count": 8,
   "id": "691ea257",
   "metadata": {
    "execution": {
     "iopub.execute_input": "2022-01-05T10:44:46.733824Z",
     "iopub.status.busy": "2022-01-05T10:44:46.732962Z",
     "iopub.status.idle": "2022-01-05T10:44:46.735524Z",
     "shell.execute_reply": "2022-01-05T10:44:46.735007Z",
     "shell.execute_reply.started": "2022-01-05T10:38:51.266199Z"
    },
    "papermill": {
     "duration": 0.035171,
     "end_time": "2022-01-05T10:44:46.735656",
     "exception": false,
     "start_time": "2022-01-05T10:44:46.700485",
     "status": "completed"
    },
    "tags": []
   },
   "outputs": [],
   "source": [
    "from sklearn.preprocessing import StandardScaler"
   ]
  },
  {
   "cell_type": "code",
   "execution_count": 9,
   "id": "9a6d856d",
   "metadata": {
    "execution": {
     "iopub.execute_input": "2022-01-05T10:44:46.799476Z",
     "iopub.status.busy": "2022-01-05T10:44:46.798770Z",
     "iopub.status.idle": "2022-01-05T10:44:47.035763Z",
     "shell.execute_reply": "2022-01-05T10:44:47.035208Z",
     "shell.execute_reply.started": "2022-01-05T10:38:51.272456Z"
    },
    "papermill": {
     "duration": 0.271537,
     "end_time": "2022-01-05T10:44:47.035915",
     "exception": false,
     "start_time": "2022-01-05T10:44:46.764378",
     "status": "completed"
    },
    "tags": []
   },
   "outputs": [],
   "source": [
    "from sklearn.metrics import f1_score\n",
    "from skopt import gp_minimize\n",
    "from skopt.space import Real, Integer\n",
    "from sklearn.model_selection import train_test_split\n",
    "from functools import partial"
   ]
  },
  {
   "cell_type": "code",
   "execution_count": 10,
   "id": "c79ae940",
   "metadata": {
    "execution": {
     "iopub.execute_input": "2022-01-05T10:44:47.102051Z",
     "iopub.status.busy": "2022-01-05T10:44:47.101362Z",
     "iopub.status.idle": "2022-01-05T10:44:47.104434Z",
     "shell.execute_reply": "2022-01-05T10:44:47.103860Z",
     "shell.execute_reply.started": "2022-01-05T10:38:51.519323Z"
    },
    "papermill": {
     "duration": 0.038997,
     "end_time": "2022-01-05T10:44:47.104587",
     "exception": false,
     "start_time": "2022-01-05T10:44:47.065590",
     "status": "completed"
    },
    "tags": []
   },
   "outputs": [],
   "source": [
    "def m(x, w):\n",
    "    return np.sum(x * w) / np.sum(w)\n",
    "\n",
    "def cov(x, y, w):\n",
    "    return np.sum(w * (x - m(x, w)) * (y - m(y, w))) / np.sum(w)\n",
    "\n",
    "def wcc(x, y, w):\n",
    "    return cov(x, y, w) / np.sqrt(cov(x, x, w) * cov(y, y, w))"
   ]
  },
  {
   "cell_type": "markdown",
   "id": "20c91948",
   "metadata": {},
   "source": [
    "## Parameters grid"
   ]
  },
  {
   "cell_type": "code",
   "execution_count": 11,
   "id": "ec9fc749",
   "metadata": {
    "execution": {
     "iopub.execute_input": "2022-01-05T10:44:47.164792Z",
     "iopub.status.busy": "2022-01-05T10:44:47.164146Z",
     "iopub.status.idle": "2022-01-05T10:44:47.174997Z",
     "shell.execute_reply": "2022-01-05T10:44:47.174437Z",
     "shell.execute_reply.started": "2022-01-05T10:38:51.529516Z"
    },
    "papermill": {
     "duration": 0.042163,
     "end_time": "2022-01-05T10:44:47.175152",
     "exception": false,
     "start_time": "2022-01-05T10:44:47.132989",
     "status": "completed"
    },
    "tags": []
   },
   "outputs": [],
   "source": [
    "space = [\n",
    "    Real(0.5, 0.8, name=\"colsample_bytree\"),\n",
    "    Real(0.001, 0.5, name=\"learning_rate\"),\n",
    "    Integer(6, 15, name=\"max_depth\"),\n",
    "    Integer(100, 1000, name=\"n_estimators\"),\n",
    "    Real(0.5, 0.95, name=\"subsample\"),\n",
    "]"
   ]
  },
  {
   "cell_type": "markdown",
   "id": "118eb1c5",
   "metadata": {},
   "source": [
    "## Data preprocessing"
   ]
  },
  {
   "cell_type": "code",
   "execution_count": 12,
   "id": "b3592859",
   "metadata": {
    "execution": {
     "iopub.execute_input": "2022-01-05T10:44:47.239977Z",
     "iopub.status.busy": "2022-01-05T10:44:47.239155Z",
     "iopub.status.idle": "2022-01-05T10:44:47.242031Z",
     "shell.execute_reply": "2022-01-05T10:44:47.241539Z",
     "shell.execute_reply.started": "2022-01-05T10:38:51.546649Z"
    },
    "papermill": {
     "duration": 0.037517,
     "end_time": "2022-01-05T10:44:47.242171",
     "exception": false,
     "start_time": "2022-01-05T10:44:47.204654",
     "status": "completed"
    },
    "tags": []
   },
   "outputs": [],
   "source": [
    "train_ratio = 0.75"
   ]
  },
  {
   "cell_type": "code",
   "execution_count": 13,
   "id": "39640947",
   "metadata": {
    "execution": {
     "iopub.execute_input": "2022-01-05T10:44:47.425684Z",
     "iopub.status.busy": "2022-01-05T10:44:47.424669Z",
     "iopub.status.idle": "2022-01-05T10:44:47.428857Z",
     "shell.execute_reply": "2022-01-05T10:44:47.428251Z",
     "shell.execute_reply.started": "2022-01-05T10:38:51.558145Z"
    },
    "papermill": {
     "duration": 0.157396,
     "end_time": "2022-01-05T10:44:47.429021",
     "exception": false,
     "start_time": "2022-01-05T10:44:47.271625",
     "status": "completed"
    },
    "tags": []
   },
   "outputs": [
    {
     "data": {
      "text/plain": [
       "1     1956282\n",
       "6     1956200\n",
       "9     1956030\n",
       "5     1955140\n",
       "2     1953537\n",
       "7     1951127\n",
       "0     1942619\n",
       "13    1874560\n",
       "3     1791867\n",
       "12    1778749\n",
       "11    1701261\n",
       "8     1592071\n",
       "4     1156866\n",
       "10     670497\n",
       "Name: Asset_ID, dtype: int64"
      ]
     },
     "execution_count": 13,
     "metadata": {},
     "output_type": "execute_result"
    }
   ],
   "source": [
    "df_train['Asset_ID'].value_counts()"
   ]
  },
  {
   "cell_type": "code",
   "execution_count": 14,
   "id": "879793d7",
   "metadata": {
    "execution": {
     "iopub.execute_input": "2022-01-05T10:44:47.499355Z",
     "iopub.status.busy": "2022-01-05T10:44:47.498603Z",
     "iopub.status.idle": "2022-01-05T10:44:47.502047Z",
     "shell.execute_reply": "2022-01-05T10:44:47.501274Z",
     "shell.execute_reply.started": "2022-01-05T10:38:51.687166Z"
    },
    "papermill": {
     "duration": 0.040789,
     "end_time": "2022-01-05T10:44:47.502206",
     "exception": false,
     "start_time": "2022-01-05T10:44:47.461417",
     "status": "completed"
    },
    "tags": []
   },
   "outputs": [],
   "source": [
    "weight = df_assets[df_assets['Asset_ID'] == 12]['Weight'].values[0]"
   ]
  },
  {
   "cell_type": "code",
   "execution_count": 15,
   "id": "df0abcf9",
   "metadata": {
    "execution": {
     "iopub.execute_input": "2022-01-05T10:44:47.564591Z",
     "iopub.status.busy": "2022-01-05T10:44:47.563674Z",
     "iopub.status.idle": "2022-01-05T10:44:47.568467Z",
     "shell.execute_reply": "2022-01-05T10:44:47.568969Z",
     "shell.execute_reply.started": "2022-01-05T10:38:51.693964Z"
    },
    "papermill": {
     "duration": 0.037392,
     "end_time": "2022-01-05T10:44:47.569156",
     "exception": false,
     "start_time": "2022-01-05T10:44:47.531764",
     "status": "completed"
    },
    "tags": []
   },
   "outputs": [
    {
     "data": {
      "text/plain": [
       "2.079441541679836"
      ]
     },
     "execution_count": 15,
     "metadata": {},
     "output_type": "execute_result"
    }
   ],
   "source": [
    "weight"
   ]
  },
  {
   "cell_type": "code",
   "execution_count": 16,
   "id": "fe5247ec",
   "metadata": {
    "execution": {
     "iopub.execute_input": "2022-01-05T10:44:47.630993Z",
     "iopub.status.busy": "2022-01-05T10:44:47.630296Z",
     "iopub.status.idle": "2022-01-05T10:44:47.899125Z",
     "shell.execute_reply": "2022-01-05T10:44:47.899622Z",
     "shell.execute_reply.started": "2022-01-05T10:38:51.707518Z"
    },
    "papermill": {
     "duration": 0.301578,
     "end_time": "2022-01-05T10:44:47.899953",
     "exception": false,
     "start_time": "2022-01-05T10:44:47.598375",
     "status": "completed"
    },
    "tags": []
   },
   "outputs": [],
   "source": [
    "df = df_train[df_train['Asset_ID'] == 12].reset_index(drop=True)"
   ]
  },
  {
   "cell_type": "code",
   "execution_count": 17,
   "id": "6c349504",
   "metadata": {
    "execution": {
     "iopub.execute_input": "2022-01-05T10:44:47.965970Z",
     "iopub.status.busy": "2022-01-05T10:44:47.965294Z",
     "iopub.status.idle": "2022-01-05T10:44:47.981352Z",
     "shell.execute_reply": "2022-01-05T10:44:47.980818Z",
     "shell.execute_reply.started": "2022-01-05T10:38:51.981614Z"
    },
    "papermill": {
     "duration": 0.051428,
     "end_time": "2022-01-05T10:44:47.981508",
     "exception": false,
     "start_time": "2022-01-05T10:44:47.930080",
     "status": "completed"
    },
    "tags": []
   },
   "outputs": [
    {
     "data": {
      "text/html": [
       "<div>\n",
       "<style scoped>\n",
       "    .dataframe tbody tr th:only-of-type {\n",
       "        vertical-align: middle;\n",
       "    }\n",
       "\n",
       "    .dataframe tbody tr th {\n",
       "        vertical-align: top;\n",
       "    }\n",
       "\n",
       "    .dataframe thead th {\n",
       "        text-align: right;\n",
       "    }\n",
       "</style>\n",
       "<table border=\"1\" class=\"dataframe\">\n",
       "  <thead>\n",
       "    <tr style=\"text-align: right;\">\n",
       "      <th></th>\n",
       "      <th>timestamp</th>\n",
       "      <th>Asset_ID</th>\n",
       "      <th>Count</th>\n",
       "      <th>Open</th>\n",
       "      <th>High</th>\n",
       "      <th>Low</th>\n",
       "      <th>Close</th>\n",
       "      <th>Volume</th>\n",
       "      <th>VWAP</th>\n",
       "      <th>Target</th>\n",
       "    </tr>\n",
       "  </thead>\n",
       "  <tbody>\n",
       "    <tr>\n",
       "      <th>0</th>\n",
       "      <td>1518825180</td>\n",
       "      <td>12</td>\n",
       "      <td>4</td>\n",
       "      <td>0.410000</td>\n",
       "      <td>0.410000</td>\n",
       "      <td>0.360000</td>\n",
       "      <td>0.360000</td>\n",
       "      <td>3779.362927</td>\n",
       "      <td>0.405237</td>\n",
       "      <td>NaN</td>\n",
       "    </tr>\n",
       "    <tr>\n",
       "      <th>1</th>\n",
       "      <td>1518826560</td>\n",
       "      <td>12</td>\n",
       "      <td>1</td>\n",
       "      <td>0.410000</td>\n",
       "      <td>0.410000</td>\n",
       "      <td>0.410000</td>\n",
       "      <td>0.410000</td>\n",
       "      <td>800.000000</td>\n",
       "      <td>0.410000</td>\n",
       "      <td>NaN</td>\n",
       "    </tr>\n",
       "    <tr>\n",
       "      <th>2</th>\n",
       "      <td>1518827820</td>\n",
       "      <td>12</td>\n",
       "      <td>3</td>\n",
       "      <td>0.470000</td>\n",
       "      <td>0.470000</td>\n",
       "      <td>0.470000</td>\n",
       "      <td>0.470000</td>\n",
       "      <td>400.000000</td>\n",
       "      <td>0.470000</td>\n",
       "      <td>NaN</td>\n",
       "    </tr>\n",
       "    <tr>\n",
       "      <th>3</th>\n",
       "      <td>1518828660</td>\n",
       "      <td>12</td>\n",
       "      <td>1</td>\n",
       "      <td>0.469800</td>\n",
       "      <td>0.469800</td>\n",
       "      <td>0.469800</td>\n",
       "      <td>0.469800</td>\n",
       "      <td>450.000000</td>\n",
       "      <td>0.469800</td>\n",
       "      <td>0.022222</td>\n",
       "    </tr>\n",
       "    <tr>\n",
       "      <th>4</th>\n",
       "      <td>1518828720</td>\n",
       "      <td>12</td>\n",
       "      <td>1</td>\n",
       "      <td>0.450000</td>\n",
       "      <td>0.450000</td>\n",
       "      <td>0.450000</td>\n",
       "      <td>0.450000</td>\n",
       "      <td>312.978512</td>\n",
       "      <td>0.450000</td>\n",
       "      <td>NaN</td>\n",
       "    </tr>\n",
       "    <tr>\n",
       "      <th>...</th>\n",
       "      <td>...</td>\n",
       "      <td>...</td>\n",
       "      <td>...</td>\n",
       "      <td>...</td>\n",
       "      <td>...</td>\n",
       "      <td>...</td>\n",
       "      <td>...</td>\n",
       "      <td>...</td>\n",
       "      <td>...</td>\n",
       "      <td>...</td>\n",
       "    </tr>\n",
       "    <tr>\n",
       "      <th>1778744</th>\n",
       "      <td>1632182160</td>\n",
       "      <td>12</td>\n",
       "      <td>122</td>\n",
       "      <td>0.282546</td>\n",
       "      <td>0.282800</td>\n",
       "      <td>0.281509</td>\n",
       "      <td>0.281798</td>\n",
       "      <td>142533.884179</td>\n",
       "      <td>0.282147</td>\n",
       "      <td>NaN</td>\n",
       "    </tr>\n",
       "    <tr>\n",
       "      <th>1778745</th>\n",
       "      <td>1632182220</td>\n",
       "      <td>12</td>\n",
       "      <td>160</td>\n",
       "      <td>0.281595</td>\n",
       "      <td>0.281990</td>\n",
       "      <td>0.280675</td>\n",
       "      <td>0.281025</td>\n",
       "      <td>152181.736233</td>\n",
       "      <td>0.281339</td>\n",
       "      <td>NaN</td>\n",
       "    </tr>\n",
       "    <tr>\n",
       "      <th>1778746</th>\n",
       "      <td>1632182280</td>\n",
       "      <td>12</td>\n",
       "      <td>187</td>\n",
       "      <td>0.280721</td>\n",
       "      <td>0.280911</td>\n",
       "      <td>0.280167</td>\n",
       "      <td>0.280435</td>\n",
       "      <td>92322.353887</td>\n",
       "      <td>0.280628</td>\n",
       "      <td>NaN</td>\n",
       "    </tr>\n",
       "    <tr>\n",
       "      <th>1778747</th>\n",
       "      <td>1632182340</td>\n",
       "      <td>12</td>\n",
       "      <td>336</td>\n",
       "      <td>0.280721</td>\n",
       "      <td>0.282400</td>\n",
       "      <td>0.280200</td>\n",
       "      <td>0.282077</td>\n",
       "      <td>681270.709717</td>\n",
       "      <td>0.281377</td>\n",
       "      <td>NaN</td>\n",
       "    </tr>\n",
       "    <tr>\n",
       "      <th>1778748</th>\n",
       "      <td>1632182400</td>\n",
       "      <td>12</td>\n",
       "      <td>177</td>\n",
       "      <td>0.282168</td>\n",
       "      <td>0.282438</td>\n",
       "      <td>0.281842</td>\n",
       "      <td>0.282051</td>\n",
       "      <td>182850.813949</td>\n",
       "      <td>0.282134</td>\n",
       "      <td>NaN</td>\n",
       "    </tr>\n",
       "  </tbody>\n",
       "</table>\n",
       "<p>1778749 rows × 10 columns</p>\n",
       "</div>"
      ],
      "text/plain": [
       "          timestamp  Asset_ID  Count      Open      High       Low     Close  \\\n",
       "0        1518825180        12      4  0.410000  0.410000  0.360000  0.360000   \n",
       "1        1518826560        12      1  0.410000  0.410000  0.410000  0.410000   \n",
       "2        1518827820        12      3  0.470000  0.470000  0.470000  0.470000   \n",
       "3        1518828660        12      1  0.469800  0.469800  0.469800  0.469800   \n",
       "4        1518828720        12      1  0.450000  0.450000  0.450000  0.450000   \n",
       "...             ...       ...    ...       ...       ...       ...       ...   \n",
       "1778744  1632182160        12    122  0.282546  0.282800  0.281509  0.281798   \n",
       "1778745  1632182220        12    160  0.281595  0.281990  0.280675  0.281025   \n",
       "1778746  1632182280        12    187  0.280721  0.280911  0.280167  0.280435   \n",
       "1778747  1632182340        12    336  0.280721  0.282400  0.280200  0.282077   \n",
       "1778748  1632182400        12    177  0.282168  0.282438  0.281842  0.282051   \n",
       "\n",
       "                Volume      VWAP    Target  \n",
       "0          3779.362927  0.405237       NaN  \n",
       "1           800.000000  0.410000       NaN  \n",
       "2           400.000000  0.470000       NaN  \n",
       "3           450.000000  0.469800  0.022222  \n",
       "4           312.978512  0.450000       NaN  \n",
       "...                ...       ...       ...  \n",
       "1778744  142533.884179  0.282147       NaN  \n",
       "1778745  152181.736233  0.281339       NaN  \n",
       "1778746   92322.353887  0.280628       NaN  \n",
       "1778747  681270.709717  0.281377       NaN  \n",
       "1778748  182850.813949  0.282134       NaN  \n",
       "\n",
       "[1778749 rows x 10 columns]"
      ]
     },
     "execution_count": 17,
     "metadata": {},
     "output_type": "execute_result"
    }
   ],
   "source": [
    "df"
   ]
  },
  {
   "cell_type": "code",
   "execution_count": 18,
   "id": "b57a4846",
   "metadata": {
    "execution": {
     "iopub.execute_input": "2022-01-05T10:44:48.074859Z",
     "iopub.status.busy": "2022-01-05T10:44:48.073127Z",
     "iopub.status.idle": "2022-01-05T10:44:49.779678Z",
     "shell.execute_reply": "2022-01-05T10:44:49.778866Z",
     "shell.execute_reply.started": "2022-01-05T10:38:52.005034Z"
    },
    "papermill": {
     "duration": 1.767764,
     "end_time": "2022-01-05T10:44:49.779856",
     "exception": false,
     "start_time": "2022-01-05T10:44:48.012092",
     "status": "completed"
    },
    "tags": []
   },
   "outputs": [],
   "source": [
    "df_proc = get_features(df)\n",
    "df_proc['y'] = df['Target']\n",
    "df_proc = df_proc.dropna(how=\"any\")\n",
    "df_proc = df_proc.reset_index(drop=True)\n",
    "df_proc = df_proc.drop(labels=np.where(np.isinf(df_proc))[0], axis=0)\n",
    "df_proc = df_proc.reset_index(drop=True)\n",
    "\n",
    "X = df_proc.drop(\"y\", axis=1)\n",
    "y = df_proc[\"y\"]\n",
    "\n",
    "scaler = StandardScaler()\n",
    "X = scaler.fit_transform(X)"
   ]
  },
  {
   "cell_type": "code",
   "execution_count": 19,
   "id": "b093ba62",
   "metadata": {
    "execution": {
     "iopub.execute_input": "2022-01-05T10:44:49.866700Z",
     "iopub.status.busy": "2022-01-05T10:44:49.865813Z",
     "iopub.status.idle": "2022-01-05T10:44:49.869203Z",
     "shell.execute_reply": "2022-01-05T10:44:49.869682Z",
     "shell.execute_reply.started": "2022-01-05T10:38:53.829761Z"
    },
    "papermill": {
     "duration": 0.05927,
     "end_time": "2022-01-05T10:44:49.869855",
     "exception": false,
     "start_time": "2022-01-05T10:44:49.810585",
     "status": "completed"
    },
    "tags": []
   },
   "outputs": [
    {
     "data": {
      "text/html": [
       "<div>\n",
       "<style scoped>\n",
       "    .dataframe tbody tr th:only-of-type {\n",
       "        vertical-align: middle;\n",
       "    }\n",
       "\n",
       "    .dataframe tbody tr th {\n",
       "        vertical-align: top;\n",
       "    }\n",
       "\n",
       "    .dataframe thead th {\n",
       "        text-align: right;\n",
       "    }\n",
       "</style>\n",
       "<table border=\"1\" class=\"dataframe\">\n",
       "  <thead>\n",
       "    <tr style=\"text-align: right;\">\n",
       "      <th></th>\n",
       "      <th>Count</th>\n",
       "      <th>Open</th>\n",
       "      <th>High</th>\n",
       "      <th>Low</th>\n",
       "      <th>Close</th>\n",
       "      <th>Volume</th>\n",
       "      <th>VWAP</th>\n",
       "      <th>Upper_Shadow</th>\n",
       "      <th>Lower_Shadow</th>\n",
       "      <th>Close/Open</th>\n",
       "      <th>Close-Open</th>\n",
       "      <th>High-Low</th>\n",
       "      <th>High/Low</th>\n",
       "      <th>Mean</th>\n",
       "      <th>Median</th>\n",
       "      <th>y</th>\n",
       "    </tr>\n",
       "  </thead>\n",
       "  <tbody>\n",
       "    <tr>\n",
       "      <th>0</th>\n",
       "      <td>1</td>\n",
       "      <td>0.469800</td>\n",
       "      <td>0.469800</td>\n",
       "      <td>0.469800</td>\n",
       "      <td>0.469800</td>\n",
       "      <td>450.000000</td>\n",
       "      <td>0.469800</td>\n",
       "      <td>0.000000</td>\n",
       "      <td>0.000000</td>\n",
       "      <td>1.000000</td>\n",
       "      <td>0.000000</td>\n",
       "      <td>0.000000</td>\n",
       "      <td>1.000000</td>\n",
       "      <td>0.469800</td>\n",
       "      <td>0.469800</td>\n",
       "      <td>0.022222</td>\n",
       "    </tr>\n",
       "    <tr>\n",
       "      <th>1</th>\n",
       "      <td>2</td>\n",
       "      <td>0.460010</td>\n",
       "      <td>0.460010</td>\n",
       "      <td>0.460000</td>\n",
       "      <td>0.460000</td>\n",
       "      <td>2308.215000</td>\n",
       "      <td>0.460003</td>\n",
       "      <td>0.000000</td>\n",
       "      <td>0.000000</td>\n",
       "      <td>0.999978</td>\n",
       "      <td>-0.000010</td>\n",
       "      <td>0.000010</td>\n",
       "      <td>1.000022</td>\n",
       "      <td>0.460005</td>\n",
       "      <td>0.460005</td>\n",
       "      <td>0.021739</td>\n",
       "    </tr>\n",
       "    <tr>\n",
       "      <th>2</th>\n",
       "      <td>1</td>\n",
       "      <td>0.474499</td>\n",
       "      <td>0.474499</td>\n",
       "      <td>0.474499</td>\n",
       "      <td>0.474499</td>\n",
       "      <td>1470.000000</td>\n",
       "      <td>0.474499</td>\n",
       "      <td>0.000000</td>\n",
       "      <td>0.000000</td>\n",
       "      <td>1.000000</td>\n",
       "      <td>0.000000</td>\n",
       "      <td>0.000000</td>\n",
       "      <td>1.000000</td>\n",
       "      <td>0.474499</td>\n",
       "      <td>0.474499</td>\n",
       "      <td>-0.009482</td>\n",
       "    </tr>\n",
       "    <tr>\n",
       "      <th>3</th>\n",
       "      <td>1</td>\n",
       "      <td>0.489900</td>\n",
       "      <td>0.489900</td>\n",
       "      <td>0.489900</td>\n",
       "      <td>0.489900</td>\n",
       "      <td>5000.000000</td>\n",
       "      <td>0.489900</td>\n",
       "      <td>0.000000</td>\n",
       "      <td>0.000000</td>\n",
       "      <td>1.000000</td>\n",
       "      <td>0.000000</td>\n",
       "      <td>0.000000</td>\n",
       "      <td>1.000000</td>\n",
       "      <td>0.489900</td>\n",
       "      <td>0.489900</td>\n",
       "      <td>0.010922</td>\n",
       "    </tr>\n",
       "    <tr>\n",
       "      <th>4</th>\n",
       "      <td>2</td>\n",
       "      <td>0.483995</td>\n",
       "      <td>0.484000</td>\n",
       "      <td>0.483995</td>\n",
       "      <td>0.484000</td>\n",
       "      <td>700.000000</td>\n",
       "      <td>0.483999</td>\n",
       "      <td>0.000000</td>\n",
       "      <td>0.000000</td>\n",
       "      <td>1.000010</td>\n",
       "      <td>0.000005</td>\n",
       "      <td>0.000005</td>\n",
       "      <td>1.000010</td>\n",
       "      <td>0.483997</td>\n",
       "      <td>0.483997</td>\n",
       "      <td>-0.006211</td>\n",
       "    </tr>\n",
       "    <tr>\n",
       "      <th>...</th>\n",
       "      <td>...</td>\n",
       "      <td>...</td>\n",
       "      <td>...</td>\n",
       "      <td>...</td>\n",
       "      <td>...</td>\n",
       "      <td>...</td>\n",
       "      <td>...</td>\n",
       "      <td>...</td>\n",
       "      <td>...</td>\n",
       "      <td>...</td>\n",
       "      <td>...</td>\n",
       "      <td>...</td>\n",
       "      <td>...</td>\n",
       "      <td>...</td>\n",
       "      <td>...</td>\n",
       "      <td>...</td>\n",
       "    </tr>\n",
       "    <tr>\n",
       "      <th>1716928</th>\n",
       "      <td>273</td>\n",
       "      <td>0.280678</td>\n",
       "      <td>0.281100</td>\n",
       "      <td>0.280050</td>\n",
       "      <td>0.281027</td>\n",
       "      <td>650577.325780</td>\n",
       "      <td>0.280737</td>\n",
       "      <td>0.000073</td>\n",
       "      <td>0.000628</td>\n",
       "      <td>1.001244</td>\n",
       "      <td>0.000349</td>\n",
       "      <td>0.001050</td>\n",
       "      <td>1.003749</td>\n",
       "      <td>0.280714</td>\n",
       "      <td>0.280852</td>\n",
       "      <td>-0.000743</td>\n",
       "    </tr>\n",
       "    <tr>\n",
       "      <th>1716929</th>\n",
       "      <td>270</td>\n",
       "      <td>0.281107</td>\n",
       "      <td>0.282020</td>\n",
       "      <td>0.280737</td>\n",
       "      <td>0.281771</td>\n",
       "      <td>572937.878934</td>\n",
       "      <td>0.281488</td>\n",
       "      <td>0.000249</td>\n",
       "      <td>0.000370</td>\n",
       "      <td>1.002359</td>\n",
       "      <td>0.000663</td>\n",
       "      <td>0.001283</td>\n",
       "      <td>1.004570</td>\n",
       "      <td>0.281409</td>\n",
       "      <td>0.281439</td>\n",
       "      <td>-0.000860</td>\n",
       "    </tr>\n",
       "    <tr>\n",
       "      <th>1716930</th>\n",
       "      <td>189</td>\n",
       "      <td>0.281771</td>\n",
       "      <td>0.282027</td>\n",
       "      <td>0.281039</td>\n",
       "      <td>0.281559</td>\n",
       "      <td>368763.574739</td>\n",
       "      <td>0.281585</td>\n",
       "      <td>0.000256</td>\n",
       "      <td>0.000520</td>\n",
       "      <td>0.999247</td>\n",
       "      <td>-0.000212</td>\n",
       "      <td>0.000988</td>\n",
       "      <td>1.003516</td>\n",
       "      <td>0.281599</td>\n",
       "      <td>0.281665</td>\n",
       "      <td>-0.001822</td>\n",
       "    </tr>\n",
       "    <tr>\n",
       "      <th>1716931</th>\n",
       "      <td>159</td>\n",
       "      <td>0.281493</td>\n",
       "      <td>0.281903</td>\n",
       "      <td>0.280767</td>\n",
       "      <td>0.281143</td>\n",
       "      <td>264667.037879</td>\n",
       "      <td>0.281267</td>\n",
       "      <td>0.000410</td>\n",
       "      <td>0.000376</td>\n",
       "      <td>0.998756</td>\n",
       "      <td>-0.000350</td>\n",
       "      <td>0.001136</td>\n",
       "      <td>1.004046</td>\n",
       "      <td>0.281326</td>\n",
       "      <td>0.281318</td>\n",
       "      <td>-0.001340</td>\n",
       "    </tr>\n",
       "    <tr>\n",
       "      <th>1716932</th>\n",
       "      <td>193</td>\n",
       "      <td>0.280952</td>\n",
       "      <td>0.281300</td>\n",
       "      <td>0.280175</td>\n",
       "      <td>0.280403</td>\n",
       "      <td>162869.909618</td>\n",
       "      <td>0.280655</td>\n",
       "      <td>0.000348</td>\n",
       "      <td>0.000228</td>\n",
       "      <td>0.998047</td>\n",
       "      <td>-0.000549</td>\n",
       "      <td>0.001125</td>\n",
       "      <td>1.004015</td>\n",
       "      <td>0.280707</td>\n",
       "      <td>0.280677</td>\n",
       "      <td>0.000449</td>\n",
       "    </tr>\n",
       "  </tbody>\n",
       "</table>\n",
       "<p>1716933 rows × 16 columns</p>\n",
       "</div>"
      ],
      "text/plain": [
       "         Count      Open      High       Low     Close         Volume  \\\n",
       "0            1  0.469800  0.469800  0.469800  0.469800     450.000000   \n",
       "1            2  0.460010  0.460010  0.460000  0.460000    2308.215000   \n",
       "2            1  0.474499  0.474499  0.474499  0.474499    1470.000000   \n",
       "3            1  0.489900  0.489900  0.489900  0.489900    5000.000000   \n",
       "4            2  0.483995  0.484000  0.483995  0.484000     700.000000   \n",
       "...        ...       ...       ...       ...       ...            ...   \n",
       "1716928    273  0.280678  0.281100  0.280050  0.281027  650577.325780   \n",
       "1716929    270  0.281107  0.282020  0.280737  0.281771  572937.878934   \n",
       "1716930    189  0.281771  0.282027  0.281039  0.281559  368763.574739   \n",
       "1716931    159  0.281493  0.281903  0.280767  0.281143  264667.037879   \n",
       "1716932    193  0.280952  0.281300  0.280175  0.280403  162869.909618   \n",
       "\n",
       "             VWAP  Upper_Shadow  Lower_Shadow  Close/Open  Close-Open  \\\n",
       "0        0.469800      0.000000      0.000000    1.000000    0.000000   \n",
       "1        0.460003      0.000000      0.000000    0.999978   -0.000010   \n",
       "2        0.474499      0.000000      0.000000    1.000000    0.000000   \n",
       "3        0.489900      0.000000      0.000000    1.000000    0.000000   \n",
       "4        0.483999      0.000000      0.000000    1.000010    0.000005   \n",
       "...           ...           ...           ...         ...         ...   \n",
       "1716928  0.280737      0.000073      0.000628    1.001244    0.000349   \n",
       "1716929  0.281488      0.000249      0.000370    1.002359    0.000663   \n",
       "1716930  0.281585      0.000256      0.000520    0.999247   -0.000212   \n",
       "1716931  0.281267      0.000410      0.000376    0.998756   -0.000350   \n",
       "1716932  0.280655      0.000348      0.000228    0.998047   -0.000549   \n",
       "\n",
       "         High-Low  High/Low      Mean    Median         y  \n",
       "0        0.000000  1.000000  0.469800  0.469800  0.022222  \n",
       "1        0.000010  1.000022  0.460005  0.460005  0.021739  \n",
       "2        0.000000  1.000000  0.474499  0.474499 -0.009482  \n",
       "3        0.000000  1.000000  0.489900  0.489900  0.010922  \n",
       "4        0.000005  1.000010  0.483997  0.483997 -0.006211  \n",
       "...           ...       ...       ...       ...       ...  \n",
       "1716928  0.001050  1.003749  0.280714  0.280852 -0.000743  \n",
       "1716929  0.001283  1.004570  0.281409  0.281439 -0.000860  \n",
       "1716930  0.000988  1.003516  0.281599  0.281665 -0.001822  \n",
       "1716931  0.001136  1.004046  0.281326  0.281318 -0.001340  \n",
       "1716932  0.001125  1.004015  0.280707  0.280677  0.000449  \n",
       "\n",
       "[1716933 rows x 16 columns]"
      ]
     },
     "execution_count": 19,
     "metadata": {},
     "output_type": "execute_result"
    }
   ],
   "source": [
    "df_proc"
   ]
  },
  {
   "cell_type": "code",
   "execution_count": 20,
   "id": "7481d4d3",
   "metadata": {
    "execution": {
     "iopub.execute_input": "2022-01-05T10:44:49.981041Z",
     "iopub.status.busy": "2022-01-05T10:44:49.980257Z",
     "iopub.status.idle": "2022-01-05T10:44:49.984069Z",
     "shell.execute_reply": "2022-01-05T10:44:49.983410Z",
     "shell.execute_reply.started": "2022-01-05T10:38:53.859761Z"
    },
    "papermill": {
     "duration": 0.083148,
     "end_time": "2022-01-05T10:44:49.984219",
     "exception": false,
     "start_time": "2022-01-05T10:44:49.901071",
     "status": "completed"
    },
    "tags": []
   },
   "outputs": [],
   "source": [
    "col_names = df_proc.drop('y', axis=1).columns"
   ]
  },
  {
   "cell_type": "code",
   "execution_count": 21,
   "id": "34db6b81",
   "metadata": {
    "execution": {
     "iopub.execute_input": "2022-01-05T10:44:50.058612Z",
     "iopub.status.busy": "2022-01-05T10:44:50.057499Z",
     "iopub.status.idle": "2022-01-05T10:44:50.061041Z",
     "shell.execute_reply": "2022-01-05T10:44:50.061793Z",
     "shell.execute_reply.started": "2022-01-05T10:38:53.913749Z"
    },
    "papermill": {
     "duration": 0.045702,
     "end_time": "2022-01-05T10:44:50.062020",
     "exception": false,
     "start_time": "2022-01-05T10:44:50.016318",
     "status": "completed"
    },
    "tags": []
   },
   "outputs": [
    {
     "data": {
      "text/plain": [
       "Index(['Count', 'Open', 'High', 'Low', 'Close', 'Volume', 'VWAP',\n",
       "       'Upper_Shadow', 'Lower_Shadow', 'Close/Open', 'Close-Open', 'High-Low',\n",
       "       'High/Low', 'Mean', 'Median'],\n",
       "      dtype='object')"
      ]
     },
     "execution_count": 21,
     "metadata": {},
     "output_type": "execute_result"
    }
   ],
   "source": [
    "col_names"
   ]
  },
  {
   "cell_type": "code",
   "execution_count": 22,
   "id": "e82ed1b8",
   "metadata": {
    "execution": {
     "iopub.execute_input": "2022-01-05T10:44:50.143059Z",
     "iopub.status.busy": "2022-01-05T10:44:50.142221Z",
     "iopub.status.idle": "2022-01-05T10:44:50.146639Z",
     "shell.execute_reply": "2022-01-05T10:44:50.147213Z",
     "shell.execute_reply.started": "2022-01-05T10:38:53.928006Z"
    },
    "papermill": {
     "duration": 0.04555,
     "end_time": "2022-01-05T10:44:50.147397",
     "exception": false,
     "start_time": "2022-01-05T10:44:50.101847",
     "status": "completed"
    },
    "tags": []
   },
   "outputs": [
    {
     "data": {
      "text/plain": [
       "(1716933, 15)"
      ]
     },
     "execution_count": 22,
     "metadata": {},
     "output_type": "execute_result"
    }
   ],
   "source": [
    "X.shape"
   ]
  },
  {
   "cell_type": "code",
   "execution_count": 23,
   "id": "f8df01f5",
   "metadata": {
    "execution": {
     "iopub.execute_input": "2022-01-05T10:44:50.224918Z",
     "iopub.status.busy": "2022-01-05T10:44:50.224257Z",
     "iopub.status.idle": "2022-01-05T10:44:50.229492Z",
     "shell.execute_reply": "2022-01-05T10:44:50.230076Z",
     "shell.execute_reply.started": "2022-01-05T10:38:53.940865Z"
    },
    "papermill": {
     "duration": 0.042844,
     "end_time": "2022-01-05T10:44:50.230241",
     "exception": false,
     "start_time": "2022-01-05T10:44:50.187397",
     "status": "completed"
    },
    "tags": []
   },
   "outputs": [
    {
     "data": {
      "text/plain": [
       "(1716933,)"
      ]
     },
     "execution_count": 23,
     "metadata": {},
     "output_type": "execute_result"
    }
   ],
   "source": [
    "y.shape"
   ]
  },
  {
   "cell_type": "code",
   "execution_count": 24,
   "id": "8df391f4",
   "metadata": {
    "execution": {
     "iopub.execute_input": "2022-01-05T10:44:50.303857Z",
     "iopub.status.busy": "2022-01-05T10:44:50.302685Z",
     "iopub.status.idle": "2022-01-05T10:44:50.972557Z",
     "shell.execute_reply": "2022-01-05T10:44:50.971915Z",
     "shell.execute_reply.started": "2022-01-05T10:38:53.952444Z"
    },
    "papermill": {
     "duration": 0.710964,
     "end_time": "2022-01-05T10:44:50.972693",
     "exception": false,
     "start_time": "2022-01-05T10:44:50.261729",
     "status": "completed"
    },
    "tags": []
   },
   "outputs": [],
   "source": [
    "X_train, X_test, y_train, y_test = train_test_split(X, y, test_size=1 - train_ratio, random_state=42)\n",
    "target_col = \"y\"\n",
    "df_train = pd.DataFrame(X_train, columns=col_names)\n",
    "df_test = pd.DataFrame(X_test, columns=col_names)"
   ]
  },
  {
   "cell_type": "code",
   "execution_count": 25,
   "id": "42e8bd3a",
   "metadata": {
    "execution": {
     "iopub.execute_input": "2022-01-05T10:44:51.040620Z",
     "iopub.status.busy": "2022-01-05T10:44:51.039648Z",
     "iopub.status.idle": "2022-01-05T10:44:51.045177Z",
     "shell.execute_reply": "2022-01-05T10:44:51.045627Z",
     "shell.execute_reply.started": "2022-01-05T10:38:54.719468Z"
    },
    "papermill": {
     "duration": 0.040727,
     "end_time": "2022-01-05T10:44:51.045799",
     "exception": false,
     "start_time": "2022-01-05T10:44:51.005072",
     "status": "completed"
    },
    "tags": []
   },
   "outputs": [
    {
     "data": {
      "text/plain": [
       "(1287699, 15)"
      ]
     },
     "execution_count": 25,
     "metadata": {},
     "output_type": "execute_result"
    }
   ],
   "source": [
    "df_train.shape"
   ]
  },
  {
   "cell_type": "code",
   "execution_count": 26,
   "id": "99ca5392",
   "metadata": {
    "execution": {
     "iopub.execute_input": "2022-01-05T10:44:51.112886Z",
     "iopub.status.busy": "2022-01-05T10:44:51.111960Z",
     "iopub.status.idle": "2022-01-05T10:44:51.116962Z",
     "shell.execute_reply": "2022-01-05T10:44:51.117408Z",
     "shell.execute_reply.started": "2022-01-05T10:38:54.727024Z"
    },
    "papermill": {
     "duration": 0.040049,
     "end_time": "2022-01-05T10:44:51.117578",
     "exception": false,
     "start_time": "2022-01-05T10:44:51.077529",
     "status": "completed"
    },
    "tags": []
   },
   "outputs": [
    {
     "data": {
      "text/plain": [
       "(429234, 15)"
      ]
     },
     "execution_count": 26,
     "metadata": {},
     "output_type": "execute_result"
    }
   ],
   "source": [
    "df_test.shape"
   ]
  },
  {
   "cell_type": "markdown",
   "id": "ee4d79c0",
   "metadata": {},
   "source": [
    "## Best params finding"
   ]
  },
  {
   "cell_type": "code",
   "execution_count": 27,
   "id": "4cc242d3",
   "metadata": {
    "execution": {
     "iopub.execute_input": "2022-01-05T10:44:51.185536Z",
     "iopub.status.busy": "2022-01-05T10:44:51.184591Z",
     "iopub.status.idle": "2022-01-05T10:44:51.192712Z",
     "shell.execute_reply": "2022-01-05T10:44:51.193179Z",
     "shell.execute_reply.started": "2022-01-05T10:38:54.739611Z"
    },
    "papermill": {
     "duration": 0.043886,
     "end_time": "2022-01-05T10:44:51.193351",
     "exception": false,
     "start_time": "2022-01-05T10:44:51.149465",
     "status": "completed"
    },
    "tags": []
   },
   "outputs": [],
   "source": [
    "def return_model_assessment(args, X_train, y_train, X_test, w):\n",
    "    global models, train_scores, test_scores, curr_model_hyper_params\n",
    "    params = {curr_model_hyper_params[i]: args[i] for i, j in enumerate(curr_model_hyper_params)}\n",
    "    model = xgb.XGBRegressor(missing=-999, random_state=2022)\n",
    "    model.set_params(**params)\n",
    "    fitted_model = model.fit(X_train, y_train, sample_weight=None)\n",
    "    models.append(fitted_model)\n",
    "    train_predictions = model.predict(X_train)\n",
    "    test_predictions = model.predict(X_test)\n",
    "    train_score = wcc(train_predictions, y_train, w)\n",
    "    test_score = wcc(test_predictions, y_test, w)\n",
    "    train_scores.append(train_score)\n",
    "    test_scores.append(test_score)\n",
    "    return 1 - test_score"
   ]
  },
  {
   "cell_type": "code",
   "execution_count": 28,
   "id": "e64efe83",
   "metadata": {
    "execution": {
     "iopub.execute_input": "2022-01-05T10:44:51.271959Z",
     "iopub.status.busy": "2022-01-05T10:44:51.270840Z",
     "iopub.status.idle": "2022-01-05T13:00:06.068058Z",
     "shell.execute_reply": "2022-01-05T13:00:06.069901Z",
     "shell.execute_reply.started": "2022-01-05T10:38:54.754207Z"
    },
    "papermill": {
     "duration": 8114.845744,
     "end_time": "2022-01-05T13:00:06.071387",
     "exception": false,
     "start_time": "2022-01-05T10:44:51.225643",
     "status": "completed"
    },
    "tags": []
   },
   "outputs": [],
   "source": [
    "models = []\n",
    "train_scores = []\n",
    "test_scores = []\n",
    "curr_model_hyper_params = ['colsample_bytree', 'learning_rate',\n",
    "                        'max_depth', 'n_estimators', 'subsample']\n",
    "objective_function = partial(return_model_assessment, X_train=X_train, y_train=y_train, X_test=X_test, w=weight)\n",
    "\n",
    "n_calls = 10\n",
    "results = gp_minimize(objective_function, space, base_estimator=None, n_calls=10, n_random_starts=n_calls-1, random_state=42)"
   ]
  },
  {
   "cell_type": "code",
   "execution_count": 29,
   "id": "7bf1f5f0",
   "metadata": {
    "execution": {
     "iopub.execute_input": "2022-01-05T13:00:06.159575Z",
     "iopub.status.busy": "2022-01-05T13:00:06.158695Z",
     "iopub.status.idle": "2022-01-05T13:00:06.172860Z",
     "shell.execute_reply": "2022-01-05T13:00:06.173504Z",
     "shell.execute_reply.started": "2022-01-05T10:39:38.13472Z"
    },
    "papermill": {
     "duration": 0.054853,
     "end_time": "2022-01-05T13:00:06.173683",
     "exception": false,
     "start_time": "2022-01-05T13:00:06.118830",
     "status": "completed"
    },
    "tags": []
   },
   "outputs": [
    {
     "name": "stdout",
     "output_type": "stream",
     "text": [
      "          fun: 3.4964724904273936e-07\n",
      "    func_vals: array([5.09197503e-07, 3.49647249e-07, 5.24876577e-07, 4.15854499e-07,\n",
      "       1.99999957e+00, 1.55364300e-06, 5.63418384e-07, 1.99999981e+00,\n",
      "       5.92755124e-07, 5.69431716e-07])\n",
      "       models: [GaussianProcessRegressor(kernel=1**2 * Matern(length_scale=[1, 1, 1, 1, 1], nu=2.5) + WhiteKernel(noise_level=1),\n",
      "                         n_restarts_optimizer=2, noise='gaussian',\n",
      "                         normalize_y=True, random_state=1608637542), GaussianProcessRegressor(kernel=1**2 * Matern(length_scale=[1, 1, 1, 1, 1], nu=2.5) + WhiteKernel(noise_level=1),\n",
      "                         n_restarts_optimizer=2, noise='gaussian',\n",
      "                         normalize_y=True, random_state=1608637542)]\n",
      " random_state: RandomState(MT19937) at 0x7F98E4C6B160\n",
      "        space: Space([Real(low=0.5, high=0.8, prior='uniform', transform='normalize'),\n",
      "       Real(low=0.001, high=0.5, prior='uniform', transform='normalize'),\n",
      "       Integer(low=6, high=15, prior='uniform', transform='normalize'),\n",
      "       Integer(low=100, high=1000, prior='uniform', transform='normalize'),\n",
      "       Real(low=0.5, high=0.95, prior='uniform', transform='normalize')])\n",
      "        specs: {'args': {'func': functools.partial(<function return_model_assessment at 0x7f98e4bc6ef0>, X_train=array([[ 1.14569967,  2.60395856,  2.60061061, ...,  0.24215891,\n",
      "         2.59808458,  2.59867335],\n",
      "       [-0.26247026, -0.87802822, -0.87847613, ...,  0.08290351,\n",
      "        -0.87841976, -0.87822402],\n",
      "       [-0.18059992, -0.6597019 , -0.66053718, ..., -0.33127842,\n",
      "        -0.65969115, -0.65956605],\n",
      "       ...,\n",
      "       [-0.37708874,  0.17987787,  0.1820298 , ..., -0.10424841,\n",
      "         0.18254087,  0.18245077],\n",
      "       [-0.38691318, -0.77009335, -0.7707743 , ..., -0.37577664,\n",
      "        -0.77017993, -0.77024716],\n",
      "       [-0.36071467,  0.43083951,  0.42982632, ..., -0.39284655,\n",
      "         0.43230525,  0.43230526]]), y_train=1476383   -0.008282\n",
      "834884     0.003543\n",
      "1234917   -0.000445\n",
      "1078386    0.002117\n",
      "1047796   -0.001902\n",
      "             ...   \n",
      "259178     0.000070\n",
      "1414414   -0.002553\n",
      "131932    -0.003093\n",
      "671155    -0.004121\n",
      "121958    -0.000714\n",
      "Name: y, Length: 1287699, dtype: float64, X_test=array([[-0.24282138, -0.80986516, -0.81063338, ..., -0.39291457,\n",
      "        -0.80992039, -0.8098406 ],\n",
      "       [-0.32141691, -0.83241267, -0.83323049, ..., -0.45248173,\n",
      "        -0.83249918, -0.83246156],\n",
      "       [-0.33124135, -0.66743528, -0.6666733 , ...,  0.18956635,\n",
      "        -0.66726481, -0.66743932],\n",
      "       ...,\n",
      "       [-0.25919545,  0.55357647,  0.55467991, ..., -0.12383576,\n",
      "         0.5548699 ,  0.55416273],\n",
      "       [-0.32796654, -0.80790333, -0.80820098, ..., -0.06032355,\n",
      "        -0.80807458, -0.80803102],\n",
      "       [-0.25264582, -0.15714513, -0.15916809, ..., -0.32579923,\n",
      "        -0.15780017, -0.15776604]]), w=2.079441541679836), 'dimensions': Space([Real(low=0.5, high=0.8, prior='uniform', transform='normalize'),\n",
      "       Real(low=0.001, high=0.5, prior='uniform', transform='normalize'),\n",
      "       Integer(low=6, high=15, prior='uniform', transform='normalize'),\n",
      "       Integer(low=100, high=1000, prior='uniform', transform='normalize'),\n",
      "       Real(low=0.5, high=0.95, prior='uniform', transform='normalize')]), 'base_estimator': GaussianProcessRegressor(kernel=1**2 * Matern(length_scale=[1, 1, 1, 1, 1], nu=2.5),\n",
      "                         n_restarts_optimizer=2, noise='gaussian',\n",
      "                         normalize_y=True, random_state=1608637542), 'n_calls': 10, 'n_random_starts': 9, 'n_initial_points': 10, 'initial_point_generator': 'random', 'acq_func': 'gp_hedge', 'acq_optimizer': 'auto', 'x0': None, 'y0': None, 'random_state': RandomState(MT19937) at 0x7F98E4C6B160, 'verbose': False, 'callback': None, 'n_points': 10000, 'n_restarts_optimizer': 5, 'xi': 0.01, 'kappa': 1.96, 'n_jobs': 1, 'model_queue_size': None}, 'function': 'base_minimize'}\n",
      "            x: [0.5299924747454009, 0.23016519709096778, 9, 229, 0.7928998128269837]\n",
      "      x_iters: [[0.73896289605807, 0.09253396014321574, 13, 637, 0.700624738784116], [0.5299924747454009, 0.23016519709096778, 9, 229, 0.7928998128269837], [0.5169234737081301, 0.3612773873611456, 14, 101, 0.946495201681048], [0.685244452888315, 0.3062149270836522, 6, 121, 0.7361485971162751], [0.6199582915145767, 0.024286165943594104, 15, 309, 0.5407728955397694], [0.6855158027999262, 0.19184853364231427, 15, 520, 0.8869731830313443], [0.704092261576334, 0.225799126732802, 6, 948, 0.7534796980304928], [0.6156249507619749, 0.008967159857886885, 8, 317, 0.8074685834714562], [0.6829989973347863, 0.4167642609563461, 8, 452, 0.582006239504628], [0.5240204523620231, 0.2752684565986727, 10, 194, 0.8505062118025912]]\n"
     ]
    }
   ],
   "source": [
    "print(results)"
   ]
  },
  {
   "cell_type": "code",
   "execution_count": 31,
   "id": "53dc376d",
   "metadata": {
    "execution": {
     "iopub.execute_input": "2022-01-05T13:00:08.047506Z",
     "iopub.status.busy": "2022-01-05T13:00:08.046396Z",
     "iopub.status.idle": "2022-01-05T13:00:08.050285Z",
     "shell.execute_reply": "2022-01-05T13:00:08.050790Z"
    },
    "papermill": {
     "duration": 0.04454,
     "end_time": "2022-01-05T13:00:08.050978",
     "exception": false,
     "start_time": "2022-01-05T13:00:08.006438",
     "status": "completed"
    },
    "tags": []
   },
   "outputs": [
    {
     "name": "stdout",
     "output_type": "stream",
     "text": [
      "[0.5299924747454009, 0.23016519709096778, 9, 229, 0.7928998128269837]\n"
     ]
    }
   ],
   "source": [
    "print(results.x)"
   ]
  },
  {
   "cell_type": "markdown",
   "id": "496a6332",
   "metadata": {
    "papermill": {
     "duration": 0.042762,
     "end_time": "2022-01-05T13:00:08.133333",
     "exception": false,
     "start_time": "2022-01-05T13:00:08.090571",
     "status": "completed"
    },
    "tags": []
   },
   "source": [
    "## The results of hyperparameter matching for XGBoost for each coin"
   ]
  },
  {
   "cell_type": "markdown",
   "id": "258d95ae",
   "metadata": {},
   "source": [
    "### Binance Coin     (ID=0 ) \n",
    "* colsample_bytree - 0.6156249507619749\n",
    "* learning_rate - 0.008967159857886885\n",
    "* max_depth - 8\n",
    "* n_estimators - 317\n",
    "* subsample - 0.8074685834714562"
   ]
  },
  {
   "cell_type": "markdown",
   "id": "5ca86972",
   "metadata": {},
   "source": [
    "### Bitcoin          (ID=1 )\n",
    "* colsample_bytree - 0.73896289605807\n",
    "* learning_rate - 0.09253396014321574\n",
    "* max_depth - 13\n",
    "* n_estimators - 637\n",
    "* subsample - 0.700624738784116"
   ]
  },
  {
   "cell_type": "markdown",
   "id": "637a8b1d",
   "metadata": {},
   "source": [
    "### Bitcoin Cash     (ID=2 )\n",
    "* colsample_bytree - 0.6829989973347863\n",
    "* learning_rate - 0.4167642609563461\n",
    "* max_depth - 8\n",
    "* n_estimators - 452\n",
    "* subsample - 0.582006239504628"
   ]
  },
  {
   "cell_type": "markdown",
   "id": "05394184",
   "metadata": {},
   "source": [
    "### Cardano          (ID=3 )\n",
    "* colsample_bytree - 0.6829989973347863\n",
    "* learning_rate - 0.4167642609563461\n",
    "* max_depth - 8\n",
    "* n_estimators - 452\n",
    "* subsample - 0.582006239504628"
   ]
  },
  {
   "cell_type": "markdown",
   "id": "e63ae2b7",
   "metadata": {},
   "source": [
    "### Dogecoin         (ID=4 )\n",
    "* colsample_bytree - 0.7266084230952958\n",
    "* learning_rate - 0.05918488024797159\n",
    "* max_depth - 9\n",
    "* n_estimators - 471\n",
    "* subsample - 0.7693819367697938"
   ]
  },
  {
   "cell_type": "markdown",
   "id": "d8dac9f0",
   "metadata": {},
   "source": [
    "### EOS.IO           (ID=5 )\n",
    "* colsample_bytree - 0.6829989973347863\n",
    "* learning_rate - 0.4167642609563461\n",
    "* max_depth - 8\n",
    "* n_estimators - 452\n",
    "* subsample - 0.582006239504628"
   ]
  },
  {
   "cell_type": "markdown",
   "id": "d2f4c2d6",
   "metadata": {},
   "source": [
    "### Ethereum         (ID=6 )\n",
    "* colsample_bytree - 0.6951993738259458\n",
    "* learning_rate - 0.4202769113980745\n",
    "* max_depth - 8\n",
    "* n_estimators - 476\n",
    "* subsample - 0.5563315209270074"
   ]
  },
  {
   "cell_type": "markdown",
   "id": "d50942d9",
   "metadata": {},
   "source": [
    "### Ethereum Classic (ID=7 )\n",
    "* colsample_bytree - 0.6855158027999262\n",
    "* learning_rate - 0.19184853364231427\n",
    "* max_depth - 15\n",
    "* n_estimators - 520\n",
    "* subsample - 0.8869731830313443"
   ]
  },
  {
   "cell_type": "markdown",
   "id": "3ad8a108",
   "metadata": {},
   "source": [
    "### IOTA             (ID=8 )\n",
    "* colsample_bytree - 0.7266084230952958\n",
    "* learning_rate - 0.05918488024797159\n",
    "* max_depth - 9\n",
    "* n_estimators - 471\n",
    "* subsample - 0.7693819367697938"
   ]
  },
  {
   "cell_type": "markdown",
   "id": "574994e3",
   "metadata": {},
   "source": [
    "### Litecoin         (ID=9 )\n",
    "* colsample_bytree - 0.5299924747454009\n",
    "* learning_rate - 0.23016519709096778\n",
    "* max_depth - 9\n",
    "* n_estimators - 229\n",
    "* subsample - 0.7928998128269837"
   ]
  },
  {
   "cell_type": "markdown",
   "id": "f46fb75e",
   "metadata": {},
   "source": [
    "### Maker            (ID=10)\n",
    "* colsample_bytree - 0.5299924747454009\n",
    "* learning_rate - 0.23016519709096778\n",
    "* max_depth - 9\n",
    "* n_estimators - 229\n",
    "* subsample - 0.7928998128269837"
   ]
  },
  {
   "cell_type": "markdown",
   "id": "28f70f59",
   "metadata": {},
   "source": [
    "### Monero           (ID=11)\n",
    "* colsample_bytree - 0.5299924747454009\n",
    "* learning_rate - 0.23016519709096778\n",
    "* max_depth - 9\n",
    "* n_estimators - 229\n",
    "* subsample - 0.7928998128269837"
   ]
  },
  {
   "cell_type": "markdown",
   "id": "d899749a",
   "metadata": {},
   "source": [
    "### Stellar          (ID=12)\n",
    "* colsample_bytree - 0.5299924747454009\n",
    "* learning_rate - 0.23016519709096778\n",
    "* max_depth - 9\n",
    "* n_estimators - 229\n",
    "* subsample - 0.7928998128269837"
   ]
  },
  {
   "cell_type": "markdown",
   "id": "c7118e16",
   "metadata": {},
   "source": [
    "### TRON             (ID=13)\n",
    "* colsample_bytree - 0.685244452888315\n",
    "* learning_rate - 0.3062149270836522\n",
    "* max_depth - 6\n",
    "* n_estimators - 121\n",
    "* subsample - 0.7361485971162751"
   ]
  }
 ],
 "metadata": {
  "kernelspec": {
   "display_name": "Python 3",
   "language": "python",
   "name": "python3"
  },
  "language_info": {
   "codemirror_mode": {
    "name": "ipython",
    "version": 3
   },
   "file_extension": ".py",
   "mimetype": "text/x-python",
   "name": "python",
   "nbconvert_exporter": "python",
   "pygments_lexer": "ipython3",
   "version": "3.8.8"
  },
  "papermill": {
   "default_parameters": {},
   "duration": 8194.880317,
   "end_time": "2022-01-05T13:00:09.489272",
   "environment_variables": {},
   "exception": null,
   "input_path": "__notebook__.ipynb",
   "output_path": "__notebook__.ipynb",
   "parameters": {},
   "start_time": "2022-01-05T10:43:34.608955",
   "version": "2.3.3"
  }
 },
 "nbformat": 4,
 "nbformat_minor": 5
}
