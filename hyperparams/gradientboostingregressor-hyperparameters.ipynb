{
 "cells": [
  {
   "cell_type": "code",
   "execution_count": 1,
   "id": "0f9ef4b2",
   "metadata": {
    "_cell_guid": "b1076dfc-b9ad-4769-8c92-a6c4dae69d19",
    "_uuid": "8f2839f25d086af736a60e9eeb907d3b93b6e0e5",
    "execution": {
     "iopub.execute_input": "2022-01-04T19:30:02.591969Z",
     "iopub.status.busy": "2022-01-04T19:30:02.591307Z",
     "iopub.status.idle": "2022-01-04T19:30:02.605637Z",
     "shell.execute_reply": "2022-01-04T19:30:02.606137Z",
     "shell.execute_reply.started": "2022-01-04T19:19:25.961582Z"
    },
    "papermill": {
     "duration": 0.045637,
     "end_time": "2022-01-04T19:30:02.606432",
     "exception": false,
     "start_time": "2022-01-04T19:30:02.560795",
     "status": "completed"
    },
    "tags": []
   },
   "outputs": [
    {
     "name": "stdout",
     "output_type": "stream",
     "text": [
      "/kaggle/input/g-research-crypto-forecasting/example_sample_submission.csv\n",
      "/kaggle/input/g-research-crypto-forecasting/asset_details.csv\n",
      "/kaggle/input/g-research-crypto-forecasting/example_test.csv\n",
      "/kaggle/input/g-research-crypto-forecasting/train.csv\n",
      "/kaggle/input/g-research-crypto-forecasting/supplemental_train.csv\n",
      "/kaggle/input/g-research-crypto-forecasting/gresearch_crypto/competition.cpython-37m-x86_64-linux-gnu.so\n",
      "/kaggle/input/g-research-crypto-forecasting/gresearch_crypto/__init__.py\n"
     ]
    }
   ],
   "source": [
    "import numpy as np\n",
    "import pandas as pd \n",
    "\n",
    "import os\n",
    "for dirname, _, filenames in os.walk('/kaggle/input'):\n",
    "    for filename in filenames:\n",
    "        print(os.path.join(dirname, filename))"
   ]
  },
  {
   "cell_type": "code",
   "execution_count": 2,
   "id": "80993ab2",
   "metadata": {
    "execution": {
     "iopub.execute_input": "2022-01-04T19:30:02.653025Z",
     "iopub.status.busy": "2022-01-04T19:30:02.652391Z",
     "iopub.status.idle": "2022-01-04T19:30:02.655687Z",
     "shell.execute_reply": "2022-01-04T19:30:02.656134Z",
     "shell.execute_reply.started": "2022-01-04T19:19:26.004345Z"
    },
    "papermill": {
     "duration": 0.027732,
     "end_time": "2022-01-04T19:30:02.656300",
     "exception": false,
     "start_time": "2022-01-04T19:30:02.628568",
     "status": "completed"
    },
    "tags": []
   },
   "outputs": [],
   "source": [
    "data_train = '/kaggle/input/g-research-crypto-forecasting/train.csv'\n",
    "data_asset_details = '/kaggle/input/g-research-crypto-forecasting/asset_details.csv'\n",
    "data_supplemental_train = '/kaggle/input/g-research-crypto-forecasting/supplemental_train.csv'"
   ]
  },
  {
   "cell_type": "code",
   "execution_count": 3,
   "id": "9b0db009",
   "metadata": {
    "execution": {
     "iopub.execute_input": "2022-01-04T19:30:02.704428Z",
     "iopub.status.busy": "2022-01-04T19:30:02.703737Z",
     "iopub.status.idle": "2022-01-04T19:30:02.717997Z",
     "shell.execute_reply": "2022-01-04T19:30:02.718585Z",
     "shell.execute_reply.started": "2022-01-04T19:19:26.01214Z"
    },
    "papermill": {
     "duration": 0.040872,
     "end_time": "2022-01-04T19:30:02.718755",
     "exception": false,
     "start_time": "2022-01-04T19:30:02.677883",
     "status": "completed"
    },
    "tags": []
   },
   "outputs": [],
   "source": [
    "import random\n",
    "import pandas as pd\n",
    "import numpy as np"
   ]
  },
  {
   "cell_type": "code",
   "execution_count": 4,
   "id": "b6b8cc81",
   "metadata": {
    "execution": {
     "iopub.execute_input": "2022-01-04T19:30:02.767594Z",
     "iopub.status.busy": "2022-01-04T19:30:02.764268Z",
     "iopub.status.idle": "2022-01-04T19:31:03.839241Z",
     "shell.execute_reply": "2022-01-04T19:31:03.839879Z",
     "shell.execute_reply.started": "2022-01-04T19:19:26.043891Z"
    },
    "papermill": {
     "duration": 61.099747,
     "end_time": "2022-01-04T19:31:03.840067",
     "exception": false,
     "start_time": "2022-01-04T19:30:02.740320",
     "status": "completed"
    },
    "tags": []
   },
   "outputs": [
    {
     "data": {
      "text/html": [
       "<div>\n",
       "<style scoped>\n",
       "    .dataframe tbody tr th:only-of-type {\n",
       "        vertical-align: middle;\n",
       "    }\n",
       "\n",
       "    .dataframe tbody tr th {\n",
       "        vertical-align: top;\n",
       "    }\n",
       "\n",
       "    .dataframe thead th {\n",
       "        text-align: right;\n",
       "    }\n",
       "</style>\n",
       "<table border=\"1\" class=\"dataframe\">\n",
       "  <thead>\n",
       "    <tr style=\"text-align: right;\">\n",
       "      <th></th>\n",
       "      <th>timestamp</th>\n",
       "      <th>Asset_ID</th>\n",
       "      <th>Count</th>\n",
       "      <th>Open</th>\n",
       "      <th>High</th>\n",
       "      <th>Low</th>\n",
       "      <th>Close</th>\n",
       "      <th>Volume</th>\n",
       "      <th>VWAP</th>\n",
       "      <th>Target</th>\n",
       "    </tr>\n",
       "  </thead>\n",
       "  <tbody>\n",
       "    <tr>\n",
       "      <th>0</th>\n",
       "      <td>1514764860</td>\n",
       "      <td>2</td>\n",
       "      <td>40</td>\n",
       "      <td>2376.5800</td>\n",
       "      <td>2399.5000</td>\n",
       "      <td>2357.1400</td>\n",
       "      <td>2374.5900</td>\n",
       "      <td>19.233005</td>\n",
       "      <td>2373.116392</td>\n",
       "      <td>-0.004218</td>\n",
       "    </tr>\n",
       "    <tr>\n",
       "      <th>1</th>\n",
       "      <td>1514764860</td>\n",
       "      <td>0</td>\n",
       "      <td>5</td>\n",
       "      <td>8.5300</td>\n",
       "      <td>8.5300</td>\n",
       "      <td>8.5300</td>\n",
       "      <td>8.5300</td>\n",
       "      <td>78.380000</td>\n",
       "      <td>8.530000</td>\n",
       "      <td>-0.014399</td>\n",
       "    </tr>\n",
       "    <tr>\n",
       "      <th>2</th>\n",
       "      <td>1514764860</td>\n",
       "      <td>1</td>\n",
       "      <td>229</td>\n",
       "      <td>13835.1940</td>\n",
       "      <td>14013.8000</td>\n",
       "      <td>13666.1100</td>\n",
       "      <td>13850.1760</td>\n",
       "      <td>31.550062</td>\n",
       "      <td>13827.062093</td>\n",
       "      <td>-0.014643</td>\n",
       "    </tr>\n",
       "    <tr>\n",
       "      <th>3</th>\n",
       "      <td>1514764860</td>\n",
       "      <td>5</td>\n",
       "      <td>32</td>\n",
       "      <td>7.6596</td>\n",
       "      <td>7.6596</td>\n",
       "      <td>7.6567</td>\n",
       "      <td>7.6576</td>\n",
       "      <td>6626.713370</td>\n",
       "      <td>7.657713</td>\n",
       "      <td>-0.013922</td>\n",
       "    </tr>\n",
       "    <tr>\n",
       "      <th>4</th>\n",
       "      <td>1514764860</td>\n",
       "      <td>7</td>\n",
       "      <td>5</td>\n",
       "      <td>25.9200</td>\n",
       "      <td>25.9200</td>\n",
       "      <td>25.8740</td>\n",
       "      <td>25.8770</td>\n",
       "      <td>121.087310</td>\n",
       "      <td>25.891363</td>\n",
       "      <td>-0.008264</td>\n",
       "    </tr>\n",
       "  </tbody>\n",
       "</table>\n",
       "</div>"
      ],
      "text/plain": [
       "    timestamp  Asset_ID  Count        Open        High         Low  \\\n",
       "0  1514764860         2     40   2376.5800   2399.5000   2357.1400   \n",
       "1  1514764860         0      5      8.5300      8.5300      8.5300   \n",
       "2  1514764860         1    229  13835.1940  14013.8000  13666.1100   \n",
       "3  1514764860         5     32      7.6596      7.6596      7.6567   \n",
       "4  1514764860         7      5     25.9200     25.9200     25.8740   \n",
       "\n",
       "        Close       Volume          VWAP    Target  \n",
       "0   2374.5900    19.233005   2373.116392 -0.004218  \n",
       "1      8.5300    78.380000      8.530000 -0.014399  \n",
       "2  13850.1760    31.550062  13827.062093 -0.014643  \n",
       "3      7.6576  6626.713370      7.657713 -0.013922  \n",
       "4     25.8770   121.087310     25.891363 -0.008264  "
      ]
     },
     "execution_count": 4,
     "metadata": {},
     "output_type": "execute_result"
    }
   ],
   "source": [
    "df_train = pd.read_csv(data_train, \n",
    "                       dtype={'Asset_ID': 'int8', 'Count': 'int32', 'row_id': 'int32', 'Count': 'int32', \n",
    "                              'Open': 'float64', 'High': 'float64', 'Low': 'float64', 'Close': 'float64', \n",
    "                              'Volume': 'float64', 'VWAP': 'float64'\n",
    "                             }\n",
    "                      )\n",
    "df_train.head()"
   ]
  },
  {
   "cell_type": "code",
   "execution_count": 5,
   "id": "2a00d716",
   "metadata": {
    "execution": {
     "iopub.execute_input": "2022-01-04T19:31:03.894383Z",
     "iopub.status.busy": "2022-01-04T19:31:03.893068Z",
     "iopub.status.idle": "2022-01-04T19:31:03.917877Z",
     "shell.execute_reply": "2022-01-04T19:31:03.917193Z",
     "shell.execute_reply.started": "2022-01-04T19:20:24.279978Z"
    },
    "papermill": {
     "duration": 0.053034,
     "end_time": "2022-01-04T19:31:03.918021",
     "exception": false,
     "start_time": "2022-01-04T19:31:03.864987",
     "status": "completed"
    },
    "tags": []
   },
   "outputs": [],
   "source": [
    "import gresearch_crypto"
   ]
  },
  {
   "cell_type": "code",
   "execution_count": 6,
   "id": "c7b33144",
   "metadata": {
    "execution": {
     "iopub.execute_input": "2022-01-04T19:31:03.972876Z",
     "iopub.status.busy": "2022-01-04T19:31:03.971948Z",
     "iopub.status.idle": "2022-01-04T19:31:03.991972Z",
     "shell.execute_reply": "2022-01-04T19:31:03.992732Z",
     "shell.execute_reply.started": "2022-01-04T19:20:24.314136Z"
    },
    "papermill": {
     "duration": 0.049996,
     "end_time": "2022-01-04T19:31:03.992909",
     "exception": false,
     "start_time": "2022-01-04T19:31:03.942913",
     "status": "completed"
    },
    "scrolled": true,
    "tags": []
   },
   "outputs": [
    {
     "data": {
      "text/html": [
       "<div>\n",
       "<style scoped>\n",
       "    .dataframe tbody tr th:only-of-type {\n",
       "        vertical-align: middle;\n",
       "    }\n",
       "\n",
       "    .dataframe tbody tr th {\n",
       "        vertical-align: top;\n",
       "    }\n",
       "\n",
       "    .dataframe thead th {\n",
       "        text-align: right;\n",
       "    }\n",
       "</style>\n",
       "<table border=\"1\" class=\"dataframe\">\n",
       "  <thead>\n",
       "    <tr style=\"text-align: right;\">\n",
       "      <th></th>\n",
       "      <th>Asset_ID</th>\n",
       "      <th>Weight</th>\n",
       "      <th>Asset_Name</th>\n",
       "    </tr>\n",
       "  </thead>\n",
       "  <tbody>\n",
       "    <tr>\n",
       "      <th>1</th>\n",
       "      <td>0</td>\n",
       "      <td>4.304065</td>\n",
       "      <td>Binance Coin</td>\n",
       "    </tr>\n",
       "    <tr>\n",
       "      <th>2</th>\n",
       "      <td>1</td>\n",
       "      <td>6.779922</td>\n",
       "      <td>Bitcoin</td>\n",
       "    </tr>\n",
       "    <tr>\n",
       "      <th>0</th>\n",
       "      <td>2</td>\n",
       "      <td>2.397895</td>\n",
       "      <td>Bitcoin Cash</td>\n",
       "    </tr>\n",
       "    <tr>\n",
       "      <th>10</th>\n",
       "      <td>3</td>\n",
       "      <td>4.406719</td>\n",
       "      <td>Cardano</td>\n",
       "    </tr>\n",
       "    <tr>\n",
       "      <th>13</th>\n",
       "      <td>4</td>\n",
       "      <td>3.555348</td>\n",
       "      <td>Dogecoin</td>\n",
       "    </tr>\n",
       "  </tbody>\n",
       "</table>\n",
       "</div>"
      ],
      "text/plain": [
       "    Asset_ID    Weight    Asset_Name\n",
       "1          0  4.304065  Binance Coin\n",
       "2          1  6.779922       Bitcoin\n",
       "0          2  2.397895  Bitcoin Cash\n",
       "10         3  4.406719       Cardano\n",
       "13         4  3.555348      Dogecoin"
      ]
     },
     "execution_count": 6,
     "metadata": {},
     "output_type": "execute_result"
    }
   ],
   "source": [
    "df_assets = pd.read_csv(data_asset_details).sort_values(by='Asset_ID')\n",
    "df_assets.head()"
   ]
  },
  {
   "cell_type": "markdown",
   "id": "118eb1c5",
   "metadata": {},
   "source": [
    "## Data preprocessing"
   ]
  },
  {
   "cell_type": "code",
   "execution_count": 7,
   "id": "13898e74",
   "metadata": {
    "execution": {
     "iopub.execute_input": "2022-01-04T19:31:04.047384Z",
     "iopub.status.busy": "2022-01-04T19:31:04.046654Z",
     "iopub.status.idle": "2022-01-04T19:31:05.390613Z",
     "shell.execute_reply": "2022-01-04T19:31:05.391151Z",
     "shell.execute_reply.started": "2022-01-04T19:20:24.340845Z"
    },
    "papermill": {
     "duration": 1.372348,
     "end_time": "2022-01-04T19:31:05.391335",
     "exception": false,
     "start_time": "2022-01-04T19:31:04.018987",
     "status": "completed"
    },
    "tags": []
   },
   "outputs": [],
   "source": [
    "import xgboost as xgb\n",
    "\n",
    "def upper_shadow(df):\n",
    "    return df['High'] - np.maximum(df['Close'], df['Open'])\n",
    "\n",
    "def lower_shadow(df):\n",
    "    return np.minimum(df['Close'], df['Open']) - df['Low']\n",
    "\n",
    "def get_features(df):\n",
    "    df_feat = df[['Count', 'Open', 'High', 'Low', 'Close', 'Volume', 'VWAP']].copy()\n",
    "    df_feat['Upper_Shadow'] = upper_shadow(df_feat)\n",
    "    df_feat['Lower_Shadow'] = lower_shadow(df_feat)\n",
    "    \n",
    "    df_feat[\"Close/Open\"] = df_feat[\"Close\"] / df_feat[\"Open\"] \n",
    "    df_feat[\"Close-Open\"] = df_feat[\"Close\"] - df_feat[\"Open\"] \n",
    "    df_feat[\"High-Low\"] = df_feat[\"High\"] - df_feat[\"Low\"] \n",
    "    df_feat[\"High/Low\"] = df_feat[\"High\"] / df_feat[\"Low\"]\n",
    "    \n",
    "    df_feat['Mean'] = df_feat[['Open', 'High', 'Low', 'Close']].mean(axis=1)\n",
    "\n",
    "\n",
    "    df_feat[\"Median\"] = df_feat[[\"Open\", \"High\", \"Low\", \"Close\"]].median(axis=1)\n",
    "    return df_feat"
   ]
  },
  {
   "cell_type": "code",
   "execution_count": 8,
   "id": "70e3b8bf",
   "metadata": {
    "execution": {
     "iopub.execute_input": "2022-01-04T19:31:05.448451Z",
     "iopub.status.busy": "2022-01-04T19:31:05.447662Z",
     "iopub.status.idle": "2022-01-04T19:31:05.450645Z",
     "shell.execute_reply": "2022-01-04T19:31:05.451164Z",
     "shell.execute_reply.started": "2022-01-04T19:20:25.559762Z"
    },
    "papermill": {
     "duration": 0.033428,
     "end_time": "2022-01-04T19:31:05.451338",
     "exception": false,
     "start_time": "2022-01-04T19:31:05.417910",
     "status": "completed"
    },
    "tags": []
   },
   "outputs": [],
   "source": [
    "from sklearn.preprocessing import StandardScaler"
   ]
  },
  {
   "cell_type": "markdown",
   "id": "0875cc7f",
   "metadata": {},
   "source": [
    "## Some useful funcs and imports"
   ]
  },
  {
   "cell_type": "code",
   "execution_count": 9,
   "id": "9ade96b7",
   "metadata": {
    "execution": {
     "iopub.execute_input": "2022-01-04T19:31:05.509624Z",
     "iopub.status.busy": "2022-01-04T19:31:05.508764Z",
     "iopub.status.idle": "2022-01-04T19:31:05.844648Z",
     "shell.execute_reply": "2022-01-04T19:31:05.845342Z",
     "shell.execute_reply.started": "2022-01-04T19:20:25.566518Z"
    },
    "papermill": {
     "duration": 0.368188,
     "end_time": "2022-01-04T19:31:05.845587",
     "exception": false,
     "start_time": "2022-01-04T19:31:05.477399",
     "status": "completed"
    },
    "tags": []
   },
   "outputs": [],
   "source": [
    "from skopt import gp_minimize\n",
    "from skopt.space import Real, Integer\n",
    "from sklearn.model_selection import train_test_split\n",
    "from functools import partial"
   ]
  },
  {
   "cell_type": "code",
   "execution_count": 10,
   "id": "90c4d182",
   "metadata": {
    "execution": {
     "iopub.execute_input": "2022-01-04T19:31:05.908657Z",
     "iopub.status.busy": "2022-01-04T19:31:05.907807Z",
     "iopub.status.idle": "2022-01-04T19:31:05.910164Z",
     "shell.execute_reply": "2022-01-04T19:31:05.910716Z",
     "shell.execute_reply.started": "2022-01-04T19:20:25.858607Z"
    },
    "papermill": {
     "duration": 0.037768,
     "end_time": "2022-01-04T19:31:05.910905",
     "exception": false,
     "start_time": "2022-01-04T19:31:05.873137",
     "status": "completed"
    },
    "tags": []
   },
   "outputs": [],
   "source": [
    "def m(x, w):\n",
    "    return np.sum(x * w) / np.sum(w)\n",
    "\n",
    "def cov(x, y, w):\n",
    "    return np.sum(w * (x - m(x, w)) * (y - m(y, w))) / np.sum(w)\n",
    "\n",
    "def wcc(x, y, w=2.079441541679836):\n",
    "    return cov(x, y, w) / np.sqrt(cov(x, x, w) * cov(y, y, w))"
   ]
  },
  {
   "cell_type": "code",
   "execution_count": 11,
   "id": "fee012eb",
   "metadata": {
    "execution": {
     "iopub.execute_input": "2022-01-04T19:31:05.962509Z",
     "iopub.status.busy": "2022-01-04T19:31:05.961551Z",
     "iopub.status.idle": "2022-01-04T19:31:06.085328Z",
     "shell.execute_reply": "2022-01-04T19:31:06.084681Z",
     "shell.execute_reply.started": "2022-01-04T19:20:25.86726Z"
    },
    "papermill": {
     "duration": 0.150228,
     "end_time": "2022-01-04T19:31:06.085474",
     "exception": false,
     "start_time": "2022-01-04T19:31:05.935246",
     "status": "completed"
    },
    "tags": []
   },
   "outputs": [
    {
     "data": {
      "text/plain": [
       "1     1956282\n",
       "6     1956200\n",
       "9     1956030\n",
       "5     1955140\n",
       "2     1953537\n",
       "7     1951127\n",
       "0     1942619\n",
       "13    1874560\n",
       "3     1791867\n",
       "12    1778749\n",
       "11    1701261\n",
       "8     1592071\n",
       "4     1156866\n",
       "10     670497\n",
       "Name: Asset_ID, dtype: int64"
      ]
     },
     "execution_count": 11,
     "metadata": {},
     "output_type": "execute_result"
    }
   ],
   "source": [
    "df_train['Asset_ID'].value_counts()"
   ]
  },
  {
   "cell_type": "code",
   "execution_count": 12,
   "id": "ead2fa62",
   "metadata": {
    "execution": {
     "iopub.execute_input": "2022-01-04T19:31:06.139641Z",
     "iopub.status.busy": "2022-01-04T19:31:06.138979Z",
     "iopub.status.idle": "2022-01-04T19:31:06.141377Z",
     "shell.execute_reply": "2022-01-04T19:31:06.142042Z",
     "shell.execute_reply.started": "2022-01-04T19:20:26.002728Z"
    },
    "papermill": {
     "duration": 0.03312,
     "end_time": "2022-01-04T19:31:06.142205",
     "exception": false,
     "start_time": "2022-01-04T19:31:06.109085",
     "status": "completed"
    },
    "tags": []
   },
   "outputs": [],
   "source": [
    "weight = df_assets[df_assets['Asset_ID'] == 7]['Weight'].values[0]"
   ]
  },
  {
   "cell_type": "code",
   "execution_count": 13,
   "id": "07c7db8e",
   "metadata": {
    "execution": {
     "iopub.execute_input": "2022-01-04T19:31:06.193067Z",
     "iopub.status.busy": "2022-01-04T19:31:06.192431Z",
     "iopub.status.idle": "2022-01-04T19:31:06.197639Z",
     "shell.execute_reply": "2022-01-04T19:31:06.198207Z",
     "shell.execute_reply.started": "2022-01-04T19:20:26.016294Z"
    },
    "papermill": {
     "duration": 0.03162,
     "end_time": "2022-01-04T19:31:06.198381",
     "exception": false,
     "start_time": "2022-01-04T19:31:06.166761",
     "status": "completed"
    },
    "tags": []
   },
   "outputs": [
    {
     "data": {
      "text/plain": [
       "2.079441541679836"
      ]
     },
     "execution_count": 13,
     "metadata": {},
     "output_type": "execute_result"
    }
   ],
   "source": [
    "weight"
   ]
  },
  {
   "cell_type": "code",
   "execution_count": 14,
   "id": "b62d0ef2",
   "metadata": {
    "execution": {
     "iopub.execute_input": "2022-01-04T19:31:06.248832Z",
     "iopub.status.busy": "2022-01-04T19:31:06.248201Z",
     "iopub.status.idle": "2022-01-04T19:31:32.858445Z",
     "shell.execute_reply": "2022-01-04T19:31:32.859065Z",
     "shell.execute_reply.started": "2022-01-04T19:20:26.031064Z"
    },
    "papermill": {
     "duration": 26.637526,
     "end_time": "2022-01-04T19:31:32.859445",
     "exception": false,
     "start_time": "2022-01-04T19:31:06.221919",
     "status": "completed"
    },
    "tags": []
   },
   "outputs": [
    {
     "data": {
      "text/html": [
       "<div>\n",
       "<style scoped>\n",
       "    .dataframe tbody tr th:only-of-type {\n",
       "        vertical-align: middle;\n",
       "    }\n",
       "\n",
       "    .dataframe tbody tr th {\n",
       "        vertical-align: top;\n",
       "    }\n",
       "\n",
       "    .dataframe thead th {\n",
       "        text-align: right;\n",
       "    }\n",
       "</style>\n",
       "<table border=\"1\" class=\"dataframe\">\n",
       "  <thead>\n",
       "    <tr style=\"text-align: right;\">\n",
       "      <th></th>\n",
       "      <th>timestamp</th>\n",
       "      <th>Asset_ID</th>\n",
       "      <th>Count</th>\n",
       "      <th>Open</th>\n",
       "      <th>High</th>\n",
       "      <th>Low</th>\n",
       "      <th>Close</th>\n",
       "      <th>Volume</th>\n",
       "      <th>VWAP</th>\n",
       "      <th>Target</th>\n",
       "      <th>Date</th>\n",
       "    </tr>\n",
       "    <tr>\n",
       "      <th>DateAndTime</th>\n",
       "      <th></th>\n",
       "      <th></th>\n",
       "      <th></th>\n",
       "      <th></th>\n",
       "      <th></th>\n",
       "      <th></th>\n",
       "      <th></th>\n",
       "      <th></th>\n",
       "      <th></th>\n",
       "      <th></th>\n",
       "      <th></th>\n",
       "    </tr>\n",
       "  </thead>\n",
       "  <tbody>\n",
       "    <tr>\n",
       "      <th>2018-01-01 00:01:00+00:00</th>\n",
       "      <td>1514764860</td>\n",
       "      <td>2</td>\n",
       "      <td>40</td>\n",
       "      <td>2376.5800</td>\n",
       "      <td>2399.5000</td>\n",
       "      <td>2357.1400</td>\n",
       "      <td>2374.5900</td>\n",
       "      <td>19.233005</td>\n",
       "      <td>2373.116392</td>\n",
       "      <td>-0.004218</td>\n",
       "      <td>2018-01-01</td>\n",
       "    </tr>\n",
       "    <tr>\n",
       "      <th>2018-01-01 00:01:00+00:00</th>\n",
       "      <td>1514764860</td>\n",
       "      <td>0</td>\n",
       "      <td>5</td>\n",
       "      <td>8.5300</td>\n",
       "      <td>8.5300</td>\n",
       "      <td>8.5300</td>\n",
       "      <td>8.5300</td>\n",
       "      <td>78.380000</td>\n",
       "      <td>8.530000</td>\n",
       "      <td>-0.014399</td>\n",
       "      <td>2018-01-01</td>\n",
       "    </tr>\n",
       "    <tr>\n",
       "      <th>2018-01-01 00:01:00+00:00</th>\n",
       "      <td>1514764860</td>\n",
       "      <td>1</td>\n",
       "      <td>229</td>\n",
       "      <td>13835.1940</td>\n",
       "      <td>14013.8000</td>\n",
       "      <td>13666.1100</td>\n",
       "      <td>13850.1760</td>\n",
       "      <td>31.550062</td>\n",
       "      <td>13827.062093</td>\n",
       "      <td>-0.014643</td>\n",
       "      <td>2018-01-01</td>\n",
       "    </tr>\n",
       "    <tr>\n",
       "      <th>2018-01-01 00:01:00+00:00</th>\n",
       "      <td>1514764860</td>\n",
       "      <td>5</td>\n",
       "      <td>32</td>\n",
       "      <td>7.6596</td>\n",
       "      <td>7.6596</td>\n",
       "      <td>7.6567</td>\n",
       "      <td>7.6576</td>\n",
       "      <td>6626.713370</td>\n",
       "      <td>7.657713</td>\n",
       "      <td>-0.013922</td>\n",
       "      <td>2018-01-01</td>\n",
       "    </tr>\n",
       "    <tr>\n",
       "      <th>2018-01-01 00:01:00+00:00</th>\n",
       "      <td>1514764860</td>\n",
       "      <td>7</td>\n",
       "      <td>5</td>\n",
       "      <td>25.9200</td>\n",
       "      <td>25.9200</td>\n",
       "      <td>25.8740</td>\n",
       "      <td>25.8770</td>\n",
       "      <td>121.087310</td>\n",
       "      <td>25.891363</td>\n",
       "      <td>-0.008264</td>\n",
       "      <td>2018-01-01</td>\n",
       "    </tr>\n",
       "  </tbody>\n",
       "</table>\n",
       "</div>"
      ],
      "text/plain": [
       "                            timestamp  Asset_ID  Count        Open  \\\n",
       "DateAndTime                                                          \n",
       "2018-01-01 00:01:00+00:00  1514764860         2     40   2376.5800   \n",
       "2018-01-01 00:01:00+00:00  1514764860         0      5      8.5300   \n",
       "2018-01-01 00:01:00+00:00  1514764860         1    229  13835.1940   \n",
       "2018-01-01 00:01:00+00:00  1514764860         5     32      7.6596   \n",
       "2018-01-01 00:01:00+00:00  1514764860         7      5     25.9200   \n",
       "\n",
       "                                 High         Low       Close       Volume  \\\n",
       "DateAndTime                                                                  \n",
       "2018-01-01 00:01:00+00:00   2399.5000   2357.1400   2374.5900    19.233005   \n",
       "2018-01-01 00:01:00+00:00      8.5300      8.5300      8.5300    78.380000   \n",
       "2018-01-01 00:01:00+00:00  14013.8000  13666.1100  13850.1760    31.550062   \n",
       "2018-01-01 00:01:00+00:00      7.6596      7.6567      7.6576  6626.713370   \n",
       "2018-01-01 00:01:00+00:00     25.9200     25.8740     25.8770   121.087310   \n",
       "\n",
       "                                   VWAP    Target       Date  \n",
       "DateAndTime                                                   \n",
       "2018-01-01 00:01:00+00:00   2373.116392 -0.004218 2018-01-01  \n",
       "2018-01-01 00:01:00+00:00      8.530000 -0.014399 2018-01-01  \n",
       "2018-01-01 00:01:00+00:00  13827.062093 -0.014643 2018-01-01  \n",
       "2018-01-01 00:01:00+00:00      7.657713 -0.013922 2018-01-01  \n",
       "2018-01-01 00:01:00+00:00     25.891363 -0.008264 2018-01-01  "
      ]
     },
     "execution_count": 14,
     "metadata": {},
     "output_type": "execute_result"
    }
   ],
   "source": [
    "df_train['DateAndTime'] = pd.to_datetime(df_train['timestamp'], unit='s',utc = True,infer_datetime_format = True,).apply(lambda x:x.tz_convert('Europe/London'))\n",
    "df_train['Date'] = df_train.DateAndTime.dt.date\n",
    "df_train['Date'] = df_train['Date'].astype('datetime64[ns]')\n",
    "df_train.set_index(['DateAndTime'], inplace=True)\n",
    "df_train.head()"
   ]
  },
  {
   "cell_type": "code",
   "execution_count": 15,
   "id": "349493c8",
   "metadata": {
    "execution": {
     "iopub.execute_input": "2022-01-04T19:31:32.912509Z",
     "iopub.status.busy": "2022-01-04T19:31:32.911425Z",
     "iopub.status.idle": "2022-01-04T19:31:34.293632Z",
     "shell.execute_reply": "2022-01-04T19:31:34.292994Z",
     "shell.execute_reply.started": "2022-01-04T19:20:40.743085Z"
    },
    "papermill": {
     "duration": 1.409534,
     "end_time": "2022-01-04T19:31:34.293774",
     "exception": false,
     "start_time": "2022-01-04T19:31:32.884240",
     "status": "completed"
    },
    "tags": []
   },
   "outputs": [],
   "source": [
    "start_date = '2020-01-01'\n",
    "end_date = '2021-09-21'\n",
    "df_train = df_train[df_train['Date'] >= '2020-01-01'].copy()"
   ]
  },
  {
   "cell_type": "code",
   "execution_count": 16,
   "id": "9c2dce68",
   "metadata": {
    "execution": {
     "iopub.execute_input": "2022-01-04T19:31:34.346705Z",
     "iopub.status.busy": "2022-01-04T19:31:34.346052Z",
     "iopub.status.idle": "2022-01-04T19:31:34.496609Z",
     "shell.execute_reply": "2022-01-04T19:31:34.497190Z",
     "shell.execute_reply.started": "2022-01-04T19:20:42.155211Z"
    },
    "papermill": {
     "duration": 0.179462,
     "end_time": "2022-01-04T19:31:34.497374",
     "exception": false,
     "start_time": "2022-01-04T19:31:34.317912",
     "status": "completed"
    },
    "tags": []
   },
   "outputs": [],
   "source": [
    "df = df_train[df_train['Asset_ID'] == 7].reset_index(drop=True)"
   ]
  },
  {
   "cell_type": "code",
   "execution_count": 17,
   "id": "4fb714b6",
   "metadata": {
    "execution": {
     "iopub.execute_input": "2022-01-04T19:31:34.549396Z",
     "iopub.status.busy": "2022-01-04T19:31:34.548710Z",
     "iopub.status.idle": "2022-01-04T19:31:35.426916Z",
     "shell.execute_reply": "2022-01-04T19:31:35.427499Z",
     "shell.execute_reply.started": "2022-01-04T19:20:42.344204Z"
    },
    "papermill": {
     "duration": 0.906035,
     "end_time": "2022-01-04T19:31:35.427676",
     "exception": false,
     "start_time": "2022-01-04T19:31:34.521641",
     "status": "completed"
    },
    "tags": []
   },
   "outputs": [],
   "source": [
    "df_proc = get_features(df)\n",
    "df_proc['y'] = df['Target']\n",
    "df_proc = df_proc.dropna(how=\"any\")\n",
    "df_proc = df_proc.drop(labels=np.where(np.isinf(df_proc))[0], axis=0)\n",
    "\n",
    "X = df_proc.drop(\"y\", axis=1)\n",
    "y = df_proc[\"y\"]\n",
    "\n",
    "scaler = StandardScaler()\n",
    "X = scaler.fit_transform(X)"
   ]
  },
  {
   "cell_type": "code",
   "execution_count": 18,
   "id": "0444224c",
   "metadata": {
    "execution": {
     "iopub.execute_input": "2022-01-04T19:31:35.478516Z",
     "iopub.status.busy": "2022-01-04T19:31:35.477861Z",
     "iopub.status.idle": "2022-01-04T19:31:35.504001Z",
     "shell.execute_reply": "2022-01-04T19:31:35.504567Z",
     "shell.execute_reply.started": "2022-01-04T19:20:43.359898Z"
    },
    "papermill": {
     "duration": 0.053343,
     "end_time": "2022-01-04T19:31:35.504740",
     "exception": false,
     "start_time": "2022-01-04T19:31:35.451397",
     "status": "completed"
    },
    "tags": []
   },
   "outputs": [],
   "source": [
    "col_names = df_proc.drop('y', axis=1).columns"
   ]
  },
  {
   "cell_type": "code",
   "execution_count": 19,
   "id": "c42dbe00",
   "metadata": {
    "execution": {
     "iopub.execute_input": "2022-01-04T19:31:35.555602Z",
     "iopub.status.busy": "2022-01-04T19:31:35.554808Z",
     "iopub.status.idle": "2022-01-04T19:31:35.781810Z",
     "shell.execute_reply": "2022-01-04T19:31:35.781093Z",
     "shell.execute_reply.started": "2022-01-04T19:20:43.397432Z"
    },
    "papermill": {
     "duration": 0.253519,
     "end_time": "2022-01-04T19:31:35.781971",
     "exception": false,
     "start_time": "2022-01-04T19:31:35.528452",
     "status": "completed"
    },
    "tags": []
   },
   "outputs": [],
   "source": [
    "X_train, X_test, y_train, y_test = train_test_split(X, y, test_size=0.75, random_state=42)\n",
    "target_col = \"y\"\n",
    "df_train = pd.DataFrame(X_train, columns=col_names)\n",
    "df_test = pd.DataFrame(X_test, columns=col_names)"
   ]
  },
  {
   "cell_type": "markdown",
   "id": "ee4d79c0",
   "metadata": {},
   "source": [
    "## Best params finding"
   ]
  },
  {
   "cell_type": "code",
   "execution_count": null,
   "id": "ebd70f78",
   "metadata": {
    "execution": {
     "iopub.execute_input": "2022-01-04T19:20:52.050019Z",
     "iopub.status.busy": "2022-01-04T19:20:52.049328Z",
     "iopub.status.idle": "2022-01-04T19:21:07.411414Z",
     "shell.execute_reply": "2022-01-04T19:21:07.409638Z",
     "shell.execute_reply.started": "2022-01-04T19:20:52.049958Z"
    },
    "papermill": {
     "duration": null,
     "end_time": null,
     "exception": false,
     "start_time": "2022-01-04T19:31:35.806250",
     "status": "running"
    },
    "tags": []
   },
   "outputs": [],
   "source": [
    "from sklearn.model_selection import GridSearchCV\n",
    "from sklearn.ensemble import GradientBoostingRegressor\n",
    "grid={\"learning_rate\": [0.1, 0.01 ,0.001,0.2,0.3,0.4, 0.5], \n",
    "      'loss':['huber', 'quantile'],\n",
    "      'n_estimators': [100, 250, 500, 750, 1000],\n",
    "      'subsample': [0.6, 0.7, 0.8, 0.9, 1.0]\n",
    "     }\n",
    "gbr=GradientBoostingRegressor(tol=1e-6)\n",
    "gbr_cv=GridSearchCV(gbr,grid,cv=5)\n",
    "gbr_cv.fit(X_train, y_train)\n",
    "\n",
    "print(\"tuned hyperparameters :(best parameters) \",gbr_cv.best_params_)\n",
    "print(\"WCC :\",gbr_cv.best_score_)\n",
    "\n",
    "prediction = gbr_cv.predict(X_test)\n",
    "\n",
    "\n",
    "print('WCC - ',wcc(prediction, y_test))"
   ]
  },
  {
   "cell_type": "markdown",
   "id": "2ee287e5",
   "metadata": {
    "papermill": {
     "duration": null,
     "end_time": null,
     "exception": null,
     "start_time": null,
     "status": "pending"
    },
    "tags": []
   },
   "source": [
    "<br>"
   ]
  },
  {
   "cell_type": "markdown",
   "id": "2a4b3c7e",
   "metadata": {
    "papermill": {
     "duration": null,
     "end_time": null,
     "exception": null,
     "start_time": null,
     "status": "pending"
    },
    "tags": []
   },
   "source": [
    "## Result"
   ]
  },
  {
   "cell_type": "markdown",
   "id": "5fd31604",
   "metadata": {
    "papermill": {
     "duration": null,
     "end_time": null,
     "exception": null,
     "start_time": null,
     "status": "pending"
    },
    "tags": []
   },
   "source": [
    "Timeout after 9 hours"
   ]
  }
 ],
 "metadata": {
  "kernelspec": {
   "display_name": "Python 3",
   "language": "python",
   "name": "python3"
  },
  "language_info": {
   "codemirror_mode": {
    "name": "ipython",
    "version": 3
   },
   "file_extension": ".py",
   "mimetype": "text/x-python",
   "name": "python",
   "nbconvert_exporter": "python",
   "pygments_lexer": "ipython3",
   "version": "3.8.8"
  },
  "papermill": {
   "default_parameters": {},
   "duration": null,
   "end_time": null,
   "environment_variables": {},
   "exception": null,
   "input_path": "__notebook__.ipynb",
   "output_path": "__notebook__.ipynb",
   "parameters": {},
   "start_time": "2022-01-04T19:29:52.657916",
   "version": "2.3.3"
  }
 },
 "nbformat": 4,
 "nbformat_minor": 5
}
